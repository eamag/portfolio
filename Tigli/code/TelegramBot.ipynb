{
 "cells": [
  {
   "cell_type": "code",
   "execution_count": 1,
   "metadata": {},
   "outputs": [],
   "source": [
    "from telegram.ext import Updater\n",
    "updater = Updater(token='355058372:AAFKVF2NQXRvrhlHoBf0c809xeYmAyJMGBc')"
   ]
  },
  {
   "cell_type": "code",
   "execution_count": 2,
   "metadata": {
    "collapsed": true
   },
   "outputs": [],
   "source": [
    "dispatcher = updater.dispatcher\n",
    "import logging\n",
    "logging.basicConfig(format='%(asctime)s - %(name)s - %(levelname)s - %(message)s', level=logging.INFO)"
   ]
  },
  {
   "cell_type": "code",
   "execution_count": 3,
   "metadata": {
    "collapsed": true
   },
   "outputs": [],
   "source": [
    "def start(bot, update):\n",
    "    bot.sendMessage(chat_id=update.message.chat_id, text=\"Send me some twitts\")"
   ]
  },
  {
   "cell_type": "code",
   "execution_count": 4,
   "metadata": {
    "collapsed": true
   },
   "outputs": [],
   "source": [
    "from telegram.ext import CommandHandler\n",
    "start_handler = CommandHandler('start', start)\n",
    "dispatcher.add_handler(start_handler)"
   ]
  },
  {
   "cell_type": "code",
   "execution_count": 5,
   "metadata": {},
   "outputs": [
    {
     "data": {
      "text/plain": [
       "<queue.Queue at 0x7fb968044d68>"
      ]
     },
     "execution_count": 5,
     "metadata": {},
     "output_type": "execute_result"
    }
   ],
   "source": [
    "updater.start_polling()"
   ]
  },
  {
   "cell_type": "code",
   "execution_count": 6,
   "metadata": {},
   "outputs": [
    {
     "name": "stderr",
     "output_type": "stream",
     "text": [
      "2017-04-14 16:43:32,678 - summa.preprocessing.cleaner - INFO - 'pattern' package not found; tag filters are not available for English\n"
     ]
    },
    {
     "name": "stdout",
     "output_type": "stream",
     "text": [
      "update.message.text\n"
     ]
    },
    {
     "name": "stderr",
     "output_type": "stream",
     "text": [
      "2017-04-14 16:43:42,334 - gensim.corpora.dictionary - INFO - adding document #0 to Dictionary(0 unique tokens: [])\n",
      "2017-04-14 16:43:42,405 - gensim.corpora.dictionary - INFO - built Dictionary(7574 unique tokens: ['judgment', '@vine', 't.co/4o4yjh7x4o', 'https://t.co/SZyZ8GkF23', 'shinz']...) from 3214 documents (total 52244 corpus positions)\n",
      "2017-04-14 16:43:42,458 - gensim.models.tfidfmodel - INFO - collecting document frequencies\n",
      "2017-04-14 16:43:42,459 - gensim.models.tfidfmodel - INFO - PROGRESS: processing document #0\n",
      "2017-04-14 16:43:42,470 - gensim.models.tfidfmodel - INFO - calculating IDF weights for 3214 documents and 7573 features (46247 matrix non-zeros)\n",
      "2017-04-14 16:43:42,477 - gensim.models.lsimodel - INFO - using serial LSI version on this node\n",
      "2017-04-14 16:43:42,478 - gensim.models.lsimodel - INFO - updating model with new documents\n",
      "2017-04-14 16:43:42,549 - gensim.models.lsimodel - INFO - preparing a new chunk of documents\n",
      "2017-04-14 16:43:42,567 - gensim.models.lsimodel - INFO - using 100 extra samples and 2 power iterations\n",
      "2017-04-14 16:43:42,568 - gensim.models.lsimodel - INFO - 1st phase: constructing (7574, 300) action matrix\n",
      "2017-04-14 16:43:42,628 - gensim.models.lsimodel - INFO - orthonormalizing (7574, 300) action matrix\n",
      "2017-04-14 16:43:43,227 - gensim.models.lsimodel - INFO - 2nd phase: running dense svd on (300, 3214) matrix\n",
      "2017-04-14 16:43:43,407 - gensim.models.lsimodel - INFO - computing the final decomposition\n",
      "2017-04-14 16:43:43,410 - gensim.models.lsimodel - INFO - keeping 200 factors (discarding 16.405% of energy spectrum)\n",
      "2017-04-14 16:43:43,459 - gensim.models.lsimodel - INFO - processed documents up to #3214\n",
      "2017-04-14 16:43:43,475 - gensim.models.lsimodel - INFO - topic #0(7.972): 0.604*\"\\\" + 0.223*\"xe2\" + 0.217*\"x80\" + 0.182*\"\"\" + 0.161*\"/\" + 0.156*\",\" + 0.155*\":/\" + 0.154*\"nhttps\" + 0.137*\"thank\" + 0.136*\"n\"\n",
      "2017-04-14 16:43:43,488 - gensim.models.lsimodel - INFO - topic #1(5.669): 0.422*\"\\\" + -0.406*\"\"\" + -0.186*\"will\" + -0.185*\".\" + 0.181*\"xe2\" + -0.177*\",\" + 0.172*\"x80\" + -0.169*\"great\" + -0.134*\"@realdonaldtrump\" + -0.119*\"hillary\"\n",
      "2017-04-14 16:43:43,492 - gensim.models.lsimodel - INFO - topic #2(5.024): 0.419*\"\"\" + -0.287*\"america\" + -0.282*\"make\" + -0.276*\"great\" + -0.208*\":/\" + -0.208*\"nhttps\" + -0.199*\"/\" + 0.191*\"\\\" + -0.178*\"thank\" + 0.166*\":\"\n",
      "2017-04-14 16:43:43,497 - gensim.models.lsimodel - INFO - topic #3(4.709): 0.376*\"\"\" + 0.332*\":/\" + 0.331*\"nhttps\" + 0.310*\"/\" + -0.225*\"xe2\" + -0.221*\"x80\" + 0.205*\"'\" + 0.176*\"#trump2016\" + 0.167*\"#makeamericagreatagain\" + -0.164*\"will\"\n",
      "2017-04-14 16:43:43,501 - gensim.models.lsimodel - INFO - topic #4(4.441): 0.423*\"america\" + 0.413*\"make\" + 0.314*\"great\" + -0.264*\"enjoy\" + -0.244*\"interviewed\" + 0.211*\"\"\" + -0.188*\"m\" + -0.151*\"tonight\" + -0.138*\"will\" + -0.114*\".\"\n",
      "2017-04-14 16:43:43,508 - gensim.similarities.docsim - WARNING - scanning corpus to determine the number of features (consider setting `num_features` explicitly)\n",
      "2017-04-14 16:43:43,725 - gensim.similarities.docsim - INFO - creating matrix with 3214 documents and 200 features\n"
     ]
    },
    {
     "name": "stdout",
     "output_type": "stream",
     "text": [
      "t was a great honor to welcome Atlanta's heroic first responders to the White House this afternoon!\n"
     ]
    },
    {
     "name": "stderr",
     "output_type": "stream",
     "text": [
      "2017-04-14 16:44:25,271 - gensim.corpora.dictionary - INFO - adding document #0 to Dictionary(0 unique tokens: [])\n",
      "2017-04-14 16:44:25,345 - gensim.corpora.dictionary - INFO - built Dictionary(7574 unique tokens: ['judgment', '@vine', 't.co/4o4yjh7x4o', 'https://t.co/SZyZ8GkF23', 'shinz']...) from 3214 documents (total 52244 corpus positions)\n",
      "2017-04-14 16:44:25,399 - gensim.models.tfidfmodel - INFO - collecting document frequencies\n",
      "2017-04-14 16:44:25,400 - gensim.models.tfidfmodel - INFO - PROGRESS: processing document #0\n",
      "2017-04-14 16:44:25,410 - gensim.models.tfidfmodel - INFO - calculating IDF weights for 3214 documents and 7573 features (46247 matrix non-zeros)\n",
      "2017-04-14 16:44:25,416 - gensim.models.lsimodel - INFO - using serial LSI version on this node\n",
      "2017-04-14 16:44:25,417 - gensim.models.lsimodel - INFO - updating model with new documents\n",
      "2017-04-14 16:44:25,488 - gensim.models.lsimodel - INFO - preparing a new chunk of documents\n",
      "2017-04-14 16:44:25,507 - gensim.models.lsimodel - INFO - using 100 extra samples and 2 power iterations\n",
      "2017-04-14 16:44:25,510 - gensim.models.lsimodel - INFO - 1st phase: constructing (7574, 300) action matrix\n",
      "2017-04-14 16:44:25,573 - gensim.models.lsimodel - INFO - orthonormalizing (7574, 300) action matrix\n",
      "2017-04-14 16:44:26,257 - gensim.models.lsimodel - INFO - 2nd phase: running dense svd on (300, 3214) matrix\n",
      "2017-04-14 16:44:26,469 - gensim.models.lsimodel - INFO - computing the final decomposition\n",
      "2017-04-14 16:44:26,473 - gensim.models.lsimodel - INFO - keeping 200 factors (discarding 16.423% of energy spectrum)\n",
      "2017-04-14 16:44:26,504 - gensim.models.lsimodel - INFO - processed documents up to #3214\n",
      "2017-04-14 16:44:26,512 - gensim.models.lsimodel - INFO - topic #0(7.972): 0.604*\"\\\" + 0.223*\"xe2\" + 0.217*\"x80\" + 0.182*\"\"\" + 0.161*\"/\" + 0.156*\",\" + 0.155*\":/\" + 0.154*\"nhttps\" + 0.137*\"thank\" + 0.136*\"n\"\n",
      "2017-04-14 16:44:26,521 - gensim.models.lsimodel - INFO - topic #1(5.669): 0.422*\"\\\" + -0.406*\"\"\" + -0.186*\"will\" + -0.185*\".\" + 0.180*\"xe2\" + -0.177*\",\" + 0.172*\"x80\" + -0.169*\"great\" + -0.134*\"@realdonaldtrump\" + -0.119*\"hillary\"\n",
      "2017-04-14 16:44:26,530 - gensim.models.lsimodel - INFO - topic #2(5.024): -0.419*\"\"\" + 0.287*\"america\" + 0.282*\"make\" + 0.276*\"great\" + 0.208*\":/\" + 0.208*\"nhttps\" + 0.199*\"/\" + -0.191*\"\\\" + 0.178*\"thank\" + -0.166*\":\"\n",
      "2017-04-14 16:44:26,533 - gensim.models.lsimodel - INFO - topic #3(4.709): 0.376*\"\"\" + 0.332*\":/\" + 0.331*\"nhttps\" + 0.310*\"/\" + -0.225*\"xe2\" + -0.221*\"x80\" + 0.205*\"'\" + 0.176*\"#trump2016\" + 0.167*\"#makeamericagreatagain\" + -0.164*\"will\"\n",
      "2017-04-14 16:44:26,537 - gensim.models.lsimodel - INFO - topic #4(4.441): 0.424*\"america\" + 0.412*\"make\" + 0.314*\"great\" + -0.264*\"enjoy\" + -0.244*\"interviewed\" + 0.211*\"\"\" + -0.188*\"m\" + -0.151*\"tonight\" + -0.139*\"will\" + -0.114*\".\"\n",
      "2017-04-14 16:44:26,544 - gensim.similarities.docsim - WARNING - scanning corpus to determine the number of features (consider setting `num_features` explicitly)\n",
      "2017-04-14 16:44:26,739 - gensim.similarities.docsim - INFO - creating matrix with 3214 documents and 200 features\n"
     ]
    },
    {
     "name": "stdout",
     "output_type": "stream",
     "text": [
      "I have great confidence that China will properly deal with North Korea. If they are unable to do so, the U.S., with its allies, will! U.S.A.\n"
     ]
    },
    {
     "name": "stderr",
     "output_type": "stream",
     "text": [
      "2017-04-14 16:45:21,458 - gensim.corpora.dictionary - INFO - adding document #0 to Dictionary(0 unique tokens: [])\n",
      "2017-04-14 16:45:21,528 - gensim.corpora.dictionary - INFO - built Dictionary(7574 unique tokens: ['judgment', '@vine', 't.co/4o4yjh7x4o', 'https://t.co/SZyZ8GkF23', 'shinz']...) from 3214 documents (total 52244 corpus positions)\n",
      "2017-04-14 16:45:21,668 - gensim.models.tfidfmodel - INFO - collecting document frequencies\n",
      "2017-04-14 16:45:21,668 - gensim.models.tfidfmodel - INFO - PROGRESS: processing document #0\n",
      "2017-04-14 16:45:21,678 - gensim.models.tfidfmodel - INFO - calculating IDF weights for 3214 documents and 7573 features (46247 matrix non-zeros)\n",
      "2017-04-14 16:45:21,683 - gensim.models.lsimodel - INFO - using serial LSI version on this node\n",
      "2017-04-14 16:45:21,684 - gensim.models.lsimodel - INFO - updating model with new documents\n",
      "2017-04-14 16:45:21,749 - gensim.models.lsimodel - INFO - preparing a new chunk of documents\n",
      "2017-04-14 16:45:21,766 - gensim.models.lsimodel - INFO - using 100 extra samples and 2 power iterations\n",
      "2017-04-14 16:45:21,769 - gensim.models.lsimodel - INFO - 1st phase: constructing (7574, 300) action matrix\n",
      "2017-04-14 16:45:21,822 - gensim.models.lsimodel - INFO - orthonormalizing (7574, 300) action matrix\n",
      "2017-04-14 16:45:22,368 - gensim.models.lsimodel - INFO - 2nd phase: running dense svd on (300, 3214) matrix\n",
      "2017-04-14 16:45:22,532 - gensim.models.lsimodel - INFO - computing the final decomposition\n",
      "2017-04-14 16:45:22,536 - gensim.models.lsimodel - INFO - keeping 200 factors (discarding 16.399% of energy spectrum)\n",
      "2017-04-14 16:45:22,564 - gensim.models.lsimodel - INFO - processed documents up to #3214\n",
      "2017-04-14 16:45:22,572 - gensim.models.lsimodel - INFO - topic #0(7.972): 0.604*\"\\\" + 0.223*\"xe2\" + 0.217*\"x80\" + 0.182*\"\"\" + 0.161*\"/\" + 0.156*\",\" + 0.155*\":/\" + 0.154*\"nhttps\" + 0.137*\"thank\" + 0.136*\"n\"\n",
      "2017-04-14 16:45:22,575 - gensim.models.lsimodel - INFO - topic #1(5.669): -0.422*\"\\\" + 0.406*\"\"\" + 0.186*\"will\" + 0.184*\".\" + -0.180*\"xe2\" + 0.178*\",\" + -0.172*\"x80\" + 0.169*\"great\" + 0.134*\"@realdonaldtrump\" + 0.119*\"hillary\"\n",
      "2017-04-14 16:45:22,578 - gensim.models.lsimodel - INFO - topic #2(5.024): -0.419*\"\"\" + 0.287*\"america\" + 0.282*\"make\" + 0.276*\"great\" + 0.208*\":/\" + 0.208*\"nhttps\" + 0.199*\"/\" + -0.191*\"\\\" + 0.178*\"thank\" + -0.166*\":\"\n",
      "2017-04-14 16:45:22,582 - gensim.models.lsimodel - INFO - topic #3(4.709): -0.377*\"\"\" + -0.332*\":/\" + -0.331*\"nhttps\" + -0.310*\"/\" + 0.225*\"xe2\" + 0.221*\"x80\" + -0.205*\"'\" + -0.176*\"#trump2016\" + -0.166*\"#makeamericagreatagain\" + 0.164*\"will\"\n",
      "2017-04-14 16:45:22,585 - gensim.models.lsimodel - INFO - topic #4(4.441): -0.423*\"america\" + -0.413*\"make\" + -0.314*\"great\" + 0.264*\"enjoy\" + 0.244*\"interviewed\" + -0.211*\"\"\" + 0.188*\"m\" + 0.151*\"tonight\" + 0.139*\"will\" + 0.114*\".\"\n",
      "2017-04-14 16:45:22,592 - gensim.similarities.docsim - WARNING - scanning corpus to determine the number of features (consider setting `num_features` explicitly)\n",
      "2017-04-14 16:45:22,789 - gensim.similarities.docsim - INFO - creating matrix with 3214 documents and 200 features\n"
     ]
    }
   ],
   "source": [
    "from main import oneclasssvm, lda_model\n",
    "from telegram.ext import MessageHandler, Filters\n",
    "\n",
    "def reply(bot, update):\n",
    "    text = update.message.text\n",
    "    print(text)\n",
    "    output, score = lda_model(text)\n",
    "    score = oneclasssvm(text)\n",
    "    output += str(score)\n",
    "    bot.sendMessage(chat_id=update.message.chat_id, text=output)\n",
    "    \n",
    "echo_handler = MessageHandler(Filters.text, reply)\n",
    "dispatcher.add_handler(echo_handler)"
   ]
  },
  {
   "cell_type": "code",
   "execution_count": null,
   "metadata": {},
   "outputs": [],
   "source": []
  }
 ],
 "metadata": {
  "kernelspec": {
   "display_name": "Python 3",
   "language": "python",
   "name": "python3"
  },
  "language_info": {
   "codemirror_mode": {
    "name": "ipython",
    "version": 3
   },
   "file_extension": ".py",
   "mimetype": "text/x-python",
   "name": "python",
   "nbconvert_exporter": "python",
   "pygments_lexer": "ipython3",
   "version": "3.5.2"
  }
 },
 "nbformat": 4,
 "nbformat_minor": 1
}
