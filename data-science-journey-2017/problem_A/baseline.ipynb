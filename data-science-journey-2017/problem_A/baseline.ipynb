{
 "cells": [
  {
   "cell_type": "code",
   "execution_count": 2,
   "metadata": {
    "ExecuteTime": {
     "end_time": "2017-09-19T13:24:34.976367Z",
     "start_time": "2017-09-19T13:24:33.937023Z"
    }
   },
   "outputs": [],
   "source": [
    "import pandas as pd\n",
    "from collections import Counter\n",
    "import tqdm\n",
    "import re\n",
    "import numpy as np\n",
    "from sklearn.ensemble import GradientBoostingClassifier\n",
    "from sklearn.metrics import roc_auc_score\n",
    "import functools\n",
    "import sys"
   ]
  },
  {
   "cell_type": "code",
   "execution_count": 3,
   "metadata": {
    "ExecuteTime": {
     "end_time": "2017-09-19T13:25:24.940221Z",
     "start_time": "2017-09-19T13:25:22.313329Z"
    }
   },
   "outputs": [],
   "source": [
    "dftrain = pd.read_csv(\"data/train_task1_latest.csv\", encoding='utf-8')\n",
    "dftest = pd.read_csv(\"data/sdsj_A_test.csv\", encoding='utf-8')"
   ]
  },
  {
   "cell_type": "markdown",
   "metadata": {
    "ExecuteTime": {
     "end_time": "2017-09-19T13:43:35.971190Z",
     "start_time": "2017-09-19T13:43:21.880564Z"
    }
   },
   "source": [
    "### TODO:\n",
    "* crossval - remove paragraphs from train in val\n",
    "* https://nlpub.ru/Russian_Distributional_Thesaurus\n",
    "* ~~https://slundberg.github.io/shap/notebooks/Census+income+classification+with+LightGBM.html~~\n",
    "* https://lightgbm.readthedocs.io/en/latest/Parameters-Tuning.html\n",
    "* Разобрать фичи тф-идф\n",
    "* похожесть вопроса с параграфом и с отдельными предложениями параграфа\n",
    "* почистить данные\n",
    "   \n",
    "### Notes:\n",
    "* tf-idf with lemmed words is just +0.01 on lb\n",
    "* len_intersection and len_question are the best now\n"
   ]
  },
  {
   "cell_type": "code",
   "execution_count": 4,
   "metadata": {},
   "outputs": [
    {
     "name": "stderr",
     "output_type": "stream",
     "text": [
      "calc idf: 100%|██████████| 9078/9078 [04:27<00:00, 33.95it/s]\n"
     ]
    }
   ],
   "source": [
    "import pymorphy2\n",
    "morph = pymorphy2.MorphAnalyzer()\n",
    "# morph.parse('передний')[0].normal_form\n",
    "\n",
    "def uniq_words_lemmed(text):\n",
    "    return set([morph.parse(x)[0].normal_form for x in re.findall(\"\\w+\", text, re.UNICODE)])\n",
    "\n",
    "    \n",
    "def uniq_words(text):\n",
    "    return set(re.findall(\"\\w+\", text, re.UNICODE))\n",
    "\n",
    "\n",
    "def calculate_idfs(data):\n",
    "    counter_paragraph = Counter()\n",
    "    uniq_paragraphs = data['paragraph'].unique()\n",
    "    for paragraph in tqdm.tqdm(uniq_paragraphs, desc=\"calc idf\"):\n",
    "        set_words = uniq_words_lemmed(paragraph)\n",
    "        counter_paragraph.update(set_words)\n",
    "        \n",
    "    num_docs = uniq_paragraphs.shape[0]\n",
    "    idfs = {}\n",
    "    \n",
    "    for word in counter_paragraph:\n",
    "        idfs[word] = np.log(num_docs / counter_paragraph[word])\n",
    "    return idfs\n",
    "idfs = calculate_idfs(dftrain)\n"
   ]
  },
  {
   "cell_type": "code",
   "execution_count": 5,
   "metadata": {
    "ExecuteTime": {
     "end_time": "2017-09-19T13:43:21.823379Z",
     "start_time": "2017-09-19T13:25:37.715224Z"
    },
    "scrolled": true
   },
   "outputs": [
    {
     "name": "stderr",
     "output_type": "stream",
     "text": [
      "build features for train: 100%|██████████| 119398/119398 [11:46<00:00, 169.11it/s]\n",
      "build features for test: 100%|██████████| 74286/74286 [05:21<00:00, 231.32it/s]\n"
     ]
    }
   ],
   "source": [
    "for name, df in [('train', dftrain), ('test', dftest)]:\n",
    "    for index, row in tqdm.tqdm(df.iterrows(), total=df.shape[0], desc=\"build features for \" + name):\n",
    "        question = uniq_words(row.question)\n",
    "        paragraph = uniq_words(row.paragraph)\n",
    "        df.loc[index, 'len_paragraph'] = len(paragraph)\n",
    "        df.loc[index, 'len_question'] = len(question)\n",
    "        df.loc[index, 'len_intersection'] = len(paragraph & question)\n",
    "        df.loc[index, 'idf_question'] = np.sum([idfs.get(word, 0.0) for word in question])\n",
    "        df.loc[index, 'idf_paragraph'] = np.sum([idfs.get(word, 0.0) for word in paragraph])\n",
    "        df.loc[index, 'idf_intersection'] = np.sum([idfs.get(word, 0.0) for word in paragraph & question])"
   ]
  },
  {
   "cell_type": "code",
   "execution_count": 15,
   "metadata": {},
   "outputs": [
    {
     "name": "stdout",
     "output_type": "stream",
     "text": [
      "TRAIN shape: (59699,) TEST shape: (59699,)\n",
      "0.987287308974\n",
      "            feature     importance\n",
      "2  len_intersection  161081.824369\n",
      "1      len_question  135956.774175\n",
      "0     len_paragraph    9310.043144\n"
     ]
    },
    {
     "data": {
      "text/plain": [
       "<matplotlib.figure.Figure at 0x7ff240102940>"
      ]
     },
     "metadata": {},
     "output_type": "display_data"
    },
    {
     "data": {
      "image/png": "[encoded data removed]",
      "text/plain": [
       "<matplotlib.figure.Figure at 0x7ff23bb5eeb8>"
      ]
     },
     "metadata": {},
     "output_type": "display_data"
    },
    {
     "name": "stdout",
     "output_type": "stream",
     "text": [
      "TRAIN shape: (59699,) TEST shape: (59699,)\n",
      "0.989157229234\n",
      "            feature     importance\n",
      "2  len_intersection  160006.006825\n",
      "1      len_question  135202.459790\n",
      "0     len_paragraph   12008.565751\n"
     ]
    },
    {
     "data": {
      "text/plain": [
       "<matplotlib.figure.Figure at 0x7ff23bb99470>"
      ]
     },
     "metadata": {},
     "output_type": "display_data"
    },
    {
     "data": {
      "image/png": "[encoded data removed]",
      "text/plain": [
       "<matplotlib.figure.Figure at 0x7ff240102358>"
      ]
     },
     "metadata": {},
     "output_type": "display_data"
    }
   ],
   "source": [
    "%matplotlib inline\n",
    "import seaborn as sns\n",
    "from sklearn.model_selection import GroupKFold\n",
    "import matplotlib.pyplot as plt\n",
    "\n",
    "columns = ['len_paragraph', 'len_question', 'len_intersection']#, 'idf_question', 'idf_paragraph', 'idf_intersection']\n",
    "# model = GradientBoostingClassifier().fit(dftrain[columns], dftrain['target'])\n",
    "# dftest['prediction'] = model.predict_proba(dftest[columns])[:, 1]\n",
    "\n",
    "X = dftrain[columns]\n",
    "y = dftrain['target']\n",
    "groups = dftrain['paragraph']\n",
    "group_kfold = GroupKFold(n_splits=2)\n",
    "group_kfold.get_n_splits(X, y, groups)\n",
    "\n",
    "\n",
    "import lightgbm as lgb\n",
    "import shap\n",
    "params = {\n",
    "#     \"max_bin\": 512,\n",
    "    \"learning_rate\": 0.1,\n",
    "    \"boosting_type\": \"goss\",\n",
    "    \"objective\": \"binary\",\n",
    "    \"metric\": \"auc\",\n",
    "#     \"num_leaves\": 10,\n",
    "    \"verbose\": -1,\n",
    "#     \"min_data\": 100,\n",
    "#     \"boost_from_average\": True\n",
    "}\n",
    "\n",
    "plot = 1\n",
    "for train_index, test_index in group_kfold.split(X, y, groups):\n",
    "    print(\"TRAIN shape:\", train_index.shape, \"TEST shape:\", test_index.shape)\n",
    "    X_train, X_test = X.iloc[train_index], X.iloc[test_index]\n",
    "    y_train, y_test = y.iloc[train_index], y.iloc[test_index]\n",
    "\n",
    "    d_train = lgb.Dataset(X_train, label=y_train)\n",
    "    d_valid = lgb.Dataset(X_test, label=y_test)\n",
    "    model = lgb.train(params, d_train, valid_sets=[d_valid], verbose_eval=False)\n",
    "    y_pred = model.predict(X_test.values)\n",
    "    print(roc_auc_score( y_test.values, y_pred))\n",
    "    \n",
    "    df_fi = pd.DataFrame(model.feature_name(), columns=['feature'])\n",
    "    df_fi['importance'] = list(model.feature_importance('gain'))\n",
    "    df_fi.sort_values('importance', ascending=False, inplace=True)\n",
    "    print(df_fi)\n",
    "    if plot:\n",
    "        plt.figure()\n",
    "        df_fi.head(10).plot(kind='barh',\n",
    "                            x='feature',\n",
    "                            y='importance',\n",
    "                            sort_columns=False,\n",
    "                            legend=False,\n",
    "                            figsize=(10, 6),\n",
    "                            facecolor='#1DE9B6',\n",
    "                            edgecolor='white')\n",
    "\n",
    "        plt.title('LightGBM Feature Importance')\n",
    "        plt.xlabel('relative importance')\n",
    "        plt.show()\n",
    "#     print(model.predict(X_test.values)[:100])"
   ]
  },
  {
   "cell_type": "code",
   "execution_count": 16,
   "metadata": {
    "ExecuteTime": {
     "end_time": "2017-09-19T13:43:36.798410Z",
     "start_time": "2017-09-19T13:43:35.974870Z"
    }
   },
   "outputs": [],
   "source": [
    "model = lgb.train(params, lgb.Dataset(X, y))\n",
    "dftest['prediction'] = model.predict(dftest[columns])\n",
    "dftest[['paragraph_id', 'question_id', 'prediction']].to_csv(\"../../Downloads/prediction.csv\", index=False)"
   ]
  },
  {
   "cell_type": "code",
   "execution_count": null,
   "metadata": {},
   "outputs": [],
   "source": []
  }
 ],
 "metadata": {
  "kernelspec": {
   "display_name": "Python 3",
   "language": "python",
   "name": "python3"
  },
  "language_info": {
   "codemirror_mode": {
    "name": "ipython",
    "version": 3
   },
   "file_extension": ".py",
   "mimetype": "text/x-python",
   "name": "python",
   "nbconvert_exporter": "python",
   "pygments_lexer": "ipython3",
   "version": "3.5.2"
  },
  "toc": {
   "toc_cell": false,
   "toc_number_sections": true,
   "toc_threshold": 6,
   "toc_window_display": false
  }
 },
 "nbformat": 4,
 "nbformat_minor": 2
}
