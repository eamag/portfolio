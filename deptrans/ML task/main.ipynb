{
 "cells": [
  {
   "cell_type": "code",
   "execution_count": 227,
   "metadata": {},
   "outputs": [],
   "source": [
    "import pandas as pd\n",
    "import numpy as np"
   ]
  },
  {
   "cell_type": "markdown",
   "metadata": {},
   "source": [
    "### TODO:\n",
    "* https://github.com/JosPolfliet/pandas-profiling/issues/25\n"
   ]
  },
  {
   "cell_type": "code",
   "execution_count": 228,
   "metadata": {},
   "outputs": [
    {
     "data": {
      "text/plain": [
       "Index(['customernumber', 'date', 'salutation', 'title', 'domain',\n",
       "       'datecreated', 'newsletter', 'model', 'paymenttype', 'deliverytype',\n",
       "       'invoicepostcode', 'delivpostcode', 'voucher', 'advertisingdatacode',\n",
       "       'case', 'numberitems', 'gift', 'entry', 'points', 'shippingcosts',\n",
       "       'deliverydatepromised', 'deliverydatereal', 'weight', 'remi', 'cancel',\n",
       "       'used', 'w0', 'w1', 'w2', 'w3', 'w4', 'w5', 'w6', 'w7', 'w8', 'w9',\n",
       "       'w10', 'target90'],\n",
       "      dtype='object')"
      ]
     },
     "execution_count": 228,
     "metadata": {},
     "output_type": "execute_result"
    }
   ],
   "source": [
    "df = pd.read_csv('train.txt',  sep=';', low_memory=False)\n",
    "df.columns"
   ]
  },
  {
   "cell_type": "code",
   "execution_count": 229,
   "metadata": {},
   "outputs": [
    {
     "data": {
      "text/html": [
       "<div>\n",
       "<style>\n",
       "    .dataframe thead tr:only-child th {\n",
       "        text-align: right;\n",
       "    }\n",
       "\n",
       "    .dataframe thead th {\n",
       "        text-align: left;\n",
       "    }\n",
       "\n",
       "    .dataframe tbody tr th {\n",
       "        vertical-align: top;\n",
       "    }\n",
       "</style>\n",
       "<table border=\"1\" class=\"dataframe\">\n",
       "  <thead>\n",
       "    <tr style=\"text-align: right;\">\n",
       "      <th></th>\n",
       "      <th>customernumber</th>\n",
       "      <th>date</th>\n",
       "      <th>salutation</th>\n",
       "      <th>title</th>\n",
       "      <th>domain</th>\n",
       "      <th>datecreated</th>\n",
       "      <th>newsletter</th>\n",
       "      <th>model</th>\n",
       "      <th>paymenttype</th>\n",
       "      <th>deliverytype</th>\n",
       "      <th>...</th>\n",
       "      <th>w2</th>\n",
       "      <th>w3</th>\n",
       "      <th>w4</th>\n",
       "      <th>w5</th>\n",
       "      <th>w6</th>\n",
       "      <th>w7</th>\n",
       "      <th>w8</th>\n",
       "      <th>w9</th>\n",
       "      <th>w10</th>\n",
       "      <th>target90</th>\n",
       "    </tr>\n",
       "  </thead>\n",
       "  <tbody>\n",
       "    <tr>\n",
       "      <th>0</th>\n",
       "      <td>41191</td>\n",
       "      <td>2008-12-01</td>\n",
       "      <td>0</td>\n",
       "      <td>0</td>\n",
       "      <td>9</td>\n",
       "      <td>2008-12-01</td>\n",
       "      <td>0</td>\n",
       "      <td>2</td>\n",
       "      <td>2</td>\n",
       "      <td>0</td>\n",
       "      <td>...</td>\n",
       "      <td>0</td>\n",
       "      <td>0</td>\n",
       "      <td>0</td>\n",
       "      <td>0</td>\n",
       "      <td>0</td>\n",
       "      <td>0</td>\n",
       "      <td>0</td>\n",
       "      <td>0</td>\n",
       "      <td>0</td>\n",
       "      <td>0</td>\n",
       "    </tr>\n",
       "    <tr>\n",
       "      <th>1</th>\n",
       "      <td>38860</td>\n",
       "      <td>2008-12-16</td>\n",
       "      <td>1</td>\n",
       "      <td>0</td>\n",
       "      <td>4</td>\n",
       "      <td>2008-12-16</td>\n",
       "      <td>0</td>\n",
       "      <td>1</td>\n",
       "      <td>1</td>\n",
       "      <td>1</td>\n",
       "      <td>...</td>\n",
       "      <td>0</td>\n",
       "      <td>0</td>\n",
       "      <td>0</td>\n",
       "      <td>0</td>\n",
       "      <td>0</td>\n",
       "      <td>0</td>\n",
       "      <td>0</td>\n",
       "      <td>0</td>\n",
       "      <td>0</td>\n",
       "      <td>0</td>\n",
       "    </tr>\n",
       "    <tr>\n",
       "      <th>2</th>\n",
       "      <td>61917</td>\n",
       "      <td>2008-08-19</td>\n",
       "      <td>0</td>\n",
       "      <td>0</td>\n",
       "      <td>12</td>\n",
       "      <td>2008-08-19</td>\n",
       "      <td>0</td>\n",
       "      <td>1</td>\n",
       "      <td>0</td>\n",
       "      <td>0</td>\n",
       "      <td>...</td>\n",
       "      <td>0</td>\n",
       "      <td>0</td>\n",
       "      <td>0</td>\n",
       "      <td>0</td>\n",
       "      <td>0</td>\n",
       "      <td>0</td>\n",
       "      <td>0</td>\n",
       "      <td>1</td>\n",
       "      <td>0</td>\n",
       "      <td>0</td>\n",
       "    </tr>\n",
       "    <tr>\n",
       "      <th>3</th>\n",
       "      <td>40647</td>\n",
       "      <td>2008-06-16</td>\n",
       "      <td>1</td>\n",
       "      <td>0</td>\n",
       "      <td>8</td>\n",
       "      <td>2008-06-16</td>\n",
       "      <td>0</td>\n",
       "      <td>1</td>\n",
       "      <td>0</td>\n",
       "      <td>0</td>\n",
       "      <td>...</td>\n",
       "      <td>0</td>\n",
       "      <td>0</td>\n",
       "      <td>0</td>\n",
       "      <td>2</td>\n",
       "      <td>0</td>\n",
       "      <td>0</td>\n",
       "      <td>0</td>\n",
       "      <td>0</td>\n",
       "      <td>0</td>\n",
       "      <td>0</td>\n",
       "    </tr>\n",
       "    <tr>\n",
       "      <th>4</th>\n",
       "      <td>1347</td>\n",
       "      <td>2008-08-08</td>\n",
       "      <td>0</td>\n",
       "      <td>0</td>\n",
       "      <td>1</td>\n",
       "      <td>2008-08-08</td>\n",
       "      <td>0</td>\n",
       "      <td>1</td>\n",
       "      <td>1</td>\n",
       "      <td>1</td>\n",
       "      <td>...</td>\n",
       "      <td>2</td>\n",
       "      <td>0</td>\n",
       "      <td>0</td>\n",
       "      <td>0</td>\n",
       "      <td>0</td>\n",
       "      <td>0</td>\n",
       "      <td>0</td>\n",
       "      <td>0</td>\n",
       "      <td>0</td>\n",
       "      <td>0</td>\n",
       "    </tr>\n",
       "  </tbody>\n",
       "</table>\n",
       "<p>5 rows × 38 columns</p>\n",
       "</div>"
      ],
      "text/plain": [
       "   customernumber        date  salutation  title  domain datecreated  \\\n",
       "0           41191  2008-12-01           0      0       9  2008-12-01   \n",
       "1           38860  2008-12-16           1      0       4  2008-12-16   \n",
       "2           61917  2008-08-19           0      0      12  2008-08-19   \n",
       "3           40647  2008-06-16           1      0       8  2008-06-16   \n",
       "4            1347  2008-08-08           0      0       1  2008-08-08   \n",
       "\n",
       "   newsletter  model  paymenttype  deliverytype    ...     w2 w3  w4 w5  w6  \\\n",
       "0           0      2            2             0    ...      0  0   0  0   0   \n",
       "1           0      1            1             1    ...      0  0   0  0   0   \n",
       "2           0      1            0             0    ...      0  0   0  0   0   \n",
       "3           0      1            0             0    ...      0  0   0  2   0   \n",
       "4           0      1            1             1    ...      2  0   0  0   0   \n",
       "\n",
       "   w7  w8  w9  w10  target90  \n",
       "0   0   0   0    0         0  \n",
       "1   0   0   0    0         0  \n",
       "2   0   0   1    0         0  \n",
       "3   0   0   0    0         0  \n",
       "4   0   0   0    0         0  \n",
       "\n",
       "[5 rows x 38 columns]"
      ]
     },
     "execution_count": 229,
     "metadata": {},
     "output_type": "execute_result"
    }
   ],
   "source": [
    "df.head()"
   ]
  },
  {
   "cell_type": "code",
   "execution_count": 230,
   "metadata": {},
   "outputs": [],
   "source": [
    "def preprocessing(df):\n",
    "    df.datecreated = pd.to_datetime(df.datecreated)\n",
    "    df.date = pd.to_datetime(df.date)\n",
    "    df['dayofweek'] = df.date.dt.dayofweek\n",
    "    df['dayofyear'] = df.date.dt.dayofyear\n",
    "    df.advertisingdatacode.fillna('0', inplace=True)\n",
    "    df.drop(['delivpostcode', 'entry', 'points', 'deliverydatepromised', 'deliverydatereal', \n",
    "            'date', 'datecreated'], inplace=True, axis=1) \n",
    "    # dropping this because of cell below, correlated or bad columns\n",
    "    cols_to_cat = ['advertisingdatacode', 'cancel', 'case', 'deliverytype', 'domain', 'gift', 'invoicepostcode', \n",
    "                  'model', 'newsletter', 'numberitems', 'paymenttype', 'remi', 'salutation', 'shippingcosts', \n",
    "                  'title']  # it's too much \n",
    "    for col in cols_to_cat:\n",
    "        df[col] = df[col].astype('category').cat.codes\n",
    "\n",
    "    # for right fitting of estimators\n",
    "    return df\n",
    "df = preprocessing(df)\n",
    "df.target90 = df.target90.replace([0,1], [1, 0])"
   ]
  },
  {
   "cell_type": "code",
   "execution_count": 231,
   "metadata": {},
   "outputs": [],
   "source": [
    "# Uncomment this to get nice info about the data\n",
    "\n",
    "# import pandas_profiling\n",
    "# pandas_profiling.ProfileReport(df).to_file(outputfile=\"myoutputfile.html\")\n",
    "# import webbrowser\n",
    "# webbrowser.open('myoutputfile.html')"
   ]
  },
  {
   "cell_type": "code",
   "execution_count": 232,
   "metadata": {},
   "outputs": [],
   "source": [
    "%matplotlib inline\n",
    "import seaborn as sns\n",
    "import matplotlib.pyplot as plt\n",
    "# Uncomment this to get a lot of plots\n",
    "# sns.pairplot(df).savefig('pair.png')\n"
   ]
  },
  {
   "cell_type": "code",
   "execution_count": 233,
   "metadata": {},
   "outputs": [],
   "source": [
    "from sklearn.metrics import confusion_matrix\n",
    "# we have to minimize type I error in this case\n",
    "def binary_error(y_pred, train_data):\n",
    "    matrix = confusion_matrix(train_data.get_label(), y_pred.round())\n",
    "    return 'error', - matrix[0][1]*10 + matrix[1][1]*3, True\n",
    "\n",
    "def binary_error_check(y_pred, train_data):\n",
    "    matrix = confusion_matrix(train_data, y_pred.round())\n",
    "    return - matrix[0][1]*10 + matrix[1][1]*3"
   ]
  },
  {
   "cell_type": "code",
   "execution_count": 235,
   "metadata": {},
   "outputs": [
    {
     "name": "stdout",
     "output_type": "stream",
     "text": [
      "3949\n"
     ]
    },
    {
     "data": {
      "text/plain": [
       "<matplotlib.figure.Figure at 0x7fdb02a1f320>"
      ]
     },
     "metadata": {},
     "output_type": "display_data"
    },
    {
     "data": {
      "image/png": "[encoded data removed]",
      "text/plain": [
       "<matplotlib.figure.Figure at 0x7fdb0274b128>"
      ]
     },
     "metadata": {},
     "output_type": "display_data"
    }
   ],
   "source": [
    "from sklearn.model_selection import train_test_split\n",
    "from sklearn.metrics import roc_auc_score\n",
    "\n",
    "train_cols = list(set(df.columns.tolist())-set(['customernumber', 'target90']))\n",
    "X_train, X_test, y_train, y_test = train_test_split(df[train_cols], df.target90, test_size=0.2, random_state=0)\n",
    "\n",
    "import lightgbm as lgb\n",
    "\n",
    "verbose = 1\n",
    "plot = 1\n",
    "params = {\n",
    "#     \"max_bin\": 1024,\n",
    "    \"learning_rate\": 0.1,\n",
    "    \"boosting_type\": \"goss\",\n",
    "    \"objective\": \"binary\",\n",
    "#     'num_iterations':1000,\n",
    "#     \"metric\": \"auc\",\n",
    "#     \"num_leaves\": 10,\n",
    "    \"verbose\": -1,\n",
    "#     \"min_data\": 100,\n",
    "#     \"boost_from_average\": True\n",
    "}\n",
    "\n",
    "d_train = lgb.Dataset(X_train, y_train)\n",
    "d_valid = lgb.Dataset(X_test, label=y_test)\n",
    "model = lgb.train(params, d_train, valid_sets=[d_valid], verbose_eval=False, feval=binary_error)\n",
    "y_pred = model.predict(X_test.values)\n",
    "\n",
    "# print(roc_auc_score(y_test.values, y_pred))\n",
    "print(binary_error_check(y_pred ,y_test.values))\n",
    "\n",
    "df_fi = pd.DataFrame(model.feature_name(), columns=['feature'])\n",
    "df_fi['importance'] = list(model.feature_importance('gain'))\n",
    "df_fi.sort_values('importance', ascending=False, inplace=True)\n",
    "# print(df_fi)\n",
    "if plot:\n",
    "    plt.figure()\n",
    "    df_fi.head(10).plot(kind='barh', x='feature', y='importance')\n",
    "    plt.title('LightGBM Feature Importance')\n",
    "    plt.xlabel('relative importance')\n",
    "    plt.show()"
   ]
  },
  {
   "cell_type": "code",
   "execution_count": 194,
   "metadata": {},
   "outputs": [
    {
     "data": {
      "text/plain": [
       "('error', 3673, True)"
      ]
     },
     "execution_count": 194,
     "metadata": {},
     "output_type": "execute_result"
    }
   ],
   "source": [
    "from sklearn.linear_model import LogisticRegression\n",
    "logreg = LogisticRegression()\n",
    "logreg.fit(X_train, y_train)\n",
    "y_pred = logreg.predict(X_test)\n",
    "binary_error_check(y_pred, y_test)"
   ]
  },
  {
   "cell_type": "code",
   "execution_count": 200,
   "metadata": {},
   "outputs": [
    {
     "data": {
      "text/plain": [
       "('error', 3684, True)"
      ]
     },
     "execution_count": 200,
     "metadata": {},
     "output_type": "execute_result"
    }
   ],
   "source": [
    "from xgboost import XGBClassifier\n",
    "xgb = XGBClassifier()\n",
    "xgb.fit(X_train, y_train, eval_metric=binary_error)\n",
    "y_pred = xgb.predict(X_test)\n",
    "binary_error_check(y_pred, y_test)\n",
    "# so I can enseble/stack models, but it's test task, so I'll just use LightGBM"
   ]
  },
  {
   "cell_type": "code",
   "execution_count": 226,
   "metadata": {},
   "outputs": [],
   "source": [
    "df_test = pd.read_csv('class.txt',  sep=';', low_memory=False)\n",
    "df_test.columns\n",
    "df_test = preprocessing(df_test)\n",
    "df_test.head()\n",
    "X_test = df_test[train_cols]\n",
    "cust_numb = df_test['customernumber']\n",
    "y_pred = model.predict(X_test).round()\n",
    "with open('submission.csv', 'w+') as f:\n",
    "#         f.write(first_row + '\\n')\n",
    "        for i in range(cust_numb.shape[0]):\n",
    "            s = str(cust_numb[i]) + ',' + str(int(y_pred[i]))\n",
    "            f.write(s + '\\n')"
   ]
  }
 ],
 "metadata": {
  "kernelspec": {
   "display_name": "Python 3",
   "language": "python",
   "name": "python3"
  },
  "language_info": {
   "codemirror_mode": {
    "name": "ipython",
    "version": 3
   },
   "file_extension": ".py",
   "mimetype": "text/x-python",
   "name": "python",
   "nbconvert_exporter": "python",
   "pygments_lexer": "ipython3",
   "version": "3.5.2"
  }
 },
 "nbformat": 4,
 "nbformat_minor": 2
}
