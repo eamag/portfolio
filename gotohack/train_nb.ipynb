{
 "cells": [
  {
   "cell_type": "code",
   "execution_count": 1,
   "metadata": {
    "collapsed": false,
    "scrolled": true
   },
   "outputs": [
    {
     "name": "stdout",
     "output_type": "stream",
     "text": [
      "env: THEANO_FLAGS=\"device=gpu1\"\n"
     ]
    }
   ],
   "source": [
    "%env THEANO_FLAGS=\"device=gpu1\""
   ]
  },
  {
   "cell_type": "code",
   "execution_count": 2,
   "metadata": {
    "collapsed": false
   },
   "outputs": [
    {
     "name": "stderr",
     "output_type": "stream",
     "text": [
      "Using gpu device 1: GeForce GTX TITAN X (CNMeM is enabled with initial size: 95.0% of memory, cuDNN 5105)\n"
     ]
    }
   ],
   "source": [
    "import numpy as np\n",
    "import theano\n",
    "import theano.tensor as T\n",
    "import lasagne\n",
    "import os\n",
    "import pickle\n",
    "\n",
    "#thanks @keskarnitish"
   ]
  },
  {
   "cell_type": "code",
   "execution_count": 3,
   "metadata": {
    "collapsed": false
   },
   "outputs": [],
   "source": [
    "import pandas as pd\n",
    "names = pd.read_csv(\"/mnt/mainstore/data/izvestya.csv\").title.values\n",
    "\n",
    "start_token = \" \"\n",
    "names = [start_token+name for name in names]"
   ]
  },
  {
   "cell_type": "code",
   "execution_count": 4,
   "metadata": {
    "collapsed": false,
    "scrolled": true
   },
   "outputs": [
    {
     "name": "stdout",
     "output_type": "stream",
     "text": [
      " Арку ЦПКиО имени Горького разрушат и соберут по камушкам\t\t\t\n"
     ]
    }
   ],
   "source": [
    "print(names[0])"
   ]
  },
  {
   "cell_type": "code",
   "execution_count": 5,
   "metadata": {
    "collapsed": false
   },
   "outputs": [
    {
     "name": "stdout",
     "output_type": "stream",
     "text": [
      "n samples =  9974\n",
      " Арку ЦПКиО имени Горького разрушат и соберут по камушкам\t\t\t\n",
      " Валерий Гергиев рассказал о Сергее Прокофьеве и Чулпан Хаматовой\t\t\t\n",
      " «Что это за муж, если у него жена пляшет, как бесовка?»\t\t\t\n",
      " Архив Тарковского поспособствует изданию книги об Абдрашитове\t\t\t\n",
      " В «Библионочь» РГБ покажет спецхран и коллекцию Румянцева \t\t\t\n",
      " «У режиссеров комедий пользуется спросом инфантильный герой»\t\t\t\n",
      " «Я решил себя проверить и показал «Левиафана» Говорухину»\t\t\t\n",
      " Google запускает интернет-архив фронтовых писем 1941–1945 годов\t\t\t\n",
      " «Я — логотип-наклейка группы «АукцЫон»\t\t\t\n",
      " Вице-президент США Джо Байден побудет актером\t\t\t\n"
     ]
    }
   ],
   "source": [
    "for x in names[::1000]:\n",
    "    print(x)"
   ]
  },
  {
   "cell_type": "markdown",
   "metadata": {},
   "source": [
    "# Text processing"
   ]
  },
  {
   "cell_type": "code",
   "execution_count": 6,
   "metadata": {
    "collapsed": false
   },
   "outputs": [
    {
     "name": "stdout",
     "output_type": "stream",
     "text": [
      "n_tokens =  162\n"
     ]
    }
   ],
   "source": [
    "#all unique characters go here\n",
    "token_set = set()\n",
    "for name in names:\n",
    "    for letter in name:\n",
    "        token_set.add(letter)\n",
    "\n",
    "tokens = list(token_set)\n",
    "\n",
    "print('n_tokens = ',len(tokens))"
   ]
  },
  {
   "cell_type": "code",
   "execution_count": 7,
   "metadata": {
    "collapsed": false
   },
   "outputs": [
    {
     "data": {
      "image/png": "[encoded data removed]",
      "text/plain": [
       "<matplotlib.figure.Figure at 0x7fbc0638a588>"
      ]
     },
     "metadata": {},
     "output_type": "display_data"
    }
   ],
   "source": [
    "import matplotlib.pyplot as plt\n",
    "%matplotlib inline\n",
    "plt.hist(list(map(len,names)),bins=25);\n",
    "\n",
    "# truncate names longer than MAX_LEN characters. \n",
    "MAX_LEN = min([80, max(list(map(len,names)))]) #TODO find out if 80 is okay\n",
    "#ADJUST IF YOU ARE UP TO SOMETHING SERIOUS"
   ]
  },
  {
   "cell_type": "markdown",
   "metadata": {},
   "source": [
    "### Cast everything from symbols into identifiers"
   ]
  },
  {
   "cell_type": "code",
   "execution_count": 8,
   "metadata": {
    "collapsed": false
   },
   "outputs": [],
   "source": [
    "token_to_id = {t:i for i,t in enumerate(tokens) }\n",
    "id_to_token = {i:t for i,t in enumerate(tokens)}\n",
    "names_ix = list(map(lambda name: list(map(token_to_id.get,name)),names))\n",
    "\n",
    "\n",
    "#crop long names and pad short ones\n",
    "for i in range(len(names_ix)):\n",
    "    names_ix[i] = names_ix[i][:MAX_LEN] #crop too long\n",
    "    \n",
    "    if len(names_ix[i]) < MAX_LEN:\n",
    "        names_ix[i] += [token_to_id[\" \"]]*(MAX_LEN - len(names_ix[i])) #pad too short\n",
    "        \n",
    "assert len(set(map(len,names_ix)))==1\n",
    "\n",
    "names_ix = np.array(names_ix)"
   ]
  },
  {
   "cell_type": "markdown",
   "metadata": {},
   "source": [
    "# Input variables"
   ]
  },
  {
   "cell_type": "code",
   "execution_count": 9,
   "metadata": {
    "collapsed": true
   },
   "outputs": [],
   "source": [
    "input_sequence = T.matrix('token sequencea','int32')\n",
    "target_values = T.matrix('actual next token','int32')"
   ]
  },
  {
   "cell_type": "markdown",
   "metadata": {},
   "source": [
    "# Build NN\n",
    "\n",
    "You will be building a model that takes token sequence and predicts next token\n",
    "\n",
    "\n",
    "* iput sequence\n",
    "* one-hot / embedding\n",
    "* recurrent layer(s)\n",
    "* otput layer(s) that predict output probabilities\n"
   ]
  },
  {
   "cell_type": "code",
   "execution_count": 10,
   "metadata": {
    "collapsed": true
   },
   "outputs": [],
   "source": [
    "from lasagne.layers import InputLayer,DenseLayer,EmbeddingLayer\n",
    "from lasagne.layers import RecurrentLayer,LSTMLayer,GRULayer,CustomRecurrentLayer"
   ]
  },
  {
   "cell_type": "code",
   "execution_count": 11,
   "metadata": {
    "collapsed": false
   },
   "outputs": [],
   "source": [
    "l_in = lasagne.layers.InputLayer(shape=(None, None),input_var=input_sequence)\n",
    "\n",
    "#!<Your neural network>\n",
    "l_emb = lasagne.layers.EmbeddingLayer(l_in, len(tokens), 40)\n",
    "\n",
    "l_rnn1 = lasagne.layers.GRULayer(l_emb, 1024, grad_clipping=5)\n",
    "\n",
    "l_rnn2 = lasagne.layers.LSTMLayer(l_rnn1, 1024, grad_clipping=5)\n",
    "\n",
    "#flatten batch and time to be compatible with feedforward layers (will un-flatten later)\n",
    "l_rnn_flat = lasagne.layers.reshape(l_rnn2, (-1,l_rnn2.output_shape[-1]))\n",
    "\n",
    "l_out = lasagne.layers.DenseLayer(l_rnn_flat,len(tokens), nonlinearity=lasagne.nonlinearities.softmax)"
   ]
  },
  {
   "cell_type": "code",
   "execution_count": 64,
   "metadata": {
    "collapsed": false
   },
   "outputs": [
    {
     "name": "stdout",
     "output_type": "stream",
     "text": [
      "27\n"
     ]
    }
   ],
   "source": [
    "# Model weights\n",
    "weights = lasagne.layers.get_all_params(l_out,trainable=True)\n",
    "print(len(weights))"
   ]
  },
  {
   "cell_type": "code",
   "execution_count": 79,
   "metadata": {
    "collapsed": false
   },
   "outputs": [],
   "source": [
    "from agentnet.utils.persistence import save,load\n",
    "save(l_out,\"agentnet_W.pcl\")"
   ]
  },
  {
   "cell_type": "code",
   "execution_count": 71,
   "metadata": {
    "collapsed": false
   },
   "outputs": [],
   "source": [
    "network_output = lasagne.layers.get_output(l_out)\n",
    "#If you use dropout do not forget to create deterministic version for evaluation"
   ]
  },
  {
   "cell_type": "code",
   "execution_count": 72,
   "metadata": {
    "collapsed": false
   },
   "outputs": [],
   "source": [
    "predicted_probabilities_flat = network_output\n",
    "correct_answers_flat = target_values.ravel()\n",
    "\n",
    "\n",
    "loss = T.mean(lasagne.objectives.categorical_crossentropy(predicted_probabilities_flat, correct_answers_flat))\n",
    "#<Loss function - a simple categorical crossentropy will do, maybe add some regularizer>\n",
    "\n",
    "updates = lasagne.updates.adam(loss,weights)"
   ]
  },
  {
   "cell_type": "markdown",
   "metadata": {},
   "source": [
    "# Compiling it"
   ]
  },
  {
   "cell_type": "code",
   "execution_count": 73,
   "metadata": {
    "collapsed": false
   },
   "outputs": [],
   "source": [
    "#training\n",
    "train = theano.function([input_sequence, target_values], loss, updates=updates, allow_input_downcast=True)\n",
    "\n",
    "#computing loss without training\n",
    "compute_cost = theano.function([input_sequence, target_values], loss, allow_input_downcast=True)"
   ]
  },
  {
   "cell_type": "markdown",
   "metadata": {},
   "source": [
    "# generation\n",
    "\n",
    "Simple: \n",
    "* get initial context(seed), \n",
    "* predict next token probabilities,\n",
    "* sample next token, \n",
    "* add it to the context\n",
    "* repeat from step 2\n",
    "\n",
    "You'll get a more detailed info on how it works in the homework section."
   ]
  },
  {
   "cell_type": "code",
   "execution_count": 74,
   "metadata": {
    "collapsed": true
   },
   "outputs": [],
   "source": [
    "#compile the function that computes probabilities for next token given previous text.\n",
    "\n",
    "#reshape back into original shape\n",
    "next_word_probas = network_output.reshape((input_sequence.shape[0],input_sequence.shape[1],len(tokens)))\n",
    "#predictions for next tokens (after sequence end)\n",
    "last_word_probas = next_word_probas[:,-1]\n",
    "probs = theano.function([input_sequence],last_word_probas,allow_input_downcast=True)"
   ]
  },
  {
   "cell_type": "code",
   "execution_count": 102,
   "metadata": {
    "collapsed": true
   },
   "outputs": [],
   "source": [
    "from pyaspeller import Word\n",
    "def correct_phrase(text):\n",
    "    words = []\n",
    "    for word in text.split():\n",
    "        try:\n",
    "            corrected = Word(word).spellsafe\n",
    "        except Exception:\n",
    "            pass\n",
    "        corrected = corrected if corrected else word\n",
    "        words.append(corrected)\n",
    "    \n",
    "    return ' '.join(words)"
   ]
  },
  {
   "cell_type": "code",
   "execution_count": 105,
   "metadata": {
    "collapsed": false
   },
   "outputs": [],
   "source": [
    "def generate_sample(seed_phrase=None,N=MAX_LEN,t=1,n_snippets=1):\n",
    "    '''\n",
    "    The function generates text given a phrase of length at least SEQ_LENGTH.\n",
    "        \n",
    "    parameters:\n",
    "        sample_fun - max_ or proportional_sample_fun or whatever else you implemented\n",
    "        \n",
    "        The phrase is set using the variable seed_phrase\n",
    "\n",
    "        The optional input \"N\" is used to set the number of characters of text to predict.     \n",
    "    '''\n",
    "    if seed_phrase is None:\n",
    "        seed_phrase=start_token\n",
    "    if len(seed_phrase) > MAX_LEN:\n",
    "        seed_phrase = seed_phrase[-MAX_LEN:]\n",
    "    assert type(seed_phrase) is str\n",
    "\n",
    "    snippets = []\n",
    "    for _ in range(n_snippets):\n",
    "        sample_ix = []\n",
    "        x = list(map(lambda c: token_to_id.get(c,0), seed_phrase))\n",
    "        x = np.array([x])\n",
    "\n",
    "        for i in range(N):\n",
    "            # Pick the character that got assigned the highest probability\n",
    "            p = probs(x).ravel()\n",
    "            p = p**t / np.sum(p**t)\n",
    "            ix = np.random.choice(np.arange(len(tokens)),p=p)\n",
    "            sample_ix.append(ix)\n",
    "\n",
    "            x = np.hstack((x[-MAX_LEN+1:],[[ix]]))\n",
    "\n",
    "        random_snippet = seed_phrase + ''.join(id_to_token[ix] for ix in sample_ix)    \n",
    "        snippets.append(random_snippet)\n",
    "        \n",
    "    print(correct_phrase(\"----\\n %s \\n----\" % '; '.join(snippets)), '/n')\n",
    "#     return correct_phrase(\"----\\n %s \\n----\" % '; '.join(snippets))"
   ]
  },
  {
   "cell_type": "code",
   "execution_count": 106,
   "metadata": {
    "collapsed": false
   },
   "outputs": [
    {
     "name": "stdout",
     "output_type": "stream",
     "text": [
      "---- abba Sotheby’s отметили велосипеда и Джиобят в голове ---- /n\n"
     ]
    }
   ],
   "source": [
    "generate_sample(\" abc\")"
   ]
  },
  {
   "cell_type": "markdown",
   "metadata": {},
   "source": [
    "# Model training\n",
    "\n",
    "Here you can tweak parameters or insert your generation function\n",
    "\n",
    "\n",
    "__Once something word-like starts generating, try increasing seq_length__\n",
    "\n"
   ]
  },
  {
   "cell_type": "code",
   "execution_count": 58,
   "metadata": {
    "collapsed": true
   },
   "outputs": [],
   "source": [
    "def sample_batch(data, batch_size):\n",
    "    \n",
    "    rows = data[np.random.randint(0,len(data),size=batch_size)]\n",
    "    \n",
    "    return rows[:,:-1],rows[:,1:]"
   ]
  },
  {
   "cell_type": "code",
   "execution_count": 107,
   "metadata": {
    "collapsed": false
   },
   "outputs": [
    {
     "name": "stdout",
     "output_type": "stream",
     "text": [
      "Training ...\n",
      "Generated names\n",
      "---- «Доктор Стрэндж» в кислотной сцены ; Большой театр открыл сезон «Машину» Московском фильме ; В Москве пройдет фестиваль «Букера» в Москве ; Кино поколение next выбирает комедию ; Максим Аверин: «В Москве на планетарий на площадка» ; В Москве пройдет юбилей Геннадия Роткоопой ; «В Москве показали не дают подам не случайно ; «В России много получат влюбили все значение в общества» ; Объявлены финалисты литературной премии Белкина ; «Если у как самим, сделать свой музыки был проявку сс ---- /n\n",
      "Epoch 0 average loss = 0.2781638117134571\n",
      "---- Stepictur gas в поддержку Филина букет по версии Дмитриенко ; Stepictur на сцену ; Stepictur gris появилась «Легенды № 17», an LOL Deep и платы в анимации» ; Stepictur grace как в Москве на «Небервые открытые карах» ; Stepsister показов для взрослых нацизм ; Stepsister показывает выставку Рафикции на «Легенды человека» ; Stepictur картин «Тангелейзера» в новой роли ; Stepictur картин «Тангелевски «Нашествия на браке ; Stepictur gross литературе поздравил с 1960-летней Славскому ; Stepictur кинематографических более мировой выставку Woredeby ---- /n\n",
      "Generated names\n",
      "---- В Московском зоопарке откроется выставка гигантских насекомых ; «Я наломала просто современного искусства смена 90-летнюю площадь» ; «В наше время в китайских американец — это счастливое культуру» ; «Союзмультфильм» превратят в культурный центр ; Культурный уикенд: выбор «Известий» ; «В Рио у нас в неизвестные рок-н-ролла» ; «Не доверяйте детям общается на сцене необильно ; «Я не принадлежу к Джека ; «В программу стараются с советским романским мире больше» ; «Демонстрации» каблуки артистов и спасаются в дорогих ---- /n\n",
      "Epoch 1 average loss = 0.2768007584810257\n",
      "---- Stepict The Beatles появился в Московская галерее ; Stepict The Beatles и The yore Pus шагангов подвали клубов ; Stepict The Beatles и The Body подтяжке и полезен Быков ; Stepict Center покинула в последний путь от таганской рассказал ; Stepict The Beatles и премию «Ника» по вернулся в Канн ; Stepict The Beatles и The Border под тис на языке и Вега ; Stepict The — два вырастить Мойдодыра исполнит молодого ; Stepict The Beatles и РПЦ ; Stepict The Beatles и Рэпом Литвинов ; Stepict The Bordellet ---- /n\n",
      "Generated names\n",
      "---- «Москва превращена в суд на поколение» показали «22 городах» ; «Мы попросили премьер-министр к нам проблемами» ; «Сегодня даже реклама в тяжело» ; «Мой герой ревизии открыли от России от инчелый Канады ; Алексей Балабанов: «Мы поднялся с Борьба премьерами» ; «Человек, дал мне Мора» и «Цитадеев — понятняесся с современной» ; «Белый тигр» начинает схватку за «Оскар» ; Михаил Швыдкой балета в Лондоне едина будут иностранный ; «Я сочинил двух леской оперы» под сохранить рождений Колоды ; «Мы играем пути газированием имени — нашего искусства» ---- /n\n",
      "Epoch 2 average loss = 0.27528963938355444\n",
      "---- Step ice Mode прибывает на Битные играть ; Step ice Mode шпротится в прадистрии\"праздновала в новой роман «Билли» ; Step ice Mode — это потлачу «Детского на дух ; Step ice Moon So the пойти в Москве ; Step ice Mode — этого люди в поле за кино ; Step ice Mode пошла по летит Мазары ; Step ice Mode прибывает на Битников ; Step ice Mode шпродолазами, а на переводчиков ; Step ice Mod the Sotheby's года ; Step ice Mode шпродолательный без политике ---- /n\n",
      "Generated names\n",
      "---- «Мастерская воля всех» вошел в прогулинцы в Путевки ; «В нашем Доме 99 работников. Я — мой русский» ; В Калуге установят памятник Булгакова Пращник ; Михаил Плетнев перечитал «Евгения Онегина» ; «Наши друзья американцев открытый фильм «Левиафана Есенина» ; «Национальный бестселлер» отдали «Немцам» ; «Моя продажи ремонтом мо метров у своем театре им. Авто рать играть народа» ; «Если русский фильм Частицы идеи» ; «Напоказ Бога благодарить на русском кино» ; Известный модельер Общительный мат расстрел искателей ---- /n\n",
      "Epoch 3 average loss = 0.27070481425523757\n",
      "---- Step ice в предпочел деятельности в Сериков ; Step ice в предпочел «машин» вышей прокат в Санкт-Петербурга будет Джек ; Step ice в предпочел «машин» гостят в России не нашей личный ; Stepictur — дебютантов региональное участическим «Великом» ; Step ice в предпочел «музей» ; Step ice в обернулся Таней ; Stepictur — добавить его покойного прослушивает деньги в Анти ; Stepictur — дыхательные свои дела похожа на Весовые люди» ; Stepicers годвигательность превратится в развеять ; Stepictu из «Чайковский» и души на Черепе рт не раздал трудовым писателей в «Дип» ---- /n\n",
      "Generated names\n",
      "---- «Предлагаю ввести КВН в погорел думают, что в наше кино услышали их как к зри «Королева Версаля» отразилась в Лиски ; «Современная музыка — это кладбище стать страну в консерватории» ; В России снимут первый дивятся в стиле покинул как режиссера ; Скончался легендарный капитан Клосс — Станислав Микульский ; «Золотой лев» отправился в Северную Венецию ; «Когда смотришь на Самойлову, кажется, что кинематограф ей мал» ; «Москва — это клубов у продолжается к удачное телевидение» ; В Москве представили проведут премии «Просветительский композитор» ; «На съемочной площадке родственные связи отходят на второй план» ---- /n\n",
      "Epoch 4 average loss = 0.26946181532740593\n",
      "---- Stepict The Beatles и The Body Beatles покинула Tписати веками ; Stepict студился в Гаражом привести готов» продали москвичей ; Stepict студился в Москву Цоя прокате ; Stepict The Roulette выйти в новой кино разрезного скучаю ; Stepict в бульварском Александра Америки выше в России ; Stepict The Beatles превратится в «Мана Чайковского» ; Stepict путин выступит на трагедийский прокат ; Stepict студился в Гараже мой Белого только тека покажет» ; Stepict стоит ввести при столичные звучит абсолютно не супить трас ; Stepict The Roulette вышла из гламурных коллективностью ---- /n\n",
      "Generated names\n",
      "---- «Интермузей-2012» выберут прочитают повод до судить поверить в наше время кино ; «Мне интересно заглянуть в загандаре продолжиться на этом возможность» ; Бабель бом не президента помогут показать рок-н-ролл» ; «Марина Скрипка не выпустит на свои подвала абсолютный концерт» ; «В облике абсолютно «не будет» ; В ЦДХ «сверяют часы» музеи и превратили в металловаться в сторону Лу Голос» ; «Москвичи — народа, своих» посмотреть русский икрой автограф его послед» ; «Если бы не понимает, что я представить не парусника поколения мир, а всё в Боль; «Я никогда не справляется в работу решит, как до 6020 лучше еще раз выражений ; «Принц Египта» нарушил виновники ---- /n\n",
      "Epoch 5 average loss = 0.26494920989871024\n",
      "---- Step ice в Москве на фальшивой концерт в Москве на ВДНХ ; Step ice в Москве на мастеров Берлине для туризма ВОВ ; Step ice в Москве на фанерхент к представил «Не пожаловать не нужен» ; Stepict The Beatles и Trade To late леди поэзиям ; Stepict The Beatles и Trend актер и Малевича показывают ; Stepict The Beatles и The Beatles появилось своего найден ; Step ice в приведена Ленина похоронили в Москве ; Step ice в покончил с нем гости Точек для мента» ; Step ice в поколений приз кинофестивале в Локаревом ; Step ice в Москве на фальшивой концерт в Музей киноденарло? ---- /n\n",
      "Generated names\n",
      "---- Медынский призвал туроператоров обращение Пушкинском труднее ; Скончался артист России Любимов ; Стартовал Санкт-Петербургский международный московский конкурс составления ; В Москве на лучше продемонстрируют в движения Кабаков ; Скончался режиссер «Кино» Виктора Ирина Маринэффак ; В Москве пройдет фестиваль индийской культуры ; В Москве пройдет фестиваль индийской культуры ; «Не пытайтесь от музее» стал лауреатов, если анти де Европейского режиссура ; Останкинский дворец переехал в Царицыно ; России в Венеции доверили судейство, классику и «Перезагрузку» ---- /n\n",
      "Epoch 6 average loss = 0.2587953201234341\n",
      "---- Stepicove в попечительском не показал красных скончался в Москве ; Stepictur Мадонны себе смерти актриса Москвы да на Венецианскому Белого ; Stepictur Cetет кастрацией ; Step Acer будет представит «Пение собрание 3» Санкт и вернут вместе с годам ; Static Дмитриенко в прокат ЕГЭ ; Static Дмитриенко бумагоились и показывают, как которым не существует ; Stepicен родился поставили к премии на Валерию Зиссиса ; Stepicен стал «Черный спектакль в митикей Олега Ушел ; Stepicен стал поддельным от артистом Станиславского ; Stepictur Мадонны забыты, всех политика, чем противостояние ---- /n\n",
      "Generated names\n",
      "---- В Москве стартует I Международный фестиваль анимации ; Владимир Урин: «За место в Большом городе Поленцем ; «Эксмо» и АСТ станет концу собирать памятники князю Владимиру ; «Месяц в закрытом делу о соцсеть с участок сторонние — не только посвящена» ; «В Румынии кинематографу трудно найти поддержку, пока не приедешь к придержать е; Попечители ГАБТа выделили 2 млн рублей на памятник Марине Семеновой ; В столичном «Олимпийском» перепели песни Виктора Цоя ; «После реконструкции Политехнический музей может строить балет — вершитель ; В Москве прошла безопасности прокуратуре проведет контюрикавется ведущих диван «После распада советской империи мы создаем империю музыки» ---- /n\n",
      "Epoch 7 average loss = 0.26092632120847703\n",
      "---- Stepictur — его приестины ГАБТа обвинил сериала ; Stepictur — его приходит в мире не новинки ; Stepictur из Nudiosзавили «Ленфильма» воспитывать достатка ; Stepictur — его приехал в Москве ; Stepictur — его представила Детей закон» ; Stepictur из королева 30 млн рублей «Звездных войн» ; Stepictur — его приехал в «Красные полмучительности ; Stepictur издатели выставили продолжать в Хамит долго глобус» ; Stepictur из обязательство не традиция безумерть с погоду ; Stepictur из катограждут отдать получит в сентябленных кино компромисс ---- /n\n",
      "Generated names\n",
      "---- «Мой Атос оставляет больше вопросов, чем ответов» ; Кайли Миноуг проект «Послание к человеку» ; «Потомку немецкого палача есть чем заняться в России» ; В США на 82-м году жизни скончался книги Валерий Маргулис ; «В рок-музыке на читать свой хорошие балетной, от мир» ; «После разговоров о Ростроповиче у меня всегда ныла шея» ; «После разговоров о Европусалимы в обществе меня в обществе» ; «Папан Собаке в метафор — умер на вершина, ; Умер писатель и музыкант Владимир Лобачевский ; «Мы доводим до ума неопубликованные записи с оркестром веника измениться» ---- /n\n",
      "Epoch 8 average loss = 0.254512599080801\n",
      "---- Step Acer покажут знать поле имени Вахт ; Stepict с гостернется под романа ; See pictures расскажет уходит со великий гостей возглавит отелей ; See pictures расскажи НИИ победили место в рекламе унижение ; Stepicturein пригласил для «Женихарке» ; See pictures рассказ жжение себе семестр и знает Шахтной организации» ; Step Acer на Чернены в Москве родственников года ; See pictures расскажет уходит возглавит Большой театр ; Step ice voutuто не повелители анимационное с обычным гости ; See pictures рефлекс в без выберет детям ---- /n\n",
      "Generated names\n",
      "---- Патриарх Кирилла в Китае как под портрет ; Польская война с уэльским акцентом ; На «Большую Герман на Музея реем все увольнения в суде с музыкантов» ; Сергей Филин отметила ей мужской вернули «Дневника гастроль» ; Музей кино переедет на ВДНХ ; Михаил Шуфутинский: «Эта награда — своего рода признание» ; «Музыка действует как состоять обсуждать» ; Михаила Горшенёва похоронили на 18-м участке восходит ; «Мариина была воплощением жизненной энергии» ; Макар и «креольцы» отпраздновали 10 лет своей дружбе Года ---- /n\n",
      "Epoch 9 average loss = 0.2563048256337643\n",
      "---- Stepsister показал в Россию в 2016 году ; Stepsister по критики станет «Большого театра» назвал песня» ; Stepictur улит до ликвидировал по литературе будет свои деньги и запрещении ; Stepsister показал в России за ренью Русского похоронил день в США ; Stepsister показывал страстный кинокритиков ; Stepsister показал в отношение крепит новый театр откроется похорони ; Stepsister показал в Москве любо граф гитаристами вернулись в США ; Stepictur урок состоит и репетиций на митинг прокуратура ; Stepsister показал в Москве показ и в США программу ; Stepsister показал в Россию выйдет в 14 млн рублей в голова ---- /n\n",
      "Generated names\n",
      "---- Мариинский театр сомневается, стоит ли платить Михаилу Шемякину ; Балетный «Оскар» объявил имена номинантов ; «Телевидение в США преподносит Барака Обаму как кинотеатры» ; Семен Слепаков: «Мы делаем только то, что смешно нам самим» ; Пианист Евгений Рожков стал лауреатом поставит «общественный загадка ; «Не верь, не знаю — его за короле шути поговорили в суде и городке» ; Рок-н-ролл мертв, а мы есть нет похвали необходима всего бесплизились ; В Москве открылся книжный фестиваль ; Патриарх призвал кадров устроил балет с Николае I России ; Российско-украинский архив получит в Москве с молотка ---- /n\n",
      "Epoch 10 average loss = 0.2546518269479275\n",
      "---- Stepictur рассказал о брак сыграет в Монро Еремеева ; Stepiction открылся «Игры престолов» ; Stepictur на роли Макаревич старой Лиозновой ; Stepico появление переводчики выставили в Москве спасанию ; Stepsister по казнили «Афмутаж» ; Stepictur из коробил своих стала примет у берегов на баня ; Stepiction открылся мне вручение «Не оружие ; Stepictur рассказал о своем в Москве и портного сезона ; Stepsister показывает полироль объект Филина ; Stepsister показал в Москве любовью ---- /n\n",
      "Generated names\n",
      "---- Музей Москвы площади с одном театре выборы ; «Я не побеждает театр, потому что никто не показывают живописно» ; «Горько!» и «Елки-э» прошлое в мире и человек ; Антон Корсаков: «Не звезд твое телевизора — не только не интересно» ; «Притяжение мужчины и женщины сильнее войны, выстоявшие на прошла Базарове ; «Национальный бестселлер» объявил финалистов ; «Не верю в американской в чем-таки — нашего кино. Советской деятельности» ; «Все, как в Сочи закрытом, как выложили на петит по контрактам» ; «Москвичи — народ к настоящие чувствовали, а мы души в необразится в запрете» ; «Беглый раб» и Артетен Франк медиа группе ---- /n\n",
      "Epoch 11 average loss = 0.25044212675094607\n",
      "---- Stepicar — грех букмего, не не отметил для временно ; Stepicar The привет в Москве скончался народный артист России ; Stepicar — детей по лютню победил перволетний ; Stepicar — для бороться с под господним ; Stepica годит в России ; Stepicar — в разрешил не уходят на выходят на войны ; Stepicar line Shit The m нашел из жизни в виде в новой рекламы прогорание ; Stepica год не выполняет о несервые любви ; Stepicar — для тарного планирует по не утратить по несенскиет поле ; Stepica год в Музей красной договор с Таганке амином ---- /n\n",
      "Generated names\n",
      "---- Петербургские депутаты вступились за 10 стране Александра Березань ; Минкультуры проведет комплексную проверку деятельности РНБ ; «Винзавод» выйдет в 120 млн рублей ; «Президента надо спрашивать так, чтобы она неправда Павлюченко ; «Верди писал музыку установить безумным в США, танца» ; «В Рио у нас в номерах падали дверные ручки» ; «Полезно — во времени» покинул Евгений Маргулис ; «Перед джазом в Пленного музея важно, что выходы и написание» ; Когда поет Товарищ Песня ; «Мне не очень ловко сидеть и рассказывать, какое я хочу снять кино» ---- /n\n",
      "Epoch 12 average loss = 0.2473883156478405\n",
      "---- Stepica — готов и вампир зрителей ; Stepictur назвал предпочитал «Пола» объявил об универь Михаила Шараны ; Stepictur назвал предпочитает «Маркеры» ; Stepictur назвал предпочитал Плоской ; Stepictur назвал президент и против Маска ; Stepica в предпочитал «Дип» ; Stepica — гостиниц Большого театра: кому нужен личности в 2016 году ; Stepictur назвал предпочел «Серебренников городе» ; Stepictur назвал предпочитал «Пола» объединяйтело ; Stepictur назвал президент и предпочитает для открой ---- /n\n",
      "Generated names\n",
      "---- Премия «Нос» досталась «Ленинграду» Игоря Вишневецкого ; Минкультуры подвели передаст «Роснефти» русской суд реальной выставке ; Смейся, Пая жизнью в телевизор овала к роли Надо ; Минкультуры проверит театры сербах по воскресении нового соло воде ; Минкультуры предложит итальянцам почувствовать Россию ; «Посетители» всмотрелись в Московский кинофестиваль ; В Москве пройдет юбилейный Большой фестиваль мультфильмов ; «Балабанов сам по себе жанр» ; Бородинское современное искусство веры ; Минкультуры проверит театры могут получить держит ---- /n\n",
      "Epoch 13 average loss = 0.24438963142037393\n",
      "---- Stepictur объявлен отрада возобновили выставлены продажи без укрывает кино вора ; Stepictur на Не получает хочешь Яны спеть гением голосование коррубежки ; Stepictur на светов уходит в Москве свои джаза «Белый ревизор ; Stepictur на представит «Дебют» лидирует во всех разговорализировался ; Stepictiork за рассказывает от Дом Дунателей Ляхов ; Stepiction NU ДНК и «Рашентиры» захочется за оборот на Дикий ; Stepictur на «Новой волны» собрались в прокаты мы открыты Оксидом ; Stepictior Романе стартеров ; Stepictios народные гитарные прекрасное устроиться на предентины ; Stepicish рассказал об архитектура ---- /n\n",
      "Generated names\n",
      "---- Стокгольмский синдром «Пиковой дамы» ; Александр Михайлов: «Не жалею, готовить серьезного успех — это защитников» ; «Потомку не увидеть образнее — ее труппа — исполнителей, тем Даша ; Большой театр забыл про юбилей Покровского ; «Не доверяю тем, кто с презрением смотрит на чужое покажут» ; «Роман до сих пор многие называют мемуарами и в этом о мы выпарного ; «Не ожидал, что мое детское кино, которые патриарха не выходит в моей России» ; «Назвал бы альбом «Слон», но у брата уже был «Звон» ; В Москве открывается кинофестиваль лидером ; «Свобода творческих театров получит с композиции в мир, которые и построиться в ---- /n\n",
      "Epoch 14 average loss = 0.2420382970571518\n",
      "---- Stepicturey отказался от рока от уничесов ; Stepictus назвал возговорек и против Мессиана в Берлинском театры ; Stepicturey откроет пятилетие Мазуркенковой ; Stepicture выступил на родина ; See pictures резонансом вернулись на проект Путина ; Stepicturey отказался от похоронила свободы ; Stepicture выступила в Диора ; Stepicturev войны готова к через музыки Обрели ; See pictures и Ленфильма и Каприо на режиссер» ; Stepicture выпустил истицы ---- /n\n",
      "Generated names\n",
      "---- В Москве открылась посвященная академику Сахарову выставка ; «Первый канал» запустил карьеру, и под копры ; «На телевидении выиграет тот, кто угоняется российской культуры» ; «Первый канал» запустит сократит суд назвал ручной политике ; «Винзавод» отвел посетителей в детсад ; Международный фестиваль анимации Linoleum превратился в выставку ; «Театр в Сомалевичество киллер их и современного искусства» ; В Кремле обеспечивают информбезопасность на уровне поступающих угроз ; Умер композитор и пианист Анатолий Гаработвор ; «В нашем Доме 99 работников. Я — сотый» ---- /n\n",
      "Epoch 15 average loss = 0.24096145528554916\n",
      "---- Stepictur под «визитанда и всё» ; Step ice в Москве открылся Гоголя нацистов и власти ; Step ice в Большом: на ведет в продали в Москве свои станет «Бердца» ; Step ice в Маяковской галереи выступит в Мамлешим ; Stepictur под надеется на «Красном Октября» ; Step ice в Маяковской галерее между директором из-за «фольклора» ; Step ice в поддержат доступны венецианские к первый от них в ОБЖ ; Stepicu One Mode предлагает от месяцев подами и Элек ; Step ice в Маяковской галерее может появятсятный художник в века ; Stepictur под парка Левиафана и собрание Вольные в победе в надеощды ---- /n\n",
      "Generated names\n",
      "---- В США снимут приквел к «Сексу в поддержку продолжились много Тит ; Полиция не дала «Хору Турецкого» спеть в метро ; «Я не хочу, чтобы на Западе думали, будто я приехал пожаловаться» ; В Москве откроют памятников стать детскому князю Владимиру ; «Студия новой музыки» отметит дни рождения Шнитке и Губайдулиной ; «Все хотят, чтобы в помнил — поплакать, а отвечавший» ; «Волги», Бабетты для после стала стартует настоящий авторов ; Медынский «Рукописи не даю телеэкратия» ; «Когда Козаков дал мне разрешил самоманать обстоятельница начало меня доступного; «На сегодняшний день Сергея Филина скальный театр» ---- /n\n",
      "Epoch 16 average loss = 0.23934644749760628\n",
      "---- Stepicturer решил не хотят отдавит Pussy Riot пример в России ; Step ice vorksзлов показали в «Беглых» в регионы транслепухами ; Step ice в Майкл Чайковском зале двоих самоваре времени ; Step ice в Манеже творчестве юные региональные региональные вещи ; Step ice в Манеже с Сельсовета в летней любовь» ; Step ice в Мамлеев: «Я новый драк не интересная и достаточно» ; Step ice в Мамлеев: «Я долго и нашей обретает даже сам, но выйти в нес» ; Stepsister покажет против «Охотникам Русского музеи де Беленого велоуполе» ; Step ice в Майкл вернет Оптинский медведей ; Step ice в Манеже в показал красный спектаклей Европе ---- /n\n",
      "Generated names\n",
      "---- «Подрастающее поколение не мешает жить время наливает ; В США умер актер «Сатирикон» покажут фильм «Снежная короле» ; «Сталинград» выйдет в прокат в двух вертикальных интиме братья ; «Ленфильм» ждет кредит на 2 миллиарда рублей ; Ольга Куриленко: «Вы проводим жизнь не отличный спектаклем лета» ; «Сложно говорить о перспективах, живя в Россию на века на языке Серебренников» ; После моего письма президенту на 88-2011 года ; В Москве пройдет форум «умного роялем ; В Манеже показывают «Эксмо» и Бандитской авангарда ; «Моя героиня — меть без том, что пересноваривами» ---- /n\n",
      "Epoch 17 average loss = 0.23735141670703888\n",
      "---- Stepictiond «Перевал «Мелку» покажут москвичи и конкурсу ; Stepictiond «Перевале Момандустрии» ; Stepictiond уходит «Евровидение-2016» разбилисетвие «Царского кино» ; Stepictiond «Просветитель» объяснение «голландцев» ; Stepictiond «Перевал Белым мультики показывать рекламы» ; Stepsister покажут о возвращении Каннском прокательным рассказал поэтом ; Stepictiond «Просветитель» объявил говорить Большой театр ; Stepsister поставил пятерку к «Гоголь-центра» ; Stepictiond take Open назвал имена планирую ; Stepictiond «Мане Бекмамбетова» завершила коронажейка ---- /n\n",
      "Generated names\n",
      "---- В Москве появится рояль-рекорды Sotheby's ; В ГМИИ имени Пушкина дают венецианскую музыку и Леонардо в антракте ; Минкультуры сократило 1 млн рублей на проводужном ; «В театре все должно быть дозволено» ; «На спектакль должны работать все — от директор реальный консерватории» ; Почти как в Канне, но все-таки Москва ; Владимир Машков сыграет главную роль в серьезно остановите ; Стали известны дата и место простят в Тома Виктюк ; «Возможно, иду большую музыку, повершить музыкантов оказался руль ; На Берлинском фестивале покажут полную версию «Нимфоманки» ---- /n\n",
      "Epoch 18 average loss = 0.2378382076919079\n",
      "---- Stepictur — вернут объединят на ношеного общения Гердера Польш» ; Stepicorks назвал победит лучшей перепишет рефлекс пожелать сценарий зимы ; Stepicoinert пугаевыла в Москве стартерской кинопокие галерее ; Stepicoiconertad ProScan не советского пропаганду Квартиры ; Stepicothe Open Purple спектаклей в Москве ; Stepsister Pri Prian и важно перестали за бешенная поаталета ; Stepicorkss Prizohe Paris появится в России зональность ; Stepsister y Юлий Литерной Петр Фоменко ; Stepico по мальте революцию в Сергея Леонидом Удаление Лондона ; Stepicoce Open отметит 20 млн рублей ---- /n\n",
      "Generated names\n",
      "---- «Культурой нельзя управлять, но можно на нее влиять» ; Крупнейшие сети будут показывать рекламу российского кино ; На родине Леонида Гайдая показали веселье в суд Торопе ; «Росгосцирк» предложил Норштейна в оркестровые своей жить ; В Москве открылась выставка технологий 3D-сканирования ; «Когда Караченцов снимут президенту не учиться можно президент» ; «Мы с Майей Михайловной жжет первоначала проничент на ареста» ; Минкультуры сократило финансирование Интер музея на 10% ; «На спектакль должны работать все — лучше нужны театры» ; «Послание к нам сериала о создании рок-н-ролл ме верить ---- /n\n",
      "Epoch 19 average loss = 0.2325077497959137\n",
      "---- Step ice Open — булгатвовым ; Stepicart «красного масштаба» Джеки Щелей жена Ломан ; Stepica Star 220 млн рублей в воспитание по-русски ; Stepicart «красного масштаб плавал въезде» ; Stepicartе могут покинуть Российскую школьный ; Stepicartе млигадричий нашего в Гараже та Джейми» ; Stepicar — в Москве стартеры покинул ЦДергие? ; Step ice Open и госкрешнее представит в 1 тыс. месте ; Stepicartе завершил «рассказывать себе смертью на смешить» ; Stepicart коровкой — войны» самых и детей во всех лучше ---- /n\n",
      "Generated names\n",
      "---- На «Бенуа де ЛА Данс Вильяма Шекспира сменит Николаем Цискаридзе ; «Реконструкция не должна нарушать изобретай дирижеров можно построить своего деят; Полина Гагарина заняла свое сыграла к акцениционного равалентки ; «Выдающиеся спортсмены выигрывают мамой фильм о старейшей с Митине ; Умер основатель хип-хоп-группы Beastie Boys Джон Берри ; Александр Головин и Федор Федоровский: Китайского ужасов ых людей» ; Александр Гордон: «Я — что работа коммерческом театр!» ; «Возможно, когда-нибудь мысль начать ухожу рок-музыки» ; «Росгосцирк» предлагает истории ; Музей современного искусства прослушать по французской обитель ---- /n\n",
      "Epoch 20 average loss = 0.23143168586492538\n",
      "---- Stepicarrow City Дух лига Рождественским общественное улица» ; Stepica в победил в «Гоголь-центре» сыграли ; Stepica в покажут на фестиваль не видеоприведке ; Stepicarrow City в Манеже отметил юбилей ; Stepica Star the Mode Harrow Cute в Мане на гастроли в Тимурке ; Stepica в поколении поедает получить от Санкт-Петербурга ; Stepicarrow the beta tame t a открыл в полной книги ; Stepica Star рассказал о дурацкий ; Stepica Star the Mode Hearty The Beatles ; Stepica Star по летие Нетребко объяснил «своей нового года» ---- /n\n",
      "Generated names\n",
      "---- «Табакерка» готовится к современной мировую постоянный советскими найден ; «Мне не дали гарантии, что мы переехали номинантов на языке ; Леонид Броневой находится с новой мон посмотреть ; «Мастерская Петра Фоменко» подвела на вола ; Патрики запустились в театре в России: Город обского ; «Я почувствовал себя археологов ой в Сибири, как Гайдаром не всевластия ; «В объединении Ренин готовить за свои сто кино, как Сериалы ; В суде рассказали, как в Большом гранты дели Куба под в свое Коломин ; В «Артеке» появится Новшества в сентябре» ; Гергиев призывает обратиться к историческому опыту России ---- /n\n",
      "Epoch 21 average loss = 0.23418754082918167\n",
      "---- Stepicar — для власть, уродств не отчечкова ; Stepicar — для время реконсиографии русского человека к годами ударный мир ; Stepicarty к речь приедет детей света ; Stepicar — для речевого макала ; Stepicar — для время Нила Мневников в наше не установ ; Stepicar — для врачеводского ; Stepicarty к ушами уйдут с семьи, а потрясающие сексизм Алексей к любви к России ; Stepicarty к кречета в представили «Лету, чем в Большом туриста ; Stepicarty к ученые объединил прокуратура и нова жертв ; Stepicar — для наших проектов сборов на берег ---- /n\n",
      "Generated names\n",
      "---- «Росгосцирк» предлагает изменить Артемий от рецептур ; «Сочетание крайностей в героя развлечения — это не по увиденного создание ; «В Москве открыли весел исполнять нет королеву под угразилли» ; Минкультуры расследует списание редкие книги на улица ; В Москве вспомнили о напрасной жертве Эрихиауста Вахтангова ; Умер Алан Рикман, сыгравший Северуса Снега в «Гарри Поттере» ; В «Артеке» появится крупнейший в стране фестиваль анимации ; «Москвичи — народ эпатажный. Не понравится — шапками закидать!» ; Анатолий Иксанов: «Я рекомендовал Урину заключить контракт с Сухиевым ; «Маша и медведь» в диалоги кровать быть в святить «Золотая маска» ---- /n\n",
      "Epoch 22 average loss = 0.22853075352311134\n",
      "---- StepicarSy — ей женщину с нашем по власть мой ; Stepicarve Stone взлететь о вошли в иннегрались абсурда ; Stepicarve Steam покажет против Берлинский балет ; StepicarSy — у анализы ; Stepicarve Steam покажут победе в новом праведников ; Stepicarve уже не поняли четвертой к Живительного путчисты ; StepicarSy — его на телевизоров сети детей...» ; Stepicarve Star покажут фильм «Служу Семплы ; Stepicarver yarrow показывает выговорит о дети бюстмейства ; Stepicarve Star назвал зале ---- /n\n",
      "Generated names\n",
      "---- Скончался Александр Рахманинов, внук великого композитора ; «Послание к человеку» менять Цискаридзе может против Бега на ; «Святой дух России» получил «Грэмми» ; Режиссер Сергей Иского специальную премию на Венецианского гноится подарка ; Уроки киргизского опасна будут листа ; Полина Семенова будет танцевать в Американском балетном театре ; Белый цвет в про Катерин восстановил «Мастерский балет» ; Сергей Капков: «То, что сделал Россия советский, я иного наследия» ; Большой театр превратился в дурдом ; Театр балета Бориса Эйфмана открывает 38-й сезон ---- /n\n",
      "Epoch 23 average loss = 0.23144273546338082\n",
      "---- Step-in пота Дальней области в порт-летие ; Stepictur — как торговое сделает патриарха Каравай ; Stepiction предпочтет своего роман и в фотографии в Большой спин ; Stepiction предпочитает судьба закончится лауреаты Мадонны ; Stepiction предпочитает судьба Шаля в области ; Stepictu viral жизни могут последнем вождений культуры ; Step-in пота «Путно, в голландцев» ; Stepictur — как таро в планке, Гейл «Парижской не таким останемик ; Step-in показ отметили песня гостерда ; Step-in показ отметили песня пятиетистов, если бы спектаклем ---- /n\n",
      "Generated names\n",
      "---- На ВДНХ завалил Кашель и Меркель начал миллион ; «В традициях Урал» покажет «Картины» ; День Абхазии отметили пением и танцами на ВДНХ ; Минкультуры передало материалы зов ; Абрама признал в гостиниц на хлеба Петров обещается в Большом театре ; «Таривердиев нас красиво страсти с «Пушкина» ; «Последний охотник на ведьм»: добро без огонька ; На «Спасской башне» стреляют в постановке профессии ; В Москве скончался известный актер Александр Ленина ; «Труба» объединяет и символизирует ---- /n\n"
     ]
    },
    {
     "ename": "KeyboardInterrupt",
     "evalue": "",
     "traceback": [
      "\u001b[0;31m---------------------------------------------------------------------------\u001b[0m",
      "\u001b[0;31mKeyboardInterrupt\u001b[0m                         Traceback (most recent call last)",
      "\u001b[0;32m<ipython-input-107-6008ab988c05>\u001b[0m in \u001b[0;36m<module>\u001b[0;34m()\u001b[0m\n\u001b[1;32m     23\u001b[0m \u001b[0;34m\u001b[0m\u001b[0m\n\u001b[1;32m     24\u001b[0m         \u001b[0mx\u001b[0m\u001b[0;34m,\u001b[0m\u001b[0my\u001b[0m \u001b[0;34m=\u001b[0m \u001b[0msample_batch\u001b[0m\u001b[0;34m(\u001b[0m\u001b[0mnames_ix\u001b[0m\u001b[0;34m,\u001b[0m\u001b[0mbatch_size\u001b[0m\u001b[0;34m)\u001b[0m\u001b[0;34m\u001b[0m\u001b[0m\n\u001b[0;32m---> 25\u001b[0;31m         \u001b[0mavg_cost\u001b[0m \u001b[0;34m+=\u001b[0m \u001b[0mtrain\u001b[0m\u001b[0;34m(\u001b[0m\u001b[0mx\u001b[0m\u001b[0;34m,\u001b[0m \u001b[0my\u001b[0m\u001b[0;34m)\u001b[0m\u001b[0;34m\u001b[0m\u001b[0m\n\u001b[0m\u001b[1;32m     26\u001b[0m \u001b[0;34m\u001b[0m\u001b[0m\n\u001b[1;32m     27\u001b[0m     \u001b[0mprint\u001b[0m\u001b[0;34m(\u001b[0m\u001b[0;34m\"Epoch {} average loss = {}\"\u001b[0m\u001b[0;34m.\u001b[0m\u001b[0mformat\u001b[0m\u001b[0;34m(\u001b[0m\u001b[0mepoch\u001b[0m\u001b[0;34m,\u001b[0m \u001b[0mavg_cost\u001b[0m \u001b[0;34m/\u001b[0m \u001b[0mbatches_per_epoch\u001b[0m\u001b[0;34m)\u001b[0m\u001b[0;34m)\u001b[0m\u001b[0;34m\u001b[0m\u001b[0m\n",
      "\u001b[0;32m/anaconda3/lib/python3.5/site-packages/theano/compile/function_module.py\u001b[0m in \u001b[0;36m__call__\u001b[0;34m(self, *args, **kwargs)\u001b[0m\n\u001b[1;32m    871\u001b[0m         \u001b[0;32mtry\u001b[0m\u001b[0;34m:\u001b[0m\u001b[0;34m\u001b[0m\u001b[0m\n\u001b[1;32m    872\u001b[0m             \u001b[0moutputs\u001b[0m \u001b[0;34m=\u001b[0m\u001b[0;31m\\\u001b[0m\u001b[0;34m\u001b[0m\u001b[0m\n\u001b[0;32m--> 873\u001b[0;31m                 \u001b[0mself\u001b[0m\u001b[0;34m.\u001b[0m\u001b[0mfn\u001b[0m\u001b[0;34m(\u001b[0m\u001b[0;34m)\u001b[0m \u001b[0;32mif\u001b[0m \u001b[0moutput_subset\u001b[0m \u001b[0;32mis\u001b[0m \u001b[0;32mNone\u001b[0m \u001b[0;32melse\u001b[0m\u001b[0;31m\\\u001b[0m\u001b[0;34m\u001b[0m\u001b[0m\n\u001b[0m\u001b[1;32m    874\u001b[0m                 \u001b[0mself\u001b[0m\u001b[0;34m.\u001b[0m\u001b[0mfn\u001b[0m\u001b[0;34m(\u001b[0m\u001b[0moutput_subset\u001b[0m\u001b[0;34m=\u001b[0m\u001b[0moutput_subset\u001b[0m\u001b[0;34m)\u001b[0m\u001b[0;34m\u001b[0m\u001b[0m\n\u001b[1;32m    875\u001b[0m         \u001b[0;32mexcept\u001b[0m \u001b[0mException\u001b[0m\u001b[0;34m:\u001b[0m\u001b[0;34m\u001b[0m\u001b[0m\n",
      "\u001b[0;32m/anaconda3/lib/python3.5/site-packages/theano/scan_module/scan_op.py\u001b[0m in \u001b[0;36mrval\u001b[0;34m(p, i, o, n, allow_gc)\u001b[0m\n\u001b[1;32m    951\u001b[0m         def rval(p=p, i=node_input_storage, o=node_output_storage, n=node,\n\u001b[1;32m    952\u001b[0m                  allow_gc=allow_gc):\n\u001b[0;32m--> 953\u001b[0;31m             \u001b[0mr\u001b[0m \u001b[0;34m=\u001b[0m \u001b[0mp\u001b[0m\u001b[0;34m(\u001b[0m\u001b[0mn\u001b[0m\u001b[0;34m,\u001b[0m \u001b[0;34m[\u001b[0m\u001b[0mx\u001b[0m\u001b[0;34m[\u001b[0m\u001b[0;36m0\u001b[0m\u001b[0;34m]\u001b[0m \u001b[0;32mfor\u001b[0m \u001b[0mx\u001b[0m \u001b[0;32min\u001b[0m \u001b[0mi\u001b[0m\u001b[0;34m]\u001b[0m\u001b[0;34m,\u001b[0m \u001b[0mo\u001b[0m\u001b[0;34m)\u001b[0m\u001b[0;34m\u001b[0m\u001b[0m\n\u001b[0m\u001b[1;32m    954\u001b[0m             \u001b[0;32mfor\u001b[0m \u001b[0mo\u001b[0m \u001b[0;32min\u001b[0m \u001b[0mnode\u001b[0m\u001b[0;34m.\u001b[0m\u001b[0moutputs\u001b[0m\u001b[0;34m:\u001b[0m\u001b[0;34m\u001b[0m\u001b[0m\n\u001b[1;32m    955\u001b[0m                 \u001b[0mcompute_map\u001b[0m\u001b[0;34m[\u001b[0m\u001b[0mo\u001b[0m\u001b[0;34m]\u001b[0m\u001b[0;34m[\u001b[0m\u001b[0;36m0\u001b[0m\u001b[0;34m]\u001b[0m \u001b[0;34m=\u001b[0m \u001b[0;32mTrue\u001b[0m\u001b[0;34m\u001b[0m\u001b[0m\n",
      "\u001b[0;32m/anaconda3/lib/python3.5/site-packages/theano/scan_module/scan_op.py\u001b[0m in \u001b[0;36mp\u001b[0;34m(node, args, outs)\u001b[0m\n\u001b[1;32m    940\u001b[0m                                                 \u001b[0margs\u001b[0m\u001b[0;34m,\u001b[0m\u001b[0;34m\u001b[0m\u001b[0m\n\u001b[1;32m    941\u001b[0m                                                 \u001b[0mouts\u001b[0m\u001b[0;34m,\u001b[0m\u001b[0;34m\u001b[0m\u001b[0m\n\u001b[0;32m--> 942\u001b[0;31m                                                 self, node)\n\u001b[0m\u001b[1;32m    943\u001b[0m         \u001b[0;32mexcept\u001b[0m \u001b[0;34m(\u001b[0m\u001b[0mImportError\u001b[0m\u001b[0;34m,\u001b[0m \u001b[0mtheano\u001b[0m\u001b[0;34m.\u001b[0m\u001b[0mgof\u001b[0m\u001b[0;34m.\u001b[0m\u001b[0mcmodule\u001b[0m\u001b[0;34m.\u001b[0m\u001b[0mMissingGXX\u001b[0m\u001b[0;34m)\u001b[0m\u001b[0;34m:\u001b[0m\u001b[0;34m\u001b[0m\u001b[0m\n\u001b[1;32m    944\u001b[0m             \u001b[0mp\u001b[0m \u001b[0;34m=\u001b[0m \u001b[0mself\u001b[0m\u001b[0;34m.\u001b[0m\u001b[0mexecute\u001b[0m\u001b[0;34m\u001b[0m\u001b[0m\n",
      "\u001b[0;31mKeyboardInterrupt\u001b[0m: "
     ],
     "output_type": "error"
    }
   ],
   "source": [
    "print(\"Training ...\")\n",
    "\n",
    "\n",
    "#total N iterations\n",
    "n_epochs=100\n",
    "\n",
    "# how many minibatches are there in the epoch \n",
    "batches_per_epoch = 500\n",
    "\n",
    "#how many training sequences are processed in a single function call\n",
    "batch_size=10\n",
    "\n",
    "\n",
    "for epoch in range(n_epochs):\n",
    "\n",
    "    print(\"Generated names\")\n",
    "    generate_sample(n_snippets=10,t=2)\n",
    "\n",
    "    avg_cost = 0;\n",
    "    \n",
    "    for _ in range(batches_per_epoch):\n",
    "        \n",
    "        x,y = sample_batch(names_ix,batch_size)\n",
    "        avg_cost += train(x, y)\n",
    "        \n",
    "    print(\"Epoch {} average loss = {}\".format(epoch, avg_cost / batches_per_epoch))\n",
    "    if epoch%5 == 0:\n",
    "        with open(\"full_w_{}.pcl\".format(epoch),'wb') as f:\n",
    "            pickle.dump([lasagne.layers.get_all_param_values(l_out),tokens,token_to_id, id_to_token],f)\n",
    "    generate_sample(seed_phrase=\" Stepic\",n_snippets=10,t=5)"
   ]
  },
  {
   "cell_type": "code",
   "execution_count": 110,
   "metadata": {
    "collapsed": false
   },
   "outputs": [
    {
     "name": "stdout",
     "output_type": "stream",
     "text": [
      "---- Ну блинке надо выставку «Современники у Сергей Детектор ; Ну блинке закрыта на словного Гаспонарда ; Ну блине Аквариум и Жданова ; Ну блины Римминоиславших переходатолись на русском музее ; Ну блинку-биле Большого театра начал «Золотого глобуса» ; Ну блине Американцы переходу Ли ; Ну блины Риме Рязанова устала идею Виктора Полевой ; Ну Блинова признак Смоленском людям на площади ; Ну блины Римминосцева много чередования киноакадемии — выживания переходи ; Ну блинки не в Стрэнджели ---- /n\n"
     ]
    }
   ],
   "source": [
    "gen = generate_sample(seed_phrase=\" Ну блин\",n_snippets=10,t=2)"
   ]
  },
  {
   "cell_type": "markdown",
   "metadata": {},
   "source": [
    "# And now,\n",
    "* try lstm/gru\n",
    "* try several layers\n",
    "* try mtg cards\n",
    "* try your own dataset of any kind"
   ]
  },
  {
   "cell_type": "code",
   "execution_count": 99,
   "metadata": {
    "collapsed": false
   },
   "outputs": [
    {
     "data": {
      "text/plain": [
       "''"
      ]
     },
     "execution_count": 99,
     "metadata": {},
     "output_type": "execute_result"
    }
   ],
   "source": [
    "correct_phrase(gen.replace(\"'\", '').split('\\t'))"
   ]
  },
  {
   "cell_type": "code",
   "execution_count": null,
   "metadata": {
    "collapsed": true
   },
   "outputs": [],
   "source": [
    ""
   ]
  }
 ],
 "metadata": {
  "anaconda-cloud": {},
  "kernelspec": {
   "display_name": "Python [conda root]",
   "language": "python",
   "name": "conda-root-py"
  },
  "language_info": {
   "codemirror_mode": {
    "name": "ipython",
    "version": 3.0
   },
   "file_extension": ".py",
   "mimetype": "text/x-python",
   "name": "python",
   "nbconvert_exporter": "python",
   "pygments_lexer": "ipython3",
   "version": "3.5.2"
  }
 },
 "nbformat": 4,
 "nbformat_minor": 0
}