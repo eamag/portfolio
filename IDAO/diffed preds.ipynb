{
 "cells": [
  {
   "cell_type": "code",
   "execution_count": 1,
   "metadata": {
    "ExecuteTime": {
     "end_time": "2018-04-03T09:31:48.237170Z",
     "start_time": "2018-04-03T09:31:46.243690Z"
    }
   },
   "outputs": [],
   "source": [
    "%matplotlib inline\n",
    "from matplotlib import pyplot as plt \n",
    "import numpy as np\n",
    "import pandas as pd\n",
    "from datetime import datetime, timedelta\n",
    "\n",
    "train = pd.read_csv('train.csv.zip')\n",
    "train['DATE'] = pd.to_datetime(train['DATE'])\n",
    "\n",
    "# Unique ATMs\n",
    "ATM_IDs = train.ATM_ID.unique()\n",
    "\n",
    "# The dates to predict\n",
    "pred_dates  = ['2017-08-16', '2017-08-17', '2017-08-18', '2017-08-19',\n",
    "               '2017-08-20', '2017-08-21', '2017-08-22', '2017-08-23',\n",
    "               '2017-08-24', '2017-08-25', '2017-08-26', '2017-08-27',\n",
    "               '2017-08-28', '2017-08-29', '2017-08-30', '2017-08-31',\n",
    "               '2017-09-01', '2017-09-02', '2017-09-03', '2017-09-04',\n",
    "               '2017-09-05', '2017-09-06', '2017-09-07', '2017-09-08',\n",
    "               '2017-09-09', '2017-09-10', '2017-09-11', '2017-09-12',\n",
    "               '2017-09-13', '2017-09-14', '2017-09-15', '2017-09-16',\n",
    "               '2017-09-17']"
   ]
  },
  {
   "cell_type": "code",
   "execution_count": 2,
   "metadata": {
    "ExecuteTime": {
     "end_time": "2018-04-03T09:31:51.959736Z",
     "start_time": "2018-04-03T09:31:51.951724Z"
    }
   },
   "outputs": [],
   "source": [
    "valid_train_mask = (train.DATE < pd.to_datetime('2017-07-14')) & (train.DATE >= pd.to_datetime('2016-03-14'))\n",
    "valid_mask = train.DATE >= pd.to_datetime('2017-07-14')\n",
    "\n",
    "pre_valid_train_mask = (train.DATE < pd.to_datetime('2017-06-11')) & (train.DATE >= pd.to_datetime('2016-04-11'))\n",
    "pre_valid_mask = (train.DATE >= pd.to_datetime('2017-06-11')) & (train.DATE < pd.to_datetime('2017-07-14'))"
   ]
  },
  {
   "cell_type": "code",
   "execution_count": 3,
   "metadata": {
    "ExecuteTime": {
     "end_time": "2018-04-03T09:32:15.276927Z",
     "start_time": "2018-04-03T09:31:54.157289Z"
    }
   },
   "outputs": [],
   "source": [
    "def replace_week_ago(trainnine):\n",
    "    fist_q =  trainnine.CLIENT_OUT.quantile(0.9)\n",
    "    last_q = trainnine.CLIENT_OUT.quantile(0.1)\n",
    "    mask = (trainnine.CLIENT_OUT > fist_q) | (trainnine.CLIENT_OUT < last_q) \n",
    "    trainnine['mask'] = mask\n",
    "    trainnine['shifted'] = trainnine.CLIENT_OUT.shift(7)\n",
    "    trainnine.loc[mask,['CLIENT_OUT','shifted', ]] = trainnine.loc[mask,['shifted', 'CLIENT_OUT']].values\n",
    "    trainnine = trainnine.iloc[7:]\n",
    "    return trainnine[['DATE', \"ATM_ID\", 'CLIENT_OUT']]\n",
    "\n",
    "\n",
    "def apply_replace(train):\n",
    "    train2 = train.iloc[:0].copy()\n",
    "    ATM_IDs = train.ATM_ID.unique()\n",
    "    for ATM in ATM_IDs:\n",
    "        trainnine = train[(train.ATM_ID==ATM)].copy()\n",
    "        trainnine = replace_week_ago(trainnine)\n",
    "    #     print(trainnine.head())\n",
    "        train2 = pd.concat([train2, trainnine])\n",
    "    train = train2.copy()\n",
    "    del train2\n",
    "    return train\n",
    "\n",
    "train = apply_replace(train)\n",
    "train = apply_replace(train)\n"
   ]
  },
  {
   "cell_type": "code",
   "execution_count": 4,
   "metadata": {
    "ExecuteTime": {
     "end_time": "2018-04-03T09:32:15.495159Z",
     "start_time": "2018-04-03T09:32:15.282278Z"
    }
   },
   "outputs": [],
   "source": [
    "def time_preprocess(X):\n",
    "    X['DATE'] = pd.to_datetime(X['DATE'])\n",
    "#     X['year'] = X['DATE'].dt.year\n",
    "    X['month'] = X['DATE'].dt.month \n",
    "    X['week'] = X['DATE'].dt.week\n",
    "    X['day'] = X['DATE'].dt.day\n",
    "    X['week_day'] = X['DATE'].dt.weekday\n",
    "    return X\n",
    "train = time_preprocess(train)"
   ]
  },
  {
   "cell_type": "code",
   "execution_count": 5,
   "metadata": {
    "ExecuteTime": {
     "end_time": "2018-04-03T09:32:15.510986Z",
     "start_time": "2018-04-03T09:32:15.500149Z"
    }
   },
   "outputs": [],
   "source": [
    "def score_series(y_true, y_pred):\n",
    "    \"\"\"\n",
    "        Expects y_true and y_pred to be 1d arrays of the same lenght\n",
    "    \"\"\"\n",
    "    return np.mean(np.abs(y_true - y_pred))/np.mean(np.abs(y_true))*10000\n"
   ]
  },
  {
   "cell_type": "code",
   "execution_count": 6,
   "metadata": {
    "ExecuteTime": {
     "end_time": "2018-04-03T09:32:15.624271Z",
     "start_time": "2018-04-03T09:32:15.516656Z"
    }
   },
   "outputs": [],
   "source": [
    "def add_feats(train):\n",
    "    train['day_ago'] = train.CLIENT_OUT.shift(1)\n",
    "    train['two_days_ago'] = train.CLIENT_OUT.shift(2)\n",
    "    train['week_ago'] = train.CLIENT_OUT.shift(7)\n",
    "    train['month_ago'] = train.CLIENT_OUT.shift(30)\n",
    "    train['day_diff'] = train.CLIENT_OUT - train.day_ago\n",
    "    train['day_diff_day_ago'] = train.day_ago - train.two_days_ago\n",
    "    train = train.iloc[30:].copy()\n",
    "    return train"
   ]
  },
  {
   "cell_type": "code",
   "execution_count": 7,
   "metadata": {
    "ExecuteTime": {
     "end_time": "2018-04-03T09:32:16.465869Z",
     "start_time": "2018-04-03T09:32:15.630102Z"
    }
   },
   "outputs": [],
   "source": [
    "import lightgbm as lgb\n",
    "\n",
    "\n",
    "def validate_lgb(X_train, y_train, X_valid, y_valid):\n",
    "    \n",
    "    \n",
    "    d1 = lgb.Dataset(X_train, y_train, weight=np.linspace(0.5, 1, X_train.shape[0]))\n",
    "    d2 = lgb.Dataset(X_valid, y_valid)\n",
    "    \n",
    "    params = {\n",
    "        'objective':'regression',    \n",
    "        'metric': 'l1', \n",
    "        'learning_rate': 0.5,\n",
    "        'random_state':42,\n",
    "        'verbose':-1,\n",
    "        'boosting':'dart',\n",
    "        #'min_data':1, 'min_data_in_bin':1\n",
    "    }\n",
    "    \n",
    "    gbm = lgb.train(params, d1, verbose_eval=-1, valid_sets=d2, \n",
    "                    num_boost_round=50000, early_stopping_rounds=100)\n",
    "    \n",
    "    y_hat = gbm.predict(X_valid)\n",
    "    opt_boost_rounds = gbm.best_iteration\n",
    "    \n",
    "    return y_hat\n"
   ]
  },
  {
   "cell_type": "code",
   "execution_count": 11,
   "metadata": {
    "ExecuteTime": {
     "end_time": "2018-04-03T09:39:56.527067Z",
     "start_time": "2018-04-03T09:39:39.791430Z"
    },
    "scrolled": true
   },
   "outputs": [
    {
     "name": "stdout",
     "output_type": "stream",
     "text": [
      "     ATM_ID  CLIENT_OUT  month  week  day  week_day   day_ago  two_days_ago  \\\n",
      "891       0    424100.0      6    23   10         5  380100.0      656600.0   \n",
      "\n",
      "     week_ago  month_ago  day_diff  day_diff_day_ago  \n",
      "891  368300.0   490900.0   44000.0         -276500.0  \n",
      "Training until validation scores don't improve for 100 rounds.\n"
     ]
    },
    {
     "ename": "KeyboardInterrupt",
     "evalue": "",
     "output_type": "error",
     "traceback": [
      "\u001b[0;31m---------------------------------------------------------------------------\u001b[0m",
      "\u001b[0;31mKeyboardInterrupt\u001b[0m                         Traceback (most recent call last)",
      "\u001b[0;32m<ipython-input-11-636f91242b85>\u001b[0m in \u001b[0;36m<module>\u001b[0;34m()\u001b[0m\n\u001b[1;32m     18\u001b[0m     \u001b[0mx_valid\u001b[0m \u001b[0;34m=\u001b[0m \u001b[0mtrain1\u001b[0m\u001b[0;34m[\u001b[0m\u001b[0mvalid_train_mask\u001b[0m\u001b[0;34m]\u001b[0m\u001b[0;34m.\u001b[0m\u001b[0mdrop\u001b[0m\u001b[0;34m(\u001b[0m\u001b[0;34m[\u001b[0m\u001b[0;34m'CLIENT_OUT'\u001b[0m\u001b[0;34m,\u001b[0m \u001b[0;34m'day_diff'\u001b[0m\u001b[0;34m]\u001b[0m\u001b[0;34m,\u001b[0m \u001b[0maxis\u001b[0m\u001b[0;34m=\u001b[0m\u001b[0;36m1\u001b[0m\u001b[0;34m)\u001b[0m\u001b[0;34m\u001b[0m\u001b[0m\n\u001b[1;32m     19\u001b[0m \u001b[0;34m\u001b[0m\u001b[0m\n\u001b[0;32m---> 20\u001b[0;31m     \u001b[0my_pred\u001b[0m \u001b[0;34m=\u001b[0m \u001b[0mvalidate_lgb\u001b[0m\u001b[0;34m(\u001b[0m\u001b[0mx_train\u001b[0m\u001b[0;34m,\u001b[0m \u001b[0my_train\u001b[0m\u001b[0;34m,\u001b[0m \u001b[0mx_valid\u001b[0m\u001b[0;34m,\u001b[0m \u001b[0my_valid\u001b[0m\u001b[0;34m)\u001b[0m\u001b[0;34m\u001b[0m\u001b[0m\n\u001b[0m\u001b[1;32m     21\u001b[0m \u001b[0;34m\u001b[0m\u001b[0m\n\u001b[1;32m     22\u001b[0m     \u001b[0mprint\u001b[0m\u001b[0;34m(\u001b[0m\u001b[0matm\u001b[0m\u001b[0;34m,\u001b[0m \u001b[0mscore_series\u001b[0m\u001b[0;34m(\u001b[0m\u001b[0my_valid\u001b[0m\u001b[0;34m,\u001b[0m \u001b[0my_pred\u001b[0m\u001b[0;34m)\u001b[0m\u001b[0;34m)\u001b[0m\u001b[0;34m\u001b[0m\u001b[0m\n",
      "\u001b[0;32m<ipython-input-7-ff45373b5abe>\u001b[0m in \u001b[0;36mvalidate_lgb\u001b[0;34m(X_train, y_train, X_valid, y_valid)\u001b[0m\n\u001b[1;32m     19\u001b[0m \u001b[0;34m\u001b[0m\u001b[0m\n\u001b[1;32m     20\u001b[0m     gbm = lgb.train(params, d1, verbose_eval=-1, valid_sets=d2, \n\u001b[0;32m---> 21\u001b[0;31m                     num_boost_round=50000, early_stopping_rounds=100)\n\u001b[0m\u001b[1;32m     22\u001b[0m \u001b[0;34m\u001b[0m\u001b[0m\n\u001b[1;32m     23\u001b[0m     \u001b[0my_hat\u001b[0m \u001b[0;34m=\u001b[0m \u001b[0mgbm\u001b[0m\u001b[0;34m.\u001b[0m\u001b[0mpredict\u001b[0m\u001b[0;34m(\u001b[0m\u001b[0mX_valid\u001b[0m\u001b[0;34m)\u001b[0m\u001b[0;34m\u001b[0m\u001b[0m\n",
      "\u001b[0;32m~/.pyenv/versions/3.6.0/envs/general/lib/python3.6/site-packages/lightgbm/engine.py\u001b[0m in \u001b[0;36mtrain\u001b[0;34m(params, train_set, num_boost_round, valid_sets, valid_names, fobj, feval, init_model, feature_name, categorical_feature, early_stopping_rounds, evals_result, verbose_eval, learning_rates, keep_training_booster, callbacks)\u001b[0m\n\u001b[1;32m    199\u001b[0m                                     evaluation_result_list=None))\n\u001b[1;32m    200\u001b[0m \u001b[0;34m\u001b[0m\u001b[0m\n\u001b[0;32m--> 201\u001b[0;31m         \u001b[0mbooster\u001b[0m\u001b[0;34m.\u001b[0m\u001b[0mupdate\u001b[0m\u001b[0;34m(\u001b[0m\u001b[0mfobj\u001b[0m\u001b[0;34m=\u001b[0m\u001b[0mfobj\u001b[0m\u001b[0;34m)\u001b[0m\u001b[0;34m\u001b[0m\u001b[0m\n\u001b[0m\u001b[1;32m    202\u001b[0m \u001b[0;34m\u001b[0m\u001b[0m\n\u001b[1;32m    203\u001b[0m         \u001b[0mevaluation_result_list\u001b[0m \u001b[0;34m=\u001b[0m \u001b[0;34m[\u001b[0m\u001b[0;34m]\u001b[0m\u001b[0;34m\u001b[0m\u001b[0m\n",
      "\u001b[0;32m~/.pyenv/versions/3.6.0/envs/general/lib/python3.6/site-packages/lightgbm/basic.py\u001b[0m in \u001b[0;36mupdate\u001b[0;34m(self, train_set, fobj)\u001b[0m\n\u001b[1;32m   1519\u001b[0m             _safe_call(_LIB.LGBM_BoosterUpdateOneIter(\n\u001b[1;32m   1520\u001b[0m                 \u001b[0mself\u001b[0m\u001b[0;34m.\u001b[0m\u001b[0mhandle\u001b[0m\u001b[0;34m,\u001b[0m\u001b[0;34m\u001b[0m\u001b[0m\n\u001b[0;32m-> 1521\u001b[0;31m                 ctypes.byref(is_finished)))\n\u001b[0m\u001b[1;32m   1522\u001b[0m             \u001b[0mself\u001b[0m\u001b[0;34m.\u001b[0m\u001b[0m__is_predicted_cur_iter\u001b[0m \u001b[0;34m=\u001b[0m \u001b[0;34m[\u001b[0m\u001b[0;32mFalse\u001b[0m \u001b[0;32mfor\u001b[0m \u001b[0m_\u001b[0m \u001b[0;32min\u001b[0m \u001b[0mrange_\u001b[0m\u001b[0;34m(\u001b[0m\u001b[0mself\u001b[0m\u001b[0;34m.\u001b[0m\u001b[0m__num_dataset\u001b[0m\u001b[0;34m)\u001b[0m\u001b[0;34m]\u001b[0m\u001b[0;34m\u001b[0m\u001b[0m\n\u001b[1;32m   1523\u001b[0m             \u001b[0;32mreturn\u001b[0m \u001b[0mis_finished\u001b[0m\u001b[0;34m.\u001b[0m\u001b[0mvalue\u001b[0m \u001b[0;34m==\u001b[0m \u001b[0;36m1\u001b[0m\u001b[0;34m\u001b[0m\u001b[0m\n",
      "\u001b[0;31mKeyboardInterrupt\u001b[0m: "
     ]
    }
   ],
   "source": [
    "for atm in ATM_IDs[:50]:\n",
    "    train1 = train[train['ATM_ID'] == atm].copy()\n",
    "    train1 = add_feats(train1)\n",
    "    \n",
    "    valid_train_mask = (train1.DATE < pd.to_datetime('2017-07-14')) & (train1.DATE >= pd.to_datetime('2016-03-14'))\n",
    "    valid_mask = train1.DATE >= pd.to_datetime('2017-07-14')\n",
    "\n",
    "    pre_valid_train_mask = (train1.DATE < pd.to_datetime('2017-06-11')) & (train1.DATE >= pd.to_datetime('2016-04-11'))\n",
    "    pre_valid_mask = (train1.DATE >= pd.to_datetime('2017-06-11')) & (train1.DATE < pd.to_datetime('2017-07-14'))\n",
    "    \n",
    "    train1.drop('DATE', axis=1, inplace=True)\n",
    "    \n",
    "    y_train = train1[pre_valid_train_mask].day_diff\n",
    "    last_client = train1[pre_valid_train_mask].CLIENT_OUT.iloc[-1:]\n",
    "    x_train = train1[pre_valid_train_mask].drop(['CLIENT_OUT', 'day_diff'], axis=1)\n",
    "    \n",
    "    y_valid = train1[valid_train_mask].day_diff\n",
    "    y_valid_client = train1[valid_train_mask].CLIENT_OUT\n",
    "    x_valid = train1[valid_train_mask].drop(['CLIENT_OUT', 'day_diff'], axis=1)\n",
    "\n",
    "    y_pred = validate_lgb(x_train, y_train, x_valid, y_valid)\n",
    "    \n",
    "    print(atm, score_series(y_valid, y_pred))"
   ]
  },
  {
   "cell_type": "code",
   "execution_count": null,
   "metadata": {},
   "outputs": [],
   "source": []
  }
 ],
 "metadata": {
  "kernelspec": {
   "display_name": "Python 3",
   "language": "python",
   "name": "python3"
  },
  "language_info": {
   "codemirror_mode": {
    "name": "ipython",
    "version": 3
   },
   "file_extension": ".py",
   "mimetype": "text/x-python",
   "name": "python",
   "nbconvert_exporter": "python",
   "pygments_lexer": "ipython3",
   "version": "3.6.0"
  }
 },
 "nbformat": 4,
 "nbformat_minor": 2
}
