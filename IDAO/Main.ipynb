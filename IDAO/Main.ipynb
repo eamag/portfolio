{
 "cells": [
  {
   "cell_type": "markdown",
   "metadata": {},
   "source": [
    "The task is to choose exactly 53,979 users (user_id, 5% of all users in the dataset) and for each select ﬁve third-level product categories (id3) that they have not viewed in the last three weeks and which will be of interest to them in the next seven days. The resulting score is based on the number of users for which at least one product category is correctly nominated. Accurate predictions of two or more categories for one user will not improve your score."
   ]
  },
  {
   "cell_type": "code",
   "execution_count": 1,
   "metadata": {
    "ExecuteTime": {
     "end_time": "2018-02-07T15:37:35.156001Z",
     "start_time": "2018-02-07T15:37:19.010207Z"
    },
    "hide_input": false
   },
   "outputs": [
    {
     "data": {
      "text/html": [
       "<div>\n",
       "<style scoped>\n",
       "    .dataframe tbody tr th:only-of-type {\n",
       "        vertical-align: middle;\n",
       "    }\n",
       "\n",
       "    .dataframe tbody tr th {\n",
       "        vertical-align: top;\n",
       "    }\n",
       "\n",
       "    .dataframe thead th {\n",
       "        text-align: right;\n",
       "    }\n",
       "</style>\n",
       "<table border=\"1\" class=\"dataframe\">\n",
       "  <thead>\n",
       "    <tr style=\"text-align: right;\">\n",
       "      <th></th>\n",
       "      <th>id3</th>\n",
       "      <th>user_id</th>\n",
       "      <th>id2</th>\n",
       "      <th>date</th>\n",
       "      <th>id1</th>\n",
       "    </tr>\n",
       "  </thead>\n",
       "  <tbody>\n",
       "    <tr>\n",
       "      <th>46996823</th>\n",
       "      <td>69</td>\n",
       "      <td>44533</td>\n",
       "      <td>71</td>\n",
       "      <td>54</td>\n",
       "      <td>15</td>\n",
       "    </tr>\n",
       "    <tr>\n",
       "      <th>46996824</th>\n",
       "      <td>145</td>\n",
       "      <td>575754</td>\n",
       "      <td>37</td>\n",
       "      <td>54</td>\n",
       "      <td>6</td>\n",
       "    </tr>\n",
       "    <tr>\n",
       "      <th>46996825</th>\n",
       "      <td>333</td>\n",
       "      <td>608981</td>\n",
       "      <td>117</td>\n",
       "      <td>54</td>\n",
       "      <td>10</td>\n",
       "    </tr>\n",
       "    <tr>\n",
       "      <th>46996826</th>\n",
       "      <td>283</td>\n",
       "      <td>69644</td>\n",
       "      <td>85</td>\n",
       "      <td>54</td>\n",
       "      <td>7</td>\n",
       "    </tr>\n",
       "    <tr>\n",
       "      <th>46996827</th>\n",
       "      <td>142</td>\n",
       "      <td>348032</td>\n",
       "      <td>103</td>\n",
       "      <td>54</td>\n",
       "      <td>8</td>\n",
       "    </tr>\n",
       "  </tbody>\n",
       "</table>\n",
       "</div>"
      ],
      "text/plain": [
       "          id3  user_id  id2  date  id1\n",
       "46996823   69    44533   71    54   15\n",
       "46996824  145   575754   37    54    6\n",
       "46996825  333   608981  117    54   10\n",
       "46996826  283    69644   85    54    7\n",
       "46996827  142   348032  103    54    8"
      ]
     },
     "execution_count": 1,
     "metadata": {},
     "output_type": "execute_result"
    }
   ],
   "source": [
    "import numpy as np\n",
    "import pandas as pd\n",
    "import scipy.sparse\n",
    "import matplotlib.pyplot as plt\n",
    "%matplotlib inline\n",
    "\n",
    "# Custom metric is implemented here\n",
    "from scorer import scorer\n",
    "from tqdm import tqdm\n",
    "from joblib import Parallel, delayed\n",
    "from sklearn.linear_model import LogisticRegression\n",
    "\n",
    "# Load data\n",
    "\n",
    "# Use custom dtypes for efficiency\n",
    "dtypes = {'id1': np.int16, 'id2': np.int16, 'id3': np.int16, 'user_id': np.int32, 'date': np.int16}\n",
    "\n",
    "train = pd.read_csv('train.csv.zip', dtype=dtypes)\n",
    "train.tail(5)"
   ]
  },
  {
   "cell_type": "code",
   "execution_count": 2,
   "metadata": {
    "ExecuteTime": {
     "end_time": "2018-02-08T18:07:47.229775Z",
     "start_time": "2018-02-08T18:07:17.194057Z"
    }
   },
   "outputs": [],
   "source": [
    "import time\n",
    "time.sleep(30)"
   ]
  },
  {
   "cell_type": "code",
   "execution_count": 2,
   "metadata": {
    "ExecuteTime": {
     "end_time": "2018-02-07T15:37:37.694260Z",
     "start_time": "2018-02-07T15:37:35.157164Z"
    }
   },
   "outputs": [
    {
     "name": "stdout",
     "output_type": "stream",
     "text": [
      "id3 924\n",
      "user_id 1079572\n",
      "id2 122\n",
      "date [1, 2, 3, 4, 5, 6, 7, 8, 9, 10, 11, 12, 13, 14, 15, 16, 17, 18, 19, 20, 21, 22, 23, 24, 25, 26, 27, 28, 29, 30, 31, 32, 33, 34, 35, 36, 37, 38, 39, 40, 41, 42, 43, 44, 45, 46, 47, 48, 49, 50, 51, 52, 53, 54]\n",
      "id1 [0, 1, 2, 3, 4, 5, 6, 7, 8, 9, 10, 11, 12, 13, 14, 15]\n"
     ]
    }
   ],
   "source": [
    "\n",
    "for column in train.columns:\n",
    "    if train[column].nunique() < 60:\n",
    "        print(column, sorted(train[column].unique()))\n",
    "    else:\n",
    "        print(column, train[column].nunique())"
   ]
  },
  {
   "cell_type": "code",
   "execution_count": 3,
   "metadata": {
    "ExecuteTime": {
     "end_time": "2018-02-07T15:37:39.286754Z",
     "start_time": "2018-02-07T15:37:37.696580Z"
    }
   },
   "outputs": [],
   "source": [
    "date_validation_start = train.date.max() - 6\n",
    "\n",
    "def calculate_target(data, date_test_start):\n",
    "    '''\n",
    "        This function returns a dictionary of type {user: items_list}\n",
    "        Such that user viewed an item in testing period, \n",
    "        but did not view it within the last 3 weeks of train period.\n",
    "    '''\n",
    "    \n",
    "    test_mask = (data.date >= date_test_start) & (data.date < date_test_start + 7)\n",
    "    last_3weeks_mask = (data.date >= date_test_start - 21 + 1) & (data.date < date_test_start)\n",
    "    \n",
    "    # Items that used viewed during test period\n",
    "    items_test = data[test_mask].groupby('user_id').id3.apply(set)\n",
    "    \n",
    "    # Items, that user viewd in last 3 weeks\n",
    "    user_last_3weeks = data[last_3weeks_mask].groupby('user_id').id3.apply(set)\n",
    "    \n",
    "    # Get table, where for each `user_id` we have both items from test period and 3 weeks\n",
    "    joined = items_test.reset_index().merge(user_last_3weeks.reset_index(), on=['user_id'], how='left')\n",
    "    joined.set_index('user_id', inplace=True)\n",
    "    \n",
    "    # Remove the items, which the user viewed during last 3 weeks \n",
    "    target = {}\n",
    "    for user_id, (id3_x, id3_y) in joined.iterrows():   \n",
    "        items = id3_x if id3_y is np.nan else id3_x - id3_y\n",
    "        if items != set(): target.update({user_id: items})\n",
    "\n",
    "    return target\n",
    "\n",
    "# This function may take several minutes to finish\n",
    "# y_val_dict = calculate_target(train, date_validation_start)\n",
    "# np.save('y_val_dict', y_val_dict)\n",
    "y_val_dict = np.load('y_val_dict.npy').item()\n"
   ]
  },
  {
   "cell_type": "markdown",
   "metadata": {},
   "source": [
    "## Ideas for features:\n",
    "\n",
    "* id2 id3 for last 3 weeks\n",
    "* all past history\n",
    "* https://official.contest.yandex.com/idao/contest/6919/\n",
    "\n",
    "## Todo:\n",
    "\n",
    "* ~~is there correlation between id2 and no picks in id3~~\n",
    "* ~~predict id1, then id2, only then id3~~\n",
    "* ~~https://github.com/Microsoft/LightGBM/blob/master/docs/Parameters.rst~~\n",
    "* https://github.com/apple/turicreate/blob/master/userguide/recommender/README.md\n",
    "* neural nets\n",
    "* https://www.kaggle.com/gspmoreira/recommender-systems-in-python-101\n"
   ]
  },
  {
   "cell_type": "code",
   "execution_count": 4,
   "metadata": {
    "ExecuteTime": {
     "end_time": "2018-02-07T15:37:39.408752Z",
     "start_time": "2018-02-07T15:37:39.287954Z"
    }
   },
   "outputs": [],
   "source": [
    "num = 53979\n",
    "# # Let's take not random users, but the ones who viewed a lot \n",
    "mask_train = (train.date < date_validation_start - 7) & (train.date > date_validation_start - 7*4)\n",
    "mask_test = (train.date < date_validation_start) & (train.date >= date_validation_start - 7*3)\n",
    "\n",
    "# users = train.loc[mask_test].user_id.value_counts().index[:num]\n",
    "# mask_users = train.user_id.isin(users)\n",
    "\n",
    "# mask_train = mask_train & mask_users\n",
    "# mask_test = mask_test & mask_users"
   ]
  },
  {
   "cell_type": "code",
   "execution_count": 5,
   "metadata": {
    "ExecuteTime": {
     "end_time": "2018-02-07T15:39:07.123261Z",
     "start_time": "2018-02-07T15:37:39.409859Z"
    }
   },
   "outputs": [
    {
     "name": "stderr",
     "output_type": "stream",
     "text": [
      "100%|██████████| 1179572/1179572 [00:00<00:00, 1421805.48it/s]\n",
      "100%|██████████| 1179572/1179572 [00:00<00:00, 1498985.79it/s]\n"
     ]
    }
   ],
   "source": [
    "\n",
    "def get_feats(data):\n",
    "    '''\n",
    "        Builds sparse matrix using users' history.\n",
    "    '''\n",
    "    return scipy.sparse.coo_matrix(([1] * data.shape[0], (data.user_id, data.id3)), \n",
    "                                    shape =[data.user_id.max()+1, data.id3.max()+1]).tocsr()\n",
    "\n",
    "def get_target_matrix(X, target_dict):\n",
    "    '''\n",
    "        Builds sparse matrix using dictionary.\n",
    "    '''\n",
    "    indptr = [0]\n",
    "    indices = []\n",
    "    data = []\n",
    "    vocabulary = {}\n",
    "\n",
    "    ks = []\n",
    "    for k in tqdm(range(X.user_id.max()+1)):\n",
    "        d = target_dict.get(k, [])\n",
    "        for y in d:\n",
    "            indices.append(y)\n",
    "            data.append(1)\n",
    "        indptr.append(len(indices))\n",
    "    return scipy.sparse.csr_matrix((data, indices, indptr), dtype=int, shape =[X.user_id.max()+1, X.id3.max()+1])\n",
    "\n",
    "X_train = get_feats(train.loc[mask_train])\n",
    "X_test = get_feats(train.loc[mask_test])\n",
    "\n",
    "y_train_dict = calculate_target(train, date_validation_start - 7)\n",
    "y_train = get_target_matrix(train.loc[mask_train], y_train_dict)\n",
    "y_test = get_target_matrix(train.loc[mask_test], y_val_dict)"
   ]
  },
  {
   "cell_type": "code",
   "execution_count": 6,
   "metadata": {
    "ExecuteTime": {
     "end_time": "2018-02-07T15:39:07.126808Z",
     "start_time": "2018-02-07T15:39:07.124367Z"
    }
   },
   "outputs": [],
   "source": [
    "# # del Y_test, Y_train\n",
    "# Y_train = np.ndarray((1179572))\n",
    "# for key in tqdm(y_train_dict):\n",
    "#     Y_train[key] = len(y_train_dict[key])\n",
    "\n",
    "# Y_test = np.ndarray((1179572))\n",
    "# for key in tqdm(y_val_dict):\n",
    "#     Y_test[key] = len(y_val_dict[key])\n",
    "\n",
    "# Y_train = Y_train.astype('int32')\n",
    "# Y_test = Y_test.astype('int32')\n",
    "\n",
    "\n",
    "# import lightgbm as lgb\n",
    "\n",
    "# verbose = 1\n",
    "# plot = 1\n",
    "# params = {\n",
    "# #     \"max_bin\": 1024,\n",
    "# #     \"learning_rate\": 0.1,\n",
    "#     \"boosting_type\": \"goss\",\n",
    "#     \"objective\": \"regression\",\n",
    "# #     'num_iterations':1000,\n",
    "# #     \"metric\": \"auc\",\n",
    "#     \"num_leaves\": 10000,\n",
    "#     \"verbose\": 1,\n",
    "# #     \"min_data\": 100,\n",
    "# #     \"boost_from_average\": True\n",
    "# }\n",
    "\n",
    "# d_train = lgb.Dataset(X_train.toarray(), Y_train)\n",
    "# # d_valid = lgb.Dataset(X_test, label=y_test)\n",
    "# model = lgb.train(params, d_train)\n",
    "\n",
    "\n",
    "# model.save_model('regressin')\n",
    "\n",
    "# y_pred = model.predict(X_test.toarray())\n",
    "# from sklearn.metrics import mean_squared_error\n",
    "# # print(roc_auc_score(y_test.values, y_pred))\n",
    "# print(mean_squared_error(y_pred ,Y_test)**0.5)\n",
    "\n",
    "# df_fi = pd.DataFrame(model.feature_name(), columns=['feature'])\n",
    "# df_fi['importance'] = list(model.feature_importance('gain'))\n",
    "# df_fi.sort_values('importance', ascending=False, inplace=True)\n",
    "# # print(df_fi)\n",
    "# if plot:\n",
    "#     plt.figure()\n",
    "#     df_fi.head(10).plot(kind='barh', x='feature', y='importance')\n",
    "#     plt.title('LightGBM Feature Importance')\n",
    "#     plt.xlabel('relative importance')\n",
    "#     plt.show()\n",
    "\n",
    "# idx = (y_pred).argsort()[:53979]\n",
    "# idx # ids to test main task"
   ]
  },
  {
   "cell_type": "code",
   "execution_count": 10,
   "metadata": {
    "ExecuteTime": {
     "end_time": "2018-02-07T15:39:54.558243Z",
     "start_time": "2018-02-07T15:39:07.550725Z"
    }
   },
   "outputs": [],
   "source": [
    "# %who\n",
    "# del y_train_np\n",
    "\n",
    "y_train_np = y_train.toarray().ravel()\n",
    "X_train_np = X_train.toarray()\n"
   ]
  },
  {
   "cell_type": "code",
   "execution_count": 11,
   "metadata": {
    "ExecuteTime": {
     "end_time": "2018-02-07T15:45:26.188925Z",
     "start_time": "2018-02-07T15:39:55.116998Z"
    }
   },
   "outputs": [
    {
     "ename": "LightGBMError",
     "evalue": "b'len of label is not same with #data'",
     "output_type": "error",
     "traceback": [
      "\u001b[0;31m---------------------------------------------------------------------------\u001b[0m",
      "\u001b[0;31mLightGBMError\u001b[0m                             Traceback (most recent call last)",
      "\u001b[0;32m<ipython-input-11-e42f29e98a2a>\u001b[0m in \u001b[0;36m<module>\u001b[0;34m()\u001b[0m\n\u001b[1;32m     18\u001b[0m \u001b[0;34m\u001b[0m\u001b[0m\n\u001b[1;32m     19\u001b[0m \u001b[0md_train\u001b[0m \u001b[0;34m=\u001b[0m \u001b[0mlgb\u001b[0m\u001b[0;34m.\u001b[0m\u001b[0mDataset\u001b[0m\u001b[0;34m(\u001b[0m\u001b[0mX_train_np\u001b[0m\u001b[0;34m,\u001b[0m \u001b[0mlabel\u001b[0m\u001b[0;34m=\u001b[0m\u001b[0my_train_np\u001b[0m\u001b[0;34m)\u001b[0m\u001b[0;34m\u001b[0m\u001b[0m\n\u001b[0;32m---> 20\u001b[0;31m \u001b[0mmodel\u001b[0m \u001b[0;34m=\u001b[0m \u001b[0mlgb\u001b[0m\u001b[0;34m.\u001b[0m\u001b[0mtrain\u001b[0m\u001b[0;34m(\u001b[0m\u001b[0mparams\u001b[0m\u001b[0;34m,\u001b[0m \u001b[0md_train\u001b[0m\u001b[0;34m)\u001b[0m\u001b[0;34m\u001b[0m\u001b[0m\n\u001b[0m\u001b[1;32m     21\u001b[0m \u001b[0;34m\u001b[0m\u001b[0m\n\u001b[1;32m     22\u001b[0m \u001b[0;31m# model = lgb.LGBMClassifier(objective='multiclass', num_class=931, verbose=1)\u001b[0m\u001b[0;34m\u001b[0m\u001b[0;34m\u001b[0m\u001b[0m\n",
      "\u001b[0;32m~/.pyenv/versions/3.6.0/envs/general/lib/python3.6/site-packages/lightgbm/engine.py\u001b[0m in \u001b[0;36mtrain\u001b[0;34m(params, train_set, num_boost_round, valid_sets, valid_names, fobj, feval, init_model, feature_name, categorical_feature, early_stopping_rounds, evals_result, verbose_eval, learning_rates, keep_training_booster, callbacks)\u001b[0m\n\u001b[1;32m    176\u001b[0m     \u001b[0;31m# construct booster\u001b[0m\u001b[0;34m\u001b[0m\u001b[0;34m\u001b[0m\u001b[0m\n\u001b[1;32m    177\u001b[0m     \u001b[0;32mtry\u001b[0m\u001b[0;34m:\u001b[0m\u001b[0;34m\u001b[0m\u001b[0m\n\u001b[0;32m--> 178\u001b[0;31m         \u001b[0mbooster\u001b[0m \u001b[0;34m=\u001b[0m \u001b[0mBooster\u001b[0m\u001b[0;34m(\u001b[0m\u001b[0mparams\u001b[0m\u001b[0;34m=\u001b[0m\u001b[0mparams\u001b[0m\u001b[0;34m,\u001b[0m \u001b[0mtrain_set\u001b[0m\u001b[0;34m=\u001b[0m\u001b[0mtrain_set\u001b[0m\u001b[0;34m)\u001b[0m\u001b[0;34m\u001b[0m\u001b[0m\n\u001b[0m\u001b[1;32m    179\u001b[0m         \u001b[0;32mif\u001b[0m \u001b[0mis_valid_contain_train\u001b[0m\u001b[0;34m:\u001b[0m\u001b[0;34m\u001b[0m\u001b[0m\n\u001b[1;32m    180\u001b[0m             \u001b[0mbooster\u001b[0m\u001b[0;34m.\u001b[0m\u001b[0mset_train_data_name\u001b[0m\u001b[0;34m(\u001b[0m\u001b[0mtrain_data_name\u001b[0m\u001b[0;34m)\u001b[0m\u001b[0;34m\u001b[0m\u001b[0m\n",
      "\u001b[0;32m~/.pyenv/versions/3.6.0/envs/general/lib/python3.6/site-packages/lightgbm/basic.py\u001b[0m in \u001b[0;36m__init__\u001b[0;34m(self, params, train_set, model_file, silent)\u001b[0m\n\u001b[1;32m   1292\u001b[0m             \u001b[0mself\u001b[0m\u001b[0;34m.\u001b[0m\u001b[0mhandle\u001b[0m \u001b[0;34m=\u001b[0m \u001b[0mctypes\u001b[0m\u001b[0;34m.\u001b[0m\u001b[0mc_void_p\u001b[0m\u001b[0;34m(\u001b[0m\u001b[0;34m)\u001b[0m\u001b[0;34m\u001b[0m\u001b[0m\n\u001b[1;32m   1293\u001b[0m             _safe_call(_LIB.LGBM_BoosterCreate(\n\u001b[0;32m-> 1294\u001b[0;31m                 \u001b[0mtrain_set\u001b[0m\u001b[0;34m.\u001b[0m\u001b[0mconstruct\u001b[0m\u001b[0;34m(\u001b[0m\u001b[0;34m)\u001b[0m\u001b[0;34m.\u001b[0m\u001b[0mhandle\u001b[0m\u001b[0;34m,\u001b[0m\u001b[0;34m\u001b[0m\u001b[0m\n\u001b[0m\u001b[1;32m   1295\u001b[0m                 \u001b[0mc_str\u001b[0m\u001b[0;34m(\u001b[0m\u001b[0mparams_str\u001b[0m\u001b[0;34m)\u001b[0m\u001b[0;34m,\u001b[0m\u001b[0;34m\u001b[0m\u001b[0m\n\u001b[1;32m   1296\u001b[0m                 ctypes.byref(self.handle)))\n",
      "\u001b[0;32m~/.pyenv/versions/3.6.0/envs/general/lib/python3.6/site-packages/lightgbm/basic.py\u001b[0m in \u001b[0;36mconstruct\u001b[0;34m(self)\u001b[0m\n\u001b[1;32m    843\u001b[0m                                 \u001b[0mweight\u001b[0m\u001b[0;34m=\u001b[0m\u001b[0mself\u001b[0m\u001b[0;34m.\u001b[0m\u001b[0mweight\u001b[0m\u001b[0;34m,\u001b[0m \u001b[0mgroup\u001b[0m\u001b[0;34m=\u001b[0m\u001b[0mself\u001b[0m\u001b[0;34m.\u001b[0m\u001b[0mgroup\u001b[0m\u001b[0;34m,\u001b[0m \u001b[0minit_score\u001b[0m\u001b[0;34m=\u001b[0m\u001b[0mself\u001b[0m\u001b[0;34m.\u001b[0m\u001b[0minit_score\u001b[0m\u001b[0;34m,\u001b[0m\u001b[0;34m\u001b[0m\u001b[0m\n\u001b[1;32m    844\u001b[0m                                 \u001b[0mpredictor\u001b[0m\u001b[0;34m=\u001b[0m\u001b[0mself\u001b[0m\u001b[0;34m.\u001b[0m\u001b[0m_predictor\u001b[0m\u001b[0;34m,\u001b[0m \u001b[0msilent\u001b[0m\u001b[0;34m=\u001b[0m\u001b[0mself\u001b[0m\u001b[0;34m.\u001b[0m\u001b[0msilent\u001b[0m\u001b[0;34m,\u001b[0m \u001b[0mfeature_name\u001b[0m\u001b[0;34m=\u001b[0m\u001b[0mself\u001b[0m\u001b[0;34m.\u001b[0m\u001b[0mfeature_name\u001b[0m\u001b[0;34m,\u001b[0m\u001b[0;34m\u001b[0m\u001b[0m\n\u001b[0;32m--> 845\u001b[0;31m                                 categorical_feature=self.categorical_feature, params=self.params)\n\u001b[0m\u001b[1;32m    846\u001b[0m             \u001b[0;32mif\u001b[0m \u001b[0mself\u001b[0m\u001b[0;34m.\u001b[0m\u001b[0mfree_raw_data\u001b[0m\u001b[0;34m:\u001b[0m\u001b[0;34m\u001b[0m\u001b[0m\n\u001b[1;32m    847\u001b[0m                 \u001b[0mself\u001b[0m\u001b[0;34m.\u001b[0m\u001b[0mdata\u001b[0m \u001b[0;34m=\u001b[0m \u001b[0;32mNone\u001b[0m\u001b[0;34m\u001b[0m\u001b[0m\n",
      "\u001b[0;32m~/.pyenv/versions/3.6.0/envs/general/lib/python3.6/site-packages/lightgbm/basic.py\u001b[0m in \u001b[0;36m_lazy_init\u001b[0;34m(self, data, label, max_bin, reference, weight, group, init_score, predictor, silent, feature_name, categorical_feature, params)\u001b[0m\n\u001b[1;32m    706\u001b[0m                 \u001b[0;32mraise\u001b[0m \u001b[0mTypeError\u001b[0m\u001b[0;34m(\u001b[0m\u001b[0;34m'Cannot initialize Dataset from {}'\u001b[0m\u001b[0;34m.\u001b[0m\u001b[0mformat\u001b[0m\u001b[0;34m(\u001b[0m\u001b[0mtype\u001b[0m\u001b[0;34m(\u001b[0m\u001b[0mdata\u001b[0m\u001b[0;34m)\u001b[0m\u001b[0;34m.\u001b[0m\u001b[0m__name__\u001b[0m\u001b[0;34m)\u001b[0m\u001b[0;34m)\u001b[0m\u001b[0;34m\u001b[0m\u001b[0m\n\u001b[1;32m    707\u001b[0m         \u001b[0;32mif\u001b[0m \u001b[0mlabel\u001b[0m \u001b[0;32mis\u001b[0m \u001b[0;32mnot\u001b[0m \u001b[0;32mNone\u001b[0m\u001b[0;34m:\u001b[0m\u001b[0;34m\u001b[0m\u001b[0m\n\u001b[0;32m--> 708\u001b[0;31m             \u001b[0mself\u001b[0m\u001b[0;34m.\u001b[0m\u001b[0mset_label\u001b[0m\u001b[0;34m(\u001b[0m\u001b[0mlabel\u001b[0m\u001b[0;34m)\u001b[0m\u001b[0;34m\u001b[0m\u001b[0m\n\u001b[0m\u001b[1;32m    709\u001b[0m         \u001b[0;32mif\u001b[0m \u001b[0mself\u001b[0m\u001b[0;34m.\u001b[0m\u001b[0mget_label\u001b[0m\u001b[0;34m(\u001b[0m\u001b[0;34m)\u001b[0m \u001b[0;32mis\u001b[0m \u001b[0;32mNone\u001b[0m\u001b[0;34m:\u001b[0m\u001b[0;34m\u001b[0m\u001b[0m\n\u001b[1;32m    710\u001b[0m             \u001b[0;32mraise\u001b[0m \u001b[0mValueError\u001b[0m\u001b[0;34m(\u001b[0m\u001b[0;34m\"Label should not be None\"\u001b[0m\u001b[0;34m)\u001b[0m\u001b[0;34m\u001b[0m\u001b[0m\n",
      "\u001b[0;32m~/.pyenv/versions/3.6.0/envs/general/lib/python3.6/site-packages/lightgbm/basic.py\u001b[0m in \u001b[0;36mset_label\u001b[0;34m(self, label)\u001b[0m\n\u001b[1;32m   1099\u001b[0m         \u001b[0;32mif\u001b[0m \u001b[0mself\u001b[0m\u001b[0;34m.\u001b[0m\u001b[0mhandle\u001b[0m \u001b[0;32mis\u001b[0m \u001b[0;32mnot\u001b[0m \u001b[0;32mNone\u001b[0m\u001b[0;34m:\u001b[0m\u001b[0;34m\u001b[0m\u001b[0m\n\u001b[1;32m   1100\u001b[0m             \u001b[0mlabel\u001b[0m \u001b[0;34m=\u001b[0m \u001b[0mlist_to_1d_numpy\u001b[0m\u001b[0;34m(\u001b[0m\u001b[0mlabel\u001b[0m\u001b[0;34m,\u001b[0m \u001b[0mname\u001b[0m\u001b[0;34m=\u001b[0m\u001b[0;34m'label'\u001b[0m\u001b[0;34m)\u001b[0m\u001b[0;34m\u001b[0m\u001b[0m\n\u001b[0;32m-> 1101\u001b[0;31m             \u001b[0mself\u001b[0m\u001b[0;34m.\u001b[0m\u001b[0mset_field\u001b[0m\u001b[0;34m(\u001b[0m\u001b[0;34m'label'\u001b[0m\u001b[0;34m,\u001b[0m \u001b[0mlabel\u001b[0m\u001b[0;34m)\u001b[0m\u001b[0;34m\u001b[0m\u001b[0m\n\u001b[0m\u001b[1;32m   1102\u001b[0m \u001b[0;34m\u001b[0m\u001b[0m\n\u001b[1;32m   1103\u001b[0m     \u001b[0;32mdef\u001b[0m \u001b[0mset_weight\u001b[0m\u001b[0;34m(\u001b[0m\u001b[0mself\u001b[0m\u001b[0;34m,\u001b[0m \u001b[0mweight\u001b[0m\u001b[0;34m)\u001b[0m\u001b[0;34m:\u001b[0m\u001b[0;34m\u001b[0m\u001b[0m\n",
      "\u001b[0;32m~/.pyenv/versions/3.6.0/envs/general/lib/python3.6/site-packages/lightgbm/basic.py\u001b[0m in \u001b[0;36mset_field\u001b[0;34m(self, field_name, data)\u001b[0m\n\u001b[1;32m    974\u001b[0m             \u001b[0mptr_data\u001b[0m\u001b[0;34m,\u001b[0m\u001b[0;34m\u001b[0m\u001b[0m\n\u001b[1;32m    975\u001b[0m             \u001b[0mctypes\u001b[0m\u001b[0;34m.\u001b[0m\u001b[0mc_int\u001b[0m\u001b[0;34m(\u001b[0m\u001b[0mlen\u001b[0m\u001b[0;34m(\u001b[0m\u001b[0mdata\u001b[0m\u001b[0;34m)\u001b[0m\u001b[0;34m)\u001b[0m\u001b[0;34m,\u001b[0m\u001b[0;34m\u001b[0m\u001b[0m\n\u001b[0;32m--> 976\u001b[0;31m             ctypes.c_int(type_data)))\n\u001b[0m\u001b[1;32m    977\u001b[0m \u001b[0;34m\u001b[0m\u001b[0m\n\u001b[1;32m    978\u001b[0m     \u001b[0;32mdef\u001b[0m \u001b[0mget_field\u001b[0m\u001b[0;34m(\u001b[0m\u001b[0mself\u001b[0m\u001b[0;34m,\u001b[0m \u001b[0mfield_name\u001b[0m\u001b[0;34m)\u001b[0m\u001b[0;34m:\u001b[0m\u001b[0;34m\u001b[0m\u001b[0m\n",
      "\u001b[0;32m~/.pyenv/versions/3.6.0/envs/general/lib/python3.6/site-packages/lightgbm/basic.py\u001b[0m in \u001b[0;36m_safe_call\u001b[0;34m(ret)\u001b[0m\n\u001b[1;32m     46\u001b[0m     \"\"\"\n\u001b[1;32m     47\u001b[0m     \u001b[0;32mif\u001b[0m \u001b[0mret\u001b[0m \u001b[0;34m!=\u001b[0m \u001b[0;36m0\u001b[0m\u001b[0;34m:\u001b[0m\u001b[0;34m\u001b[0m\u001b[0m\n\u001b[0;32m---> 48\u001b[0;31m         \u001b[0;32mraise\u001b[0m \u001b[0mLightGBMError\u001b[0m\u001b[0;34m(\u001b[0m\u001b[0m_LIB\u001b[0m\u001b[0;34m.\u001b[0m\u001b[0mLGBM_GetLastError\u001b[0m\u001b[0;34m(\u001b[0m\u001b[0;34m)\u001b[0m\u001b[0;34m)\u001b[0m\u001b[0;34m\u001b[0m\u001b[0m\n\u001b[0m\u001b[1;32m     49\u001b[0m \u001b[0;34m\u001b[0m\u001b[0m\n\u001b[1;32m     50\u001b[0m \u001b[0;34m\u001b[0m\u001b[0m\n",
      "\u001b[0;31mLightGBMError\u001b[0m: b'len of label is not same with #data'"
     ]
    }
   ],
   "source": [
    "import lightgbm as lgb\n",
    "\n",
    "verbose = 1\n",
    "plot = 1\n",
    "params = {\n",
    "#     \"max_bin\": 1024,\n",
    "#     \"learning_rate\": 0.1,\n",
    "    \"boosting_type\": \"goss\",\n",
    "    \"objective\": \"lambdarank\",\n",
    "#     'num_iterations':1000,\n",
    "#     \"metric\": \"auc\",\n",
    "    \"num_leaves\": 10000,\n",
    "    \"verbose\": 1\n",
    "#     'num_class': 931\n",
    "#     \"min_data\": 100,\n",
    "#     \"boost_from_average\": True\n",
    "}\n",
    "\n",
    "d_train = lgb.Dataset(X_train_np, label=y_train_np)\n",
    "model = lgb.train(params, d_train)\n",
    "\n",
    "# model = lgb.LGBMClassifier(objective='multiclass', num_class=931, verbose=1)\n",
    "# model.fit(X_train, X_test)"
   ]
  },
  {
   "cell_type": "code",
   "execution_count": null,
   "metadata": {
    "ExecuteTime": {
     "end_time": "2018-02-07T15:45:26.420660Z",
     "start_time": "2018-02-07T12:37:19.345Z"
    }
   },
   "outputs": [],
   "source": [
    "import gc\n",
    "gc.collect()"
   ]
  }
 ],
 "metadata": {
  "kernelspec": {
   "display_name": "Python 3",
   "language": "python",
   "name": "python3"
  },
  "language_info": {
   "codemirror_mode": {
    "name": "ipython",
    "version": 3
   },
   "file_extension": ".py",
   "mimetype": "text/x-python",
   "name": "python",
   "nbconvert_exporter": "python",
   "pygments_lexer": "ipython3",
   "version": "3.6.0"
  }
 },
 "nbformat": 4,
 "nbformat_minor": 2
}
