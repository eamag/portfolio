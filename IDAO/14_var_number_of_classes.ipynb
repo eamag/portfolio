{
 "cells": [
  {
   "cell_type": "code",
   "execution_count": 12,
   "metadata": {
    "ExecuteTime": {
     "end_time": "2018-02-11T13:33:38.844229Z",
     "start_time": "2018-02-11T13:33:38.826950Z"
    }
   },
   "outputs": [],
   "source": [
    "import pandas as pd\n",
    "import numpy as np\n",
    "from matplotlib import pyplot as plt\n",
    "\n",
    "import lightgbm as lgb\n",
    "from sklearn.preprocessing import LabelEncoder\n",
    "from sklearn.feature_extraction.text import CountVectorizer, TfidfVectorizer\n",
    "\n",
    "from scorer import scorer\n",
    "from sklearn.model_selection import train_test_split\n",
    "\n",
    "import gc"
   ]
  },
  {
   "cell_type": "code",
   "execution_count": 13,
   "metadata": {
    "ExecuteTime": {
     "end_time": "2018-02-11T13:33:59.249370Z",
     "start_time": "2018-02-11T13:33:44.965006Z"
    }
   },
   "outputs": [],
   "source": [
    "dtypes = {'id1': np.int16, 'id2': np.int16, 'id3': np.int16, 'user_id': np.int32, 'date': np.int16}\n",
    "\n",
    "train = pd.read_csv('train.csv.zip', dtype=dtypes)"
   ]
  },
  {
   "cell_type": "code",
   "execution_count": 14,
   "metadata": {
    "ExecuteTime": {
     "end_time": "2018-02-11T13:34:10.573892Z",
     "start_time": "2018-02-11T13:33:59.250441Z"
    }
   },
   "outputs": [
    {
     "data": {
      "text/plain": [
       "4100"
      ]
     },
     "execution_count": 14,
     "metadata": {},
     "output_type": "execute_result"
    }
   ],
   "source": [
    "# drop 'inactive' and 'overactive' users \n",
    "\n",
    "user_count = np.unique(train.user_id[train.date>(np.max(train.date)-7)], return_counts=True)\n",
    "user_count = pd.DataFrame({\n",
    "    'user_id':user_count[0], 'counts':user_count[1]\n",
    "})\n",
    "\n",
    "#print(user_count.shape)\n",
    "treshold_count_low = 8\n",
    "treshold_count_high = 50\n",
    "user_count = user_count[(user_count.counts>=treshold_count_low) & (user_count.counts<treshold_count_high)]\n",
    "user_count = user_count[0:53979]\n",
    "#print(user_count.shape)\n",
    "\n",
    "train = pd.merge(train, user_count, how='left', on ='user_id')\n",
    "train = train.dropna()\n",
    "#print(train.shape, len(pd.unique(train.user_id)))\n",
    "\n",
    "user_count = []\n",
    "gc.collect()"
   ]
  },
  {
   "cell_type": "code",
   "execution_count": 15,
   "metadata": {
    "ExecuteTime": {
     "end_time": "2018-02-11T13:34:19.183714Z",
     "start_time": "2018-02-11T13:34:10.575131Z"
    }
   },
   "outputs": [
    {
     "name": "stdout",
     "output_type": "stream",
     "text": [
      "27 47 33 54\n",
      "CPU times: user 8.48 s, sys: 136 ms, total: 8.61 s\n",
      "Wall time: 8.6 s\n"
     ]
    }
   ],
   "source": [
    "%%time\n",
    "\n",
    "# make strings with pages that user have visited last 3 weeks \n",
    "\n",
    "n_weeks = 3\n",
    "train_start_date = np.max(train['date']) - 6 - n_weeks*7\n",
    "train_end_date = np.max(train['date']) - 7\n",
    "test_start_date = np.max(train['date']) - n_weeks*7\n",
    "test_end_date = np.max(train['date'])\n",
    "print(train_start_date, train_end_date, test_start_date, test_end_date)\n",
    "\n",
    "train['id3'] = train['id3'].astype('str')\n",
    "strings_test = pd.DataFrame(train[['id3','user_id']][(train['date']>test_start_date) & (train['date']<=test_end_date)].groupby('user_id')['id3'].apply(lambda x: \"%s\" % ' '.join(x))).reset_index()\n",
    "strings_train = pd.DataFrame(train[['id3','user_id', 'counts']][(train['date']>train_start_date) & (train['date']<=train_end_date)].groupby('user_id')['id3'].apply(lambda x: \"%s\" % ' '.join(x))).reset_index()"
   ]
  },
  {
   "cell_type": "code",
   "execution_count": 16,
   "metadata": {
    "ExecuteTime": {
     "end_time": "2018-02-11T13:34:19.927414Z",
     "start_time": "2018-02-11T13:34:19.184883Z"
    }
   },
   "outputs": [
    {
     "name": "stdout",
     "output_type": "stream",
     "text": [
      "CPU times: user 716 ms, sys: 24 ms, total: 740 ms\n",
      "Wall time: 739 ms\n"
     ]
    }
   ],
   "source": [
    "%%time\n",
    "train['id3'] = train['id3'].astype('int')\n",
    "topid3 = train[['id3', 'user_id']].groupby('id3').agg('count').reset_index()\n",
    "topid3.columns = ['id3', 'id3_counts']"
   ]
  },
  {
   "cell_type": "code",
   "execution_count": 17,
   "metadata": {
    "ExecuteTime": {
     "end_time": "2018-02-11T13:34:19.931793Z",
     "start_time": "2018-02-11T13:34:19.928607Z"
    }
   },
   "outputs": [
    {
     "name": "stdout",
     "output_type": "stream",
     "text": [
      "(919, 2)\n"
     ]
    }
   ],
   "source": [
    "print(topid3.shape)\n",
    "topid3 = topid3.sort_values(by='id3_counts', ascending=False).reset_index(drop=True)"
   ]
  },
  {
   "cell_type": "code",
   "execution_count": 18,
   "metadata": {
    "ExecuteTime": {
     "end_time": "2018-02-11T13:34:20.148952Z",
     "start_time": "2018-02-11T13:34:19.932731Z"
    }
   },
   "outputs": [
    {
     "data": {
      "image/png": "[encoded data removed]",
      "text/plain": [
       "<matplotlib.figure.Figure at 0x7f56e25121d0>"
      ]
     },
     "metadata": {},
     "output_type": "display_data"
    }
   ],
   "source": [
    "plt.figure(figsize=(16,9))\n",
    "plt.plot(topid3['id3_counts'].cumsum()/np.sum(topid3['id3_counts']))\n",
    "plt.xlabel('Number of id3')\n",
    "plt.ylabel('Fraction of all seen pages')\n",
    "plt.grid()\n",
    "plt.show()"
   ]
  },
  {
   "cell_type": "code",
   "execution_count": 19,
   "metadata": {
    "ExecuteTime": {
     "end_time": "2018-02-11T13:34:20.156274Z",
     "start_time": "2018-02-11T13:34:20.150158Z"
    }
   },
   "outputs": [
    {
     "name": "stdout",
     "output_type": "stream",
     "text": [
      "(100, 3)\n"
     ]
    }
   ],
   "source": [
    "select_top_n = 100 # select top_n most popular id3\n",
    "topid3['keep_id'] = 0\n",
    "topid3['keep_id'][0:select_top_n] = 1\n",
    "topid3 = topid3[0:select_top_n].reset_index(drop=True)\n",
    "topid3_values = topid3['id3'].values\n",
    "print(topid3.shape)"
   ]
  },
  {
   "cell_type": "code",
   "execution_count": 20,
   "metadata": {
    "ExecuteTime": {
     "end_time": "2018-02-11T13:34:21.075551Z",
     "start_time": "2018-02-11T13:34:20.157218Z"
    }
   },
   "outputs": [
    {
     "name": "stdout",
     "output_type": "stream",
     "text": [
      "(6883678, 6) 53979\n",
      "(3681615, 8) 53924\n"
     ]
    }
   ],
   "source": [
    "print(train.shape, len(pd.unique(train.user_id)))\n",
    "train = pd.merge(train, topid3, how='left', on ='id3')\n",
    "train = train[train['keep_id']==1].reset_index(drop=True)\n",
    "print(train.shape, len(pd.unique(train.user_id)))"
   ]
  },
  {
   "cell_type": "code",
   "execution_count": 21,
   "metadata": {
    "ExecuteTime": {
     "end_time": "2018-02-11T13:34:21.079966Z",
     "start_time": "2018-02-11T13:34:21.076769Z"
    }
   },
   "outputs": [],
   "source": [
    "topid3 = topid3.drop('keep_id', axis=1)\n",
    "topid3['id3_counts'] = topid3['id3_counts'] / np.sum(topid3['id3_counts'])"
   ]
  },
  {
   "cell_type": "code",
   "execution_count": 22,
   "metadata": {
    "ExecuteTime": {
     "end_time": "2018-02-11T13:34:43.445849Z",
     "start_time": "2018-02-11T13:34:21.080885Z"
    }
   },
   "outputs": [],
   "source": [
    "dtypes = {'id1': np.int16, 'id2': np.int16, 'id3': np.int16, 'user_id': np.int32, 'date': np.int16}\n",
    "\n",
    "train = pd.read_csv('train.csv.zip', dtype=dtypes)\n",
    "ind_list = np.load('ind_list.npy')\n",
    "train = train[train['user_id'].isin(ind_list)].copy()"
   ]
  },
  {
   "cell_type": "markdown",
   "metadata": {},
   "source": [
    "## generate targets and forbid targets "
   ]
  },
  {
   "cell_type": "code",
   "execution_count": 23,
   "metadata": {
    "ExecuteTime": {
     "end_time": "2018-02-11T13:34:43.706767Z",
     "start_time": "2018-02-11T13:34:43.447000Z"
    }
   },
   "outputs": [],
   "source": [
    "date_validation_start = train.date.max() - 6\n",
    "def calculate_target(data, date_test_start):\n",
    "    '''\n",
    "        This function returns a dictionary of type {user: items_list}\n",
    "        Such that user viewed an item in testing period, \n",
    "        but did not view it within the last 3 weeks of train period.\n",
    "    '''\n",
    "    \n",
    "    test_mask = (data.date >= date_test_start) & (data.date < date_test_start + 7)\n",
    "    items_test = data[test_mask].groupby('user_id').id3.apply(set)\n",
    "\n",
    "    return items_test\n",
    "\n",
    "y_val_dict = calculate_target(train, date_validation_start)"
   ]
  },
  {
   "cell_type": "code",
   "execution_count": 24,
   "metadata": {
    "ExecuteTime": {
     "end_time": "2018-02-11T13:34:43.710516Z",
     "start_time": "2018-02-11T13:34:43.707989Z"
    }
   },
   "outputs": [
    {
     "data": {
      "text/plain": [
       "6412"
      ]
     },
     "execution_count": 24,
     "metadata": {},
     "output_type": "execute_result"
    }
   ],
   "source": [
    "len(y_val_dict)"
   ]
  },
  {
   "cell_type": "code",
   "execution_count": 25,
   "metadata": {
    "ExecuteTime": {
     "end_time": "2018-02-11T13:34:45.198258Z",
     "start_time": "2018-02-11T13:34:43.711557Z"
    }
   },
   "outputs": [
    {
     "name": "stdout",
     "output_type": "stream",
     "text": [
      "CPU times: user 1.38 s, sys: 0 ns, total: 1.38 s\n",
      "Wall time: 1.38 s\n"
     ]
    }
   ],
   "source": [
    "%%time\n",
    "k = y_val_dict.keys()\n",
    "gen_zero = {} # '0' examples, i.e. it will not been visited next week \n",
    "tot_lens = []\n",
    "number_neg_examples_to_pick = 50\n",
    "\n",
    "for i in k:\n",
    "    pick = set(np.random.choice(topid3['id3'], p=topid3['id3_counts'], \n",
    "                                       size = number_neg_examples_to_pick, replace=False)) - y_val_dict[i]\n",
    "    gen_zero[i] = pick\n",
    "    tot_lens.append(len(pick))"
   ]
  },
  {
   "cell_type": "code",
   "execution_count": 26,
   "metadata": {
    "ExecuteTime": {
     "end_time": "2018-02-11T13:34:45.236315Z",
     "start_time": "2018-02-11T13:34:45.199336Z"
    }
   },
   "outputs": [
    {
     "name": "stdout",
     "output_type": "stream",
     "text": [
      "(127880, 2)\n",
      "CPU times: user 32 ms, sys: 0 ns, total: 32 ms\n",
      "Wall time: 31.9 ms\n"
     ]
    }
   ],
   "source": [
    "%%time \n",
    "values_list = []\n",
    "keys_list = []\n",
    "for k,v in y_val_dict.items():\n",
    "    values_list += v\n",
    "    keys_list += [k] * len(v)\n",
    "target = pd.DataFrame({'user_id': keys_list, 'target' : values_list})  # '1' examples, i.e. it will been visited next week \n",
    "# target.to_csv('target.csv', index=False)\n",
    "\n",
    "print(target.shape)"
   ]
  },
  {
   "cell_type": "code",
   "execution_count": 27,
   "metadata": {
    "ExecuteTime": {
     "end_time": "2018-02-11T13:34:45.478265Z",
     "start_time": "2018-02-11T13:34:45.237498Z"
    }
   },
   "outputs": [
    {
     "name": "stdout",
     "output_type": "stream",
     "text": [
      "(280934, 2)\n",
      "CPU times: user 100 ms, sys: 0 ns, total: 100 ms\n",
      "Wall time: 103 ms\n"
     ]
    }
   ],
   "source": [
    "%%time \n",
    "values_list = []\n",
    "keys_list = []\n",
    "for k,v in gen_zero.items():\n",
    "    values_list += v\n",
    "    keys_list += [k] * len(v)\n",
    "gen_zero = pd.DataFrame({'user_id': keys_list, 'target' : values_list})\n",
    "# gen_zero.to_csv('target0.csv', index=False)\n",
    "\n",
    "print(gen_zero.shape)"
   ]
  },
  {
   "cell_type": "code",
   "execution_count": 28,
   "metadata": {
    "ExecuteTime": {
     "end_time": "2018-02-11T13:34:45.529003Z",
     "start_time": "2018-02-11T13:34:45.479301Z"
    }
   },
   "outputs": [],
   "source": [
    "target['clicked'] = 1\n",
    "gen_zero['clicked'] = 0\n",
    "target = pd.concat([target, gen_zero]).reset_index(drop=True)"
   ]
  },
  {
   "cell_type": "code",
   "execution_count": 29,
   "metadata": {
    "ExecuteTime": {
     "end_time": "2018-02-11T13:34:45.650943Z",
     "start_time": "2018-02-11T13:34:45.530194Z"
    }
   },
   "outputs": [],
   "source": [
    "targets = set(pd.unique(train['id3'].astype('int')))"
   ]
  },
  {
   "cell_type": "code",
   "execution_count": 30,
   "metadata": {
    "ExecuteTime": {
     "end_time": "2018-02-11T13:34:45.754589Z",
     "start_time": "2018-02-11T13:34:45.652160Z"
    }
   },
   "outputs": [
    {
     "name": "stdout",
     "output_type": "stream",
     "text": [
      "Targets to predict:  903\n",
      "(408814, 3)\n"
     ]
    }
   ],
   "source": [
    "print('Targets to predict: ', len(pd.unique(target.target)))\n",
    "print(target.shape)"
   ]
  },
  {
   "cell_type": "code",
   "execution_count": 31,
   "metadata": {
    "ExecuteTime": {
     "end_time": "2018-02-11T13:34:45.890953Z",
     "start_time": "2018-02-11T13:34:45.755704Z"
    }
   },
   "outputs": [
    {
     "data": {
      "text/plain": [
       "(280934, 3)"
      ]
     },
     "execution_count": 31,
     "metadata": {},
     "output_type": "execute_result"
    }
   ],
   "source": [
    "gen_zero.shape"
   ]
  },
  {
   "cell_type": "markdown",
   "metadata": {},
   "source": [
    "## get X_train and X_test "
   ]
  },
  {
   "cell_type": "code",
   "execution_count": 32,
   "metadata": {
    "ExecuteTime": {
     "end_time": "2018-02-11T13:34:46.081882Z",
     "start_time": "2018-02-11T13:34:45.891985Z"
    }
   },
   "outputs": [
    {
     "name": "stdout",
     "output_type": "stream",
     "text": [
      "(408814, 4)\n",
      "(197567, 4)\n",
      "CPU times: user 72 ms, sys: 0 ns, total: 72 ms\n",
      "Wall time: 68.7 ms\n"
     ]
    }
   ],
   "source": [
    "%%time\n",
    "target = pd.merge(target, strings_train, on='user_id', how='left')\n",
    "print(target.shape)\n",
    "target = target.dropna()\n",
    "print(target.shape)"
   ]
  },
  {
   "cell_type": "code",
   "execution_count": 33,
   "metadata": {
    "ExecuteTime": {
     "end_time": "2018-02-11T13:34:46.119022Z",
     "start_time": "2018-02-11T13:34:46.083157Z"
    }
   },
   "outputs": [],
   "source": [
    "cv = TfidfVectorizer(max_features=100)"
   ]
  },
  {
   "cell_type": "code",
   "execution_count": 34,
   "metadata": {
    "ExecuteTime": {
     "end_time": "2018-02-11T13:34:55.568409Z",
     "start_time": "2018-02-11T13:34:46.120337Z"
    }
   },
   "outputs": [
    {
     "name": "stdout",
     "output_type": "stream",
     "text": [
      "(197567, 100)\n",
      "CPU times: user 9.33 s, sys: 8 ms, total: 9.34 s\n",
      "Wall time: 9.34 s\n"
     ]
    }
   ],
   "source": [
    "%%time\n",
    "cv.fit(strings_train['id3'].astype('str'))\n",
    "X_train = cv.transform(target['id3'].astype('str'))\n",
    "X_test = cv.transform(strings_test['id3'].astype('str'))\n",
    "print(X_train.shape)"
   ]
  },
  {
   "cell_type": "code",
   "execution_count": 35,
   "metadata": {
    "ExecuteTime": {
     "end_time": "2018-02-11T13:34:56.102955Z",
     "start_time": "2018-02-11T13:34:55.569818Z"
    }
   },
   "outputs": [
    {
     "name": "stdout",
     "output_type": "stream",
     "text": [
      "users in train 3236\n",
      "(285590, 103)\n",
      "(109544, 103)\n"
     ]
    }
   ],
   "source": [
    "X_train1 = pd.concat([pd.DataFrame(X_train.todense()), target['target']], axis=1)\n",
    "\n",
    "X_train = []\n",
    "gc.collect()\n",
    "\n",
    "X_train1 = pd.concat([X_train1, target['user_id'], target['clicked']], axis=1)\n",
    "\n",
    "print('users in train', len(pd.unique(X_train1['user_id'])))\n",
    "\n",
    "print(X_train1.shape)\n",
    "X_train1 = X_train1.dropna()\n",
    "print(X_train1.shape)\n",
    "\n",
    "X_train1 = X_train1.sort_values(by='user_id').reset_index(drop = True)\n",
    "query = X_train1[['user_id', 'target']].groupby('user_id').agg('count').reset_index()[['user_id','target']]"
   ]
  },
  {
   "cell_type": "code",
   "execution_count": 36,
   "metadata": {
    "ExecuteTime": {
     "end_time": "2018-02-11T13:34:56.152781Z",
     "start_time": "2018-02-11T13:34:56.104398Z"
    }
   },
   "outputs": [],
   "source": [
    "iid = X_train1.user_id[-int(X_train1.shape[0]/5):-int(X_train1.shape[0]/5)+1].values[0] # 20% of user_id in validation\n",
    "\n",
    "train_data = lgb.Dataset( \n",
    "    X_train1[X_train1['user_id']<=iid].drop(['clicked','user_id'],axis=1), \n",
    "    label = X_train1['clicked'][X_train1['user_id']<=iid], \n",
    "    categorical_feature=['target'],\n",
    "    free_raw_data=False,\n",
    "    group = query[query['user_id']<=iid]['target'].values\n",
    ")\n",
    "\n",
    "valid_data = lgb.Dataset( \n",
    "    X_train1[X_train1['user_id']>iid].drop(['clicked','user_id'],axis=1), \n",
    "    label = X_train1['clicked'][X_train1['user_id']>iid], \n",
    "    categorical_feature=['target'],\n",
    "    free_raw_data=False,\n",
    "    group = query[query['user_id']>iid]['target'].values\n",
    ")\n",
    "\n",
    "\n",
    "#params = {\n",
    " #   'objective':'binary',\n",
    "  #  'metric': 'binary_logloss',\n",
    "   # 'learning_rate':0.1142,\n",
    "   # 'random_state':4242\n",
    "#}\n"
   ]
  },
  {
   "cell_type": "code",
   "execution_count": 37,
   "metadata": {
    "ExecuteTime": {
     "end_time": "2018-02-11T13:34:56.266993Z",
     "start_time": "2018-02-11T13:34:56.153995Z"
    }
   },
   "outputs": [],
   "source": [
    "params = {\n",
    "        'objective' : 'lambdarank',\n",
    "        'metric' : 'ndcg',\n",
    "        'ndcg_at' : 10,\n",
    "        \"boosting_type\": \"goss\",\n",
    "        'learning_rate' : 0.22,\n",
    "        'verbose' : 1,\n",
    "        'random_state': 4242,\n",
    "        # 'num_leaves': # default - 31\n",
    "        # 'bagging_freq':    \n",
    "    'max_position':45 # default = 20\n",
    "    }"
   ]
  },
  {
   "cell_type": "code",
   "execution_count": 38,
   "metadata": {
    "ExecuteTime": {
     "end_time": "2018-02-11T13:34:57.466067Z",
     "start_time": "2018-02-11T13:34:56.268311Z"
    },
    "scrolled": true
   },
   "outputs": [
    {
     "name": "stderr",
     "output_type": "stream",
     "text": [
      "/home/magas/.pyenv/versions/3.6.0/envs/general/lib/python3.6/site-packages/lightgbm/basic.py:1036: UserWarning: Using categorical_feature in Dataset.\n",
      "  warnings.warn('Using categorical_feature in Dataset.')\n",
      "/home/magas/.pyenv/versions/3.6.0/envs/general/lib/python3.6/site-packages/lightgbm/basic.py:681: UserWarning: categorical_feature in param dict is overrided.\n",
      "  warnings.warn('categorical_feature in param dict is overrided.')\n"
     ]
    },
    {
     "name": "stdout",
     "output_type": "stream",
     "text": [
      "[1]\tvalid_0's ndcg@10: 1\n",
      "Training until validation scores don't improve for 50 rounds.\n",
      "[2]\tvalid_0's ndcg@10: 1\n",
      "[3]\tvalid_0's ndcg@10: 1\n",
      "[4]\tvalid_0's ndcg@10: 1\n",
      "[5]\tvalid_0's ndcg@10: 1\n",
      "[6]\tvalid_0's ndcg@10: 1\n",
      "[7]\tvalid_0's ndcg@10: 1\n",
      "[8]\tvalid_0's ndcg@10: 1\n",
      "[9]\tvalid_0's ndcg@10: 1\n",
      "[10]\tvalid_0's ndcg@10: 1\n",
      "[11]\tvalid_0's ndcg@10: 1\n",
      "[12]\tvalid_0's ndcg@10: 1\n",
      "[13]\tvalid_0's ndcg@10: 1\n",
      "[14]\tvalid_0's ndcg@10: 1\n",
      "[15]\tvalid_0's ndcg@10: 1\n",
      "[16]\tvalid_0's ndcg@10: 1\n",
      "[17]\tvalid_0's ndcg@10: 1\n",
      "[18]\tvalid_0's ndcg@10: 1\n",
      "[19]\tvalid_0's ndcg@10: 1\n",
      "[20]\tvalid_0's ndcg@10: 1\n",
      "[21]\tvalid_0's ndcg@10: 1\n",
      "[22]\tvalid_0's ndcg@10: 1\n",
      "[23]\tvalid_0's ndcg@10: 1\n",
      "[24]\tvalid_0's ndcg@10: 1\n",
      "[25]\tvalid_0's ndcg@10: 1\n",
      "[26]\tvalid_0's ndcg@10: 1\n",
      "[27]\tvalid_0's ndcg@10: 1\n",
      "[28]\tvalid_0's ndcg@10: 1\n",
      "[29]\tvalid_0's ndcg@10: 1\n",
      "[30]\tvalid_0's ndcg@10: 1\n",
      "[31]\tvalid_0's ndcg@10: 1\n",
      "[32]\tvalid_0's ndcg@10: 1\n",
      "[33]\tvalid_0's ndcg@10: 1\n",
      "[34]\tvalid_0's ndcg@10: 1\n",
      "[35]\tvalid_0's ndcg@10: 1\n",
      "[36]\tvalid_0's ndcg@10: 1\n",
      "[37]\tvalid_0's ndcg@10: 1\n",
      "[38]\tvalid_0's ndcg@10: 1\n",
      "[39]\tvalid_0's ndcg@10: 1\n",
      "[40]\tvalid_0's ndcg@10: 1\n",
      "[41]\tvalid_0's ndcg@10: 1\n",
      "[42]\tvalid_0's ndcg@10: 1\n",
      "[43]\tvalid_0's ndcg@10: 1\n",
      "[44]\tvalid_0's ndcg@10: 1\n",
      "[45]\tvalid_0's ndcg@10: 1\n",
      "[46]\tvalid_0's ndcg@10: 1\n",
      "[47]\tvalid_0's ndcg@10: 1\n",
      "[48]\tvalid_0's ndcg@10: 1\n",
      "[49]\tvalid_0's ndcg@10: 1\n",
      "[50]\tvalid_0's ndcg@10: 1\n",
      "[51]\tvalid_0's ndcg@10: 1\n",
      "Early stopping, best iteration is:\n",
      "[1]\tvalid_0's ndcg@10: 1\n",
      "CPU times: user 7.05 s, sys: 20 ms, total: 7.07 s\n",
      "Wall time: 1.05 s\n"
     ]
    }
   ],
   "source": [
    "%%time\n",
    "model = lgb.train(params, train_data, num_boost_round=1500, \n",
    "                  valid_sets=valid_data, early_stopping_rounds=50)"
   ]
  },
  {
   "cell_type": "markdown",
   "metadata": {},
   "source": [
    "## validate model "
   ]
  },
  {
   "cell_type": "code",
   "execution_count": 39,
   "metadata": {
    "ExecuteTime": {
     "end_time": "2018-02-11T13:35:35.245299Z",
     "start_time": "2018-02-11T13:34:57.467237Z"
    }
   },
   "outputs": [
    {
     "name": "stdout",
     "output_type": "stream",
     "text": [
      "Users in validation: 13 Yandex score: 0.0\n",
      "Users in validation: 24 Yandex score: 3333.0\n",
      "Users in validation: 41 Yandex score: 5000.0\n",
      "Users in validation: 44 Yandex score: 4000.0\n",
      "Users in validation: 72 Yandex score: 5000.0\n",
      "Users in validation: 112 Yandex score: 5714.0\n",
      "Users in validation: 152 Yandex score: 5000.0\n",
      "Users in validation: 154 Yandex score: 4444.0\n",
      "Users in validation: 155 Yandex score: 4000.0\n",
      "Users in validation: 166 Yandex score: 3636.0\n",
      "Users in validation: 174 Yandex score: 4167.0\n",
      "Users in validation: 182 Yandex score: 4615.0\n",
      "Users in validation: 185 Yandex score: 4286.0\n",
      "Users in validation: 213 Yandex score: 4667.0\n",
      "Users in validation: 228 Yandex score: 5000.0\n",
      "Users in validation: 233 Yandex score: 5294.0\n",
      "Users in validation: 236 Yandex score: 5000.0\n",
      "Users in validation: 241 Yandex score: 4737.0\n",
      "Users in validation: 245 Yandex score: 5000.0\n",
      "Users in validation: 246 Yandex score: 5238.0\n",
      "Users in validation: 253 Yandex score: 5455.0\n",
      "Users in validation: 257 Yandex score: 5652.0\n",
      "Users in validation: 267 Yandex score: 5417.0\n",
      "Users in validation: 293 Yandex score: 5600.0\n",
      "Users in validation: 308 Yandex score: 5769.0\n",
      "Users in validation: 321 Yandex score: 5926.0\n",
      "Users in validation: 325 Yandex score: 6071.0\n",
      "Users in validation: 328 Yandex score: 6207.0\n",
      "Users in validation: 343 Yandex score: 6000.0\n",
      "Users in validation: 347 Yandex score: 6129.0\n",
      "Users in validation: 367 Yandex score: 6250.0\n",
      "Users in validation: 369 Yandex score: 6061.0\n",
      "Users in validation: 377 Yandex score: 5882.0\n",
      "Users in validation: 380 Yandex score: 6000.0\n",
      "Users in validation: 387 Yandex score: 5833.0\n",
      "Users in validation: 391 Yandex score: 5946.0\n",
      "Users in validation: 405 Yandex score: 6053.0\n",
      "Users in validation: 422 Yandex score: 5897.0\n",
      "Users in validation: 460 Yandex score: 5750.0\n",
      "Users in validation: 469 Yandex score: 5610.0\n",
      "Users in validation: 481 Yandex score: 5476.0\n",
      "Users in validation: 493 Yandex score: 5349.0\n",
      "Users in validation: 496 Yandex score: 5227.0\n",
      "Users in validation: 514 Yandex score: 5111.0\n",
      "Users in validation: 515 Yandex score: 5217.0\n",
      "Users in validation: 536 Yandex score: 5106.0\n",
      "Users in validation: 559 Yandex score: 5000.0\n",
      "Users in validation: 582 Yandex score: 5102.0\n",
      "Users in validation: 583 Yandex score: 5200.0\n",
      "Users in validation: 593 Yandex score: 5098.0\n",
      "Users in validation: 603 Yandex score: 5192.0\n",
      "Users in validation: 616 Yandex score: 5283.0\n",
      "Users in validation: 621 Yandex score: 5185.0\n",
      "Users in validation: 625 Yandex score: 5091.0\n",
      "Users in validation: 634 Yandex score: 5179.0\n",
      "Users in validation: 636 Yandex score: 5263.0\n",
      "Users in validation: 650 Yandex score: 5172.0\n",
      "Users in validation: 662 Yandex score: 5254.0\n",
      "Users in validation: 690 Yandex score: 5333.0\n",
      "Users in validation: 694 Yandex score: 5410.0\n",
      "Users in validation: 698 Yandex score: 5323.0\n",
      "Users in validation: 715 Yandex score: 5397.0\n",
      "Users in validation: 737 Yandex score: 5312.0\n",
      "Users in validation: 827 Yandex score: 5231.0\n",
      "Users in validation: 844 Yandex score: 5303.0\n",
      "Users in validation: 858 Yandex score: 5373.0\n",
      "Users in validation: 865 Yandex score: 5294.0\n",
      "Users in validation: 877 Yandex score: 5217.0\n",
      "Users in validation: 920 Yandex score: 5143.0\n",
      "Users in validation: 933 Yandex score: 5211.0\n",
      "Users in validation: 935 Yandex score: 5139.0\n",
      "Users in validation: 954 Yandex score: 5205.0\n",
      "Users in validation: 961 Yandex score: 5135.0\n",
      "Users in validation: 965 Yandex score: 5067.0\n",
      "Users in validation: 968 Yandex score: 5000.0\n",
      "Users in validation: 980 Yandex score: 4935.0\n",
      "Users in validation: 994 Yandex score: 5000.0\n",
      "Users in validation: 1002 Yandex score: 5063.0\n",
      "Users in validation: 1034 Yandex score: 5000.0\n",
      "Users in validation: 1035 Yandex score: 4938.0\n",
      "Users in validation: 1037 Yandex score: 4878.0\n",
      "Users in validation: 1044 Yandex score: 4819.0\n",
      "Users in validation: 1053 Yandex score: 4881.0\n",
      "Users in validation: 1086 Yandex score: 4941.0\n",
      "Users in validation: 1117 Yandex score: 4884.0\n",
      "Users in validation: 1145 Yandex score: 4828.0\n",
      "Users in validation: 1165 Yandex score: 4773.0\n",
      "Users in validation: 1168 Yandex score: 4831.0\n",
      "Users in validation: 1195 Yandex score: 4778.0\n",
      "Users in validation: 1199 Yandex score: 4835.0\n",
      "Users in validation: 1265 Yandex score: 4891.0\n",
      "Users in validation: 1274 Yandex score: 4946.0\n",
      "Users in validation: 1276 Yandex score: 5000.0\n",
      "Users in validation: 1305 Yandex score: 5053.0\n",
      "Users in validation: 1315 Yandex score: 5000.0\n",
      "Users in validation: 1317 Yandex score: 5052.0\n",
      "Users in validation: 1327 Yandex score: 5102.0\n",
      "Users in validation: 1332 Yandex score: 5152.0\n",
      "Users in validation: 1373 Yandex score: 5100.0\n",
      "Users in validation: 1379 Yandex score: 5149.0\n",
      "Users in validation: 1385 Yandex score: 5196.0\n",
      "Users in validation: 1393 Yandex score: 5146.0\n",
      "Users in validation: 1409 Yandex score: 5192.0\n",
      "Users in validation: 1410 Yandex score: 5238.0\n",
      "Users in validation: 1415 Yandex score: 5189.0\n",
      "Users in validation: 1451 Yandex score: 5234.0\n",
      "Users in validation: 1465 Yandex score: 5278.0\n",
      "Users in validation: 1534 Yandex score: 5229.0\n",
      "Users in validation: 1540 Yandex score: 5273.0\n",
      "Users in validation: 1558 Yandex score: 5225.0\n",
      "Users in validation: 1566 Yandex score: 5268.0\n",
      "Users in validation: 1585 Yandex score: 5221.0\n",
      "Users in validation: 1612 Yandex score: 5175.0\n",
      "Users in validation: 1622 Yandex score: 5130.0\n",
      "Users in validation: 1641 Yandex score: 5086.0\n",
      "Users in validation: 1662 Yandex score: 5128.0\n",
      "Users in validation: 1673 Yandex score: 5085.0\n",
      "Users in validation: 1681 Yandex score: 5126.0\n",
      "Users in validation: 1683 Yandex score: 5167.0\n",
      "Users in validation: 1685 Yandex score: 5124.0\n",
      "Users in validation: 1715 Yandex score: 5082.0\n",
      "Users in validation: 1745 Yandex score: 5041.0\n",
      "Users in validation: 1758 Yandex score: 5081.0\n",
      "Users in validation: 1759 Yandex score: 5040.0\n",
      "Users in validation: 1766 Yandex score: 5079.0\n",
      "Users in validation: 1783 Yandex score: 5118.0\n",
      "Users in validation: 1794 Yandex score: 5156.0\n",
      "Users in validation: 1811 Yandex score: 5194.0\n",
      "Users in validation: 1815 Yandex score: 5231.0\n",
      "Users in validation: 1841 Yandex score: 5191.0\n",
      "Users in validation: 1874 Yandex score: 5152.0\n",
      "Users in validation: 1880 Yandex score: 5188.0\n",
      "Users in validation: 1889 Yandex score: 5224.0\n",
      "Users in validation: 1895 Yandex score: 5259.0\n",
      "Users in validation: 1899 Yandex score: 5294.0\n",
      "Users in validation: 1907 Yandex score: 5328.0\n",
      "Users in validation: 1987 Yandex score: 5290.0\n",
      "Users in validation: 2009 Yandex score: 5252.0\n",
      "Users in validation: 2016 Yandex score: 5286.0\n",
      "Users in validation: 2036 Yandex score: 5248.0\n",
      "Users in validation: 2048 Yandex score: 5282.0\n",
      "Users in validation: 2052 Yandex score: 5315.0\n",
      "Users in validation: 2053 Yandex score: 5347.0\n",
      "Users in validation: 2056 Yandex score: 5310.0\n",
      "Users in validation: 2068 Yandex score: 5274.0\n",
      "Users in validation: 2078 Yandex score: 5306.0\n",
      "Users in validation: 2083 Yandex score: 5270.0\n",
      "Users in validation: 2084 Yandex score: 5235.0\n",
      "Users in validation: 2087 Yandex score: 5267.0\n",
      "Users in validation: 2128 Yandex score: 5298.0\n",
      "Users in validation: 2162 Yandex score: 5329.0\n",
      "Users in validation: 2171 Yandex score: 5294.0\n",
      "Users in validation: 2173 Yandex score: 5325.0\n",
      "Users in validation: 2183 Yandex score: 5355.0\n",
      "Users in validation: 2191 Yandex score: 5321.0\n",
      "Users in validation: 2233 Yandex score: 5287.0\n",
      "Users in validation: 2248 Yandex score: 5253.0\n",
      "Users in validation: 2255 Yandex score: 5283.0\n",
      "Users in validation: 2270 Yandex score: 5312.0\n",
      "Users in validation: 2273 Yandex score: 5342.0\n",
      "Users in validation: 2284 Yandex score: 5370.0\n",
      "Users in validation: 2288 Yandex score: 5399.0\n",
      "Users in validation: 2304 Yandex score: 5427.0\n",
      "Users in validation: 2313 Yandex score: 5394.0\n",
      "Users in validation: 2317 Yandex score: 5361.0\n",
      "Users in validation: 2322 Yandex score: 5389.0\n",
      "Users in validation: 2331 Yandex score: 5357.0\n",
      "Users in validation: 2335 Yandex score: 5385.0\n",
      "Users in validation: 2343 Yandex score: 5412.0\n",
      "Users in validation: 2353 Yandex score: 5439.0\n",
      "Users in validation: 2357 Yandex score: 5407.0\n",
      "Users in validation: 2415 Yandex score: 5376.0\n",
      "Users in validation: 2421 Yandex score: 5402.0\n",
      "Users in validation: 2447 Yandex score: 5429.0\n",
      "Users in validation: 2458 Yandex score: 5398.0\n",
      "Users in validation: 2464 Yandex score: 5367.0\n",
      "Users in validation: 2468 Yandex score: 5393.0\n",
      "Users in validation: 2471 Yandex score: 5419.0\n"
     ]
    },
    {
     "name": "stdout",
     "output_type": "stream",
     "text": [
      "Users in validation: 2482 Yandex score: 5389.0\n",
      "Users in validation: 2492 Yandex score: 5359.0\n",
      "Users in validation: 2497 Yandex score: 5330.0\n",
      "Users in validation: 2502 Yandex score: 5355.0\n",
      "Users in validation: 2510 Yandex score: 5380.0\n",
      "Users in validation: 2532 Yandex score: 5351.0\n",
      "Users in validation: 2537 Yandex score: 5323.0\n",
      "Users in validation: 2563 Yandex score: 5294.0\n",
      "Users in validation: 2564 Yandex score: 5266.0\n",
      "Users in validation: 2565 Yandex score: 5238.0\n",
      "Users in validation: 2576 Yandex score: 5263.0\n",
      "Users in validation: 2584 Yandex score: 5288.0\n",
      "Users in validation: 2635 Yandex score: 5312.0\n",
      "Users in validation: 2642 Yandex score: 5285.0\n",
      "Users in validation: 2670 Yandex score: 5258.0\n",
      "Users in validation: 2700 Yandex score: 5282.0\n",
      "Users in validation: 2701 Yandex score: 5255.0\n",
      "Users in validation: 2705 Yandex score: 5228.0\n",
      "Users in validation: 2722 Yandex score: 5202.0\n",
      "Users in validation: 2741 Yandex score: 5176.0\n",
      "Users in validation: 2742 Yandex score: 5150.0\n",
      "Users in validation: 2744 Yandex score: 5124.0\n",
      "Users in validation: 2755 Yandex score: 5149.0\n",
      "Users in validation: 2802 Yandex score: 5123.0\n",
      "Users in validation: 2807 Yandex score: 5147.0\n",
      "Users in validation: 2824 Yandex score: 5171.0\n",
      "Users in validation: 2830 Yandex score: 5194.0\n",
      "Users in validation: 2847 Yandex score: 5217.0\n",
      "Users in validation: 2859 Yandex score: 5240.0\n",
      "Users in validation: 2867 Yandex score: 5263.0\n",
      "Users in validation: 2878 Yandex score: 5286.0\n",
      "Users in validation: 2926 Yandex score: 5308.0\n",
      "Users in validation: 2931 Yandex score: 5283.0\n",
      "Users in validation: 2965 Yandex score: 5258.0\n",
      "Users in validation: 2997 Yandex score: 5234.0\n",
      "Users in validation: 3023 Yandex score: 5209.0\n",
      "Users in validation: 3028 Yandex score: 5185.0\n",
      "Users in validation: 3047 Yandex score: 5207.0\n",
      "Users in validation: 3066 Yandex score: 5183.0\n",
      "Users in validation: 3070 Yandex score: 5205.0\n",
      "Users in validation: 3073 Yandex score: 5182.0\n",
      "Users in validation: 3084 Yandex score: 5204.0\n",
      "Users in validation: 3101 Yandex score: 5225.0\n",
      "Users in validation: 3112 Yandex score: 5247.0\n",
      "Users in validation: 3116 Yandex score: 5223.0\n",
      "Users in validation: 3158 Yandex score: 5200.0\n",
      "Users in validation: 3177 Yandex score: 5221.0\n",
      "Users in validation: 3185 Yandex score: 5242.0\n",
      "Users in validation: 3219 Yandex score: 5263.0\n",
      "Users in validation: 3242 Yandex score: 5240.0\n",
      "Users in validation: 3246 Yandex score: 5261.0\n",
      "Users in validation: 3251 Yandex score: 5281.0\n",
      "Users in validation: 3253 Yandex score: 5302.0\n",
      "Users in validation: 3258 Yandex score: 5279.0\n",
      "Users in validation: 3259 Yandex score: 5299.0\n",
      "Users in validation: 3281 Yandex score: 5277.0\n",
      "Users in validation: 3285 Yandex score: 5254.0\n",
      "Users in validation: 3309 Yandex score: 5274.0\n",
      "Users in validation: 3315 Yandex score: 5252.0\n",
      "Users in validation: 3390 Yandex score: 5230.0\n",
      "Users in validation: 3394 Yandex score: 5208.0\n",
      "Users in validation: 3410 Yandex score: 5187.0\n",
      "Users in validation: 3439 Yandex score: 5207.0\n",
      "Users in validation: 3445 Yandex score: 5226.0\n",
      "Users in validation: 3455 Yandex score: 5205.0\n",
      "Users in validation: 3464 Yandex score: 5224.0\n",
      "Users in validation: 3470 Yandex score: 5203.0\n",
      "Users in validation: 3472 Yandex score: 5182.0\n",
      "Users in validation: 3474 Yandex score: 5161.0\n",
      "Users in validation: 3496 Yandex score: 5141.0\n",
      "Users in validation: 3503 Yandex score: 5160.0\n",
      "Users in validation: 3506 Yandex score: 5179.0\n",
      "Users in validation: 3529 Yandex score: 5159.0\n",
      "Users in validation: 3539 Yandex score: 5138.0\n",
      "Users in validation: 3598 Yandex score: 5157.0\n",
      "Users in validation: 3614 Yandex score: 5176.0\n",
      "Users in validation: 3620 Yandex score: 5156.0\n",
      "Users in validation: 3640 Yandex score: 5175.0\n",
      "Users in validation: 3661 Yandex score: 5155.0\n",
      "Users in validation: 3674 Yandex score: 5135.0\n",
      "Users in validation: 3682 Yandex score: 5154.0\n",
      "Users in validation: 3685 Yandex score: 5172.0\n",
      "Users in validation: 3717 Yandex score: 5153.0\n",
      "Users in validation: 3719 Yandex score: 5133.0\n",
      "Users in validation: 3726 Yandex score: 5114.0\n",
      "Users in validation: 3735 Yandex score: 5094.0\n",
      "Users in validation: 3751 Yandex score: 5075.0\n",
      "Users in validation: 3802 Yandex score: 5056.0\n",
      "Users in validation: 3812 Yandex score: 5037.0\n",
      "Users in validation: 3826 Yandex score: 5056.0\n",
      "Users in validation: 3833 Yandex score: 5037.0\n",
      "Users in validation: 3840 Yandex score: 5055.0\n",
      "Users in validation: 3846 Yandex score: 5074.0\n",
      "Users in validation: 3849 Yandex score: 5055.0\n",
      "Users in validation: 3857 Yandex score: 5036.0\n",
      "Users in validation: 3912 Yandex score: 5018.0\n",
      "Users in validation: 3926 Yandex score: 5036.0\n",
      "Users in validation: 4015 Yandex score: 5018.0\n",
      "Users in validation: 4037 Yandex score: 5000.0\n",
      "Users in validation: 4068 Yandex score: 5018.0\n",
      "Users in validation: 4069 Yandex score: 5000.0\n",
      "Users in validation: 4120 Yandex score: 4982.0\n",
      "Users in validation: 4127 Yandex score: 5000.0\n",
      "Users in validation: 4158 Yandex score: 5018.0\n",
      "Users in validation: 4170 Yandex score: 5035.0\n",
      "Users in validation: 4201 Yandex score: 5053.0\n",
      "Users in validation: 4209 Yandex score: 5070.0\n",
      "Users in validation: 4232 Yandex score: 5052.0\n",
      "Users in validation: 4253 Yandex score: 5035.0\n",
      "Users in validation: 4265 Yandex score: 5052.0\n",
      "Users in validation: 4269 Yandex score: 5069.0\n",
      "Users in validation: 4276 Yandex score: 5052.0\n",
      "Users in validation: 4312 Yandex score: 5034.0\n",
      "Users in validation: 4314 Yandex score: 5017.0\n",
      "Users in validation: 4342 Yandex score: 5034.0\n",
      "Users in validation: 4360 Yandex score: 5051.0\n",
      "Users in validation: 4361 Yandex score: 5068.0\n",
      "Users in validation: 4401 Yandex score: 5084.0\n",
      "Users in validation: 4437 Yandex score: 5067.0\n",
      "Users in validation: 4442 Yandex score: 5084.0\n",
      "Users in validation: 4468 Yandex score: 5067.0\n",
      "Users in validation: 4493 Yandex score: 5050.0\n",
      "Users in validation: 4529 Yandex score: 5033.0\n",
      "Users in validation: 4540 Yandex score: 5017.0\n",
      "Users in validation: 4556 Yandex score: 5000.0\n",
      "Users in validation: 4576 Yandex score: 4984.0\n",
      "Users in validation: 4585 Yandex score: 5000.0\n",
      "Users in validation: 4606 Yandex score: 4984.0\n",
      "Users in validation: 4618 Yandex score: 4968.0\n",
      "Users in validation: 4620 Yandex score: 4951.0\n",
      "Users in validation: 4635 Yandex score: 4935.0\n",
      "Users in validation: 4637 Yandex score: 4920.0\n",
      "Users in validation: 4649 Yandex score: 4904.0\n",
      "Users in validation: 4666 Yandex score: 4920.0\n",
      "Users in validation: 4676 Yandex score: 4904.0\n",
      "Users in validation: 4679 Yandex score: 4889.0\n",
      "Users in validation: 4685 Yandex score: 4873.0\n",
      "Users in validation: 4721 Yandex score: 4858.0\n",
      "Users in validation: 4732 Yandex score: 4843.0\n",
      "Users in validation: 4748 Yandex score: 4828.0\n",
      "Users in validation: 4760 Yandex score: 4844.0\n",
      "Users in validation: 4766 Yandex score: 4829.0\n",
      "Users in validation: 4767 Yandex score: 4814.0\n",
      "Users in validation: 4810 Yandex score: 4830.0\n",
      "Users in validation: 4814 Yandex score: 4815.0\n",
      "Users in validation: 4831 Yandex score: 4831.0\n",
      "Users in validation: 4857 Yandex score: 4847.0\n",
      "Users in validation: 4888 Yandex score: 4832.0\n",
      "Users in validation: 4898 Yandex score: 4817.0\n",
      "Users in validation: 4915 Yandex score: 4802.0\n",
      "Users in validation: 4975 Yandex score: 4818.0\n",
      "Users in validation: 4979 Yandex score: 4804.0\n"
     ]
    }
   ],
   "source": [
    "dfff = pd.DataFrame({})\n",
    "dfff['where'] = np.arange(0,200)\n",
    "dfff['acc'] = 0\n",
    "dfff['seen'] = 0\n",
    "\n",
    "X_valid = cv.transform(strings_train['id3'].astype('str'))[-strings_train[strings_train.user_id>iid].shape[0]:]\n",
    "tt = strings_train[strings_train.user_id>iid].reset_index(drop=True)\n",
    "where_to_check_list = []\n",
    "acc = 0\n",
    "checked = 0\n",
    "for i in range(0, 5000):\n",
    "    try:\n",
    "        X_test1 = pd.concat([pd.concat([pd.DataFrame(X_valid[i].todense())]*len(topid3_values), ignore_index=True), pd.DataFrame({'target': topid3_values}, index=range(0,len(topid3_values)))], axis=1)\n",
    " \n",
    "        model_prediction = model.predict(X_test1)\n",
    "        pred = pd.DataFrame({\n",
    "        'value': model_prediction,\n",
    "        'label': topid3_values\n",
    "        })\n",
    "        pred = pred.sort_values(by='value', ascending=False)\n",
    "        forbiden = list(map(int, tt.id3[i].split(' ')))\n",
    "        fin_pred = [x for x in list(pred['label']) if x not in forbiden][0:5]\n",
    "        sss = list(pred[pred.label==fin_pred[-1]]['value'])[0]\n",
    "    \n",
    "        if (len(fin_pred)<5):\n",
    "            low = low +1\n",
    "    \n",
    "        while (len(fin_pred)<5):\n",
    "            fin_pred.append(610)\n",
    "    \n",
    "        true_values = y_val_dict[tt['user_id'][i]]\n",
    "        \n",
    "        where_to_check = np.where(pred.reset_index(drop=True).label==fin_pred[-1])[0][0]  \n",
    "        where_to_check_list.append(where_to_check)\n",
    "        \n",
    "        checked = checked + 1\n",
    "        print('Users in validation:', i, 'Yandex score:', np.round(acc/(checked+1)*10000))\n",
    "        \n",
    "        if (len(set(fin_pred) - true_values)<5):\n",
    "            acc = acc+1\n",
    "            dfff['acc'][dfff['where']==where_to_check] = dfff['acc'][dfff['where']==where_to_check] + 1\n",
    "        dfff['seen'][dfff['where']==where_to_check] = dfff['seen'][dfff['where']==where_to_check] + 1\n",
    "    \n",
    "    except:\n",
    "            pass"
   ]
  },
  {
   "cell_type": "code",
   "execution_count": 40,
   "metadata": {
    "ExecuteTime": {
     "end_time": "2018-02-11T13:35:35.249640Z",
     "start_time": "2018-02-11T13:35:35.246484Z"
    }
   },
   "outputs": [
    {
     "data": {
      "text/plain": [
       "(array([ 4,  5,  6,  7,  8,  9, 10, 11, 12, 13, 14, 15, 16, 17, 21, 22, 66]),\n",
       " array([24, 46, 47, 50, 43, 35, 16, 15, 20,  9,  9,  7,  4,  2,  1,  1,  1]))"
      ]
     },
     "execution_count": 40,
     "metadata": {},
     "output_type": "execute_result"
    }
   ],
   "source": [
    "# where to check model metrics \n",
    "np.unique(where_to_check_list, return_counts=True)"
   ]
  },
  {
   "cell_type": "markdown",
   "metadata": {},
   "source": [
    "## pred test "
   ]
  },
  {
   "cell_type": "code",
   "execution_count": 41,
   "metadata": {
    "ExecuteTime": {
     "end_time": "2018-02-11T13:43:50.127810Z",
     "start_time": "2018-02-11T13:35:35.251027Z"
    },
    "scrolled": true
   },
   "outputs": [
    {
     "name": "stdout",
     "output_type": "stream",
     "text": [
      "CPU times: user 18min 14s, sys: 2.45 s, total: 18min 17s\n",
      "Wall time: 8min 14s\n"
     ]
    }
   ],
   "source": [
    "%%time\n",
    "low = 0\n",
    "sub = pd.DataFrame({})\n",
    "min_last = []\n",
    "# 53979\n",
    "for i in range(0, X_test.shape[0]):\n",
    "\n",
    "    X_test1 = pd.concat([pd.concat([pd.DataFrame(X_test[i].todense())]*len(topid3_values), ignore_index=True), pd.DataFrame({'target': topid3_values}, index=range(0,len(topid3_values)))], axis=1)\n",
    "    model_prediction = model.predict(X_test1)\n",
    "    pred = pd.DataFrame({\n",
    "        'value': model_prediction,\n",
    "        'label': topid3_values\n",
    "    })\n",
    "    pred = pred.sort_values(by='value', ascending=False)\n",
    "    forbiden = list(map(int, strings_test.id3[i].split(' ')))\n",
    "    fin_pred = [x for x in list(pred['label']) if x not in forbiden][0:5]\n",
    "    \n",
    "    if (len(fin_pred)==0):\n",
    "        sss = 0\n",
    "    else:\n",
    "        sss = list(pred[pred.label==fin_pred[-1]]['value'])[0]\n",
    "    \n",
    "    if (len(fin_pred)>=1):\n",
    "        min_last.append(pred['value'][pred.label==fin_pred[-1:]].values[0])\n",
    "    \n",
    "    if (len(fin_pred)<5):\n",
    "        low = low +1\n",
    "    \n",
    "    while (len(fin_pred)<5):\n",
    "        fin_pred.append(610)\n",
    "\n",
    "    temp_df = pd.DataFrame({\n",
    "        'user_id': strings_test['user_id'][i],\n",
    "        'id3_1':int(fin_pred[0]),\n",
    "        'id3_2':int(fin_pred[1]),\n",
    "        'id3_3':int(fin_pred[2]),\n",
    "        'id3_4':int(fin_pred[3]),\n",
    "        'id3_5':int(fin_pred[4]),\n",
    "        'last': sss\n",
    "    }, index = [0])\n",
    "    sub = pd.concat([sub, temp_df])"
   ]
  },
  {
   "cell_type": "code",
   "execution_count": null,
   "metadata": {},
   "outputs": [],
   "source": []
  },
  {
   "cell_type": "code",
   "execution_count": null,
   "metadata": {},
   "outputs": [],
   "source": []
  },
  {
   "cell_type": "code",
   "execution_count": 42,
   "metadata": {
    "ExecuteTime": {
     "end_time": "2018-02-11T13:43:50.139659Z",
     "start_time": "2018-02-11T13:43:50.128849Z"
    }
   },
   "outputs": [
    {
     "name": "stdout",
     "output_type": "stream",
     "text": [
      "(53979, 7)\n",
      "(53979, 7)\n"
     ]
    }
   ],
   "source": [
    "print(sub.shape)\n",
    "sub = sub.drop_duplicates()\n",
    "print(sub.shape)"
   ]
  },
  {
   "cell_type": "code",
   "execution_count": 43,
   "metadata": {
    "ExecuteTime": {
     "end_time": "2018-02-11T13:43:50.253755Z",
     "start_time": "2018-02-11T13:43:50.140827Z"
    }
   },
   "outputs": [],
   "source": [
    "sub = sub.sort_values(by='last', ascending=False)"
   ]
  },
  {
   "cell_type": "code",
   "execution_count": 44,
   "metadata": {
    "ExecuteTime": {
     "end_time": "2018-02-11T13:43:50.364659Z",
     "start_time": "2018-02-11T13:43:50.254766Z"
    }
   },
   "outputs": [
    {
     "data": {
      "text/html": [
       "<div>\n",
       "<style scoped>\n",
       "    .dataframe tbody tr th:only-of-type {\n",
       "        vertical-align: middle;\n",
       "    }\n",
       "\n",
       "    .dataframe tbody tr th {\n",
       "        vertical-align: top;\n",
       "    }\n",
       "\n",
       "    .dataframe thead th {\n",
       "        text-align: right;\n",
       "    }\n",
       "</style>\n",
       "<table border=\"1\" class=\"dataframe\">\n",
       "  <thead>\n",
       "    <tr style=\"text-align: right;\">\n",
       "      <th></th>\n",
       "      <th>id3_1</th>\n",
       "      <th>id3_2</th>\n",
       "      <th>id3_3</th>\n",
       "      <th>id3_4</th>\n",
       "      <th>id3_5</th>\n",
       "      <th>last</th>\n",
       "      <th>user_id</th>\n",
       "    </tr>\n",
       "  </thead>\n",
       "  <tbody>\n",
       "    <tr>\n",
       "      <th>0</th>\n",
       "      <td>145</td>\n",
       "      <td>640</td>\n",
       "      <td>860</td>\n",
       "      <td>840</td>\n",
       "      <td>554</td>\n",
       "      <td>0.11</td>\n",
       "      <td>130405</td>\n",
       "    </tr>\n",
       "    <tr>\n",
       "      <th>0</th>\n",
       "      <td>640</td>\n",
       "      <td>860</td>\n",
       "      <td>840</td>\n",
       "      <td>554</td>\n",
       "      <td>704</td>\n",
       "      <td>0.11</td>\n",
       "      <td>205938</td>\n",
       "    </tr>\n",
       "    <tr>\n",
       "      <th>0</th>\n",
       "      <td>700</td>\n",
       "      <td>132</td>\n",
       "      <td>247</td>\n",
       "      <td>554</td>\n",
       "      <td>137</td>\n",
       "      <td>0.11</td>\n",
       "      <td>17373</td>\n",
       "    </tr>\n",
       "    <tr>\n",
       "      <th>0</th>\n",
       "      <td>329</td>\n",
       "      <td>311</td>\n",
       "      <td>704</td>\n",
       "      <td>813</td>\n",
       "      <td>392</td>\n",
       "      <td>0.11</td>\n",
       "      <td>181674</td>\n",
       "    </tr>\n",
       "    <tr>\n",
       "      <th>0</th>\n",
       "      <td>860</td>\n",
       "      <td>841</td>\n",
       "      <td>554</td>\n",
       "      <td>111</td>\n",
       "      <td>392</td>\n",
       "      <td>0.11</td>\n",
       "      <td>489117</td>\n",
       "    </tr>\n",
       "  </tbody>\n",
       "</table>\n",
       "</div>"
      ],
      "text/plain": [
       "   id3_1  id3_2  id3_3  id3_4  id3_5  last  user_id\n",
       "0    145    640    860    840    554  0.11   130405\n",
       "0    640    860    840    554    704  0.11   205938\n",
       "0    700    132    247    554    137  0.11    17373\n",
       "0    329    311    704    813    392  0.11   181674\n",
       "0    860    841    554    111    392  0.11   489117"
      ]
     },
     "execution_count": 44,
     "metadata": {},
     "output_type": "execute_result"
    }
   ],
   "source": [
    "sub[0:53979].head()"
   ]
  },
  {
   "cell_type": "code",
   "execution_count": 45,
   "metadata": {
    "ExecuteTime": {
     "end_time": "2018-02-11T13:43:50.460247Z",
     "start_time": "2018-02-11T13:43:50.366089Z"
    }
   },
   "outputs": [
    {
     "data": {
      "text/plain": [
       "(53979, 7)"
      ]
     },
     "execution_count": 45,
     "metadata": {},
     "output_type": "execute_result"
    }
   ],
   "source": [
    "sub.shape"
   ]
  },
  {
   "cell_type": "code",
   "execution_count": 47,
   "metadata": {
    "ExecuteTime": {
     "end_time": "2018-02-11T13:45:06.727727Z",
     "start_time": "2018-02-11T13:45:06.419858Z"
    }
   },
   "outputs": [],
   "source": [
    "sampe_sub = sub[['user_id','id3_1','id3_2','id3_3','id3_4','id3_5']][0:53979]\n",
    "sampe_sub.to_csv('sample_sub23.csv', index=False)\n",
    "#  2807 - sample_sub23\n",
    "#  1411 - sample_sub22\n",
    "#  2131 - sample_sub21"
   ]
  },
  {
   "cell_type": "code",
   "execution_count": null,
   "metadata": {
    "ExecuteTime": {
     "end_time": "2018-02-11T12:13:33.307710Z",
     "start_time": "2018-02-11T12:13:33.301029Z"
    }
   },
   "outputs": [],
   "source": [
    "sampe_sub.head()"
   ]
  },
  {
   "cell_type": "code",
   "execution_count": 46,
   "metadata": {
    "ExecuteTime": {
     "end_time": "2018-02-11T13:43:51.058358Z",
     "start_time": "2018-02-11T13:43:50.461359Z"
    }
   },
   "outputs": [
    {
     "name": "stderr",
     "output_type": "stream",
     "text": [
      "Use token 1260389131217015787.\n"
     ]
    },
    {
     "data": {
      "text/plain": [
       "'Very magic, wow!\\n'"
      ]
     },
     "execution_count": 46,
     "metadata": {},
     "output_type": "execute_result"
    }
   ],
   "source": [
    "import telepyth # push notif in telegram\n",
    "\n",
    "%telepyth -t 1260389131217015787\n",
    "%telepyth 'Very magic, wow!\\n' "
   ]
  }
 ],
 "metadata": {
  "kernelspec": {
   "display_name": "Python 3",
   "language": "python",
   "name": "python3"
  },
  "language_info": {
   "codemirror_mode": {
    "name": "ipython",
    "version": 3
   },
   "file_extension": ".py",
   "mimetype": "text/x-python",
   "name": "python",
   "nbconvert_exporter": "python",
   "pygments_lexer": "ipython3",
   "version": "3.6.0"
  }
 },
 "nbformat": 4,
 "nbformat_minor": 2
}
