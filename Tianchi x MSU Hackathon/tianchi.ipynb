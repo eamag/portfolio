{
 "cells": [
  {
   "cell_type": "code",
   "execution_count": 15,
   "metadata": {
    "ExecuteTime": {
     "end_time": "2018-04-21T10:54:00.184453Z",
     "start_time": "2018-04-21T10:53:59.964446Z"
    }
   },
   "outputs": [],
   "source": [
    "%matplotlib inline\n",
    "import matplotlib.pyplot as plt\n",
    "import seaborn as sns\n",
    "import numpy as np\n",
    "import os\n",
    "import pandas as pd\n",
    "from tqdm import tqdm_notebook as tqdm"
   ]
  },
  {
   "cell_type": "markdown",
   "metadata": {},
   "source": [
    "https://tianchi.aliyun.com/competition/information.htm?spm=5176.100067.5678.2.4907341f5FWhlL&raceId=231656"
   ]
  },
  {
   "cell_type": "code",
   "execution_count": 16,
   "metadata": {
    "ExecuteTime": {
     "end_time": "2018-04-21T10:54:06.171323Z",
     "start_time": "2018-04-21T10:54:00.189389Z"
    }
   },
   "outputs": [],
   "source": [
    "\n",
    "test = pd.read_csv('round1_ijcai_18_test_b_20180418.txt', sep=' ')\n",
    "\n",
    "train = pd.read_csv('round1_ijcai_18_train_20180301 (1).zip', sep=' ')\n",
    "\n",
    "sample_sub = pd.read_csv('round1_ijcai_18_result_demo_20180301.txt', sep=' ')\n"
   ]
  },
  {
   "cell_type": "code",
   "execution_count": 32,
   "metadata": {
    "ExecuteTime": {
     "end_time": "2018-04-21T11:19:48.822815Z",
     "start_time": "2018-04-21T11:19:29.270363Z"
    }
   },
   "outputs": [
    {
     "data": {
      "text/plain": [
       "(478138, 42)"
      ]
     },
     "execution_count": 32,
     "metadata": {},
     "output_type": "execute_result"
    }
   ],
   "source": [
    "# predict_category_property = train.predict_category_property.str.split(';',expand=True)\n",
    "df = predict_category_property.copy()\n",
    "for col in predict_category_property:\n",
    "    df = pd.concat([df, predict_category_property[col].str.split(':',expand=True)], axis=1)\n",
    "df.shape"
   ]
  },
  {
   "cell_type": "code",
   "execution_count": 3,
   "metadata": {
    "ExecuteTime": {
     "end_time": "2018-04-21T10:16:34.227951Z",
     "start_time": "2018-04-21T10:16:17.547584Z"
    }
   },
   "outputs": [],
   "source": [
    "import time\n",
    "def preprocess(train):\n",
    "    def timestamp2datetime(ts):\n",
    "        dt = time.strftime('%Y-%m-%d %H:%M:%S', time.localtime(ts))\n",
    "        return dt\n",
    "    train['Timestamp'] = train.context_timestamp.apply(timestamp2datetime)\n",
    "    train = train.drop(['context_timestamp'], axis=1)\n",
    "    def time_preprocess(X):\n",
    "        X['Timestamp'] = pd.to_datetime(X['Timestamp'])\n",
    "#         X['year'] = X['Timestamp'].dt.year\n",
    "#         X['month'] = X['Timestamp'].dt.month \n",
    "        X['day'] = X['Timestamp'].dt.day\n",
    "        X['week_day'] = X['Timestamp'].dt.weekday\n",
    "        X['hour'] = X['Timestamp'].dt.hour\n",
    "        X['minute'] = X['Timestamp'].dt.minute\n",
    "        X['minute'] = X['minute'] // 15 * 15\n",
    "        X = X.drop('Timestamp', axis=1)    \n",
    "        return X\n",
    "    train = time_preprocess(train)\n",
    "\n",
    "    train['item_category_list'] = pd.to_numeric(train.item_category_list.str.split(';', expand=True)[1])\n",
    "\n",
    "    df = train.item_property_list.str.split(';', expand=True)\n",
    "\n",
    "    df = df.iloc[:, :21].fillna(-1).apply(pd.to_numeric)\n",
    "    train = pd.concat([train, df], axis=1).reset_index(drop=True).drop('item_property_list', axis=1)\n",
    "\n",
    "    train['predict_category_property'] = train.predict_category_property.str.split(';',\n",
    "                                                                                   expand=True).isnull().sum(axis=1)\n",
    "    train.columns = list(map(str, train.columns.tolist()))\n",
    "\n",
    "    return train\n",
    "train = preprocess(train)\n",
    "test = preprocess(test)"
   ]
  },
  {
   "cell_type": "code",
   "execution_count": 4,
   "metadata": {
    "ExecuteTime": {
     "end_time": "2018-04-21T10:17:30.994481Z",
     "start_time": "2018-04-21T10:16:34.229113Z"
    }
   },
   "outputs": [
    {
     "name": "stderr",
     "output_type": "stream",
     "text": [
      "/home/magas/.pyenv/versions/3.6.0/envs/general/lib/python3.6/site-packages/pandas_profiling/plot.py:15: UserWarning: \n",
      "This call to matplotlib.use() has no effect because the backend has already\n",
      "been chosen; matplotlib.use() must be called *before* pylab, matplotlib.pyplot,\n",
      "or matplotlib.backends is imported for the first time.\n",
      "\n",
      "The backend was *originally* set to 'module://ipykernel.pylab.backend_inline' by the following code:\n",
      "  File \"/home/magas/.pyenv/versions/3.6.0/lib/python3.6/runpy.py\", line 193, in _run_module_as_main\n",
      "    \"__main__\", mod_spec)\n",
      "  File \"/home/magas/.pyenv/versions/3.6.0/lib/python3.6/runpy.py\", line 85, in _run_code\n",
      "    exec(code, run_globals)\n",
      "  File \"/home/magas/.pyenv/versions/3.6.0/envs/general/lib/python3.6/site-packages/ipykernel_launcher.py\", line 16, in <module>\n",
      "    app.launch_new_instance()\n",
      "  File \"/home/magas/.pyenv/versions/3.6.0/envs/general/lib/python3.6/site-packages/traitlets/config/application.py\", line 658, in launch_instance\n",
      "    app.start()\n",
      "  File \"/home/magas/.pyenv/versions/3.6.0/envs/general/lib/python3.6/site-packages/ipykernel/kernelapp.py\", line 486, in start\n",
      "    self.io_loop.start()\n",
      "  File \"/home/magas/.pyenv/versions/3.6.0/envs/general/lib/python3.6/site-packages/tornado/platform/asyncio.py\", line 112, in start\n",
      "    self.asyncio_loop.run_forever()\n",
      "  File \"/home/magas/.pyenv/versions/3.6.0/lib/python3.6/asyncio/base_events.py\", line 421, in run_forever\n",
      "    self._run_once()\n",
      "  File \"/home/magas/.pyenv/versions/3.6.0/lib/python3.6/asyncio/base_events.py\", line 1425, in _run_once\n",
      "    handle._run()\n",
      "  File \"/home/magas/.pyenv/versions/3.6.0/lib/python3.6/asyncio/events.py\", line 126, in _run\n",
      "    self._callback(*self._args)\n",
      "  File \"/home/magas/.pyenv/versions/3.6.0/envs/general/lib/python3.6/site-packages/tornado/ioloop.py\", line 760, in _run_callback\n",
      "    ret = callback()\n",
      "  File \"/home/magas/.pyenv/versions/3.6.0/envs/general/lib/python3.6/site-packages/tornado/stack_context.py\", line 276, in null_wrapper\n",
      "    return fn(*args, **kwargs)\n",
      "  File \"/home/magas/.pyenv/versions/3.6.0/envs/general/lib/python3.6/site-packages/zmq/eventloop/zmqstream.py\", line 536, in <lambda>\n",
      "    self.io_loop.add_callback(lambda : self._handle_events(self.socket, 0))\n",
      "  File \"/home/magas/.pyenv/versions/3.6.0/envs/general/lib/python3.6/site-packages/zmq/eventloop/zmqstream.py\", line 450, in _handle_events\n",
      "    self._handle_recv()\n",
      "  File \"/home/magas/.pyenv/versions/3.6.0/envs/general/lib/python3.6/site-packages/zmq/eventloop/zmqstream.py\", line 480, in _handle_recv\n",
      "    self._run_callback(callback, msg)\n",
      "  File \"/home/magas/.pyenv/versions/3.6.0/envs/general/lib/python3.6/site-packages/zmq/eventloop/zmqstream.py\", line 432, in _run_callback\n",
      "    callback(*args, **kwargs)\n",
      "  File \"/home/magas/.pyenv/versions/3.6.0/envs/general/lib/python3.6/site-packages/tornado/stack_context.py\", line 276, in null_wrapper\n",
      "    return fn(*args, **kwargs)\n",
      "  File \"/home/magas/.pyenv/versions/3.6.0/envs/general/lib/python3.6/site-packages/ipykernel/kernelbase.py\", line 283, in dispatcher\n",
      "    return self.dispatch_shell(stream, msg)\n",
      "  File \"/home/magas/.pyenv/versions/3.6.0/envs/general/lib/python3.6/site-packages/ipykernel/kernelbase.py\", line 233, in dispatch_shell\n",
      "    handler(stream, idents, msg)\n",
      "  File \"/home/magas/.pyenv/versions/3.6.0/envs/general/lib/python3.6/site-packages/ipykernel/kernelbase.py\", line 399, in execute_request\n",
      "    user_expressions, allow_stdin)\n",
      "  File \"/home/magas/.pyenv/versions/3.6.0/envs/general/lib/python3.6/site-packages/ipykernel/ipkernel.py\", line 208, in do_execute\n",
      "    res = shell.run_cell(code, store_history=store_history, silent=silent)\n",
      "  File \"/home/magas/.pyenv/versions/3.6.0/envs/general/lib/python3.6/site-packages/ipykernel/zmqshell.py\", line 537, in run_cell\n",
      "    return super(ZMQInteractiveShell, self).run_cell(*args, **kwargs)\n",
      "  File \"/home/magas/.pyenv/versions/3.6.0/envs/general/lib/python3.6/site-packages/IPython/core/interactiveshell.py\", line 2739, in run_cell\n",
      "    self.events.trigger('post_run_cell')\n",
      "  File \"/home/magas/.pyenv/versions/3.6.0/envs/general/lib/python3.6/site-packages/IPython/core/events.py\", line 73, in trigger\n",
      "    func(*args, **kwargs)\n",
      "  File \"/home/magas/.pyenv/versions/3.6.0/envs/general/lib/python3.6/site-packages/ipykernel/pylab/backend_inline.py\", line 160, in configure_once\n",
      "    activate_matplotlib(backend)\n",
      "  File \"/home/magas/.pyenv/versions/3.6.0/envs/general/lib/python3.6/site-packages/IPython/core/pylabtools.py\", line 308, in activate_matplotlib\n",
      "    matplotlib.pyplot.switch_backend(backend)\n",
      "  File \"/home/magas/.pyenv/versions/3.6.0/envs/general/lib/python3.6/site-packages/matplotlib/pyplot.py\", line 229, in switch_backend\n",
      "    matplotlib.use(newbackend, warn=False, force=True)\n",
      "  File \"/home/magas/.pyenv/versions/3.6.0/envs/general/lib/python3.6/site-packages/matplotlib/__init__.py\", line 1305, in use\n",
      "    reload(sys.modules['matplotlib.backends'])\n",
      "  File \"/home/magas/.pyenv/versions/3.6.0/lib/python3.6/importlib/__init__.py\", line 166, in reload\n",
      "    _bootstrap._exec(spec, module)\n",
      "  File \"/home/magas/.pyenv/versions/3.6.0/envs/general/lib/python3.6/site-packages/matplotlib/backends/__init__.py\", line 14, in <module>\n",
      "    line for line in traceback.format_stack()\n",
      "\n",
      "\n",
      "  matplotlib.use(BACKEND)\n"
     ]
    },
    {
     "data": {
      "text/plain": [
       "['shop_score_delivery',\n",
       " 'shop_score_description',\n",
       " 'shop_star_level',\n",
       " 'user_occupation_id',\n",
       " 'user_star_level']"
      ]
     },
     "execution_count": 4,
     "metadata": {},
     "output_type": "execute_result"
    }
   ],
   "source": [
    "from pandas_profiling import ProfileReport\n",
    "profile = ProfileReport(train)\n",
    "rejected_variables = profile.get_rejected_variables(threshold=0.9)\n",
    "rejected_variables"
   ]
  },
  {
   "cell_type": "code",
   "execution_count": 11,
   "metadata": {
    "ExecuteTime": {
     "end_time": "2018-04-21T10:21:04.677973Z",
     "start_time": "2018-04-21T10:21:04.188096Z"
    }
   },
   "outputs": [],
   "source": [
    "from sklearn.model_selection import train_test_split\n",
    "x_train, x_test, y_train, y_test = train_test_split(\n",
    "    train.drop(['is_trade', 'instance_id'] + rejected_variables, axis=1).values, train['is_trade'].values,\n",
    "    test_size=0.2)\n",
    "\n",
    "from sklearn.metrics import log_loss\n",
    "import lightgbm as lgb\n",
    "import telepyth # push notif in telegram\n",
    "%telepyth -t 1260389131217015787\n",
    "%load_ext wurlitzer\n",
    "verbose = 1\n",
    "plot = 1\n",
    "params = {\n",
    "#     \"max_bin\": 1024,\n",
    "#     \"learning_rate\": 0.01,\n",
    "    \"boosting_type\": \"dart\",\n",
    "    \"objective\": \"binary\",\n",
    "    'num_iterations':1000,\n",
    "    \"metric\": \"binary\",\n",
    "    \"num_leaves\": 2**12,\n",
    "    \"verbose\": 1,\n",
    "    \"min_data_in_leaf\": 40,\n",
    "#     \"boost_from_average\": True\n",
    "    'early_stopping_round': 50,\n",
    "    'bagging_fraction':0.7\n",
    "\n",
    "}\n",
    "\n",
    "d_train = lgb.Dataset(x_train, y_train)\n",
    "d_valid = lgb.Dataset(x_test, label=y_test)\n",
    "model = lgb.train(params, d_train, valid_sets=d_valid)\n",
    "\n",
    "df_fi = pd.DataFrame(train.drop(['is_trade', 'instance_id'] + rejected_variables, axis=1).columns, columns=['feature'])\n",
    "df_fi['importance'] = list(model.feature_importance('gain'))\n",
    "df_fi.sort_values('importance', ascending=False, inplace=True)\n",
    "# print(df_fi)\n",
    "if plot:\n",
    "    plt.figure()\n",
    "    df_fi.head(10).plot(kind='barh', x='feature', y='importance')\n",
    "#     plt.title('Roc_auc is {}'.format(roc_auc_score(y_test, y_pred)))\n",
    "    plt.xlabel('relative importance')\n",
    "    plt.show()"
   ]
  },
  {
   "cell_type": "code",
   "execution_count": 8,
   "metadata": {
    "ExecuteTime": {
     "end_time": "2018-04-21T10:18:48.281927Z",
     "start_time": "2018-04-21T10:18:47.750998Z"
    }
   },
   "outputs": [],
   "source": [
    "y_pred = model.predict(test.drop(rejected_variables, axis=1))"
   ]
  },
  {
   "cell_type": "code",
   "execution_count": 9,
   "metadata": {
    "ExecuteTime": {
     "end_time": "2018-04-21T10:18:48.770521Z",
     "start_time": "2018-04-21T10:18:48.283135Z"
    }
   },
   "outputs": [],
   "source": [
    "sub = pd.DataFrame(test.instance_id, columns=['instance_id'])\n",
    "sub['predicted_score'] = y_pred\n",
    "sub.to_csv('sub.txt', sep=' ', index=False)"
   ]
  },
  {
   "cell_type": "markdown",
   "metadata": {},
   "source": [
    "https://github.com/Microsoft/LightGBM/blob/master/docs/Parameters.rst\n",
    "\n",
    "https://tianchi.aliyun.com/competition/uploadResult.htm?spm=5176.11165320.5678.6.250e3ce10SUPZj&raceId=231656"
   ]
  }
 ],
 "metadata": {
  "kernelspec": {
   "display_name": "Python 3",
   "language": "python",
   "name": "python3"
  },
  "language_info": {
   "codemirror_mode": {
    "name": "ipython",
    "version": 3
   },
   "file_extension": ".py",
   "mimetype": "text/x-python",
   "name": "python",
   "nbconvert_exporter": "python",
   "pygments_lexer": "ipython3",
   "version": "3.6.0"
  }
 },
 "nbformat": 4,
 "nbformat_minor": 2
}
