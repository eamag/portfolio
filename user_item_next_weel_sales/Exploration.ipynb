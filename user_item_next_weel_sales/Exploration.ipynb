{
 "cells": [
  {
   "cell_type": "code",
   "execution_count": 57,
   "metadata": {},
   "outputs": [
    {
     "name": "stderr",
     "output_type": "stream",
     "text": [
      "2019-08-27 19:21:59,766 DEBUG    Loaded backend module://ipykernel.pylab.backend_inline version unknown.\n"
     ]
    },
    {
     "name": "stdout",
     "output_type": "stream",
     "text": [
      "The autoreload extension is already loaded. To reload it, use:\n",
      "  %reload_ext autoreload\n"
     ]
    }
   ],
   "source": [
    "# %cd ..\n",
    "%matplotlib inline\n",
    "%load_ext autoreload\n",
    "%autoreload 2\n",
    "# %load_ext autotime\n",
    "\n",
    "import os\n",
    "import pandas as pd\n",
    "import numpy as np\n",
    "import catboost as ctb\n",
    "from sklearn import metrics\n"
   ]
  },
  {
   "cell_type": "code",
   "execution_count": 58,
   "metadata": {},
   "outputs": [
    {
     "data": {
      "text/html": [
       "<div>\n",
       "<style scoped>\n",
       "    .dataframe tbody tr th:only-of-type {\n",
       "        vertical-align: middle;\n",
       "    }\n",
       "\n",
       "    .dataframe tbody tr th {\n",
       "        vertical-align: top;\n",
       "    }\n",
       "\n",
       "    .dataframe thead th {\n",
       "        text-align: right;\n",
       "    }\n",
       "</style>\n",
       "<table border=\"1\" class=\"dataframe\">\n",
       "  <thead>\n",
       "    <tr style=\"text-align: right;\">\n",
       "      <th></th>\n",
       "      <th>i</th>\n",
       "      <th>j</th>\n",
       "      <th>t</th>\n",
       "      <th>price</th>\n",
       "      <th>advertised</th>\n",
       "    </tr>\n",
       "  </thead>\n",
       "  <tbody>\n",
       "    <tr>\n",
       "      <th>76497</th>\n",
       "      <td>1989</td>\n",
       "      <td>30</td>\n",
       "      <td>48</td>\n",
       "      <td>1.961365</td>\n",
       "      <td>0</td>\n",
       "    </tr>\n",
       "    <tr>\n",
       "      <th>76498</th>\n",
       "      <td>1990</td>\n",
       "      <td>15</td>\n",
       "      <td>48</td>\n",
       "      <td>0.924350</td>\n",
       "      <td>0</td>\n",
       "    </tr>\n",
       "    <tr>\n",
       "      <th>76499</th>\n",
       "      <td>1991</td>\n",
       "      <td>6</td>\n",
       "      <td>48</td>\n",
       "      <td>0.799155</td>\n",
       "      <td>0</td>\n",
       "    </tr>\n",
       "    <tr>\n",
       "      <th>76500</th>\n",
       "      <td>1994</td>\n",
       "      <td>30</td>\n",
       "      <td>48</td>\n",
       "      <td>1.961365</td>\n",
       "      <td>0</td>\n",
       "    </tr>\n",
       "    <tr>\n",
       "      <th>76501</th>\n",
       "      <td>1999</td>\n",
       "      <td>13</td>\n",
       "      <td>48</td>\n",
       "      <td>2.295451</td>\n",
       "      <td>0</td>\n",
       "    </tr>\n",
       "  </tbody>\n",
       "</table>\n",
       "</div>"
      ],
      "text/plain": [
       "          i   j   t     price  advertised\n",
       "76497  1989  30  48  1.961365           0\n",
       "76498  1990  15  48  0.924350           0\n",
       "76499  1991   6  48  0.799155           0\n",
       "76500  1994  30  48  1.961365           0\n",
       "76501  1999  13  48  2.295451           0"
      ]
     },
     "execution_count": 58,
     "metadata": {},
     "output_type": "execute_result"
    }
   ],
   "source": [
    "prediction_example = pd.read_csv('prediction_example.csv')\n",
    "promotion_schedule = pd.read_csv('promotion_schedule.csv')\n",
    "train = pd.read_csv('train.csv')\n",
    "train.tail()"
   ]
  },
  {
   "cell_type": "code",
   "execution_count": 59,
   "metadata": {},
   "outputs": [
    {
     "data": {
      "text/plain": [
       "0    38\n",
       "1     1\n",
       "Name: advertised, dtype: int64"
      ]
     },
     "execution_count": 59,
     "metadata": {},
     "output_type": "execute_result"
    }
   ],
   "source": [
    "promotion_schedule.advertised.value_counts()"
   ]
  },
  {
   "cell_type": "code",
   "execution_count": 61,
   "metadata": {},
   "outputs": [
    {
     "data": {
      "text/html": [
       "<div>\n",
       "<style scoped>\n",
       "    .dataframe tbody tr th:only-of-type {\n",
       "        vertical-align: middle;\n",
       "    }\n",
       "\n",
       "    .dataframe tbody tr th {\n",
       "        vertical-align: top;\n",
       "    }\n",
       "\n",
       "    .dataframe thead th {\n",
       "        text-align: right;\n",
       "    }\n",
       "</style>\n",
       "<table border=\"1\" class=\"dataframe\">\n",
       "  <thead>\n",
       "    <tr style=\"text-align: right;\">\n",
       "      <th></th>\n",
       "      <th>j</th>\n",
       "      <th>discount</th>\n",
       "      <th>advertised</th>\n",
       "    </tr>\n",
       "  </thead>\n",
       "  <tbody>\n",
       "    <tr>\n",
       "      <th>23</th>\n",
       "      <td>24</td>\n",
       "      <td>0.2</td>\n",
       "      <td>1</td>\n",
       "    </tr>\n",
       "  </tbody>\n",
       "</table>\n",
       "</div>"
      ],
      "text/plain": [
       "     j  discount  advertised\n",
       "23  24       0.2           1"
      ]
     },
     "execution_count": 61,
     "metadata": {},
     "output_type": "execute_result"
    }
   ],
   "source": [
    "promotion_schedule[promotion_schedule.advertised == 1]"
   ]
  },
  {
   "cell_type": "code",
   "execution_count": 62,
   "metadata": {},
   "outputs": [],
   "source": [
    "bought_last_week = train[train.t == 0].i.value_counts()\n"
   ]
  },
  {
   "cell_type": "code",
   "execution_count": 63,
   "metadata": {},
   "outputs": [
    {
     "data": {
      "text/plain": [
       "i             1561.265306\n",
       "j             1561.265306\n",
       "price         1561.265306\n",
       "advertised    1561.265306\n",
       "dtype: float64"
      ]
     },
     "execution_count": 63,
     "metadata": {},
     "output_type": "execute_result"
    }
   ],
   "source": [
    "train.groupby('t').count().mean()"
   ]
  },
  {
   "cell_type": "code",
   "execution_count": 64,
   "metadata": {},
   "outputs": [
    {
     "data": {
      "text/html": [
       "<div>\n",
       "<style scoped>\n",
       "    .dataframe tbody tr th:only-of-type {\n",
       "        vertical-align: middle;\n",
       "    }\n",
       "\n",
       "    .dataframe tbody tr th {\n",
       "        vertical-align: top;\n",
       "    }\n",
       "\n",
       "    .dataframe thead th {\n",
       "        text-align: right;\n",
       "    }\n",
       "</style>\n",
       "<table border=\"1\" class=\"dataframe\">\n",
       "  <thead>\n",
       "    <tr style=\"text-align: right;\">\n",
       "      <th></th>\n",
       "      <th>i</th>\n",
       "      <th>j</th>\n",
       "      <th>t</th>\n",
       "      <th>price</th>\n",
       "      <th>advertised</th>\n",
       "    </tr>\n",
       "  </thead>\n",
       "  <tbody>\n",
       "    <tr>\n",
       "      <th>757782</th>\n",
       "      <td>1999.0</td>\n",
       "      <td>29.0</td>\n",
       "      <td>48.0</td>\n",
       "      <td>0.0</td>\n",
       "      <td>0.0</td>\n",
       "    </tr>\n",
       "    <tr>\n",
       "      <th>757783</th>\n",
       "      <td>1999.0</td>\n",
       "      <td>28.0</td>\n",
       "      <td>48.0</td>\n",
       "      <td>0.0</td>\n",
       "      <td>0.0</td>\n",
       "    </tr>\n",
       "    <tr>\n",
       "      <th>757784</th>\n",
       "      <td>1999.0</td>\n",
       "      <td>30.0</td>\n",
       "      <td>48.0</td>\n",
       "      <td>0.0</td>\n",
       "      <td>0.0</td>\n",
       "    </tr>\n",
       "    <tr>\n",
       "      <th>757785</th>\n",
       "      <td>1999.0</td>\n",
       "      <td>32.0</td>\n",
       "      <td>48.0</td>\n",
       "      <td>0.0</td>\n",
       "      <td>0.0</td>\n",
       "    </tr>\n",
       "    <tr>\n",
       "      <th>757786</th>\n",
       "      <td>1999.0</td>\n",
       "      <td>23.0</td>\n",
       "      <td>48.0</td>\n",
       "      <td>0.0</td>\n",
       "      <td>0.0</td>\n",
       "    </tr>\n",
       "  </tbody>\n",
       "</table>\n",
       "</div>"
      ],
      "text/plain": [
       "             i     j     t  price  advertised\n",
       "757782  1999.0  29.0  48.0    0.0         0.0\n",
       "757783  1999.0  28.0  48.0    0.0         0.0\n",
       "757784  1999.0  30.0  48.0    0.0         0.0\n",
       "757785  1999.0  32.0  48.0    0.0         0.0\n",
       "757786  1999.0  23.0  48.0    0.0         0.0"
      ]
     },
     "execution_count": 64,
     "metadata": {},
     "output_type": "execute_result"
    }
   ],
   "source": [
    "t_len = 1561*10\n",
    "for i in range(49):\n",
    "    neg_sample_data = np.stack([np.random.randint(0, 2000, t_len), np.random.randint(0, 40, t_len),\n",
    "                            np.full(t_len, i), np.zeros(t_len), np.zeros(t_len)]).T\n",
    "    train = train.append(pd.DataFrame(neg_sample_data, \n",
    "                 columns=['i', 'j', 't', 'price', 'advertised']), ignore_index=True, sort=False)\n",
    "    \n",
    "\n",
    "train = train.drop_duplicates(['i', 'j', 't'], keep='first').sort_values(['t','i']).reset_index(drop=True)\n",
    "train.tail()"
   ]
  },
  {
   "cell_type": "markdown",
   "metadata": {},
   "source": [
    "## Have to create normal validation set"
   ]
  },
  {
   "cell_type": "code",
   "execution_count": 50,
   "metadata": {},
   "outputs": [
    {
     "data": {
      "text/html": [
       "<div>\n",
       "<style scoped>\n",
       "    .dataframe tbody tr th:only-of-type {\n",
       "        vertical-align: middle;\n",
       "    }\n",
       "\n",
       "    .dataframe tbody tr th {\n",
       "        vertical-align: top;\n",
       "    }\n",
       "\n",
       "    .dataframe thead th {\n",
       "        text-align: right;\n",
       "    }\n",
       "</style>\n",
       "<table border=\"1\" class=\"dataframe\">\n",
       "  <thead>\n",
       "    <tr style=\"text-align: right;\">\n",
       "      <th></th>\n",
       "      <th>i</th>\n",
       "      <th>j</th>\n",
       "      <th>t</th>\n",
       "      <th>price</th>\n",
       "      <th>advertised</th>\n",
       "    </tr>\n",
       "  </thead>\n",
       "  <tbody>\n",
       "    <tr>\n",
       "      <th>79995</th>\n",
       "      <td>1999.0</td>\n",
       "      <td>33.0</td>\n",
       "      <td>48.0</td>\n",
       "      <td>0.0</td>\n",
       "      <td>0.0</td>\n",
       "    </tr>\n",
       "    <tr>\n",
       "      <th>79996</th>\n",
       "      <td>1999.0</td>\n",
       "      <td>35.0</td>\n",
       "      <td>48.0</td>\n",
       "      <td>0.0</td>\n",
       "      <td>0.0</td>\n",
       "    </tr>\n",
       "    <tr>\n",
       "      <th>79997</th>\n",
       "      <td>1999.0</td>\n",
       "      <td>36.0</td>\n",
       "      <td>48.0</td>\n",
       "      <td>0.0</td>\n",
       "      <td>0.0</td>\n",
       "    </tr>\n",
       "    <tr>\n",
       "      <th>79998</th>\n",
       "      <td>1999.0</td>\n",
       "      <td>38.0</td>\n",
       "      <td>48.0</td>\n",
       "      <td>0.0</td>\n",
       "      <td>0.0</td>\n",
       "    </tr>\n",
       "    <tr>\n",
       "      <th>79999</th>\n",
       "      <td>1999.0</td>\n",
       "      <td>39.0</td>\n",
       "      <td>48.0</td>\n",
       "      <td>0.0</td>\n",
       "      <td>0.0</td>\n",
       "    </tr>\n",
       "  </tbody>\n",
       "</table>\n",
       "</div>"
      ],
      "text/plain": [
       "            i     j     t  price  advertised\n",
       "79995  1999.0  33.0  48.0    0.0         0.0\n",
       "79996  1999.0  35.0  48.0    0.0         0.0\n",
       "79997  1999.0  36.0  48.0    0.0         0.0\n",
       "79998  1999.0  38.0  48.0    0.0         0.0\n",
       "79999  1999.0  39.0  48.0    0.0         0.0"
      ]
     },
     "execution_count": 50,
     "metadata": {},
     "output_type": "execute_result"
    }
   ],
   "source": [
    "val = train[train.t == train.t.max()]\n",
    "empty_data = (np.stack([np.arange(0, 2000).repeat(40), np.tile(np.arange(0, 40), 2000), \n",
    "          np.full(80_000, 48), np.zeros(80_000),np.zeros(80_000)]).T)\n",
    "empty_df = pd.DataFrame(empty_data, columns=val.columns)\n",
    "val = val.append(empty_df, ignore_index=True, sort=False).drop_duplicates(['i', 'j', 't'], keep='first')\n",
    "val = val.sort_values(['t','i']).reset_index(drop=True)\n",
    "val.tail()"
   ]
  },
  {
   "cell_type": "markdown",
   "metadata": {},
   "source": [
    "### Let's try classic co-occurance matrix"
   ]
  },
  {
   "cell_type": "code",
   "execution_count": 23,
   "metadata": {},
   "outputs": [
    {
     "name": "stderr",
     "output_type": "stream",
     "text": [
      "2019-08-27 19:00:42,476 INFO     Collecting user affinity matrix\n",
      "2019-08-27 19:00:42,493 INFO     Calculating time-decayed affinities\n",
      "2019-08-27 19:00:42,659 INFO     Creating index columns\n",
      "2019-08-27 19:00:42,709 INFO     Building user affinity sparse matrix\n",
      "2019-08-27 19:00:42,715 INFO     Calculating item co-occurrence\n",
      "2019-08-27 19:00:42,768 INFO     Calculating item similarity\n",
      "2019-08-27 19:00:42,769 INFO     Using jaccard based similarity\n",
      "2019-08-27 19:00:42,771 INFO     Done training\n",
      "2019-08-27 19:00:42,789 INFO     Calculating recommendation scores\n"
     ]
    },
    {
     "data": {
      "text/html": [
       "<div>\n",
       "<style scoped>\n",
       "    .dataframe tbody tr th:only-of-type {\n",
       "        vertical-align: middle;\n",
       "    }\n",
       "\n",
       "    .dataframe tbody tr th {\n",
       "        vertical-align: top;\n",
       "    }\n",
       "\n",
       "    .dataframe thead th {\n",
       "        text-align: right;\n",
       "    }\n",
       "</style>\n",
       "<table border=\"1\" class=\"dataframe\">\n",
       "  <thead>\n",
       "    <tr style=\"text-align: right;\">\n",
       "      <th></th>\n",
       "      <th>userID</th>\n",
       "      <th>itemID</th>\n",
       "      <th>prediction</th>\n",
       "    </tr>\n",
       "  </thead>\n",
       "  <tbody>\n",
       "    <tr>\n",
       "      <th>0</th>\n",
       "      <td>0.0</td>\n",
       "      <td>19.0</td>\n",
       "      <td>7.55192</td>\n",
       "    </tr>\n",
       "    <tr>\n",
       "      <th>1</th>\n",
       "      <td>0.0</td>\n",
       "      <td>37.0</td>\n",
       "      <td>7.55192</td>\n",
       "    </tr>\n",
       "    <tr>\n",
       "      <th>2</th>\n",
       "      <td>0.0</td>\n",
       "      <td>17.0</td>\n",
       "      <td>7.55192</td>\n",
       "    </tr>\n",
       "    <tr>\n",
       "      <th>3</th>\n",
       "      <td>0.0</td>\n",
       "      <td>28.0</td>\n",
       "      <td>7.55192</td>\n",
       "    </tr>\n",
       "    <tr>\n",
       "      <th>4</th>\n",
       "      <td>0.0</td>\n",
       "      <td>29.0</td>\n",
       "      <td>7.55192</td>\n",
       "    </tr>\n",
       "  </tbody>\n",
       "</table>\n",
       "</div>"
      ],
      "text/plain": [
       "   userID  itemID  prediction\n",
       "0     0.0    19.0     7.55192\n",
       "1     0.0    37.0     7.55192\n",
       "2     0.0    17.0     7.55192\n",
       "3     0.0    28.0     7.55192\n",
       "4     0.0    29.0     7.55192"
      ]
     },
     "execution_count": 23,
     "metadata": {},
     "output_type": "execute_result"
    }
   ],
   "source": [
    "train.price = (train.price > 0).astype(int)\n",
    "cols2rename = {'i':'userID', 'j': 'itemID', 't': 'timestamp', 'price': 'rating'}\n",
    "train = train.rename(columns=cols2rename)\n",
    "\n",
    "from reco_utils.dataset.python_splitters import python_chrono_split\n",
    "\n",
    "train, test = python_chrono_split(train, 0.85)\n",
    "\n",
    "# set log level to INFO\n",
    "import logging\n",
    "logging.basicConfig(level=logging.DEBUG, \n",
    "                    format='%(asctime)s %(levelname)-8s %(message)s')\n",
    "\n",
    "from reco_utils.evaluation.python_evaluation import map_at_k, ndcg_at_k, precision_at_k, recall_at_k, auc\n",
    "from reco_utils.recommender.sar.sar_singlenode import SARSingleNode\n",
    "\n",
    "model = SARSingleNode(\n",
    "    timedecay_formula=True,\n",
    "    time_now=49,\n",
    "    time_decay_coefficient=7*20\n",
    ")\n",
    "\n",
    "model.fit(train)\n",
    "\n",
    "TOP_K = 40\n",
    "top_k = model.recommend_k_items(test, top_k=TOP_K, remove_seen=False)\n",
    "top_k.head()"
   ]
  },
  {
   "cell_type": "code",
   "execution_count": 24,
   "metadata": {},
   "outputs": [
    {
     "data": {
      "text/plain": [
       "0.5596115367140322"
      ]
     },
     "execution_count": 24,
     "metadata": {},
     "output_type": "execute_result"
    }
   ],
   "source": [
    "top_k.prediction = top_k.prediction.map(lambda x: 1 if x >=1 else x)\n",
    "\n",
    "# all ranking metrics have the same arguments\n",
    "args = [test, top_k]\n",
    "kwargs = dict(\n",
    "              k=TOP_K)\n",
    "\n",
    "eval_map = map_at_k(*args, **kwargs)\n",
    "eval_ndcg = ndcg_at_k(*args, **kwargs)\n",
    "eval_precision = precision_at_k(*args, **kwargs)\n",
    "eval_recall = recall_at_k(*args, **kwargs)\n",
    "eval_auc = auc(*args)\n",
    "eval_auc"
   ]
  },
  {
   "cell_type": "code",
   "execution_count": 25,
   "metadata": {},
   "outputs": [
    {
     "name": "stdout",
     "output_type": "stream",
     "text": [
      "Model:\n",
      "Top K:\t\t 40\n",
      "MAP:\t\t 1.416237\n",
      "NDCG:\t\t 1.414744\n",
      "Precision@K:\t 1.420450\n",
      "Recall@K:\t 1.000000\n"
     ]
    }
   ],
   "source": [
    "print(f\"Model:\",\n",
    "      f\"Top K:\\t\\t {TOP_K}\",\n",
    "      f\"MAP:\\t\\t {eval_map:f}\",\n",
    "      f\"NDCG:\\t\\t {eval_ndcg:f}\",\n",
    "      f\"Precision@K:\\t {eval_precision:f}\",\n",
    "      f\"Recall@K:\\t {eval_recall:f}\", sep='\\n')"
   ]
  },
  {
   "cell_type": "code",
   "execution_count": 26,
   "metadata": {},
   "outputs": [],
   "source": [
    "top_k = top_k.sort_values(['userID', 'itemID']).reset_index(drop=True)"
   ]
  },
  {
   "cell_type": "code",
   "execution_count": 29,
   "metadata": {},
   "outputs": [
    {
     "data": {
      "text/plain": [
       "0.6052412242619416"
      ]
     },
     "execution_count": 29,
     "metadata": {},
     "output_type": "execute_result"
    }
   ],
   "source": [
    "metrics.roc_auc_score((val.price > 0).astype(int),top_k.prediction.tolist())"
   ]
  },
  {
   "cell_type": "markdown",
   "metadata": {},
   "source": [
    "we do not account time"
   ]
  },
  {
   "cell_type": "markdown",
   "metadata": {},
   "source": [
    "### Let's try fastai recsys"
   ]
  },
  {
   "cell_type": "code",
   "execution_count": 32,
   "metadata": {},
   "outputs": [
    {
     "data": {
      "text/html": [
       "<table border=\"1\" class=\"dataframe\">\n",
       "  <thead>\n",
       "    <tr style=\"text-align: left;\">\n",
       "      <th>epoch</th>\n",
       "      <th>train_loss</th>\n",
       "      <th>valid_loss</th>\n",
       "      <th>time</th>\n",
       "    </tr>\n",
       "  </thead>\n",
       "  <tbody>\n",
       "    <tr>\n",
       "      <td>0</td>\n",
       "      <td>0.084789</td>\n",
       "      <td>0.083411</td>\n",
       "      <td>00:42</td>\n",
       "    </tr>\n",
       "    <tr>\n",
       "      <td>1</td>\n",
       "      <td>0.087311</td>\n",
       "      <td>0.084313</td>\n",
       "      <td>00:45</td>\n",
       "    </tr>\n",
       "    <tr>\n",
       "      <td>2</td>\n",
       "      <td>0.081000</td>\n",
       "      <td>0.083108</td>\n",
       "      <td>00:51</td>\n",
       "    </tr>\n",
       "    <tr>\n",
       "      <td>3</td>\n",
       "      <td>0.074950</td>\n",
       "      <td>0.081077</td>\n",
       "      <td>00:49</td>\n",
       "    </tr>\n",
       "    <tr>\n",
       "      <td>4</td>\n",
       "      <td>0.078297</td>\n",
       "      <td>0.078870</td>\n",
       "      <td>00:44</td>\n",
       "    </tr>\n",
       "    <tr>\n",
       "      <td>5</td>\n",
       "      <td>0.074333</td>\n",
       "      <td>0.078310</td>\n",
       "      <td>00:45</td>\n",
       "    </tr>\n",
       "  </tbody>\n",
       "</table>"
      ],
      "text/plain": [
       "<IPython.core.display.HTML object>"
      ]
     },
     "metadata": {},
     "output_type": "display_data"
    },
    {
     "name": "stderr",
     "output_type": "stream",
     "text": [
      "Exception ignored in: <bound method _MultiProcessingDataLoaderIter.__del__ of <torch.utils.data.dataloader._MultiProcessingDataLoaderIter object at 0x1a23965240>>\n",
      "Exception ignored in: <bound method _MultiProcessingDataLoaderIter.__del__ of <torch.utils.data.dataloader._MultiProcessingDataLoaderIter object at 0x1a23965240>>\n",
      "Traceback (most recent call last):\n",
      "Traceback (most recent call last):\n",
      "  File \"/Users/eamag/anaconda3/envs/reco_pyspark/lib/python3.6/site-packages/torch/utils/data/dataloader.py\", line 926, in __del__\n",
      "  File \"/Users/eamag/anaconda3/envs/reco_pyspark/lib/python3.6/site-packages/torch/utils/data/dataloader.py\", line 926, in __del__\n",
      "    self._shutdown_workers()\n",
      "    self._shutdown_workers()\n",
      "  File \"/Users/eamag/anaconda3/envs/reco_pyspark/lib/python3.6/site-packages/torch/utils/data/dataloader.py\", line 906, in _shutdown_workers\n",
      "  File \"/Users/eamag/anaconda3/envs/reco_pyspark/lib/python3.6/site-packages/torch/utils/data/dataloader.py\", line 906, in _shutdown_workers\n",
      "    w.join()\n",
      "    w.join()\n",
      "  File \"/Users/eamag/anaconda3/envs/reco_pyspark/lib/python3.6/multiprocessing/process.py\", line 122, in join\n",
      "  File \"/Users/eamag/anaconda3/envs/reco_pyspark/lib/python3.6/multiprocessing/process.py\", line 122, in join\n",
      "    assert self._parent_pid == os.getpid(), 'can only join a child process'\n",
      "    assert self._parent_pid == os.getpid(), 'can only join a child process'\n",
      "AssertionError: can only join a child process\n",
      "AssertionError: can only join a child process\n",
      "Exception ignored in: <bound method _MultiProcessingDataLoaderIter.__del__ of <torch.utils.data.dataloader._MultiProcessingDataLoaderIter object at 0x1a23965240>>\n",
      "Traceback (most recent call last):\n",
      "  File \"/Users/eamag/anaconda3/envs/reco_pyspark/lib/python3.6/site-packages/torch/utils/data/dataloader.py\", line 926, in __del__\n",
      "    self._shutdown_workers()\n",
      "  File \"/Users/eamag/anaconda3/envs/reco_pyspark/lib/python3.6/site-packages/torch/utils/data/dataloader.py\", line 906, in _shutdown_workers\n",
      "    w.join()\n",
      "  File \"/Users/eamag/anaconda3/envs/reco_pyspark/lib/python3.6/multiprocessing/process.py\", line 122, in join\n",
      "    assert self._parent_pid == os.getpid(), 'can only join a child process'\n",
      "AssertionError: can only join a child process\n",
      "Exception ignored in: <bound method _MultiProcessingDataLoaderIter.__del__ of <torch.utils.data.dataloader._MultiProcessingDataLoaderIter object at 0x1a23965240>>\n",
      "Traceback (most recent call last):\n",
      "  File \"/Users/eamag/anaconda3/envs/reco_pyspark/lib/python3.6/site-packages/torch/utils/data/dataloader.py\", line 926, in __del__\n",
      "    self._shutdown_workers()\n",
      "  File \"/Users/eamag/anaconda3/envs/reco_pyspark/lib/python3.6/site-packages/torch/utils/data/dataloader.py\", line 906, in _shutdown_workers\n",
      "    w.join()\n",
      "  File \"/Users/eamag/anaconda3/envs/reco_pyspark/lib/python3.6/multiprocessing/process.py\", line 122, in join\n",
      "    assert self._parent_pid == os.getpid(), 'can only join a child process'\n",
      "AssertionError: can only join a child process\n"
     ]
    }
   ],
   "source": [
    "from fastai.collab import * \n",
    "\n",
    "data = CollabDataBunch.from_df(train, user_name='userID', item_name='itemID', \n",
    "                              rating_name='rating', test=test)\n",
    "learn = collab_learner(data, n_factors=50, y_range=(0.,5.))\n",
    "learn.fit_one_cycle(6, 5e-3, wd=0.1)"
   ]
  },
  {
   "cell_type": "code",
   "execution_count": 33,
   "metadata": {},
   "outputs": [
    {
     "data": {
      "text/plain": [
       "(array([0., 1.], dtype=float32), array([462806,  52277]))"
      ]
     },
     "execution_count": 33,
     "metadata": {},
     "output_type": "execute_result"
    }
   ],
   "source": [
    "np.unique(learn.get_preds(data)[1], return_counts=True)"
   ]
  },
  {
   "cell_type": "code",
   "execution_count": 34,
   "metadata": {},
   "outputs": [
    {
     "data": {
      "text/plain": [
       "(array([False,  True]), array([77961,  2039]))"
      ]
     },
     "execution_count": 34,
     "metadata": {},
     "output_type": "execute_result"
    }
   ],
   "source": [
    "learn.model.eval()\n",
    "\n",
    "tt_users = torch.tensor(np.arange(0, 2000).repeat(40))\n",
    "\n",
    "tt_items = torch.tensor(np.tile(np.arange(0, 40), 2000))\n",
    "\n",
    "res = learn.model(tt_users, tt_items)\n",
    "\n",
    "np.unique(res > 1, return_counts=True)"
   ]
  },
  {
   "cell_type": "code",
   "execution_count": 41,
   "metadata": {},
   "outputs": [
    {
     "data": {
      "text/plain": [
       "0.8754022770870618"
      ]
     },
     "execution_count": 41,
     "metadata": {},
     "output_type": "execute_result"
    }
   ],
   "source": [
    "metrics.roc_auc_score((val.price > 0).astype(int),(res > 1).numpy().astype(int))"
   ]
  },
  {
   "cell_type": "markdown",
   "metadata": {},
   "source": [
    "Good result, but no time features again"
   ]
  },
  {
   "cell_type": "markdown",
   "metadata": {},
   "source": [
    "## Let's try good old boosting"
   ]
  },
  {
   "cell_type": "code",
   "execution_count": 51,
   "metadata": {},
   "outputs": [
    {
     "name": "stdout",
     "output_type": "stream",
     "text": [
      "Learning rate set to 0.261491\n",
      "0:\tlearn: 0.4558840\ttest: 0.4141824\tbest: 0.4141824 (0)\ttotal: 613ms\tremaining: 3m 3s\n",
      "1:\tlearn: 0.3508647\ttest: 0.2804147\tbest: 0.2804147 (1)\ttotal: 1s\tremaining: 2m 29s\n",
      "2:\tlearn: 0.3089724\ttest: 0.2186200\tbest: 0.2186200 (2)\ttotal: 1.47s\tremaining: 2m 25s\n",
      "3:\tlearn: 0.2864920\ttest: 0.1816406\tbest: 0.1816406 (3)\ttotal: 1.88s\tremaining: 2m 19s\n",
      "4:\tlearn: 0.2777287\ttest: 0.1620782\tbest: 0.1620782 (4)\ttotal: 2.23s\tremaining: 2m 11s\n",
      "5:\tlearn: 0.2703329\ttest: 0.1474935\tbest: 0.1474935 (5)\ttotal: 2.63s\tremaining: 2m 9s\n",
      "6:\tlearn: 0.2640935\ttest: 0.1378938\tbest: 0.1378938 (6)\ttotal: 3.16s\tremaining: 2m 12s\n",
      "7:\tlearn: 0.2604279\ttest: 0.1303326\tbest: 0.1303326 (7)\ttotal: 3.54s\tremaining: 2m 9s\n",
      "8:\tlearn: 0.2584870\ttest: 0.1265704\tbest: 0.1265704 (8)\ttotal: 3.91s\tremaining: 2m 6s\n",
      "9:\tlearn: 0.2570864\ttest: 0.1235407\tbest: 0.1235407 (9)\ttotal: 4.54s\tremaining: 2m 11s\n",
      "10:\tlearn: 0.2561714\ttest: 0.1224347\tbest: 0.1224347 (10)\ttotal: 5.18s\tremaining: 2m 15s\n",
      "11:\tlearn: 0.2555089\ttest: 0.1205647\tbest: 0.1205647 (11)\ttotal: 6.12s\tremaining: 2m 26s\n",
      "12:\tlearn: 0.2549285\ttest: 0.1187551\tbest: 0.1187551 (12)\ttotal: 6.75s\tremaining: 2m 28s\n",
      "13:\tlearn: 0.2544720\ttest: 0.1180735\tbest: 0.1180735 (13)\ttotal: 7.41s\tremaining: 2m 31s\n",
      "14:\tlearn: 0.2542735\ttest: 0.1175332\tbest: 0.1175332 (14)\ttotal: 7.86s\tremaining: 2m 29s\n",
      "15:\tlearn: 0.2540608\ttest: 0.1164282\tbest: 0.1164282 (15)\ttotal: 8.33s\tremaining: 2m 27s\n",
      "16:\tlearn: 0.2539288\ttest: 0.1161514\tbest: 0.1161514 (16)\ttotal: 8.81s\tremaining: 2m 26s\n",
      "17:\tlearn: 0.2537934\ttest: 0.1153417\tbest: 0.1153417 (17)\ttotal: 9.31s\tremaining: 2m 25s\n",
      "18:\tlearn: 0.2536188\ttest: 0.1151950\tbest: 0.1151950 (18)\ttotal: 9.72s\tremaining: 2m 23s\n",
      "19:\tlearn: 0.2535691\ttest: 0.1149455\tbest: 0.1149455 (19)\ttotal: 10.2s\tremaining: 2m 23s\n",
      "20:\tlearn: 0.2535120\ttest: 0.1146899\tbest: 0.1146899 (20)\ttotal: 10.6s\tremaining: 2m 21s\n",
      "21:\tlearn: 0.2534650\ttest: 0.1143660\tbest: 0.1143660 (21)\ttotal: 11s\tremaining: 2m 19s\n",
      "22:\tlearn: 0.2534303\ttest: 0.1143294\tbest: 0.1143294 (22)\ttotal: 11.4s\tremaining: 2m 17s\n",
      "23:\tlearn: 0.2534024\ttest: 0.1143681\tbest: 0.1143294 (22)\ttotal: 11.8s\tremaining: 2m 16s\n",
      "24:\tlearn: 0.2533687\ttest: 0.1142345\tbest: 0.1142345 (24)\ttotal: 12.2s\tremaining: 2m 14s\n",
      "25:\tlearn: 0.2533047\ttest: 0.1137556\tbest: 0.1137556 (25)\ttotal: 12.7s\tremaining: 2m 13s\n",
      "26:\tlearn: 0.2532553\ttest: 0.1139298\tbest: 0.1137556 (25)\ttotal: 13.1s\tremaining: 2m 12s\n",
      "27:\tlearn: 0.2532352\ttest: 0.1138848\tbest: 0.1137556 (25)\ttotal: 13.5s\tremaining: 2m 11s\n",
      "28:\tlearn: 0.2531948\ttest: 0.1138413\tbest: 0.1137556 (25)\ttotal: 14.1s\tremaining: 2m 11s\n",
      "29:\tlearn: 0.2530274\ttest: 0.1137792\tbest: 0.1137556 (25)\ttotal: 14.7s\tremaining: 2m 11s\n",
      "30:\tlearn: 0.2530100\ttest: 0.1138058\tbest: 0.1137556 (25)\ttotal: 15.3s\tremaining: 2m 13s\n",
      "31:\tlearn: 0.2529910\ttest: 0.1140034\tbest: 0.1137556 (25)\ttotal: 16.5s\tremaining: 2m 18s\n",
      "32:\tlearn: 0.2529565\ttest: 0.1139656\tbest: 0.1137556 (25)\ttotal: 17s\tremaining: 2m 17s\n",
      "33:\tlearn: 0.2529331\ttest: 0.1161682\tbest: 0.1137556 (25)\ttotal: 17.4s\tremaining: 2m 16s\n",
      "34:\tlearn: 0.2529155\ttest: 0.1161563\tbest: 0.1137556 (25)\ttotal: 17.9s\tremaining: 2m 15s\n",
      "35:\tlearn: 0.2527528\ttest: 0.1159141\tbest: 0.1137556 (25)\ttotal: 18.5s\tremaining: 2m 16s\n",
      "36:\tlearn: 0.2527415\ttest: 0.1171196\tbest: 0.1137556 (25)\ttotal: 19s\tremaining: 2m 14s\n",
      "37:\tlearn: 0.2526989\ttest: 0.1171635\tbest: 0.1137556 (25)\ttotal: 19.4s\tremaining: 2m 13s\n",
      "38:\tlearn: 0.2526706\ttest: 0.1171196\tbest: 0.1137556 (25)\ttotal: 19.9s\tremaining: 2m 13s\n",
      "39:\tlearn: 0.2526539\ttest: 0.1169366\tbest: 0.1137556 (25)\ttotal: 20.4s\tremaining: 2m 12s\n",
      "40:\tlearn: 0.2524547\ttest: 0.1169895\tbest: 0.1137556 (25)\ttotal: 20.8s\tremaining: 2m 11s\n",
      "41:\tlearn: 0.2522874\ttest: 0.1171022\tbest: 0.1137556 (25)\ttotal: 21.3s\tremaining: 2m 11s\n",
      "42:\tlearn: 0.2522610\ttest: 0.1171903\tbest: 0.1137556 (25)\ttotal: 21.7s\tremaining: 2m 9s\n",
      "43:\tlearn: 0.2522547\ttest: 0.1172186\tbest: 0.1137556 (25)\ttotal: 22.2s\tremaining: 2m 9s\n",
      "44:\tlearn: 0.2522428\ttest: 0.1172758\tbest: 0.1137556 (25)\ttotal: 22.7s\tremaining: 2m 8s\n",
      "45:\tlearn: 0.2522280\ttest: 0.1172794\tbest: 0.1137556 (25)\ttotal: 23.3s\tremaining: 2m 8s\n",
      "46:\tlearn: 0.2521955\ttest: 0.1174494\tbest: 0.1137556 (25)\ttotal: 23.8s\tremaining: 2m 8s\n",
      "47:\tlearn: 0.2521849\ttest: 0.1174453\tbest: 0.1137556 (25)\ttotal: 24.3s\tremaining: 2m 7s\n",
      "48:\tlearn: 0.2521734\ttest: 0.1174418\tbest: 0.1137556 (25)\ttotal: 25.2s\tremaining: 2m 9s\n",
      "49:\tlearn: 0.2521498\ttest: 0.1175157\tbest: 0.1137556 (25)\ttotal: 25.7s\tremaining: 2m 8s\n",
      "50:\tlearn: 0.2521328\ttest: 0.1175559\tbest: 0.1137556 (25)\ttotal: 26.9s\tremaining: 2m 11s\n",
      "51:\tlearn: 0.2521220\ttest: 0.1185000\tbest: 0.1137556 (25)\ttotal: 28.9s\tremaining: 2m 17s\n",
      "52:\tlearn: 0.2521097\ttest: 0.1185204\tbest: 0.1137556 (25)\ttotal: 29.9s\tremaining: 2m 19s\n",
      "53:\tlearn: 0.2520894\ttest: 0.1181696\tbest: 0.1137556 (25)\ttotal: 30.6s\tremaining: 2m 19s\n",
      "54:\tlearn: 0.2520760\ttest: 0.1188643\tbest: 0.1137556 (25)\ttotal: 31.2s\tremaining: 2m 19s\n",
      "55:\tlearn: 0.2520643\ttest: 0.1188813\tbest: 0.1137556 (25)\ttotal: 32s\tremaining: 2m 19s\n",
      "56:\tlearn: 0.2519157\ttest: 0.1188740\tbest: 0.1137556 (25)\ttotal: 32.5s\tremaining: 2m 18s\n",
      "57:\tlearn: 0.2519116\ttest: 0.1194287\tbest: 0.1137556 (25)\ttotal: 33s\tremaining: 2m 17s\n",
      "58:\tlearn: 0.2518961\ttest: 0.1192727\tbest: 0.1137556 (25)\ttotal: 33.8s\tremaining: 2m 17s\n",
      "59:\tlearn: 0.2518724\ttest: 0.1193433\tbest: 0.1137556 (25)\ttotal: 34.4s\tremaining: 2m 17s\n",
      "60:\tlearn: 0.2518498\ttest: 0.1192531\tbest: 0.1137556 (25)\ttotal: 35s\tremaining: 2m 17s\n",
      "61:\tlearn: 0.2518432\ttest: 0.1192380\tbest: 0.1137556 (25)\ttotal: 35.5s\tremaining: 2m 16s\n",
      "62:\tlearn: 0.2518223\ttest: 0.1181635\tbest: 0.1137556 (25)\ttotal: 36.2s\tremaining: 2m 16s\n",
      "63:\tlearn: 0.2518053\ttest: 0.1186052\tbest: 0.1137556 (25)\ttotal: 37.3s\tremaining: 2m 17s\n",
      "64:\tlearn: 0.2518015\ttest: 0.1182194\tbest: 0.1137556 (25)\ttotal: 37.8s\tremaining: 2m 16s\n",
      "65:\tlearn: 0.2517844\ttest: 0.1182886\tbest: 0.1137556 (25)\ttotal: 38.3s\tremaining: 2m 15s\n",
      "66:\tlearn: 0.2517717\ttest: 0.1183030\tbest: 0.1137556 (25)\ttotal: 38.7s\tremaining: 2m 14s\n",
      "67:\tlearn: 0.2517620\ttest: 0.1184172\tbest: 0.1137556 (25)\ttotal: 39.3s\tremaining: 2m 14s\n",
      "68:\tlearn: 0.2517310\ttest: 0.1183336\tbest: 0.1137556 (25)\ttotal: 39.9s\tremaining: 2m 13s\n",
      "69:\tlearn: 0.2516977\ttest: 0.1184105\tbest: 0.1137556 (25)\ttotal: 40.4s\tremaining: 2m 12s\n",
      "70:\tlearn: 0.2516801\ttest: 0.1184723\tbest: 0.1137556 (25)\ttotal: 41s\tremaining: 2m 12s\n",
      "71:\tlearn: 0.2516725\ttest: 0.1184723\tbest: 0.1137556 (25)\ttotal: 41.8s\tremaining: 2m 12s\n",
      "72:\tlearn: 0.2516609\ttest: 0.1185261\tbest: 0.1137556 (25)\ttotal: 42.5s\tremaining: 2m 12s\n",
      "73:\tlearn: 0.2516485\ttest: 0.1184226\tbest: 0.1137556 (25)\ttotal: 43.1s\tremaining: 2m 11s\n",
      "74:\tlearn: 0.2516360\ttest: 0.1185508\tbest: 0.1137556 (25)\ttotal: 44s\tremaining: 2m 11s\n",
      "75:\tlearn: 0.2516238\ttest: 0.1183954\tbest: 0.1137556 (25)\ttotal: 44.4s\tremaining: 2m 10s\n",
      "Stopped by overfitting detector  (50 iterations wait)\n",
      "\n",
      "bestTest = 0.1137556283\n",
      "bestIteration = 25\n",
      "\n",
      "Shrink model to first 26 iterations.\n"
     ]
    },
    {
     "data": {
      "text/plain": [
       "0.8380077818828879"
      ]
     },
     "execution_count": 51,
     "metadata": {},
     "output_type": "execute_result"
    }
   ],
   "source": [
    "train = train[train.t != 48] # rerun train val part before\n",
    "\n",
    "cat_features_idxs = [0,1,3]\n",
    "\n",
    "train.price = (train.price > 0).astype(int)\n",
    "val.price = (val.price > 0).astype(int)\n",
    "\n",
    "\n",
    "train_pool = ctb.Pool(train.drop(columns=['price']), train.price, cat_features_idxs)\n",
    "validation_pool = ctb.Pool(val.drop(columns=['price']), val.price, cat_features_idxs)\n",
    "\n",
    "params = {\n",
    "    'loss_function': 'Logloss',\n",
    "    'iterations': 300,\n",
    "    'early_stopping_rounds':50,\n",
    "    'custom_metric': ['Accuracy']\n",
    "}\n",
    "model = ctb.CatBoostClassifier(**params)\n",
    "model.fit(train_pool, eval_set=validation_pool, verbose=True, plot=False)\n",
    "\n",
    "from sklearn import metrics\n",
    "res = model.predict_proba(val.drop(columns=['price']))[:, 1]\n",
    "metrics.roc_auc_score(val.price.tolist(),res)"
   ]
  },
  {
   "cell_type": "markdown",
   "metadata": {},
   "source": [
    "* 0.8425417406784845 with augmented *1\n",
    "* 0.8383376183560397 with augmented *10, 0.7566958420976801 if threshold is 0.1"
   ]
  },
  {
   "cell_type": "code",
   "execution_count": 52,
   "metadata": {},
   "outputs": [
    {
     "data": {
      "text/plain": [
       "(array([0, 1]), array([78669,  1331]))"
      ]
     },
     "execution_count": 52,
     "metadata": {},
     "output_type": "execute_result"
    }
   ],
   "source": [
    "np.unique((res > 0.5).astype(int), return_counts=True)"
   ]
  },
  {
   "cell_type": "code",
   "execution_count": 53,
   "metadata": {},
   "outputs": [
    {
     "data": {
      "text/plain": [
       "(array([0, 1]), array([78467,  1533]))"
      ]
     },
     "execution_count": 53,
     "metadata": {},
     "output_type": "execute_result"
    }
   ],
   "source": [
    "np.unique(val.price, return_counts=True)"
   ]
  },
  {
   "cell_type": "code",
   "execution_count": 56,
   "metadata": {},
   "outputs": [
    {
     "data": {
      "image/png": "[encoded data removed]",
      "text/plain": [
       "<Figure size 1152x576 with 1 Axes>"
      ]
     },
     "metadata": {
      "needs_background": "light"
     },
     "output_type": "display_data"
    }
   ],
   "source": [
    "import matplotlib.pyplot as plt\n",
    "from catboost.utils import get_roc_curve\n",
    "from catboost.utils import get_fpr_curve\n",
    "from catboost.utils import get_fnr_curve\n",
    "\n",
    "curve = get_roc_curve(model, validation_pool)\n",
    "(fpr, tpr, thresholds) = curve\n",
    "\n",
    "(thresholds, fpr) = get_fpr_curve(curve=curve)\n",
    "(thresholds, fnr) = get_fnr_curve(curve=curve)\n",
    "\n",
    "plt.figure(figsize=(16, 8))\n",
    "style = {'alpha':0.5, 'lw':2}\n",
    "\n",
    "plt.plot(thresholds, fpr, color='blue', label='FPR', **style)\n",
    "plt.plot(thresholds, fnr, color='green', label='FNR', **style)\n",
    "\n",
    "plt.xlim([0.0, 1.0])\n",
    "plt.ylim([0.0, 1.05])\n",
    "plt.xticks(fontsize=16)\n",
    "plt.yticks(fontsize=16)\n",
    "plt.grid(True)\n",
    "plt.xlabel('Threshold', fontsize=16)\n",
    "plt.ylabel('Error Rate', fontsize=16)\n",
    "plt.title('FPR-FNR curves', fontsize=20)\n",
    "plt.legend(loc=\"lower left\", fontsize=16);"
   ]
  },
  {
   "cell_type": "code",
   "execution_count": 55,
   "metadata": {},
   "outputs": [
    {
     "data": {
      "text/plain": [
       "0.7575695313300215"
      ]
     },
     "execution_count": 55,
     "metadata": {},
     "output_type": "execute_result"
    }
   ],
   "source": [
    "metrics.roc_auc_score(val.price.tolist(),(res > 0.1).astype(int))"
   ]
  },
  {
   "cell_type": "markdown",
   "metadata": {},
   "source": [
    "We need 25 iterations"
   ]
  },
  {
   "cell_type": "markdown",
   "metadata": {},
   "source": [
    "## Create out file"
   ]
  },
  {
   "cell_type": "code",
   "execution_count": 65,
   "metadata": {},
   "outputs": [
    {
     "name": "stdout",
     "output_type": "stream",
     "text": [
      "Learning rate set to 0.5\n",
      "0:\tlearn: 0.4279932\ttotal: 203ms\tremaining: 5.08s\n",
      "1:\tlearn: 0.3352462\ttotal: 385ms\tremaining: 4.61s\n",
      "2:\tlearn: 0.2947935\ttotal: 551ms\tremaining: 4.22s\n",
      "3:\tlearn: 0.2764159\ttotal: 755ms\tremaining: 4.15s\n",
      "4:\tlearn: 0.2681500\ttotal: 952ms\tremaining: 4s\n",
      "5:\tlearn: 0.2647790\ttotal: 1.19s\tremaining: 3.96s\n",
      "6:\tlearn: 0.2635182\ttotal: 1.36s\tremaining: 3.68s\n",
      "7:\tlearn: 0.2629127\ttotal: 1.52s\tremaining: 3.42s\n",
      "8:\tlearn: 0.2628209\ttotal: 1.64s\tremaining: 3.1s\n",
      "9:\tlearn: 0.2625430\ttotal: 1.84s\tremaining: 2.94s\n",
      "10:\tlearn: 0.2624328\ttotal: 2.39s\tremaining: 3.26s\n",
      "11:\tlearn: 0.2623561\ttotal: 2.71s\tremaining: 3.16s\n",
      "12:\tlearn: 0.2623183\ttotal: 2.92s\tremaining: 2.92s\n",
      "13:\tlearn: 0.2621506\ttotal: 3.08s\tremaining: 2.64s\n",
      "14:\tlearn: 0.2621326\ttotal: 3.33s\tremaining: 2.44s\n",
      "15:\tlearn: 0.2619496\ttotal: 3.57s\tremaining: 2.23s\n",
      "16:\tlearn: 0.2619406\ttotal: 3.73s\tremaining: 1.97s\n",
      "17:\tlearn: 0.2617986\ttotal: 3.93s\tremaining: 1.75s\n",
      "18:\tlearn: 0.2616454\ttotal: 4.11s\tremaining: 1.51s\n",
      "19:\tlearn: 0.2616295\ttotal: 4.26s\tremaining: 1.28s\n",
      "20:\tlearn: 0.2615656\ttotal: 4.41s\tremaining: 1.05s\n",
      "21:\tlearn: 0.2615021\ttotal: 4.58s\tremaining: 832ms\n",
      "22:\tlearn: 0.2614948\ttotal: 4.79s\tremaining: 624ms\n",
      "23:\tlearn: 0.2614709\ttotal: 4.99s\tremaining: 416ms\n",
      "24:\tlearn: 0.2614085\ttotal: 5.15s\tremaining: 206ms\n",
      "25:\tlearn: 0.2614084\ttotal: 5.27s\tremaining: 0us\n"
     ]
    },
    {
     "data": {
      "text/plain": [
       "<catboost.core.CatBoostClassifier at 0x1a28cf7518>"
      ]
     },
     "execution_count": 65,
     "metadata": {},
     "output_type": "execute_result"
    }
   ],
   "source": [
    "cat_features_idxs = [0,1,3]# rerun train val part before\n",
    "train.price = (train.price > 0).astype(int)\n",
    "train_pool = ctb.Pool(train.drop(columns=['price']), train.price, cat_features_idxs)\n",
    "params = {\n",
    "    'loss_function': 'Logloss',\n",
    "    'iterations': 26,\n",
    "    'custom_metric': ['Accuracy']\n",
    "}\n",
    "model = ctb.CatBoostClassifier(**params)\n",
    "model.fit(train_pool, verbose=True, plot=False)"
   ]
  },
  {
   "cell_type": "code",
   "execution_count": 86,
   "metadata": {},
   "outputs": [],
   "source": [
    "val = val.sort_values(['i', 'j']).reset_index(drop=True)\n",
    "\n",
    "val.t = 49\n",
    "\n",
    "val.loc[val.j == 24, 'advertised'] = 1\n",
    "\n",
    "val = val.drop(columns=['price'])\n",
    "res = model.predict(val)\n",
    "val['prediction'] = res\n",
    "\n",
    "val[['i', 'j', 'prediction']].to_csv('prediction_roc_0.83.csv')"
   ]
  },
  {
   "cell_type": "code",
   "execution_count": null,
   "metadata": {},
   "outputs": [],
   "source": []
  },
  {
   "cell_type": "code",
   "execution_count": null,
   "metadata": {},
   "outputs": [],
   "source": []
  },
  {
   "cell_type": "code",
   "execution_count": null,
   "metadata": {},
   "outputs": [],
   "source": []
  }
 ],
 "metadata": {
  "kernelspec": {
   "display_name": "Python (reco_pyspark)",
   "language": "python",
   "name": "reco_pyspark"
  },
  "language_info": {
   "codemirror_mode": {
    "name": "ipython",
    "version": 3
   },
   "file_extension": ".py",
   "mimetype": "text/x-python",
   "name": "python",
   "nbconvert_exporter": "python",
   "pygments_lexer": "ipython3",
   "version": "3.6.8"
  }
 },
 "nbformat": 4,
 "nbformat_minor": 4
}
