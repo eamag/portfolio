{
 "cells": [
  {
   "cell_type": "code",
   "execution_count": 1,
   "metadata": {
    "ExecuteTime": {
     "end_time": "2018-04-20T19:11:19.583966Z",
     "start_time": "2018-04-20T19:11:16.478765Z"
    }
   },
   "outputs": [
    {
     "name": "stderr",
     "output_type": "stream",
     "text": [
      "/home/eamag/.pyenv/versions/3.6.0/envs/general/lib/python3.6/site-packages/psycopg2/__init__.py:144: UserWarning: The psycopg2 wheel package will be renamed from release 2.8; in order to keep installing from binary please use \"pip install psycopg2-binary\" instead. For details see: <http://initd.org/psycopg/docs/install.html#binary-install-from-pypi>.\n",
      "  \"\"\")\n"
     ]
    },
    {
     "name": "stdout",
     "output_type": "stream",
     "text": [
      "2018-04-20 22:11:19,435 INFO sqlalchemy.engine.base.Engine select version()\n",
      "2018-04-20 22:11:19,435 INFO sqlalchemy.engine.base.Engine {}\n",
      "2018-04-20 22:11:19,456 INFO sqlalchemy.engine.base.Engine select current_schema()\n",
      "2018-04-20 22:11:19,457 INFO sqlalchemy.engine.base.Engine {}\n",
      "2018-04-20 22:11:19,461 INFO sqlalchemy.engine.base.Engine SELECT CAST('test plain returns' AS VARCHAR(60)) AS anon_1\n",
      "2018-04-20 22:11:19,462 INFO sqlalchemy.engine.base.Engine {}\n",
      "2018-04-20 22:11:19,501 INFO sqlalchemy.engine.base.Engine SELECT CAST('test unicode returns' AS VARCHAR(60)) AS anon_1\n",
      "2018-04-20 22:11:19,501 INFO sqlalchemy.engine.base.Engine {}\n",
      "2018-04-20 22:11:19,502 INFO sqlalchemy.engine.base.Engine show standard_conforming_strings\n",
      "2018-04-20 22:11:19,503 INFO sqlalchemy.engine.base.Engine {}\n",
      "2018-04-20 22:11:19,505 INFO sqlalchemy.engine.base.Engine select relname from pg_class c join pg_namespace n on n.oid=c.relnamespace where pg_catalog.pg_table_is_visible(c.oid) and relname=%(name)s\n",
      "2018-04-20 22:11:19,506 INFO sqlalchemy.engine.base.Engine {'name': 'events'}\n",
      "2018-04-20 22:11:19,553 INFO sqlalchemy.engine.base.Engine select relname from pg_class c join pg_namespace n on n.oid=c.relnamespace where pg_catalog.pg_table_is_visible(c.oid) and relname=%(name)s\n",
      "2018-04-20 22:11:19,554 INFO sqlalchemy.engine.base.Engine {'name': 'users'}\n"
     ]
    },
    {
     "data": {
      "text/plain": [
       "<queue.Queue at 0x7f9e7c0c1e10>"
      ]
     },
     "execution_count": 1,
     "metadata": {},
     "output_type": "execute_result"
    },
    {
     "name": "stdout",
     "output_type": "stream",
     "text": [
      "2018-04-20 22:11:43,902 INFO sqlalchemy.engine.base.Engine select version()\n"
     ]
    },
    {
     "name": "stderr",
     "output_type": "stream",
     "text": [
      "2018-04-20 22:11:43,902 - sqlalchemy.engine.base.Engine - INFO - select version()\n"
     ]
    },
    {
     "name": "stdout",
     "output_type": "stream",
     "text": [
      "2018-04-20 22:11:43,905 INFO sqlalchemy.engine.base.Engine {}\n"
     ]
    },
    {
     "name": "stderr",
     "output_type": "stream",
     "text": [
      "2018-04-20 22:11:43,905 - sqlalchemy.engine.base.Engine - INFO - {}\n"
     ]
    },
    {
     "name": "stdout",
     "output_type": "stream",
     "text": [
      "2018-04-20 22:11:43,907 INFO sqlalchemy.engine.base.Engine select current_schema()\n"
     ]
    },
    {
     "name": "stderr",
     "output_type": "stream",
     "text": [
      "2018-04-20 22:11:43,907 - sqlalchemy.engine.base.Engine - INFO - select current_schema()\n"
     ]
    },
    {
     "name": "stdout",
     "output_type": "stream",
     "text": [
      "2018-04-20 22:11:43,909 INFO sqlalchemy.engine.base.Engine {}\n"
     ]
    },
    {
     "name": "stderr",
     "output_type": "stream",
     "text": [
      "2018-04-20 22:11:43,909 - sqlalchemy.engine.base.Engine - INFO - {}\n"
     ]
    },
    {
     "name": "stdout",
     "output_type": "stream",
     "text": [
      "2018-04-20 22:11:43,911 INFO sqlalchemy.engine.base.Engine SELECT CAST('test plain returns' AS VARCHAR(60)) AS anon_1\n"
     ]
    },
    {
     "name": "stderr",
     "output_type": "stream",
     "text": [
      "2018-04-20 22:11:43,911 - sqlalchemy.engine.base.Engine - INFO - SELECT CAST('test plain returns' AS VARCHAR(60)) AS anon_1\n"
     ]
    },
    {
     "name": "stdout",
     "output_type": "stream",
     "text": [
      "2018-04-20 22:11:43,913 INFO sqlalchemy.engine.base.Engine {}\n"
     ]
    },
    {
     "name": "stderr",
     "output_type": "stream",
     "text": [
      "2018-04-20 22:11:43,913 - sqlalchemy.engine.base.Engine - INFO - {}\n"
     ]
    },
    {
     "name": "stdout",
     "output_type": "stream",
     "text": [
      "2018-04-20 22:11:43,914 INFO sqlalchemy.engine.base.Engine SELECT CAST('test unicode returns' AS VARCHAR(60)) AS anon_1\n"
     ]
    },
    {
     "name": "stderr",
     "output_type": "stream",
     "text": [
      "2018-04-20 22:11:43,914 - sqlalchemy.engine.base.Engine - INFO - SELECT CAST('test unicode returns' AS VARCHAR(60)) AS anon_1\n"
     ]
    },
    {
     "name": "stdout",
     "output_type": "stream",
     "text": [
      "2018-04-20 22:11:43,915 INFO sqlalchemy.engine.base.Engine {}\n"
     ]
    },
    {
     "name": "stderr",
     "output_type": "stream",
     "text": [
      "2018-04-20 22:11:43,915 - sqlalchemy.engine.base.Engine - INFO - {}\n"
     ]
    },
    {
     "name": "stdout",
     "output_type": "stream",
     "text": [
      "2018-04-20 22:11:43,922 INFO sqlalchemy.engine.base.Engine show standard_conforming_strings\n"
     ]
    },
    {
     "name": "stderr",
     "output_type": "stream",
     "text": [
      "2018-04-20 22:11:43,922 - sqlalchemy.engine.base.Engine - INFO - show standard_conforming_strings\n"
     ]
    },
    {
     "name": "stdout",
     "output_type": "stream",
     "text": [
      "2018-04-20 22:11:43,923 INFO sqlalchemy.engine.base.Engine {}\n"
     ]
    },
    {
     "name": "stderr",
     "output_type": "stream",
     "text": [
      "2018-04-20 22:11:43,923 - sqlalchemy.engine.base.Engine - INFO - {}\n"
     ]
    },
    {
     "name": "stdout",
     "output_type": "stream",
     "text": [
      "2018-04-20 22:11:43,926 INFO sqlalchemy.engine.base.Engine BEGIN (implicit)\n"
     ]
    },
    {
     "name": "stderr",
     "output_type": "stream",
     "text": [
      "2018-04-20 22:11:43,926 - sqlalchemy.engine.base.Engine - INFO - BEGIN (implicit)\n"
     ]
    },
    {
     "name": "stdout",
     "output_type": "stream",
     "text": [
      "2018-04-20 22:11:43,927 INFO sqlalchemy.engine.base.Engine SELECT EXISTS (SELECT * \n",
      "FROM users \n",
      "WHERE users.uid = %(uid_1)s) AS anon_1\n"
     ]
    },
    {
     "name": "stderr",
     "output_type": "stream",
     "text": [
      "2018-04-20 22:11:43,927 - sqlalchemy.engine.base.Engine - INFO - SELECT EXISTS (SELECT * \n",
      "FROM users \n",
      "WHERE users.uid = %(uid_1)s) AS anon_1\n"
     ]
    },
    {
     "name": "stdout",
     "output_type": "stream",
     "text": [
      "2018-04-20 22:11:43,928 INFO sqlalchemy.engine.base.Engine {'uid_1': 70656698}\n"
     ]
    },
    {
     "name": "stderr",
     "output_type": "stream",
     "text": [
      "2018-04-20 22:11:43,928 - sqlalchemy.engine.base.Engine - INFO - {'uid_1': 70656698}\n"
     ]
    },
    {
     "name": "stdout",
     "output_type": "stream",
     "text": [
      "2018-04-20 22:12:45,773 INFO sqlalchemy.engine.base.Engine SELECT EXISTS (SELECT * \n",
      "FROM users \n",
      "WHERE users.uid = %(uid_1)s) AS anon_1\n"
     ]
    },
    {
     "name": "stderr",
     "output_type": "stream",
     "text": [
      "2018-04-20 22:12:45,773 - sqlalchemy.engine.base.Engine - INFO - SELECT EXISTS (SELECT * \n",
      "FROM users \n",
      "WHERE users.uid = %(uid_1)s) AS anon_1\n"
     ]
    },
    {
     "name": "stdout",
     "output_type": "stream",
     "text": [
      "2018-04-20 22:12:45,775 INFO sqlalchemy.engine.base.Engine {'uid_1': 40287333}\n"
     ]
    },
    {
     "name": "stderr",
     "output_type": "stream",
     "text": [
      "2018-04-20 22:12:45,775 - sqlalchemy.engine.base.Engine - INFO - {'uid_1': 40287333}\n"
     ]
    },
    {
     "name": "stdout",
     "output_type": "stream",
     "text": [
      "2018-04-20 22:12:46,003 INFO sqlalchemy.engine.base.Engine INSERT INTO users (uid, first_name, last_name, is_sub, chose_hse, chose_mgimo, th_business, th_career, th_tech, th_arts, th_chill) VALUES (%(uid)s, %(first_name)s, %(last_name)s, %(is_sub)s, %(chose_hse)s, %(chose_mgimo)s, %(th_business)s, %(th_career)s, %(th_tech)s, %(th_arts)s, %(th_chill)s)\n"
     ]
    },
    {
     "name": "stderr",
     "output_type": "stream",
     "text": [
      "2018-04-20 22:12:46,003 - sqlalchemy.engine.base.Engine - INFO - INSERT INTO users (uid, first_name, last_name, is_sub, chose_hse, chose_mgimo, th_business, th_career, th_tech, th_arts, th_chill) VALUES (%(uid)s, %(first_name)s, %(last_name)s, %(is_sub)s, %(chose_hse)s, %(chose_mgimo)s, %(th_business)s, %(th_career)s, %(th_tech)s, %(th_arts)s, %(th_chill)s)\n"
     ]
    },
    {
     "name": "stdout",
     "output_type": "stream",
     "text": [
      "2018-04-20 22:12:46,004 INFO sqlalchemy.engine.base.Engine {'uid': 40287333, 'first_name': None, 'last_name': None, 'is_sub': False, 'chose_hse': False, 'chose_mgimo': False, 'th_business': False, 'th_career': False, 'th_tech': False, 'th_arts': False, 'th_chill': False}\n"
     ]
    },
    {
     "name": "stderr",
     "output_type": "stream",
     "text": [
      "2018-04-20 22:12:46,004 - sqlalchemy.engine.base.Engine - INFO - {'uid': 40287333, 'first_name': None, 'last_name': None, 'is_sub': False, 'chose_hse': False, 'chose_mgimo': False, 'th_business': False, 'th_career': False, 'th_tech': False, 'th_arts': False, 'th_chill': False}\n"
     ]
    },
    {
     "name": "stdout",
     "output_type": "stream",
     "text": [
      "2018-04-20 22:12:46,007 INFO sqlalchemy.engine.base.Engine COMMIT\n"
     ]
    },
    {
     "name": "stderr",
     "output_type": "stream",
     "text": [
      "2018-04-20 22:12:46,007 - sqlalchemy.engine.base.Engine - INFO - COMMIT\n",
      "2018-04-20 22:13:32,866 - telegram.ext.dispatcher - WARNING - A TelegramError was raised while processing the Update\n",
      "2018-04-20 22:13:32,867 - telegram.ext.dispatcher - ERROR - An uncaught error was raised while handling the error\n",
      "Traceback (most recent call last):\n",
      "  File \"/home/eamag/.pyenv/versions/3.6.0/envs/general/lib/python3.6/site-packages/telegram/vendor/ptb_urllib3/urllib3/connectionpool.py\", line 402, in _make_request\n",
      "    six.raise_from(e, None)\n",
      "  File \"<string>\", line 2, in raise_from\n",
      "  File \"/home/eamag/.pyenv/versions/3.6.0/envs/general/lib/python3.6/site-packages/telegram/vendor/ptb_urllib3/urllib3/connectionpool.py\", line 398, in _make_request\n",
      "    httplib_response = conn.getresponse()\n",
      "  File \"/home/eamag/.pyenv/versions/3.6.0/lib/python3.6/http/client.py\", line 1331, in getresponse\n",
      "    response.begin()\n",
      "  File \"/home/eamag/.pyenv/versions/3.6.0/lib/python3.6/http/client.py\", line 297, in begin\n",
      "    version, status, reason = self._read_status()\n",
      "  File \"/home/eamag/.pyenv/versions/3.6.0/lib/python3.6/http/client.py\", line 258, in _read_status\n",
      "    line = str(self.fp.readline(_MAXLINE + 1), \"iso-8859-1\")\n",
      "  File \"/home/eamag/.pyenv/versions/3.6.0/lib/python3.6/socket.py\", line 586, in readinto\n",
      "    return self._sock.recv_into(b)\n",
      "  File \"/home/eamag/.pyenv/versions/3.6.0/lib/python3.6/ssl.py\", line 1002, in recv_into\n",
      "    return self.read(nbytes, buffer)\n",
      "  File \"/home/eamag/.pyenv/versions/3.6.0/lib/python3.6/ssl.py\", line 865, in read\n",
      "    return self._sslobj.read(len, buffer)\n",
      "  File \"/home/eamag/.pyenv/versions/3.6.0/lib/python3.6/ssl.py\", line 625, in read\n",
      "    v = self._sslobj.read(len, buffer)\n",
      "socket.timeout: The read operation timed out\n",
      "\n",
      "During handling of the above exception, another exception occurred:\n",
      "\n",
      "Traceback (most recent call last):\n",
      "  File \"/home/eamag/.pyenv/versions/3.6.0/envs/general/lib/python3.6/site-packages/telegram/utils/request.py\", line 190, in _request_wrapper\n",
      "    resp = self._con_pool.request(*args, **kwargs)\n",
      "  File \"/home/eamag/.pyenv/versions/3.6.0/envs/general/lib/python3.6/site-packages/telegram/vendor/ptb_urllib3/urllib3/request.py\", line 70, in request\n",
      "    **urlopen_kw)\n",
      "  File \"/home/eamag/.pyenv/versions/3.6.0/envs/general/lib/python3.6/site-packages/telegram/vendor/ptb_urllib3/urllib3/request.py\", line 148, in request_encode_body\n",
      "    return self.urlopen(method, url, **extra_kw)\n",
      "  File \"/home/eamag/.pyenv/versions/3.6.0/envs/general/lib/python3.6/site-packages/telegram/vendor/ptb_urllib3/urllib3/poolmanager.py\", line 244, in urlopen\n",
      "    response = conn.urlopen(method, u.request_uri, **kw)\n",
      "  File \"/home/eamag/.pyenv/versions/3.6.0/envs/general/lib/python3.6/site-packages/telegram/vendor/ptb_urllib3/urllib3/connectionpool.py\", line 666, in urlopen\n",
      "    _stacktrace=sys.exc_info()[2])\n",
      "  File \"/home/eamag/.pyenv/versions/3.6.0/envs/general/lib/python3.6/site-packages/telegram/vendor/ptb_urllib3/urllib3/util/retry.py\", line 347, in increment\n",
      "    raise six.reraise(type(error), error, _stacktrace)\n",
      "  File \"/home/eamag/.pyenv/versions/3.6.0/envs/general/lib/python3.6/site-packages/telegram/vendor/ptb_urllib3/urllib3/packages/six.py\", line 686, in reraise\n",
      "    raise value\n",
      "  File \"/home/eamag/.pyenv/versions/3.6.0/envs/general/lib/python3.6/site-packages/telegram/vendor/ptb_urllib3/urllib3/connectionpool.py\", line 617, in urlopen\n",
      "    chunked=chunked)\n",
      "  File \"/home/eamag/.pyenv/versions/3.6.0/envs/general/lib/python3.6/site-packages/telegram/vendor/ptb_urllib3/urllib3/connectionpool.py\", line 405, in _make_request\n",
      "    exc_cls=ReadTimeoutError)\n",
      "  File \"/home/eamag/.pyenv/versions/3.6.0/envs/general/lib/python3.6/site-packages/telegram/vendor/ptb_urllib3/urllib3/connectionpool.py\", line 321, in _raise_timeout\n",
      "    raise exc_cls(*args)\n",
      "telegram.vendor.ptb_urllib3.urllib3.exceptions.ReadTimeoutError: HTTPSConnectionPool(host='api.telegram.org', port=443): Read timed out. (read timeout=5.0)\n",
      "\n",
      "During handling of the above exception, another exception occurred:\n",
      "\n",
      "Traceback (most recent call last):\n",
      "  File \"/home/eamag/.pyenv/versions/3.6.0/envs/general/lib/python3.6/site-packages/telegram/ext/dispatcher.py\", line 279, in process_update\n",
      "    handler.handle_update(update, self)\n",
      "  File \"/home/eamag/.pyenv/versions/3.6.0/envs/general/lib/python3.6/site-packages/telegram/ext/messagehandler.py\", line 169, in handle_update\n",
      "    return self.callback(dispatcher.bot, update, **optional_args)\n",
      "  File \"<ipython-input-1-e1015c856d43>\", line 55, in subscribe\n",
      "    bot.send_message(chat_id=uid, text=text, reply_markup=reply_markup)\n",
      "  File \"/home/eamag/.pyenv/versions/3.6.0/envs/general/lib/python3.6/site-packages/telegram/bot.py\", line 60, in decorator\n",
      "    result = func(self, *args, **kwargs)\n",
      "  File \"/home/eamag/.pyenv/versions/3.6.0/envs/general/lib/python3.6/site-packages/telegram/bot.py\", line 85, in decorator\n",
      "    result = self._request.post(url, data, timeout=kwargs.get('timeout'))\n",
      "  File \"/home/eamag/.pyenv/versions/3.6.0/envs/general/lib/python3.6/site-packages/telegram/utils/request.py\", line 273, in post\n",
      "    **urlopen_kwargs)\n",
      "  File \"/home/eamag/.pyenv/versions/3.6.0/envs/general/lib/python3.6/site-packages/telegram/utils/request.py\", line 192, in _request_wrapper\n",
      "    raise TimedOut()\n",
      "telegram.error.TimedOut: Timed out\n",
      "\n",
      "During handling of the above exception, another exception occurred:\n",
      "\n",
      "Traceback (most recent call last):\n",
      "  File \"/home/eamag/.pyenv/versions/3.6.0/envs/general/lib/python3.6/site-packages/telegram/ext/dispatcher.py\", line 292, in process_update\n",
      "    self.dispatch_error(update, te)\n",
      "  File \"/home/eamag/.pyenv/versions/3.6.0/envs/general/lib/python3.6/site-packages/telegram/ext/dispatcher.py\", line 384, in dispatch_error\n",
      "    callback(self.bot, update, error)\n",
      "TypeError: 'MessageHandler' object is not callable\n",
      "2018-04-20 22:13:52,861 - telegram.vendor.ptb_urllib3.urllib3.connectionpool - WARNING - Retrying (Retry(total=2, connect=None, read=None, redirect=None)) after connection broken by 'ConnectTimeoutError(<telegram.vendor.ptb_urllib3.urllib3.connection.VerifiedHTTPSConnection object at 0x7f9e98054cf8>, 'Connection to api.telegram.org timed out. (connect timeout=5.0)')': /bot355058372:AAHYrVaOhj9MROOL0J4bflm6HLUWHwPF6u0/getUpdates\n",
      "2018-04-20 22:14:08,059 - telegram.ext.dispatcher - ERROR - An uncaught error was raised while processing the update\n",
      "Traceback (most recent call last):\n",
      "  File \"/home/eamag/.pyenv/versions/3.6.0/envs/general/lib/python3.6/site-packages/telegram/ext/dispatcher.py\", line 278, in process_update\n",
      "    for handler in (x for x in self.handlers[group] if x.check_update(update)):\n",
      "  File \"/home/eamag/.pyenv/versions/3.6.0/envs/general/lib/python3.6/site-packages/telegram/ext/dispatcher.py\", line 278, in <genexpr>\n",
      "    for handler in (x for x in self.handlers[group] if x.check_update(update)):\n",
      "  File \"/home/eamag/.pyenv/versions/3.6.0/envs/general/lib/python3.6/site-packages/telegram/ext/messagehandler.py\", line 152, in check_update\n",
      "    res = self.filters(message)\n",
      "  File \"/home/eamag/.pyenv/versions/3.6.0/envs/general/lib/python3.6/site-packages/telegram/ext/filters.py\", line 63, in __call__\n",
      "    return self.filter(message)\n",
      "  File \"<ipython-input-1-e1015c856d43>\", line 188, in filter\n",
      "    if i not in choice[message.chat_id][0]:\n",
      "KeyError: 40287333\n",
      "2018-04-20 22:14:56,061 - telegram.vendor.ptb_urllib3.urllib3.connectionpool - WARNING - Retrying (Retry(total=2, connect=None, read=None, redirect=None)) after connection broken by 'NewConnectionError('<telegram.vendor.ptb_urllib3.urllib3.connection.VerifiedHTTPSConnection object at 0x7f9e917d56d8>: Failed to establish a new connection: [Errno -3] Temporary failure in name resolution',)': /bot355058372:AAHYrVaOhj9MROOL0J4bflm6HLUWHwPF6u0/getUpdates\n",
      "2018-04-20 22:15:16,014 - telegram.vendor.ptb_urllib3.urllib3.connectionpool - WARNING - Retrying (Retry(total=1, connect=None, read=None, redirect=None)) after connection broken by 'ConnectTimeoutError(<telegram.vendor.ptb_urllib3.urllib3.connectionpool.HTTPSConnectionPool object at 0x7f9e7c06eb70>, 'Connect timed out. (connect timeout=5.0)')': /bot355058372:AAHYrVaOhj9MROOL0J4bflm6HLUWHwPF6u0/getUpdates\n",
      "2018-04-20 22:15:41,033 - telegram.vendor.ptb_urllib3.urllib3.connectionpool - WARNING - Retrying (Retry(total=0, connect=None, read=None, redirect=None)) after connection broken by 'ConnectTimeoutError(<telegram.vendor.ptb_urllib3.urllib3.connectionpool.HTTPSConnectionPool object at 0x7f9e7c06eb70>, 'Connect timed out. (connect timeout=5.0)')': /bot355058372:AAHYrVaOhj9MROOL0J4bflm6HLUWHwPF6u0/getUpdates\n"
     ]
    },
    {
     "name": "stderr",
     "output_type": "stream",
     "text": [
      "2018-04-20 22:16:11,058 - telegram.ext.updater - ERROR - Error while getting Updates: urllib3 HTTPError HTTPSConnectionPool(host='api.telegram.org', port=443): Max retries exceeded with url: /bot355058372:AAHYrVaOhj9MROOL0J4bflm6HLUWHwPF6u0/getUpdates (Caused by ConnectTimeoutError(<telegram.vendor.ptb_urllib3.urllib3.connection.VerifiedHTTPSConnection object at 0x7f9e917d5b38>, 'Connection to api.telegram.org timed out. (connect timeout=5.0)'))\n",
      "2018-04-20 22:16:11,060 - telegram.ext.dispatcher - ERROR - An uncaught error was raised while handling the error\n",
      "Traceback (most recent call last):\n",
      "  File \"/home/eamag/.pyenv/versions/3.6.0/envs/general/lib/python3.6/site-packages/telegram/ext/dispatcher.py\", line 271, in process_update\n",
      "    self.dispatch_error(None, update)\n",
      "  File \"/home/eamag/.pyenv/versions/3.6.0/envs/general/lib/python3.6/site-packages/telegram/ext/dispatcher.py\", line 384, in dispatch_error\n",
      "    callback(self.bot, update, error)\n",
      "TypeError: 'MessageHandler' object is not callable\n",
      "2018-04-20 22:16:28,402 - telegram.vendor.ptb_urllib3.urllib3.connectionpool - WARNING - Retrying (Retry(total=2, connect=None, read=None, redirect=None)) after connection broken by 'ConnectTimeoutError(<telegram.vendor.ptb_urllib3.urllib3.connectionpool.HTTPSConnectionPool object at 0x7f9e7c06eb70>, 'Connect timed out. (connect timeout=5.0)')': /bot355058372:AAHYrVaOhj9MROOL0J4bflm6HLUWHwPF6u0/getUpdates\n",
      "2018-04-20 22:16:52,318 - telegram.vendor.ptb_urllib3.urllib3.connectionpool - WARNING - Retrying (Retry(total=1, connect=None, read=None, redirect=None)) after connection broken by 'ConnectTimeoutError(<telegram.vendor.ptb_urllib3.urllib3.connectionpool.HTTPSConnectionPool object at 0x7f9e7c06eb70>, 'Connect timed out. (connect timeout=5.0)')': /bot355058372:AAHYrVaOhj9MROOL0J4bflm6HLUWHwPF6u0/getUpdates\n",
      "2018-04-20 22:17:17,761 - telegram.vendor.ptb_urllib3.urllib3.connectionpool - WARNING - Retrying (Retry(total=0, connect=None, read=None, redirect=None)) after connection broken by 'ConnectTimeoutError(<telegram.vendor.ptb_urllib3.urllib3.connectionpool.HTTPSConnectionPool object at 0x7f9e7c06eb70>, 'Connect timed out. (connect timeout=5.0)')': /bot355058372:AAHYrVaOhj9MROOL0J4bflm6HLUWHwPF6u0/getUpdates\n",
      "2018-04-20 22:17:45,057 - telegram.ext.updater - ERROR - Error while getting Updates: urllib3 HTTPError HTTPSConnectionPool(host='api.telegram.org', port=443): Max retries exceeded with url: /bot355058372:AAHYrVaOhj9MROOL0J4bflm6HLUWHwPF6u0/getUpdates (Caused by ConnectTimeoutError(<telegram.vendor.ptb_urllib3.urllib3.connectionpool.HTTPSConnectionPool object at 0x7f9e7c06eb70>, 'Connect timed out. (connect timeout=5.0)'))\n",
      "2018-04-20 22:17:45,058 - telegram.ext.dispatcher - ERROR - An uncaught error was raised while handling the error\n",
      "Traceback (most recent call last):\n",
      "  File \"/home/eamag/.pyenv/versions/3.6.0/envs/general/lib/python3.6/site-packages/telegram/ext/dispatcher.py\", line 271, in process_update\n",
      "    self.dispatch_error(None, update)\n",
      "  File \"/home/eamag/.pyenv/versions/3.6.0/envs/general/lib/python3.6/site-packages/telegram/ext/dispatcher.py\", line 384, in dispatch_error\n",
      "    callback(self.bot, update, error)\n",
      "TypeError: 'MessageHandler' object is not callable\n",
      "2018-04-20 22:18:33,476 - telegram.vendor.ptb_urllib3.urllib3.connectionpool - WARNING - Retrying (Retry(total=2, connect=None, read=None, redirect=None)) after connection broken by 'ConnectTimeoutError(<telegram.vendor.ptb_urllib3.urllib3.connection.VerifiedHTTPSConnection object at 0x7f9e917d51d0>, 'Connection to api.telegram.org timed out. (connect timeout=5.0)')': /bot355058372:AAHYrVaOhj9MROOL0J4bflm6HLUWHwPF6u0/getUpdates\n",
      "2018-04-20 22:18:53,486 - telegram.vendor.ptb_urllib3.urllib3.connectionpool - WARNING - Retrying (Retry(total=1, connect=None, read=None, redirect=None)) after connection broken by 'NewConnectionError('<telegram.vendor.ptb_urllib3.urllib3.connection.VerifiedHTTPSConnection object at 0x7f9e917d52e8>: Failed to establish a new connection: [Errno -3] Temporary failure in name resolution',)': /bot355058372:AAHYrVaOhj9MROOL0J4bflm6HLUWHwPF6u0/getUpdates\n"
     ]
    }
   ],
   "source": [
    "import telegram\n",
    "from telegram import ReplyKeyboardMarkup\n",
    "from telegram.ext import Updater\n",
    "from telegram.ext import CommandHandler, MessageHandler, Filters, ConversationHandler\n",
    "from telegram.ext import BaseFilter\n",
    "\n",
    "from db import Event, User, connect_default\n",
    "\n",
    "token = ''\n",
    "bot = telegram.Bot(token)\n",
    "updater = Updater(token=token)\n",
    "dispatcher = updater.dispatcher\n",
    "\n",
    "meta, session, base, db = connect_default()\n",
    "from sqlalchemy import exists\n",
    "\n",
    "import logging\n",
    "\n",
    "logging.basicConfig(\n",
    "    format='%(asctime)s - %(name)s - %(levelname)s - %(message)s', level=logging.INFO)\n",
    "\n",
    "# input data\n",
    "organizations = [\"1\", \"2\"]\n",
    "profiles = [\"Бизнес\", \"Карьера\", \"Технологии\", \"Искуство\", \"Chill\"]\n",
    "dict_class_names = {\"1\": \"chose_1\", \"2\": 'chose_2', \"Бизнес\": 'th_business',\n",
    "                    \"Карьера\": 'th_career', \"Технологии\": 'th_tech', \"Искуство\": 'th_arts', \"Chill\": 'th_chill'}\n",
    "\n",
    "choice = {}\n",
    "\n",
    "\n",
    "def start(bot, update):\n",
    "    uid = update.message.chat_id\n",
    "\n",
    "    if not session.query(exists().where(User.uid == uid)).scalar():\n",
    "        text = \"/help\"\n",
    "        keyboard = [[\"Подписаться\", \"Помощь\"]]\n",
    "        reply_markup = ReplyKeyboardMarkup(\n",
    "            keyboard, one_time_keyboard=True, resize_keyboard=True)\n",
    "        bot.send_message(chat_id=update.message.chat_id, text=text, parse_mode='Markdown',\n",
    "                         reply_markup=reply_markup)\n",
    "        session.add(User(uid=uid))\n",
    "        session.commit()\n",
    "    else:\n",
    "        text = \"Ты уже подписан, а я работаю над анонсами для тебя:)\"\n",
    "        bot.send_message(chat_id=uid, text=text)\n",
    "        help_function(bot, update)\n",
    "\n",
    "\n",
    "def subscribe(bot, update):\n",
    "    uid = update.message.chat_id\n",
    "\n",
    "    text = \"Ты можешь настроить подписку сперва по вузам и клёвым организация, а затем по тематике. Выбери вузы и \" \\\n",
    "           \"организации, откуда хочешь получать уведомления о событиях. \"\n",
    "    reply_markup = ReplyKeyboardMarkup(\n",
    "        keyboard=[organizations], one_time_keyboard=True, resize_keyboard=True)\n",
    "    bot.send_message(chat_id=uid, text=text, reply_markup=reply_markup)\n",
    "\n",
    "    choice[update.message.chat_id] = [[], []]\n",
    "    user = session.query(User).filter_by(uid=uid).first()\n",
    "    for key, value in dict_class_names.items():\n",
    "        setattr(user, value, False)\n",
    "    setattr(user, 'is_sub', False)\n",
    "    session.commit()\n",
    "\n",
    "\n",
    "def choose_org(bot, update):\n",
    "    choose = choice[update.message.chat_id][0]\n",
    "    uid = update.message.chat_id\n",
    "\n",
    "    if update.message.text in organizations:\n",
    "        choose.append(update.message.text)\n",
    "        keyboard = []\n",
    "        reply_markup = ReplyKeyboardMarkup(\n",
    "            keyboard=[keyboard], one_time_keyboard=True, resize_keyboard=True)\n",
    "        for org in organizations:\n",
    "            if org not in choose:\n",
    "                keyboard.append(org)\n",
    "        if len(keyboard) == 0:\n",
    "            text = \"Ты выбрал все организации, на которые доступна подписка сегодня:)\"\n",
    "            bot.send_message(chat_id=uid, text=text)\n",
    "            return choose_profile(bot, update)\n",
    "        elif len(keyboard) != 0 and len(keyboard) < len(organizations):\n",
    "            text = \"Что добавить?\"\n",
    "            keyboard.append(\"Закончить\")\n",
    "            bot.send_message(chat_id=uid, text=text,\n",
    "                             reply_markup=reply_markup, resize_keyboard=True)\n",
    "    elif update.message.text not in organizations:\n",
    "        keyboard = []\n",
    "        reply_markup = ReplyKeyboardMarkup(\n",
    "            keyboard=[keyboard], one_time_keyboard=True, resize_keyboard=True)\n",
    "        for org in organizations:\n",
    "            if org not in choose:\n",
    "                keyboard.append(org)\n",
    "        if len(keyboard) == 0:\n",
    "            text = \"Ты выбрал все организации, на которые доступна подписка сегодня:)\"\n",
    "            bot.send_message(chat_id=update.message.chat_id, text=text)\n",
    "            return choose_profile(bot, update)\n",
    "        elif len(keyboard) != 0 and len(keyboard) < len(organizations):\n",
    "            text = \"Что добавить?\"\n",
    "            keyboard.append(\"Закончить\")\n",
    "            bot.send_message(chat_id=update.message.chat_id, text=text,\n",
    "                             reply_markup=reply_markup, resize_keyboard=True)\n",
    "\n",
    "\n",
    "def choose_profile(bot, update):\n",
    "    uid = update.message.chat_id\n",
    "    choose = choice[uid][1]\n",
    "    if update.message.text in profiles:\n",
    "        choose.append(update.message.text)\n",
    "        text = \"Что-нибудь ещё?\"\n",
    "        keyboard = []\n",
    "        reply_markup = ReplyKeyboardMarkup(\n",
    "            keyboard=[keyboard], one_time_keyboard=True, resize_keyboard=True)\n",
    "        for profile in profiles:\n",
    "            if profile not in choose:\n",
    "                keyboard.append(profile)\n",
    "        if len(keyboard) < len(profiles):\n",
    "            keyboard.append(\"Завершить\")\n",
    "            bot.send_message(chat_id=uid,\n",
    "                             text=text, reply_markup=reply_markup)\n",
    "    elif update.message.text == \"Завершить\":\n",
    "        user = session.query(User).filter_by(uid=uid).first()\n",
    "        for key, value in dict_class_names.items():\n",
    "            if (key in choice[uid][0]) or (key in choice[uid][1]):\n",
    "                setattr(user, value, True)\n",
    "        setattr(user, 'is_sub', True)\n",
    "        session.commit()\n",
    "\n",
    "        text = \"Отлично! Теперь ты будешь получать по будням анонсы событий на «сегодня» и «завтра», \" \\\n",
    "               \"а по воскресеньям – на всю неделю. Ты подписан на: {}. \" \\\n",
    "               \"Жми /settings, чтобы всё удалить и настроить заново).\".format(list(choice.values()))\n",
    "        bot.send_message(chat_id=update.message.chat_id, text=text)\n",
    "    else:\n",
    "        text = \"А какие события тебя больше всего интересуют?\"\n",
    "        keyboard = []\n",
    "        reply_markup = ReplyKeyboardMarkup(\n",
    "            keyboard=[keyboard], one_time_keyboard=True, resize_keyboard=True)\n",
    "        for profile in profiles:\n",
    "            if profile not in choose:\n",
    "                keyboard.append(profile)\n",
    "        if len(keyboard) == len(profiles):\n",
    "            bot.send_message(chat_id=update.message.chat_id,\n",
    "                             text=text, reply_markup=reply_markup)\n",
    "        else:\n",
    "            keyboard.append(\"Завершить\")\n",
    "            bot.send_message(chat_id=update.message.chat_id,\n",
    "                             text=text, reply_markup=reply_markup)\n",
    "\n",
    "\n",
    "def settings(bot, update):\n",
    "    text = \"Подпишись, и мы составим твои настройки\"\n",
    "    keyboard = [[\"Подписаться\"]]\n",
    "    reply_markup = ReplyKeyboardMarkup(\n",
    "        keyboard, one_time_keyboard=True, resize_keyboard=True)\n",
    "    bot.send_message(chat_id=update.message.chat_id,\n",
    "                     text=text, reply_markup=reply_markup)\n",
    "\n",
    "\n",
    "def unknown(bot, update):\n",
    "    text = \"Такой команды нет. Выбери комманду из списка:)\"\n",
    "    bot.send_message(chat_id=update.message.chat_id, text=text)\n",
    "    help_function(bot, update)\n",
    "\n",
    "\n",
    "def error(bot, update, TelegramError):\n",
    "    print(TelegramError)\n",
    "\n",
    "\n",
    "def help_function(bot, update):\n",
    "    text = \"\"\"\n",
    "        Вот список команд, который поможет тебе пользоваться ботом:\n",
    "\n",
    "    /start - Начать\n",
    "    /subscribe - Подписаться\n",
    "    /settings - Настройки\n",
    "        \"\"\"\n",
    "    bot.send_message(chat_id=update.message.chat_id, text=text)\n",
    "\n",
    "\n",
    "\n",
    "\n",
    "class SubscribeFilter(BaseFilter):\n",
    "    def filter(self, message):\n",
    "        return 'Подписаться' in message.text\n",
    "\n",
    "\n",
    "class OrganizationFilter(BaseFilter):\n",
    "    def filter(self, message):\n",
    "        if message.text in organizations:\n",
    "            for i in organizations:\n",
    "                if i not in choice[message.chat_id][0]:\n",
    "                    if i in message.text:\n",
    "                        return True\n",
    "        elif \"Добавить\" in message.text:\n",
    "            return True\n",
    "        else:\n",
    "            return False\n",
    "\n",
    "\n",
    "class ProfileFilter(BaseFilter):\n",
    "    def filter(self, message):\n",
    "        if message.text in profiles:\n",
    "            for i in profiles:\n",
    "                if i not in choice[message.chat_id][1]:\n",
    "                    if i in message.text:\n",
    "                        return True\n",
    "        if \"Закончить\" in message.text or \"Завершить\" in message.text:\n",
    "            return True\n",
    "        else:\n",
    "            return False\n",
    "\n",
    "\n",
    "filter_subscribe = SubscribeFilter()\n",
    "filter_organization = OrganizationFilter()\n",
    "filter_profile = ProfileFilter()\n",
    "start_handler = CommandHandler('start', start)\n",
    "subscribe_handler = CommandHandler('subscribe', subscribe)\n",
    "settings_handler = CommandHandler('settings', settings)\n",
    "subscribe_handler2 = MessageHandler(filter_subscribe, subscribe)\n",
    "chooseOrg_handler = MessageHandler(filter_organization, choose_org)\n",
    "chooseProfile_handler = MessageHandler(filter_profile, choose_profile)\n",
    "help_function_handler = CommandHandler('help', help_function)\n",
    "\n",
    "unknown_handler = MessageHandler(Filters.command, unknown)\n",
    "error_handler = MessageHandler(Filters.all, error)\n",
    "dispatcher.add_handler(start_handler)\n",
    "dispatcher.add_handler(subscribe_handler)\n",
    "dispatcher.add_handler(settings_handler)\n",
    "dispatcher.add_handler(subscribe_handler2)\n",
    "dispatcher.add_handler(chooseOrg_handler)\n",
    "dispatcher.add_handler(chooseProfile_handler)\n",
    "dispatcher.add_handler(help_function_handler)\n",
    "dispatcher.add_handler(unknown_handler)\n",
    "dispatcher.add_error_handler(error_handler)\n",
    "updater.start_polling()\n",
    "# updater.idle()\n"
   ]
  },
  {
   "cell_type": "markdown",
   "metadata": {},
   "source": [
    "http://docs.sqlalchemy.org/en/latest/orm/session_basics.html\n",
    "todo - clean up"
   ]
  }
 ],
 "metadata": {
  "kernelspec": {
   "display_name": "Python 3",
   "language": "python",
   "name": "python3"
  },
  "language_info": {
   "codemirror_mode": {
    "name": "ipython",
    "version": 3
   },
   "file_extension": ".py",
   "mimetype": "text/x-python",
   "name": "python",
   "nbconvert_exporter": "python",
   "pygments_lexer": "ipython3",
   "version": "3.6.6"
  }
 },
 "nbformat": 4,
 "nbformat_minor": 2
}
