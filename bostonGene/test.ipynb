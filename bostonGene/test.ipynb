{
 "cells": [
  {
   "cell_type": "markdown",
   "metadata": {},
   "source": [
    "# Spend on this approx. 5 hours, I think it's enogh for test task\n",
    "\n",
    "### So what can I tell: It's overfitting on train, so it's possible it will overfit on valid too. \n",
    "\n",
    "# What can I do next:\n",
    "* Tune model\n",
    "* A lot of features, try to use neural networks\n",
    "* More preprocessing, try clustering for feature reduction, calc variance etc (http://scikit-learn.org/stable/modules/feature_selection.html)\n",
    "* Yeah, forgot to check for corellations, think lgb will do it for me\n",
    "* I usually do pandas_profiling\n",
    "* It's a common sense to look into data from bio PoW. May read papers or something just to think about more features.\n",
    "* Forgot about noises in ds, don't really remember how to fix them here, it's not like plotting or just cropping data will be enough. Also lgb should fix this.\n",
    "\n",
    "### And final point - of course we can use api from mygene.info and use some features from here, but it's boring, right? :)"
   ]
  },
  {
   "cell_type": "code",
   "execution_count": 1,
   "metadata": {
    "ExecuteTime": {
     "end_time": "2018-03-06T17:24:12.427044Z",
     "start_time": "2018-03-06T17:24:09.096587Z"
    }
   },
   "outputs": [
    {
     "data": {
      "text/html": [
       "<div>\n",
       "<style scoped>\n",
       "    .dataframe tbody tr th:only-of-type {\n",
       "        vertical-align: middle;\n",
       "    }\n",
       "\n",
       "    .dataframe tbody tr th {\n",
       "        vertical-align: top;\n",
       "    }\n",
       "\n",
       "    .dataframe thead th {\n",
       "        text-align: right;\n",
       "    }\n",
       "</style>\n",
       "<table border=\"1\" class=\"dataframe\">\n",
       "  <thead>\n",
       "    <tr style=\"text-align: right;\">\n",
       "      <th></th>\n",
       "      <th>1</th>\n",
       "      <th>10</th>\n",
       "      <th>100</th>\n",
       "      <th>1000</th>\n",
       "      <th>10000</th>\n",
       "      <th>100009676</th>\n",
       "      <th>10001</th>\n",
       "      <th>10002</th>\n",
       "      <th>10003</th>\n",
       "      <th>10004</th>\n",
       "      <th>...</th>\n",
       "      <th>9987</th>\n",
       "      <th>9988</th>\n",
       "      <th>9989</th>\n",
       "      <th>999</th>\n",
       "      <th>9990</th>\n",
       "      <th>9991</th>\n",
       "      <th>9992</th>\n",
       "      <th>9993</th>\n",
       "      <th>9994</th>\n",
       "      <th>9997</th>\n",
       "    </tr>\n",
       "  </thead>\n",
       "  <tbody>\n",
       "    <tr>\n",
       "      <th>GSM493958</th>\n",
       "      <td>6.867902</td>\n",
       "      <td>6.070892</td>\n",
       "      <td>8.134455</td>\n",
       "      <td>5.568788</td>\n",
       "      <td>4.738206</td>\n",
       "      <td>6.169936</td>\n",
       "      <td>5.439581</td>\n",
       "      <td>5.578937</td>\n",
       "      <td>3.483046</td>\n",
       "      <td>6.711458</td>\n",
       "      <td>...</td>\n",
       "      <td>8.027467</td>\n",
       "      <td>7.340802</td>\n",
       "      <td>7.496552</td>\n",
       "      <td>4.360529</td>\n",
       "      <td>6.190932</td>\n",
       "      <td>6.772586</td>\n",
       "      <td>5.940105</td>\n",
       "      <td>7.784046</td>\n",
       "      <td>4.413434</td>\n",
       "      <td>9.793868</td>\n",
       "    </tr>\n",
       "    <tr>\n",
       "      <th>GSM493959</th>\n",
       "      <td>6.395149</td>\n",
       "      <td>5.288119</td>\n",
       "      <td>8.676036</td>\n",
       "      <td>5.265260</td>\n",
       "      <td>4.650369</td>\n",
       "      <td>5.650779</td>\n",
       "      <td>5.043561</td>\n",
       "      <td>5.914312</td>\n",
       "      <td>3.616951</td>\n",
       "      <td>6.237782</td>\n",
       "      <td>...</td>\n",
       "      <td>8.822329</td>\n",
       "      <td>8.135556</td>\n",
       "      <td>8.682880</td>\n",
       "      <td>4.964215</td>\n",
       "      <td>6.303047</td>\n",
       "      <td>7.340834</td>\n",
       "      <td>5.463055</td>\n",
       "      <td>7.402748</td>\n",
       "      <td>4.443319</td>\n",
       "      <td>9.413854</td>\n",
       "    </tr>\n",
       "    <tr>\n",
       "      <th>GSM493960</th>\n",
       "      <td>7.213547</td>\n",
       "      <td>6.083301</td>\n",
       "      <td>8.109472</td>\n",
       "      <td>5.572229</td>\n",
       "      <td>4.889383</td>\n",
       "      <td>5.843625</td>\n",
       "      <td>4.907467</td>\n",
       "      <td>5.508685</td>\n",
       "      <td>3.496123</td>\n",
       "      <td>6.680159</td>\n",
       "      <td>...</td>\n",
       "      <td>8.281195</td>\n",
       "      <td>7.027176</td>\n",
       "      <td>7.821354</td>\n",
       "      <td>4.825616</td>\n",
       "      <td>6.409682</td>\n",
       "      <td>7.531717</td>\n",
       "      <td>5.959676</td>\n",
       "      <td>7.567631</td>\n",
       "      <td>4.453989</td>\n",
       "      <td>8.888630</td>\n",
       "    </tr>\n",
       "    <tr>\n",
       "      <th>GSM493962</th>\n",
       "      <td>6.661861</td>\n",
       "      <td>5.720451</td>\n",
       "      <td>6.688849</td>\n",
       "      <td>5.672341</td>\n",
       "      <td>4.409676</td>\n",
       "      <td>5.827052</td>\n",
       "      <td>5.902069</td>\n",
       "      <td>5.388580</td>\n",
       "      <td>3.503215</td>\n",
       "      <td>6.406210</td>\n",
       "      <td>...</td>\n",
       "      <td>8.894522</td>\n",
       "      <td>8.237124</td>\n",
       "      <td>8.084508</td>\n",
       "      <td>6.875271</td>\n",
       "      <td>7.406162</td>\n",
       "      <td>7.609034</td>\n",
       "      <td>6.035611</td>\n",
       "      <td>7.605073</td>\n",
       "      <td>4.899331</td>\n",
       "      <td>8.879289</td>\n",
       "    </tr>\n",
       "    <tr>\n",
       "      <th>GSM493963</th>\n",
       "      <td>8.186274</td>\n",
       "      <td>5.672403</td>\n",
       "      <td>8.605729</td>\n",
       "      <td>6.558532</td>\n",
       "      <td>4.797550</td>\n",
       "      <td>6.101611</td>\n",
       "      <td>5.408077</td>\n",
       "      <td>5.330433</td>\n",
       "      <td>3.523467</td>\n",
       "      <td>6.590384</td>\n",
       "      <td>...</td>\n",
       "      <td>7.923440</td>\n",
       "      <td>7.201903</td>\n",
       "      <td>8.578686</td>\n",
       "      <td>4.501544</td>\n",
       "      <td>7.358714</td>\n",
       "      <td>7.516078</td>\n",
       "      <td>5.847386</td>\n",
       "      <td>7.482892</td>\n",
       "      <td>4.583682</td>\n",
       "      <td>9.369389</td>\n",
       "    </tr>\n",
       "  </tbody>\n",
       "</table>\n",
       "<p>5 rows × 20514 columns</p>\n",
       "</div>"
      ],
      "text/plain": [
       "           1          10         100        1000       10000      100009676  \\\n",
       "GSM493958   6.867902   6.070892   8.134455   5.568788   4.738206   6.169936   \n",
       "GSM493959   6.395149   5.288119   8.676036   5.265260   4.650369   5.650779   \n",
       "GSM493960   7.213547   6.083301   8.109472   5.572229   4.889383   5.843625   \n",
       "GSM493962   6.661861   5.720451   6.688849   5.672341   4.409676   5.827052   \n",
       "GSM493963   8.186274   5.672403   8.605729   6.558532   4.797550   6.101611   \n",
       "\n",
       "           10001      10002      10003      10004        ...      9987       \\\n",
       "GSM493958   5.439581   5.578937   3.483046   6.711458    ...       8.027467   \n",
       "GSM493959   5.043561   5.914312   3.616951   6.237782    ...       8.822329   \n",
       "GSM493960   4.907467   5.508685   3.496123   6.680159    ...       8.281195   \n",
       "GSM493962   5.902069   5.388580   3.503215   6.406210    ...       8.894522   \n",
       "GSM493963   5.408077   5.330433   3.523467   6.590384    ...       7.923440   \n",
       "\n",
       "           9988       9989       999        9990       9991       9992       \\\n",
       "GSM493958   7.340802   7.496552   4.360529   6.190932   6.772586   5.940105   \n",
       "GSM493959   8.135556   8.682880   4.964215   6.303047   7.340834   5.463055   \n",
       "GSM493960   7.027176   7.821354   4.825616   6.409682   7.531717   5.959676   \n",
       "GSM493962   8.237124   8.084508   6.875271   7.406162   7.609034   6.035611   \n",
       "GSM493963   7.201903   8.578686   4.501544   7.358714   7.516078   5.847386   \n",
       "\n",
       "           9993       9994       9997       \n",
       "GSM493958   7.784046   4.413434   9.793868  \n",
       "GSM493959   7.402748   4.443319   9.413854  \n",
       "GSM493960   7.567631   4.453989   8.888630  \n",
       "GSM493962   7.605073   4.899331   8.879289  \n",
       "GSM493963   7.482892   4.583682   9.369389  \n",
       "\n",
       "[5 rows x 20514 columns]"
      ]
     },
     "execution_count": 1,
     "metadata": {},
     "output_type": "execute_result"
    }
   ],
   "source": [
    "import pandas as pd\n",
    "import numpy as np\n",
    "np.random.seed(42)\n",
    "gse24 = pd.read_csv('GSE24080.csv', index_col=0).T\n",
    "gse24ann = pd.read_csv('GSE24080_annotation.csv')\n",
    "gse197 = pd.read_csv('GSE19784.csv', index_col=0).T\n",
    "gse197ann = pd.read_csv('GSE19784_annotation.csv')\n",
    "gse197.head()"
   ]
  },
  {
   "cell_type": "code",
   "execution_count": 4,
   "metadata": {
    "ExecuteTime": {
     "end_time": "2018-03-06T17:24:12.863508Z",
     "start_time": "2018-03-06T17:24:12.860857Z"
    }
   },
   "outputs": [],
   "source": [
    "%load_ext wurlitzer  \n",
    "# for c++ output in jupyter"
   ]
  },
  {
   "cell_type": "code",
   "execution_count": 2,
   "metadata": {
    "ExecuteTime": {
     "end_time": "2018-03-06T17:24:12.529133Z",
     "start_time": "2018-03-06T17:24:12.428033Z"
    }
   },
   "outputs": [],
   "source": [
    "def preproc(gse24, gse24ann):\n",
    "    gse24['Patient'] = gse24.index\n",
    "    gse24.reset_index(drop=True, inplace=True)\n",
    "    gse24ann.drop('D_Age', axis=1, inplace=True)  # Because it's broken in valid set\n",
    "    gse24ann.replace({'HR_FLAG':{\"TRUE\":1, \"FALSE\":0 }, 'D_Gender':{\"Male\":1, \"Female\":0}}, inplace=True)\n",
    "    gse24ann.drop(gse24ann[gse24ann['HR_FLAG'] == 'CENSORED'].index, inplace=True)  # binary, right?\n",
    "    return gse24.merge(gse24ann, on='Patient').fillna(0)\n",
    "train = preproc(gse24, gse24ann)"
   ]
  },
  {
   "cell_type": "markdown",
   "metadata": {},
   "source": [
    "So let's build some baseline"
   ]
  },
  {
   "cell_type": "code",
   "execution_count": 3,
   "metadata": {
    "ExecuteTime": {
     "end_time": "2018-03-06T17:24:12.859633Z",
     "start_time": "2018-03-06T17:24:12.530274Z"
    }
   },
   "outputs": [],
   "source": [
    "from sklearn.model_selection import train_test_split\n",
    "x_train, x_test, y_train, y_test = train_test_split(\n",
    "    train.drop(['HR_FLAG', \"Patient\"], axis=1).values, train['HR_FLAG'].values,\n",
    "    test_size=0.2)"
   ]
  },
  {
   "cell_type": "markdown",
   "metadata": {},
   "source": [
    "May be useful later\n",
    "\n",
    "* https://github.com/Microsoft/LightGBM/blob/master/docs/Parameters.rst"
   ]
  },
  {
   "cell_type": "code",
   "execution_count": 5,
   "metadata": {
    "ExecuteTime": {
     "end_time": "2018-03-06T17:24:17.140759Z",
     "start_time": "2018-03-06T17:24:12.864412Z"
    },
    "scrolled": true
   },
   "outputs": [
    {
     "name": "stderr",
     "output_type": "stream",
     "text": [
      "/home/magas/.pyenv/versions/3.6.0/envs/general/lib/python3.6/site-packages/lightgbm/engine.py:104: UserWarning: Found `early_stopping_round` in params. Will use it instead of argument\n",
      "  warnings.warn(\"Found `{}` in params. Will use it instead of argument\".format(alias))\n"
     ]
    },
    {
     "name": "stdout",
     "output_type": "stream",
     "text": [
      "[LightGBM] [Info] Number of positive: 71, number of negative: 375\n",
      "[LightGBM] [Info] Total Bins 3056592\n",
      "[LightGBM] [Info] Number of data: 446, number of used features: 20516\n",
      "[LightGBM] [Info] using GOSS\n",
      "[LightGBM] [Warning] No further splits with positive gain, best gain: -inf\n",
      "[1]\tvalid_0's auc: 0.67709\n",
      "Training until validation scores don't improve for 10 rounds.\n",
      "[LightGBM] [Warning] No further splits with positive gain, best gain: -inf\n",
      "[2]\tvalid_0's auc: 0.666563\n",
      "[LightGBM] [Warning] No further splits with positive gain, best gain: -inf\n",
      "[3]\tvalid_0's auc: 0.665325\n",
      "[LightGBM] [Warning] No further splits with positive gain, best gain: -inf\n",
      "[4]\tvalid_0's auc: 0.642724\n",
      "[LightGBM] [Warning] No further splits with positive gain, best gain: -inf\n",
      "[5]\tvalid_0's auc: 0.704644\n",
      "[LightGBM] [Warning] No further splits with positive gain, best gain: -inf\n",
      "[6]\tvalid_0's auc: 0.698452\n",
      "[LightGBM] [Warning] No further splits with positive gain, best gain: -inf\n",
      "[7]\tvalid_0's auc: 0.691641\n",
      "[LightGBM] [Warning] No further splits with positive gain, best gain: -inf\n",
      "[8]\tvalid_0's auc: 0.693498\n",
      "[LightGBM] [Warning] No further splits with positive gain, best gain: -inf\n",
      "[9]\tvalid_0's auc: 0.6613\n",
      "[LightGBM] [Warning] No further splits with positive gain, best gain: -inf\n",
      "[10]\tvalid_0's auc: 0.667492\n",
      "[LightGBM] [Warning] No further splits with positive gain, best gain: -inf\n",
      "[11]\tvalid_0's auc: 0.652012\n",
      "[LightGBM] [Warning] No further splits with positive gain, best gain: -inf\n",
      "[12]\tvalid_0's auc: 0.682972\n",
      "[LightGBM] [Warning] No further splits with positive gain, best gain: -inf\n",
      "[13]\tvalid_0's auc: 0.696594\n",
      "[LightGBM] [Warning] No further splits with positive gain, best gain: -inf\n",
      "[14]\tvalid_0's auc: 0.696594\n",
      "[LightGBM] [Warning] No further splits with positive gain, best gain: -inf\n",
      "[15]\tvalid_0's auc: 0.700929\n",
      "Early stopping, best iteration is:\n",
      "[5]\tvalid_0's auc: 0.704644\n",
      "0.7046439628482972\n"
     ]
    }
   ],
   "source": [
    "import lightgbm as lgb\n",
    "from sklearn.metrics import roc_auc_score\n",
    "verbose = 1\n",
    "plot = 1\n",
    "params = {\n",
    "#     \"max_bin\": 1024,\n",
    "#     \"learning_rate\": 0.01,\n",
    "    \"boosting_type\": \"goss\",\n",
    "    \"objective\": \"binary\",\n",
    "#     'num_iterations':10000,\n",
    "    \"metric\": \"auc\",\n",
    "#     \"num_leaves\": 1000,\n",
    "    \"verbose\": 1,\n",
    "#     \"min_data\": 100,\n",
    "#     \"boost_from_average\": True\n",
    "    'early_stopping_round': 10,\n",
    "}\n",
    "\n",
    "d_train = lgb.Dataset(x_train, y_train)\n",
    "d_valid = lgb.Dataset(x_test, label=y_test)\n",
    "model = lgb.train(params, d_train, valid_sets=d_valid)\n",
    "# model.save_model('regressin')\n",
    "# model = lgb.Booster(model_file='regressin')\n",
    "\n",
    "y_pred = model.predict(x_test)\n",
    "print(roc_auc_score(y_test.astype('int8'), y_pred))"
   ]
  },
  {
   "cell_type": "code",
   "execution_count": 6,
   "metadata": {
    "ExecuteTime": {
     "end_time": "2018-03-06T17:24:18.047237Z",
     "start_time": "2018-03-06T17:24:17.141852Z"
    }
   },
   "outputs": [
    {
     "data": {
      "text/plain": [
       "<matplotlib.figure.Figure at 0x7fb7a1715f98>"
      ]
     },
     "metadata": {},
     "output_type": "display_data"
    },
    {
     "data": {
      "image/png": "[encoded data removed]",
      "text/plain": [
       "<matplotlib.figure.Figure at 0x7fb76a295c18>"
      ]
     },
     "metadata": {},
     "output_type": "display_data"
    }
   ],
   "source": [
    "%matplotlib inline\n",
    "import seaborn as sns\n",
    "import matplotlib.pyplot as plt\n",
    "df_fi = pd.DataFrame(model.feature_name(), columns=['feature'])\n",
    "df_fi['importance'] = list(model.feature_importance('gain'))\n",
    "df_fi.sort_values('importance', ascending=False, inplace=True)\n",
    "# print(df_fi)\n",
    "if plot:\n",
    "    plt.figure()\n",
    "    df_fi.head(10).plot(kind='barh', x='feature', y='importance')\n",
    "    plt.title('Roc_auc is {}'.format(roc_auc_score(y_test.astype('int8'), y_pred)))\n",
    "    plt.xlabel('relative importance')\n",
    "    plt.show()"
   ]
  },
  {
   "cell_type": "markdown",
   "metadata": {},
   "source": [
    "So it ok, let's check on test set:"
   ]
  },
  {
   "cell_type": "code",
   "execution_count": 7,
   "metadata": {
    "ExecuteTime": {
     "end_time": "2018-03-06T17:24:18.344169Z",
     "start_time": "2018-03-06T17:24:18.048374Z"
    }
   },
   "outputs": [
    {
     "name": "stdout",
     "output_type": "stream",
     "text": [
      "0.5149307214524604\n"
     ]
    }
   ],
   "source": [
    "test = preproc(gse197, gse197ann)\n",
    "\n",
    "y_pred = model.predict(test.drop(['HR_FLAG', \"Patient\"], axis=1).values)\n",
    "print(roc_auc_score(test['HR_FLAG'].astype('int8'), y_pred))\n"
   ]
  },
  {
   "cell_type": "markdown",
   "metadata": {},
   "source": [
    "It's not ok, let's try dimensionality reduction. We'll use NMF with 'mu' because it's newest in sklearn :)\n",
    "\n",
    "Also https://habrahabr.ru/company/ods/blog/325654/"
   ]
  },
  {
   "cell_type": "code",
   "execution_count": 8,
   "metadata": {
    "ExecuteTime": {
     "end_time": "2018-03-06T17:27:43.018797Z",
     "start_time": "2018-03-06T17:24:18.345507Z"
    }
   },
   "outputs": [
    {
     "data": {
      "application/vnd.jupyter.widget-view+json": {
       "model_id": "5b3ebaf0fa544118b0757f700f356efb",
       "version_major": 2,
       "version_minor": 0
      },
      "text/html": [
       "<p>Failed to display Jupyter Widget of type <code>HBox</code>.</p>\n",
       "<p>\n",
       "  If you're reading this message in the Jupyter Notebook or JupyterLab Notebook, it may mean\n",
       "  that the widgets JavaScript is still loading. If this message persists, it\n",
       "  likely means that the widgets JavaScript library is either not installed or\n",
       "  not enabled. See the <a href=\"https://ipywidgets.readthedocs.io/en/stable/user_install.html\">Jupyter\n",
       "  Widgets Documentation</a> for setup instructions.\n",
       "</p>\n",
       "<p>\n",
       "  If you're reading this message in another frontend (for example, a static\n",
       "  rendering on GitHub or <a href=\"https://nbviewer.jupyter.org/\">NBViewer</a>),\n",
       "  it may mean that your frontend doesn't currently support widgets.\n",
       "</p>\n"
      ],
      "text/plain": [
       "HBox(children=(IntProgress(value=0, max=8), HTML(value='')))"
      ]
     },
     "metadata": {},
     "output_type": "display_data"
    },
    {
     "name": "stderr",
     "output_type": "stream",
     "text": [
      "/home/magas/.pyenv/versions/3.6.0/envs/general/lib/python3.6/site-packages/sklearn/decomposition/nmf.py:1035: ConvergenceWarning: Maximum number of iteration 200 reached. Increase it to improve convergence.\n",
      "  \" improve convergence.\" % max_iter, ConvergenceWarning)\n"
     ]
    },
    {
     "name": "stdout",
     "output_type": "stream",
     "text": [
      "\n"
     ]
    },
    {
     "data": {
      "text/plain": [
       "[<matplotlib.lines.Line2D at 0x7fb770025f28>]"
      ]
     },
     "execution_count": 8,
     "metadata": {},
     "output_type": "execute_result"
    },
    {
     "data": {
      "image/png": "[encoded data removed]",
      "text/plain": [
       "<matplotlib.figure.Figure at 0x7fb78eff3d68>"
      ]
     },
     "metadata": {},
     "output_type": "display_data"
    }
   ],
   "source": [
    "from sklearn.decomposition import NMF\n",
    "from tqdm import tqdm_notebook as tqdm\n",
    "import gc\n",
    "rec_err = []\n",
    "for ncomp in tqdm(range(2, 400, 50)):\n",
    "    model = NMF(n_components=ncomp, solver='mu', random_state=0)\n",
    "    W = model.fit_transform(x_train)\n",
    "    H = model.components_\n",
    "    rec_err.append(model.reconstruction_err_)\n",
    "    del W, H, model\n",
    "    gc.collect()\n",
    "plt.plot(np.arange(2, 400, 50), rec_err)"
   ]
  },
  {
   "cell_type": "markdown",
   "metadata": {
    "ExecuteTime": {
     "end_time": "2018-03-06T16:53:10.986759Z",
     "start_time": "2018-03-06T16:53:10.782852Z"
    }
   },
   "source": [
    "So 100 components it is"
   ]
  },
  {
   "cell_type": "code",
   "execution_count": 22,
   "metadata": {
    "ExecuteTime": {
     "end_time": "2018-03-06T17:39:19.411712Z",
     "start_time": "2018-03-06T17:38:59.755123Z"
    }
   },
   "outputs": [
    {
     "name": "stderr",
     "output_type": "stream",
     "text": [
      "/home/magas/.pyenv/versions/3.6.0/envs/general/lib/python3.6/site-packages/sklearn/decomposition/nmf.py:1035: ConvergenceWarning: Maximum number of iteration 200 reached. Increase it to improve convergence.\n",
      "  \" improve convergence.\" % max_iter, ConvergenceWarning)\n"
     ]
    }
   ],
   "source": [
    "from sklearn.model_selection import train_test_split\n",
    "nmf = NMF(n_components=100, solver='mu', random_state=0)\n",
    "W = nmf.fit_transform(train.drop(['HR_FLAG', \"Patient\"], axis=1).values)\n",
    "\n",
    "x_train, x_test, y_train, y_test = train_test_split(\n",
    "    W, train['HR_FLAG'].values,\n",
    "    test_size=0.2)"
   ]
  },
  {
   "cell_type": "code",
   "execution_count": 35,
   "metadata": {
    "ExecuteTime": {
     "end_time": "2018-03-06T17:43:11.247188Z",
     "start_time": "2018-03-06T17:43:10.792005Z"
    },
    "scrolled": true
   },
   "outputs": [
    {
     "name": "stderr",
     "output_type": "stream",
     "text": [
      "/home/magas/.pyenv/versions/3.6.0/envs/general/lib/python3.6/site-packages/lightgbm/engine.py:99: UserWarning: Found `num_iterations` in params. Will use it instead of argument\n",
      "  warnings.warn(\"Found `{}` in params. Will use it instead of argument\".format(alias))\n",
      "/home/magas/.pyenv/versions/3.6.0/envs/general/lib/python3.6/site-packages/lightgbm/engine.py:104: UserWarning: Found `early_stopping_round` in params. Will use it instead of argument\n",
      "  warnings.warn(\"Found `{}` in params. Will use it instead of argument\".format(alias))\n"
     ]
    },
    {
     "name": "stdout",
     "output_type": "stream",
     "text": [
      "[LightGBM] [Info] Number of positive: 70, number of negative: 376\n",
      "[LightGBM] [Info] Total Bins 7519\n",
      "[LightGBM] [Info] Number of data: 446, number of used features: 100\n",
      "[LightGBM] [Info] using GOSS\n",
      "[LightGBM] [Warning] No further splits with positive gain, best gain: -inf\n",
      "[1]\tvalid_0's auc: 0.645981\n",
      "Training until validation scores don't improve for 10 rounds.\n",
      "[2]\tvalid_0's auc: 0.645981\n",
      "[3]\tvalid_0's auc: 0.645981\n",
      "[LightGBM] [Warning] No further splits with positive gain, best gain: -inf\n",
      "[LightGBM] [Warning] No further splits with positive gain, best gain: -inf\n",
      "[LightGBM] [Warning] No further splits with positive gain, best gain: -inf\n",
      "[LightGBM] [Warning] No further splits with positive gain, best gain: -inf\n",
      "[LightGBM] [Warning] No further splits with positive gain, best gain: -inf\n",
      "[LightGBM] [Warning] No further splits with positive gain, best gain: -inf\n",
      "[LightGBM] [Warning] No further splits with positive gain, best gain: -inf\n",
      "[LightGBM] [Warning] No further splits with positive gain, best gain: -inf\n",
      "[LightGBM] [Warning] No further splits with positive gain, best gain: -inf\n",
      "[LightGBM] [Warning] No further splits with positive gain, best gain: -inf\n",
      "[4]\tvalid_0's auc: 0.645981\n",
      "[5]\tvalid_0's auc: 0.645981\n",
      "[6]\tvalid_0's auc: 0.645981\n",
      "[7]\tvalid_0's auc: 0.645981\n",
      "[8]\tvalid_0's auc: 0.645981\n",
      "[9]\tvalid_0's auc: 0.645981\n",
      "[10]\tvalid_0's auc: 0.645981\n",
      "[11]\tvalid_0's auc: 0.645981\n",
      "Early stopping, best iteration is:\n",
      "[1]\tvalid_0's auc: 0.645981\n",
      "0.6459810874704492\n"
     ]
    }
   ],
   "source": [
    "import lightgbm as lgb\n",
    "from sklearn.metrics import roc_auc_score\n",
    "verbose = 1\n",
    "plot = 1\n",
    "params = {\n",
    "    \"max_bin\": 2000,\n",
    "    \"learning_rate\": 0.0001,\n",
    "    \"boosting_type\": \"goss\",\n",
    "    \"objective\": \"binary\",\n",
    "    'num_iterations':100000,\n",
    "    \"metric\": \"auc\",\n",
    "    \"num_leaves\": 10000,\n",
    "    \"verbose\": 1,\n",
    "    \"min_data\": 150,\n",
    "#     \"boost_from_average\": True,\n",
    "    'early_stopping_round': 10, \n",
    "    \n",
    "}\n",
    "\n",
    "d_train = lgb.Dataset(x_train, y_train)\n",
    "d_valid = lgb.Dataset(x_test, label=y_test)\n",
    "lgb = lgb.train(params, d_train, valid_sets=d_valid)\n",
    "# model.save_model('regressin')\n",
    "# model = lgb.Booster(model_file='regressin')\n",
    "\n",
    "y_pred = lgb.predict(x_test)\n",
    "print(roc_auc_score(y_test.astype('int8'), y_pred))"
   ]
  },
  {
   "cell_type": "code",
   "execution_count": 25,
   "metadata": {
    "ExecuteTime": {
     "end_time": "2018-03-06T17:39:39.591364Z",
     "start_time": "2018-03-06T17:39:39.274549Z"
    }
   },
   "outputs": [
    {
     "data": {
      "text/plain": [
       "<matplotlib.figure.Figure at 0x7fb778864e80>"
      ]
     },
     "metadata": {},
     "output_type": "display_data"
    },
    {
     "data": {
      "image/png": "[encoded data removed]",
      "text/plain": [
       "<matplotlib.figure.Figure at 0x7fb778a19d30>"
      ]
     },
     "metadata": {},
     "output_type": "display_data"
    }
   ],
   "source": [
    "%matplotlib inline\n",
    "import seaborn as sns\n",
    "import matplotlib.pyplot as plt\n",
    "df_fi = pd.DataFrame(lgb.feature_name(), columns=['feature'])\n",
    "df_fi['importance'] = list(lgb.feature_importance('gain'))\n",
    "df_fi.sort_values('importance', ascending=False, inplace=True)\n",
    "# print(df_fi)\n",
    "if plot:\n",
    "    plt.figure()\n",
    "    df_fi.head(10).plot(kind='barh', x='feature', y='importance')\n",
    "    plt.title('Roc_auc is {}'.format(roc_auc_score(y_test.astype('int8'), y_pred)))\n",
    "    plt.xlabel('relative importance')\n",
    "    plt.show()"
   ]
  },
  {
   "cell_type": "code",
   "execution_count": 26,
   "metadata": {
    "ExecuteTime": {
     "end_time": "2018-03-06T17:39:42.323076Z",
     "start_time": "2018-03-06T17:39:40.920967Z"
    }
   },
   "outputs": [
    {
     "name": "stderr",
     "output_type": "stream",
     "text": [
      "/home/magas/.pyenv/versions/3.6.0/envs/general/lib/python3.6/site-packages/sklearn/decomposition/nmf.py:1035: ConvergenceWarning: Maximum number of iteration 200 reached. Increase it to improve convergence.\n",
      "  \" improve convergence.\" % max_iter, ConvergenceWarning)\n"
     ]
    },
    {
     "name": "stdout",
     "output_type": "stream",
     "text": [
      "0.5012243191591018\n"
     ]
    }
   ],
   "source": [
    "w = nmf.transform(test.drop(['HR_FLAG', \"Patient\"], axis=1).values)\n",
    "y_pred = lgb.predict(w)\n",
    "print(roc_auc_score(test['HR_FLAG'].astype('int8'), y_pred))\n"
   ]
  },
  {
   "cell_type": "markdown",
   "metadata": {},
   "source": [
    "## Welp\n",
    "\n",
    "Okay, let's try putting valid right in lgb"
   ]
  },
  {
   "cell_type": "markdown",
   "metadata": {},
   "source": [
    "May be useful later\n",
    "\n",
    "* https://github.com/Microsoft/LightGBM/blob/master/docs/Parameters.rst"
   ]
  },
  {
   "cell_type": "code",
   "execution_count": 20,
   "metadata": {
    "ExecuteTime": {
     "end_time": "2018-03-06T17:37:19.144182Z",
     "start_time": "2018-03-06T17:37:06.910624Z"
    },
    "scrolled": true
   },
   "outputs": [
    {
     "name": "stderr",
     "output_type": "stream",
     "text": [
      "/home/magas/.pyenv/versions/3.6.0/envs/general/lib/python3.6/site-packages/lightgbm/engine.py:104: UserWarning: Found `early_stopping_round` in params. Will use it instead of argument\n",
      "  warnings.warn(\"Found `{}` in params. Will use it instead of argument\".format(alias))\n"
     ]
    },
    {
     "name": "stdout",
     "output_type": "stream",
     "text": [
      "[LightGBM] [Info] Number of positive: 88, number of negative: 470\n",
      "[LightGBM] [Info] Total Bins 3835273\n",
      "[LightGBM] [Info] Number of data: 558, number of used features: 20516\n",
      "[LightGBM] [Info] using GOSS\n",
      "[LightGBM] [Warning] No further splits with positive gain, best gain: -inf\n",
      "[1]\tvalid_0's auc: 0.545658\n",
      "Training until validation scores don't improve for 10 rounds.\n",
      "[LightGBM] [Warning] No further splits with positive gain, best gain: -inf\n",
      "[2]\tvalid_0's auc: 0.608935\n",
      "[LightGBM] [Warning] No further splits with positive gain, best gain: -inf\n",
      "[3]\tvalid_0's auc: 0.608397\n",
      "[LightGBM] [Warning] No further splits with positive gain, best gain: -inf\n",
      "[4]\tvalid_0's auc: 0.625448\n",
      "[LightGBM] [Warning] No further splits with positive gain, best gain: -inf\n",
      "[5]\tvalid_0's auc: 0.621208\n",
      "[LightGBM] [Warning] No further splits with positive gain, best gain: -inf\n",
      "[6]\tvalid_0's auc: 0.626881\n",
      "[LightGBM] [Warning] No further splits with positive gain, best gain: -inf\n",
      "[7]\tvalid_0's auc: 0.623626\n",
      "[LightGBM] [Warning] No further splits with positive gain, best gain: -inf\n",
      "[8]\tvalid_0's auc: 0.626732\n",
      "[LightGBM] [Warning] No further splits with positive gain, best gain: -inf\n",
      "[9]\tvalid_0's auc: 0.623268\n",
      "[LightGBM] [Warning] No further splits with positive gain, best gain: -inf\n",
      "[10]\tvalid_0's auc: 0.626553\n",
      "[LightGBM] [Warning] No further splits with positive gain, best gain: -inf\n",
      "[11]\tvalid_0's auc: 0.621237\n",
      "[LightGBM] [Warning] No further splits with positive gain, best gain: -inf\n",
      "[12]\tvalid_0's auc: 0.622611\n",
      "[LightGBM] [Warning] No further splits with positive gain, best gain: -inf\n",
      "[13]\tvalid_0's auc: 0.619983\n",
      "[LightGBM] [Warning] No further splits with positive gain, best gain: -inf\n",
      "[14]\tvalid_0's auc: 0.62291\n",
      "[LightGBM] [Warning] No further splits with positive gain, best gain: -inf\n",
      "[15]\tvalid_0's auc: 0.620819\n",
      "[LightGBM] [Warning] No further splits with positive gain, best gain: -inf\n",
      "[16]\tvalid_0's auc: 0.628912\n",
      "[LightGBM] [Warning] No further splits with positive gain, best gain: -inf\n",
      "[17]\tvalid_0's auc: 0.626463\n",
      "[LightGBM] [Warning] No further splits with positive gain, best gain: -inf\n",
      "[18]\tvalid_0's auc: 0.623298\n",
      "[LightGBM] [Warning] No further splits with positive gain, best gain: -inf\n",
      "[19]\tvalid_0's auc: 0.62724\n",
      "[LightGBM] [Warning] No further splits with positive gain, best gain: -inf\n",
      "[20]\tvalid_0's auc: 0.627359\n",
      "[LightGBM] [Warning] No further splits with positive gain, best gain: -inf\n",
      "[21]\tvalid_0's auc: 0.619446\n",
      "[LightGBM] [Warning] No further splits with positive gain, best gain: -inf\n",
      "[22]\tvalid_0's auc: 0.634287\n",
      "[LightGBM] [Warning] No further splits with positive gain, best gain: -inf\n",
      "[23]\tvalid_0's auc: 0.630913\n",
      "[LightGBM] [Warning] No further splits with positive gain, best gain: -inf\n",
      "[24]\tvalid_0's auc: 0.625358\n",
      "[LightGBM] [Warning] No further splits with positive gain, best gain: -inf\n",
      "[25]\tvalid_0's auc: 0.619685\n",
      "[LightGBM] [Warning] No further splits with positive gain, best gain: -inf\n",
      "[26]\tvalid_0's auc: 0.622432\n",
      "[LightGBM] [Warning] No further splits with positive gain, best gain: -inf\n",
      "[27]\tvalid_0's auc: 0.622731\n",
      "[LightGBM] [Warning] No further splits with positive gain, best gain: -inf\n",
      "[28]\tvalid_0's auc: 0.622402\n",
      "[LightGBM] [Warning] No further splits with positive gain, best gain: -inf\n",
      "[29]\tvalid_0's auc: 0.624194\n",
      "[LightGBM] [Warning] No further splits with positive gain, best gain: -inf\n",
      "[30]\tvalid_0's auc: 0.61201\n",
      "[LightGBM] [Warning] No further splits with positive gain, best gain: -inf\n",
      "[31]\tvalid_0's auc: 0.613862\n",
      "[LightGBM] [Warning] No further splits with positive gain, best gain: -inf\n",
      "[32]\tvalid_0's auc: 0.616131\n",
      "Early stopping, best iteration is:\n",
      "[22]\tvalid_0's auc: 0.634287\n",
      "0.6342869087434305\n"
     ]
    }
   ],
   "source": [
    "import lightgbm as lgb\n",
    "from sklearn.metrics import roc_auc_score\n",
    "verbose = 1\n",
    "plot = 1\n",
    "params = {\n",
    "    \"max_bin\": 1024,\n",
    "    \"learning_rate\": 0.01,\n",
    "    \"boosting_type\": \"goss\",\n",
    "    \"objective\": \"binary\",\n",
    "#     'num_iterations':10000,\n",
    "    \"metric\": \"auc\",\n",
    "#     \"num_leaves\": 1000,\n",
    "    \"verbose\": 1,\n",
    "#     \"min_data\": 100,\n",
    "#     \"boost_from_average\": True\n",
    "    'early_stopping_round': 10\n",
    "}\n",
    "\n",
    "d_train = lgb.Dataset(train.drop(['HR_FLAG', \"Patient\"], axis=1).values, train['HR_FLAG'].values)\n",
    "d_valid = lgb.Dataset(test.drop(['HR_FLAG', \"Patient\"], axis=1).values, test['HR_FLAG'].values)\n",
    "model = lgb.train(params, d_train, valid_sets=d_valid)\n",
    "# model.save_model('regressin')\n",
    "# model = lgb.Booster(model_file='regressin')\n",
    "\n",
    "y_pred = model.predict(test.drop(['HR_FLAG', \"Patient\"], axis=1).values)\n",
    "final = roc_auc_score(test['HR_FLAG'].values, y_pred)\n",
    "print(final)"
   ]
  },
  {
   "cell_type": "code",
   "execution_count": 21,
   "metadata": {
    "ExecuteTime": {
     "end_time": "2018-03-06T17:37:19.530169Z",
     "start_time": "2018-03-06T17:37:19.145165Z"
    }
   },
   "outputs": [
    {
     "data": {
      "text/plain": [
       "<matplotlib.figure.Figure at 0x7fb778835be0>"
      ]
     },
     "metadata": {},
     "output_type": "display_data"
    },
    {
     "data": {
      "image/png": "[encoded data removed]",
      "text/plain": [
       "<matplotlib.figure.Figure at 0x7fb778835710>"
      ]
     },
     "metadata": {},
     "output_type": "display_data"
    }
   ],
   "source": [
    "%matplotlib inline\n",
    "import seaborn as sns\n",
    "import matplotlib.pyplot as plt\n",
    "df_fi = pd.DataFrame(model.feature_name(), columns=['feature'])\n",
    "df_fi['importance'] = list(model.feature_importance('gain'))\n",
    "df_fi.sort_values('importance', ascending=False, inplace=True)\n",
    "# print(df_fi)\n",
    "if plot:\n",
    "    plt.figure()\n",
    "    df_fi.head(10).plot(kind='barh', x='feature', y='importance')\n",
    "    plt.title('Roc_auc is {}'.format(final))\n",
    "    plt.xlabel('relative importance')\n",
    "    plt.show()"
   ]
  },
  {
   "cell_type": "markdown",
   "metadata": {},
   "source": [
    "Yeah, ok, wtf"
   ]
  },
  {
   "cell_type": "code",
   "execution_count": 22,
   "metadata": {
    "ExecuteTime": {
     "end_time": "2018-03-06T17:39:19.411712Z",
     "start_time": "2018-03-06T17:38:59.755123Z"
    }
   },
   "outputs": [
    {
     "name": "stderr",
     "output_type": "stream",
     "text": [
      "/home/magas/.pyenv/versions/3.6.0/envs/general/lib/python3.6/site-packages/sklearn/decomposition/nmf.py:1035: ConvergenceWarning: Maximum number of iteration 200 reached. Increase it to improve convergence.\n",
      "  \" improve convergence.\" % max_iter, ConvergenceWarning)\n"
     ]
    }
   ],
   "source": [
    "from sklearn.model_selection import train_test_split\n",
    "nmf = NMF(n_components=100, solver='mu', random_state=0)\n",
    "W = nmf.fit_transform(train.drop(['HR_FLAG', \"Patient\"], axis=1).values)\n",
    "w = nmf.transform(test.drop(['HR_FLAG', \"Patient\"], axis=1).values)\n",
    "\n",
    "# x_train, x_test, y_train, y_test = train_test_split(\n",
    "#     W, train['HR_FLAG'].values,\n",
    "#     test_size=0.2)"
   ]
  },
  {
   "cell_type": "code",
   "execution_count": 38,
   "metadata": {
    "ExecuteTime": {
     "end_time": "2018-03-06T17:45:25.736774Z",
     "start_time": "2018-03-06T17:45:25.444906Z"
    },
    "scrolled": true
   },
   "outputs": [
    {
     "name": "stderr",
     "output_type": "stream",
     "text": [
      "/home/magas/.pyenv/versions/3.6.0/envs/general/lib/python3.6/site-packages/lightgbm/engine.py:104: UserWarning: Found `early_stopping_round` in params. Will use it instead of argument\n",
      "  warnings.warn(\"Found `{}` in params. Will use it instead of argument\".format(alias))\n"
     ]
    },
    {
     "name": "stdout",
     "output_type": "stream",
     "text": [
      "[LightGBM] [Info] Number of positive: 88, number of negative: 470\n",
      "[LightGBM] [Info] Total Bins 9321\n",
      "[LightGBM] [Info] Number of data: 558, number of used features: 100\n",
      "[LightGBM] [Info] using GOSS\n",
      "[LightGBM] [Warning] No further splits with positive gain, best gain: -inf\n",
      "[1]\tvalid_0's auc: 0.524427\n",
      "Training until validation scores don't improve for 10 rounds.\n",
      "[LightGBM] [Warning] No further splits with positive gain, best gain: -inf\n",
      "[2]\tvalid_0's auc: 0.550854\n",
      "[LightGBM] [Warning] No further splits with positive gain, best gain: -inf\n",
      "[3]\tvalid_0's auc: 0.574534\n",
      "[LightGBM] [Warning] No further splits with positive gain, best gain: -inf\n",
      "[4]\tvalid_0's auc: 0.593586\n",
      "[LightGBM] [Warning] No further splits with positive gain, best gain: -inf\n",
      "[5]\tvalid_0's auc: 0.57761\n",
      "[LightGBM] [Warning] No further splits with positive gain, best gain: -inf\n",
      "[6]\tvalid_0's auc: 0.580148\n",
      "[LightGBM] [Warning] No further splits with positive gain, best gain: -inf\n",
      "[7]\tvalid_0's auc: 0.59487\n",
      "[LightGBM] [Warning] No further splits with positive gain, best gain: -inf\n",
      "[8]\tvalid_0's auc: 0.600693\n",
      "[LightGBM] [Warning] No further splits with positive gain, best gain: -inf\n",
      "[9]\tvalid_0's auc: 0.594273\n",
      "[LightGBM] [Warning] No further splits with positive gain, best gain: -inf\n",
      "[10]\tvalid_0's auc: 0.590331\n",
      "[LightGBM] [Warning] No further splits with positive gain, best gain: -inf\n",
      "[11]\tvalid_0's auc: 0.594601\n",
      "[LightGBM] [Warning] No further splits with positive gain, best gain: -inf\n",
      "[12]\tvalid_0's auc: 0.599707\n",
      "[LightGBM] [Warning] No further splits with positive gain, best gain: -inf\n",
      "[13]\tvalid_0's auc: 0.638199\n",
      "[LightGBM] [Warning] No further splits with positive gain, best gain: -inf\n",
      "[14]\tvalid_0's auc: 0.634466\n",
      "[LightGBM] [Warning] No further splits with positive gain, best gain: -inf\n",
      "[15]\tvalid_0's auc: 0.635601\n",
      "[LightGBM] [Warning] No further splits with positive gain, best gain: -inf\n",
      "[16]\tvalid_0's auc: 0.63148\n",
      "[LightGBM] [Warning] No further splits with positive gain, best gain: -inf\n",
      "[17]\tvalid_0's auc: 0.629629\n",
      "[LightGBM] [Warning] No further splits with positive gain, best gain: -inf\n",
      "[18]\tvalid_0's auc: 0.631958\n",
      "[LightGBM] [Warning] No further splits with positive gain, best gain: -inf\n",
      "[19]\tvalid_0's auc: 0.627329\n",
      "[LightGBM] [Warning] No further splits with positive gain, best gain: -inf\n",
      "[20]\tvalid_0's auc: 0.6293\n",
      "[LightGBM] [Warning] No further splits with positive gain, best gain: -inf\n",
      "[21]\tvalid_0's auc: 0.625717\n",
      "[LightGBM] [Warning] No further splits with positive gain, best gain: -inf\n",
      "[22]\tvalid_0's auc: 0.630017\n",
      "[LightGBM] [Warning] No further splits with positive gain, best gain: -inf\n",
      "[23]\tvalid_0's auc: 0.627538\n",
      "Early stopping, best iteration is:\n",
      "[13]\tvalid_0's auc: 0.638199\n"
     ]
    }
   ],
   "source": [
    "import lightgbm as lgb\n",
    "from sklearn.metrics import roc_auc_score\n",
    "verbose = 1\n",
    "plot = 1\n",
    "params = {\n",
    "#     \"max_bin\": 2000,\n",
    "#     \"learning_rate\": 0.0001,\n",
    "    \"boosting_type\": \"goss\",\n",
    "    \"objective\": \"binary\",\n",
    "#     'num_iterations':100000,\n",
    "    \"metric\": \"auc\",\n",
    "#     \"num_leaves\": 10000,\n",
    "    \"verbose\": 1,\n",
    "#     \"min_data\": 150,\n",
    "#     \"boost_from_average\": True,\n",
    "    'early_stopping_round': 10, \n",
    "    \n",
    "}\n",
    "\n",
    "d_train = lgb.Dataset(W, train['HR_FLAG'].values)\n",
    "d_valid = lgb.Dataset(w, test['HR_FLAG'].values)\n",
    "lgb = lgb.train(params, d_train, valid_sets=d_valid)\n",
    "# model.save_model('regressin')\n",
    "# model = lgb.Booster(model_file='regressin')\n",
    "\n",
    "# y_pred = lgb.predict(x_test)\n",
    "# print(roc_auc_score(y_test.astype('int8'), y_pred))"
   ]
  }
 ],
 "metadata": {
  "kernelspec": {
   "display_name": "Python 3",
   "language": "python",
   "name": "python3"
  },
  "language_info": {
   "codemirror_mode": {
    "name": "ipython",
    "version": 3
   },
   "file_extension": ".py",
   "mimetype": "text/x-python",
   "name": "python",
   "nbconvert_exporter": "python",
   "pygments_lexer": "ipython3",
   "version": "3.6.0"
  }
 },
 "nbformat": 4,
 "nbformat_minor": 2
}
