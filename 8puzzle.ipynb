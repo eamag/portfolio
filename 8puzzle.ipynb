{
 "cells": [
  {
   "cell_type": "markdown",
   "metadata": {},
   "source": [
    "https://coursera.cs.princeton.edu/algs4/assignments/8puzzle/specification.php"
   ]
  },
  {
   "cell_type": "code",
   "execution_count": 1,
   "metadata": {},
   "outputs": [
    {
     "name": "stdout",
     "output_type": "stream",
     "text": [
      "Installing packages:\n",
      "\t.package(url: \"https://github.com/mxcl/Path.swift.git\", from: \"0.16.0\")\n",
      "\t\tPath\n",
      "With SwiftPM flags: []\n",
      "Working in: /tmp/tmpf2rtespa/swift-install\n",
      "Fetching https://github.com/mxcl/Path.swift.git\n",
      "Completed resolution in 2.31s\n",
      "Cloning https://github.com/mxcl/Path.swift.git\n",
      "Resolving https://github.com/mxcl/Path.swift.git at 0.16.3\n",
      "[1/10] Compiling Path Path+StringConvertibles.swift\n",
      "[2/10] Compiling Path Path+ls.swift\n",
      "[3/10] Compiling Path Path->Bool.swift\n",
      "[4/10] Compiling Path Path.swift\n",
      "[5/10] Compiling Path Extensions.swift\n",
      "[6/10] Compiling Path Path+Attributes.swift\n",
      "[7/10] Compiling Path Path+Codable.swift\n",
      "[8/10] Compiling Path Path+CommonDirectories.swift\n",
      "[9/10] Compiling Path Path+FileManager.swift\n",
      "[10/11] Merging module Path\n",
      "[11/12] Compiling jupyterInstalledPackages jupyterInstalledPackages.swift\n",
      "[12/13] Merging module jupyterInstalledPackages\n",
      "[13/13] Linking libjupyterInstalledPackages.so\n",
      "Initializing Swift...\n",
      "Installation complete!\n"
     ]
    }
   ],
   "source": [
    "%include \"EnableIPythonDisplay.swift\"\n",
    "%install '.package(url: \"https://github.com/mxcl/Path.swift.git\", from: \"0.16.0\")' Path\n",
    "import Path\n"
   ]
  },
  {
   "cell_type": "code",
   "execution_count": 29,
   "metadata": {},
   "outputs": [],
   "source": [
    "struct Board{\n",
    "    var tiles: [Int]\n",
    "    var dim: Int\n",
    "    var solved: [Int]\n",
    "    var board2D: [[Int]]\n",
    "    init(_ tiles: [[Int]]){\n",
    "        self.dim = tiles[0].count\n",
    "        self.tiles = Array(0...self.dim*self.dim-1)\n",
    "        self.solved = Array(1...self.dim*self.dim-1)\n",
    "        self.solved.append(0)\n",
    "        self.board2D = tiles\n",
    "        for (row_idx, row) in tiles.enumerated(){\n",
    "            for (col_idx, val) in row.enumerated(){\n",
    "                self.tiles[row_idx*self.dim + col_idx] = val\n",
    "            }\n",
    "        }\n",
    "    }\n",
    "    func toString()->String{\n",
    "        var repr = \"\\(self.dim)\"\n",
    "        for (idx, val) in self.tiles.enumerated(){\n",
    "            if idx%self.dim == 0{\n",
    "                repr += \"\\n\"\n",
    "            }\n",
    "            repr += \" \\(val)\"\n",
    "        }\n",
    "        return repr\n",
    "    }\n",
    "    func dimension()->Int{\n",
    "        return self.dim\n",
    "    }\n",
    "    func hamming()->Int{\n",
    "        var dist = 0\n",
    "        for idx in 0...self.tiles.count-2{\n",
    "            if self.tiles[idx] != self.solved[idx]{\n",
    "                dist+=1\n",
    "            }\n",
    "        }\n",
    "        return dist\n",
    "    }\n",
    "    func manhattan()->Int{\n",
    "        var dist = 0\n",
    "        for idx in 0...self.tiles.count-1{\n",
    "            if (self.tiles[idx] != idx+1) && (self.tiles[idx] != 0) {\n",
    "                    dist += self.manh_single(self.tiles[idx]-1, idx)\n",
    "            }\n",
    "        }\n",
    "        return dist\n",
    "    }\n",
    "    private func manh_single(_ idx: Int,_ idx2: Int)->Int{\n",
    "        let v1 = self.idTo2D(idx)\n",
    "        let v2 = self.idTo2D(idx2)\n",
    "        return abs(v2.0-v1.0)+abs(v2.1-v1.1)\n",
    "    }\n",
    "    private func idTo2D(_ idx: Int)->(Int, Int){\n",
    "        let col = idx % self.dim\n",
    "        let row = (idx - col)/self.dim\n",
    "        return (row, col)\n",
    "    }\n",
    "    private func idFrom2D(_ val: (Int, Int))->Int{\n",
    "        return val.0*3+val.1\n",
    "    }\n",
    "    func isGoal()->Bool{\n",
    "        self.tiles == self.solved\n",
    "    }\n",
    "    func neighbors()->[[[Int]]]{\n",
    "        var boards = [[[Int]]]()\n",
    "        let empty_idx = self.tiles.firstIndex(of: 0)!\n",
    "        let empty_idx_2d = self.idTo2D(empty_idx)\n",
    "        if empty_idx_2d.0 != 0{\n",
    "            var top_pos = empty_idx_2d\n",
    "            top_pos.0 -= 1\n",
    "            var neighbor = self.tiles\n",
    "            neighbor.swapAt(self.idFrom2D(top_pos), empty_idx)\n",
    "            boards.append(self.tilesTo2D(neighbor))\n",
    "        }\n",
    "        if empty_idx_2d.0 != self.dim-1{\n",
    "            var bottom_pos = empty_idx_2d\n",
    "            bottom_pos.0 += 1\n",
    "            var neighbor = self.tiles\n",
    "            neighbor.swapAt(self.idFrom2D(bottom_pos), empty_idx)\n",
    "            boards.append(self.tilesTo2D(neighbor))\n",
    "        }\n",
    "        if empty_idx_2d.1 != 0{\n",
    "            var left_pos = empty_idx_2d\n",
    "            left_pos.1 -= 1\n",
    "            var neighbor = self.tiles\n",
    "            neighbor.swapAt(self.idFrom2D(left_pos), empty_idx)\n",
    "            boards.append(self.tilesTo2D(neighbor))\n",
    "        }\n",
    "        if empty_idx_2d.1 != self.dim-1{\n",
    "            var right_pos = empty_idx_2d\n",
    "            right_pos.1 += 1\n",
    "            var neighbor = self.tiles\n",
    "            neighbor.swapAt(self.idFrom2D(right_pos), empty_idx)\n",
    "            boards.append(self.tilesTo2D(neighbor))\n",
    "        }\n",
    "        return boards\n",
    "    }\n",
    "    func tilesTo2D(_ tiles: [Int])->[[Int]]{\n",
    "        var board2d = self.board2D\n",
    "        for (row_idx, row) in board2d.enumerated(){\n",
    "            for (col_idx, _) in row.enumerated(){\n",
    "                board2d[row_idx][col_idx] = tiles[row_idx*self.dim + col_idx]\n",
    "            }\n",
    "        }\n",
    "        return board2d\n",
    "    }\n",
    "    func twin()->[[Int]]{\n",
    "        var tiles=self.tiles\n",
    "        let idx1 = self.tiles.firstIndex(of: 1)!\n",
    "        let idx2 = self.tiles.firstIndex(of: 2)!\n",
    "        tiles.swapAt(idx1, idx2)\n",
    "        return self.tilesTo2D(tiles)\n",
    "    }\n",
    "}\n",
    "extension Board: Equatable {\n",
    "    static func ==(lhs: Board, rhs: Board) -> Bool {\n",
    "        return lhs.tiles == rhs.tiles\n",
    "    }\n",
    "}\n",
    "extension Board {\n",
    "    static func greater(_ lhs: Board, _ rhs: Board) -> Bool {\n",
    "        return lhs.manhattan() > rhs.manhattan()\n",
    "    }\n",
    "}\n",
    "var board = Board([[8, 1, 3], [4, 0, 2], [7, 6, 5]])\n",
    "assert(\"3\\n 8 1 3\\n 4 0 2\\n 7 6 5\"==board.toString(), \"toString\")\n",
    "assert(5 == board.hamming(), \"hamming\")\n",
    "assert(10 == board.manhattan(), \"manhattan\")\n",
    "assert(false==board.isGoal(), \"goal\")\n",
    "assert([[[8, 0, 3], [4, 1, 2], [7, 6, 5]], \n",
    "        [[8, 1, 3], [4, 6, 2], [7, 0, 5]], \n",
    "        [[8, 1, 3], [0, 4, 2], [7, 6, 5]], \n",
    "        [[8, 1, 3], [4, 2, 0], [7, 6, 5]]] == board.neighbors(), \"neighbors\")"
   ]
  },
  {
   "cell_type": "code",
   "execution_count": 30,
   "metadata": {},
   "outputs": [],
   "source": [
    "struct MinPQ<T: Equatable>{\n",
    "    var pq: [T?] = []\n",
    "    var n: Int = 0\n",
    "    private let greaterFunc: (T, T) -> Bool\n",
    "    \n",
    "    init(greaterFunc: @escaping (T, T) -> Bool) {\n",
    "        self.greaterFunc = greaterFunc\n",
    "    }\n",
    "    func isEmpty()->Bool{\n",
    "        return self.n == 0\n",
    "    }\n",
    "    func size()->Int{\n",
    "        return self.n\n",
    "    }\n",
    "    func min()->T{\n",
    "        return self.pq[0]!\n",
    "    }\n",
    "    mutating func insert(_ el: T){\n",
    "        self.pq.append(el)\n",
    "        let el_idx = self.pq.firstIndex(of: el)!\n",
    "        self.swim(el_idx)\n",
    "    }\n",
    "    mutating func delMin()->T {\n",
    "        let first = self.pq.removeFirst()!\n",
    "        self.sink(0)\n",
    "        return first\n",
    "    }\n",
    "    mutating func sink(_ idx: Int){\n",
    "        var idx = idx\n",
    "        while (2*idx <= self.n) {\n",
    "            var j = 2*idx\n",
    "            if (j < self.n && self.greater(j, j+1)){\n",
    "                j += 1\n",
    "            }\n",
    "            if (!greater(idx, j)) {\n",
    "                break\n",
    "            }\n",
    "            self.pq.swapAt(idx, j)\n",
    "            idx = j\n",
    "        }\n",
    "    }\n",
    "    mutating private func swim(_ idx: Int){\n",
    "        var idx = idx\n",
    "        while (idx > 0 && self.greater(idx/2, idx)) {\n",
    "            self.pq.swapAt(idx, idx/2)\n",
    "            idx = idx/2\n",
    "        }\n",
    "    }\n",
    "    private func greater(_ first: Int, _ second: Int)->Bool{\n",
    "        return self.greaterFunc(self.pq[first]!, self.pq[second]!)\n",
    "    }\n",
    "}\n",
    "var pq = MinPQ(greaterFunc: Board.greater)\n",
    "pq.insert(board)"
   ]
  },
  {
   "cell_type": "code",
   "execution_count": 34,
   "metadata": {},
   "outputs": [
    {
     "ename": "",
     "evalue": "",
     "output_type": "error",
     "traceback": [
      "error: <Cell 34>:6:5: error: return from initializer without initializing all stored properties\n    }\n    ^\n\n<Cell 34>:3:9: note: 'self.boards' not initialized\n    var boards: [Board]\n        ^\n\n"
     ]
    }
   ],
   "source": [
    "public struct Solver {\n",
    "    // find a solution to the initial board (using the A* algorithm)\n",
    "    var boards: [Board]\n",
    "    init(_ initial: Board){\n",
    "        self.boards.append(initial)\n",
    "    }\n",
    "\n",
    "    // is the initial board solvable? (see below)\n",
    "    func isSolvable() -> Bool{\n",
    "        return true\n",
    "    }\n",
    "\n",
    "    // min number of moves to solve initial board\n",
    "    func moves() -> Int{\n",
    "        return 0\n",
    "    }\n",
    "\n",
    "    sequence of boards in a shortest solution\n",
    "    func solution() -> [Board?]{\n",
    "        return \n",
    "    }\n",
    "\n",
    "    // test client (see below) \n",
    "    func main(_ args: String){\n",
    "        \n",
    "    }\n",
    "\n",
    "}\n"
   ]
  },
  {
   "cell_type": "code",
   "execution_count": 32,
   "metadata": {},
   "outputs": [
    {
     "name": "stdout",
     "output_type": "stream",
     "text": [
      "[[0, 1], [3, 2]]\r\n"
     ]
    }
   ],
   "source": [
    "func eval(_ filepath: String){\n",
    "    var text_board = \"\"\n",
    "    do {\n",
    "        text_board = try String(contentsOfFile:filepath)\n",
    "    }\n",
    "    catch {\n",
    "        print(\"error\")\n",
    "    }\n",
    "    let els = text_board.components(separatedBy: [\"\\n\", \" \"]).filter{$0 != \"\"}\n",
    "    let dim = Int(els[0])!\n",
    "    var tiles = Array(repeating: Array(repeating: 0, count: dim), count: dim)\n",
    "    for row in 0...dim-1{\n",
    "        for col in 0...dim-1{\n",
    "            tiles[row][col] = Int(els[row*(dim) + col + 1])!\n",
    "        }\n",
    "    }\n",
    "    var initial = Board(tiles)\n",
    "    var solver = Solver(initial)\n",
    "    print(tiles)\n",
    "//     // print solution to standard output\n",
    "//     if (!solver.isSolvable())\n",
    "//         StdOut.println(\"No solution possible\");\n",
    "//     else {\n",
    "//         StdOut.println(\"Minimum number of moves = \" + solver.moves());\n",
    "//         for (Board board : solver.solution())\n",
    "//             StdOut.println(board);\n",
    "//     }\n",
    "}\n",
    "\n",
    "var puzzle_str = Path.cwd/\"puzzle2x2-02.txt\"\n",
    "eval(puzzle_str.string)\n"
   ]
  },
  {
   "cell_type": "code",
   "execution_count": 7,
   "metadata": {},
   "outputs": [
    {
     "ename": "",
     "evalue": "",
     "output_type": "error",
     "traceback": [
      "error: <Cell 7>:1:7: error: use of unresolved identifier 'puzzle_str'\nprint(puzzle_str)\n      ^~~~~~~~~~\n\n"
     ]
    }
   ],
   "source": []
  },
  {
   "cell_type": "raw",
   "metadata": {},
   "source": [
    "public static void main(String[] args) {\n",
    "\n",
    "    // create initial board from file\n",
    "    In in = new In(args[0]);\n",
    "    int n = in.readInt();\n",
    "    int[][] tiles = new int[n][n];\n",
    "    for (int i = 0; i < n; i++)\n",
    "        for (int j = 0; j < n; j++)\n",
    "            tiles[i][j] = in.readInt();\n",
    "    Board initial = new Board(tiles);\n",
    "\n",
    "    // solve the puzzle\n",
    "    Solver solver = new Solver(initial);\n",
    "\n",
    "    \n",
    "}"
   ]
  },
  {
   "cell_type": "code",
   "execution_count": 15,
   "metadata": {},
   "outputs": [
    {
     "name": "stdout",
     "output_type": "stream",
     "text": [
      "/notebooks/portfolio/puzzle2x2-02.txt\r\n"
     ]
    }
   ],
   "source": []
  },
  {
   "cell_type": "code",
   "execution_count": 92,
   "metadata": {},
   "outputs": [],
   "source": [
    "var board = Board(tiles)"
   ]
  },
  {
   "cell_type": "code",
   "execution_count": 43,
   "metadata": {},
   "outputs": [
    {
     "ename": "",
     "evalue": "",
     "output_type": "error",
     "traceback": [
      "error: <Cell 43>:3:10: error: value of type 'String.SubSequence' (aka 'Substring') has no member 'size'\n    if i.size == 1{\n       ~ ^~~~\n\n"
     ]
    }
   ],
   "source": [
    "\n",
    "for i in {\n",
    "    if i.sdize == 1{\n",
    "        continue\n",
    "    }\n",
    "    print(i)\n",
    "}"
   ]
  },
  {
   "cell_type": "code",
   "execution_count": 54,
   "metadata": {},
   "outputs": [
    {
     "name": "stdout",
     "output_type": "stream",
     "text": [
      "0\r\n",
      "1\r\n",
      "2\r\n"
     ]
    }
   ],
   "source": [
    "let dim = Int(text_board.split(separator:\"\\n\")[0])\n",
    "for i in 0...dim!-1{\n",
    "\n",
    "}"
   ]
  }
 ],
 "metadata": {
  "kernelspec": {
   "display_name": "Swift",
   "language": "swift",
   "name": "swift"
  },
  "language_info": {
   "file_extension": ".swift",
   "mimetype": "text/x-swift",
   "name": "swift",
   "version": ""
  }
 },
 "nbformat": 4,
 "nbformat_minor": 2
}
