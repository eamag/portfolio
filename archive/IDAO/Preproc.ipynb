{
 "cells": [
  {
   "cell_type": "code",
   "execution_count": null,
   "metadata": {},
   "outputs": [],
   "source": [
    "def replace_week_ago(trainnine):\n",
    "    fist_q =  trainnine.CLIENT_OUT.quantile(0.9)\n",
    "    last_q = trainnine.CLIENT_OUT.quantile(0.1)\n",
    "    mask = (trainnine.CLIENT_OUT > fist_q) | (trainnine.CLIENT_OUT < last_q) \n",
    "    trainnine['mask'] = mask\n",
    "    trainnine['shifted'] = trainnine.CLIENT_OUT.shift(7)\n",
    "    trainnine.loc[mask,['CLIENT_OUT','shifted', ]] = trainnine.loc[mask,['shifted', 'CLIENT_OUT']].values\n",
    "    trainnine = trainnine.iloc[7:]\n",
    "    return trainnine[['DATE', \"ATM_ID\", 'CLIENT_OUT']]\n",
    "\n",
    "\n",
    "def apply_replace(train):\n",
    "    train2 = train.iloc[:0].copy()\n",
    "    ATM_IDs = train.ATM_ID.unique()\n",
    "    for ATM in ATM_IDs:\n",
    "        trainnine = train[(train.ATM_ID==ATM)].copy()\n",
    "        trainnine = replace_week_ago(trainnine)\n",
    "    #     print(trainnine.head())\n",
    "        train2 = pd.concat([train2, trainnine])\n",
    "    train = train2.copy()\n",
    "    del train2\n",
    "    return train"
   ]
  }
 ],
 "metadata": {
  "kernelspec": {
   "display_name": "Python 3",
   "language": "python",
   "name": "python3"
  },
  "language_info": {
   "codemirror_mode": {
    "name": "ipython",
    "version": 3
   },
   "file_extension": ".py",
   "mimetype": "text/x-python",
   "name": "python",
   "nbconvert_exporter": "python",
   "pygments_lexer": "ipython3",
   "version": "3.6.0"
  }
 },
 "nbformat": 4,
 "nbformat_minor": 2
}
