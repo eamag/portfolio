{
 "cells": [
  {
   "cell_type": "code",
   "execution_count": 157,
   "metadata": {
    "collapsed": true
   },
   "outputs": [
    {
     "name": "stdout",
     "output_type": "stream",
     "text": [
      "case.xlsx  solution.ipynb  описание.txt\r\n"
     ]
    }
   ],
   "source": [
    "# cd scoringstudio\n",
    "!ls"
   ]
  },
  {
   "cell_type": "code",
   "execution_count": 158,
   "metadata": {},
   "outputs": [],
   "source": [
    "import pandas as pd\n",
    "import numpy as np\n",
    "train = pd.read_excel('case.xlsx')"
   ]
  },
  {
   "cell_type": "code",
   "execution_count": 159,
   "metadata": {},
   "outputs": [
    {
     "name": "stdout",
     "output_type": "stream",
     "text": [
      "542.218964245 0.0\nГод [2015, 2016]\nМесяц [1, 2, 3, 4, 5, 6, 7, 8, 9, 10, 11, 12]\nСумма кредита 8627\nТип клиента ['Тип клиента I', 'Тип клиента II']\nВероятность дефолта ['A', 'B', 'C', 'D', 'E']\nЗаработная плата 196\nВозраст (полных лет) на момент подачи заявки [18, 19, 20, 21, 22, 23, 24, 25, 26, 27, 28, 29, 30, 31, 32, 33, 34, 35, 36, 37, 38, 39, 40, 41, 42, 43, 44, 45, 46, 47, 48, 49, 50, 51, 52, 53, 54, 55, 56, 57, 58, 59, 60, 61, 62, 63, 64, 65, 66, 67, 68]\nСемейное положение ['NaN', 'Вдовец/Вдова', 'Женат/Замужем', 'Разведен(а)', 'Холост/Не замужем']\nОбразование ['2 и более высших', 'NaN', 'Высшее', 'Начальное или неполное среднее', 'Неполное высшее', 'Среднее, в том числе специальное', 'Ученая степень']\nПол ['Ж', 'М']\nКоличество детей ['1 ребенок', '2 ребенка', '3 ребенка', 'NaN', 'Нет', 'более 3-х']\nСрок кредита (месяцев) [3, 4, 5, 6, 7, 8, 9, 10, 11, 12, 13, 14, 15, 16, 17, 18, 19, 20, 21, 22, 23, 24]\nСумма товаров 5115\nСумма долга* 460\n"
     ]
    }
   ],
   "source": [
    "train.fillna('NaN', inplace=True)\n",
    "print(train['Сумма долга*'].mean(), train['Сумма долга*'].median())\n",
    "\n",
    "for column in train.columns:\n",
    "    if train[column].nunique() < 60:\n",
    "        print(column, sorted(train[column].unique()))\n",
    "    else:\n",
    "        print(column, train[column].nunique())"
   ]
  },
  {
   "cell_type": "code",
   "execution_count": 160,
   "metadata": {},
   "outputs": [
    {
     "data": {
      "text/plain": [
       "Год                                              int64\nМесяц                                            int64\nСумма кредита                                    int64\nТип клиента                                     object\nВероятность дефолта                             object\nЗаработная плата                                 int64\nВозраст (полных лет) на момент подачи заявки     int64\nСемейное положение                              object\nОбразование                                     object\nПол                                             object\nКоличество детей                                object\nСрок кредита (месяцев)                           int64\nСумма товаров                                    int64\nСумма долга*                                     int64\ndtype: object"
      ]
     },
     "execution_count": 160,
     "metadata": {},
     "output_type": "execute_result"
    }
   ],
   "source": [
    "# row_index = train.Год == 2015\n",
    "# train.loc[row_index] = 2015\n",
    "all_data = train\n",
    "all_data['Сумма кредита'] = all_data['Сумма кредита'].astype('int64')\n",
    "all_data['Заработная плата'].replace('NaN', -1, inplace=True)\n",
    "all_data['Заработная плата'] = all_data['Заработная плата'].astype('int64')\n",
    "all_data['Сумма товаров'] = all_data['Сумма товаров'].astype('int64')\n",
    "all_data['Сумма долга*'] = all_data['Сумма долга*'].astype('int64')\n",
    "all_data.dtypes"
   ]
  },
  {
   "cell_type": "code",
   "execution_count": 161,
   "metadata": {},
   "outputs": [
    {
     "data": {
      "text/html": [
       "<div>\n",
       "<table border=\"1\" class=\"dataframe\">\n",
       "  <thead>\n",
       "    <tr style=\"text-align: right;\">\n",
       "      <th></th>\n",
       "      <th>Год</th>\n",
       "      <th>Месяц</th>\n",
       "      <th>Сумма кредита</th>\n",
       "      <th>Тип клиента</th>\n",
       "      <th>Вероятность дефолта</th>\n",
       "      <th>Заработная плата</th>\n",
       "      <th>Возраст (полных лет) на момент подачи заявки</th>\n",
       "      <th>Семейное положение</th>\n",
       "      <th>Образование</th>\n",
       "      <th>Пол</th>\n",
       "      <th>Количество детей</th>\n",
       "      <th>Срок кредита (месяцев)</th>\n",
       "      <th>Сумма товаров</th>\n",
       "      <th>Сумма долга*</th>\n",
       "    </tr>\n",
       "  </thead>\n",
       "  <tbody>\n",
       "    <tr>\n",
       "      <th>0</th>\n",
       "      <td>2015</td>\n",
       "      <td>1</td>\n",
       "      <td>22249</td>\n",
       "      <td>0</td>\n",
       "      <td>0</td>\n",
       "      <td>40000</td>\n",
       "      <td>30</td>\n",
       "      <td>2</td>\n",
       "      <td>2</td>\n",
       "      <td>1</td>\n",
       "      <td>1</td>\n",
       "      <td>6</td>\n",
       "      <td>25990</td>\n",
       "      <td>0</td>\n",
       "    </tr>\n",
       "    <tr>\n",
       "      <th>1</th>\n",
       "      <td>2015</td>\n",
       "      <td>1</td>\n",
       "      <td>28849</td>\n",
       "      <td>0</td>\n",
       "      <td>0</td>\n",
       "      <td>20000</td>\n",
       "      <td>37</td>\n",
       "      <td>2</td>\n",
       "      <td>5</td>\n",
       "      <td>0</td>\n",
       "      <td>0</td>\n",
       "      <td>10</td>\n",
       "      <td>26227</td>\n",
       "      <td>0</td>\n",
       "    </tr>\n",
       "    <tr>\n",
       "      <th>2</th>\n",
       "      <td>2015</td>\n",
       "      <td>1</td>\n",
       "      <td>11643</td>\n",
       "      <td>0</td>\n",
       "      <td>0</td>\n",
       "      <td>50000</td>\n",
       "      <td>48</td>\n",
       "      <td>2</td>\n",
       "      <td>5</td>\n",
       "      <td>1</td>\n",
       "      <td>4</td>\n",
       "      <td>11</td>\n",
       "      <td>10490</td>\n",
       "      <td>0</td>\n",
       "    </tr>\n",
       "  </tbody>\n",
       "</table>\n",
       "</div>"
      ],
      "text/plain": [
       "<div>\n",
       "<table border=\"1\" class=\"dataframe\">\n",
       "  <thead>\n",
       "    <tr style=\"text-align: right;\">\n",
       "      <th></th>\n",
       "      <th>Год</th>\n",
       "      <th>Месяц</th>\n",
       "      <th>Сумма кредита</th>\n",
       "      <th>Тип клиента</th>\n",
       "      <th>Вероятность дефолта</th>\n",
       "      <th>Заработная плата</th>\n",
       "      <th>Возраст (полных лет) на момент подачи заявки</th>\n",
       "      <th>Семейное положение</th>\n",
       "      <th>Образование</th>\n",
       "      <th>Пол</th>\n",
       "      <th>Количество детей</th>\n",
       "      <th>Срок кредита (месяцев)</th>\n",
       "      <th>Сумма товаров</th>\n",
       "      <th>Сумма долга*</th>\n",
       "    </tr>\n",
       "  </thead>\n",
       "  <tbody>\n",
       "    <tr>\n",
       "      <th>0</th>\n",
       "      <td>2015</td>\n",
       "      <td>1</td>\n",
       "      <td>22249</td>\n",
       "      <td>0</td>\n",
       "      <td>0</td>\n",
       "      <td>40000</td>\n",
       "      <td>30</td>\n",
       "      <td>2</td>\n",
       "      <td>2</td>\n",
       "      <td>1</td>\n",
       "      <td>1</td>\n",
       "      <td>6</td>\n",
       "      <td>25990</td>\n",
       "      <td>0</td>\n",
       "    </tr>\n",
       "    <tr>\n",
       "      <th>1</th>\n",
       "      <td>2015</td>\n",
       "      <td>1</td>\n",
       "      <td>28849</td>\n",
       "      <td>0</td>\n",
       "      <td>0</td>\n",
       "      <td>20000</td>\n",
       "      <td>37</td>\n",
       "      <td>2</td>\n",
       "      <td>5</td>\n",
       "      <td>0</td>\n",
       "      <td>0</td>\n",
       "      <td>10</td>\n",
       "      <td>26227</td>\n",
       "      <td>0</td>\n",
       "    </tr>\n",
       "    <tr>\n",
       "      <th>2</th>\n",
       "      <td>2015</td>\n",
       "      <td>1</td>\n",
       "      <td>11643</td>\n",
       "      <td>0</td>\n",
       "      <td>0</td>\n",
       "      <td>50000</td>\n",
       "      <td>48</td>\n",
       "      <td>2</td>\n",
       "      <td>5</td>\n",
       "      <td>1</td>\n",
       "      <td>4</td>\n",
       "      <td>11</td>\n",
       "      <td>10490</td>\n",
       "      <td>0</td>\n",
       "    </tr>\n",
       "  </tbody>\n",
       "</table>\n",
       "</div>"
      ]
     },
     "execution_count": 161,
     "metadata": {},
     "output_type": "execute_result"
    }
   ],
   "source": [
    "from sklearn.preprocessing import LabelEncoder\n",
    "\n",
    "for column in all_data :\n",
    "    encoder = LabelEncoder()\n",
    "    if all_data[column].dtype == 'object':\n",
    "        all_data[column] = encoder.fit_transform(all_data[column])\n",
    "all_data.head(3)"
   ]
  },
  {
   "cell_type": "code",
   "execution_count": 162,
   "metadata": {},
   "outputs": [
    {
     "data": {
      "text/plain": [
       "Index(['Год', 'Месяц', 'Сумма кредита', 'Тип клиента', 'Вероятность дефолта',\n       'Заработная плата', 'Возраст (полных лет) на момент подачи заявки',\n       'Семейное положение', 'Образование', 'Пол', 'Количество детей',\n       'Срок кредита (месяцев)', 'Сумма товаров', 'Сумма долга*',\n       'Debt_binary'],\n      dtype='object')"
      ]
     },
     "execution_count": 162,
     "metadata": {},
     "output_type": "execute_result"
    }
   ],
   "source": [
    "all_data['Debt_binary'] = all_data['Сумма долга*'].clip_upper(1)\n",
    "all_data.columns"
   ]
  },
  {
   "cell_type": "code",
   "execution_count": 163,
   "metadata": {},
   "outputs": [
    {
     "name": "stderr",
     "output_type": "stream",
     "text": [
      "/home/eamag/.local/lib/python3.5/site-packages/ipykernel/__main__.py:3: SettingWithCopyWarning: \nA value is trying to be set on a copy of a slice from a DataFrame\n\nSee the caveats in the documentation: http://pandas.pydata.org/pandas-docs/stable/indexing.html#indexing-view-versus-copy\n  app.launch_new_instance()\n"
     ]
    },
    {
     "data": {
      "text/plain": [
       "Index(['Год', 'Месяц', 'Сумма кредита', 'Тип клиента', 'Вероятность дефолта',\n       'Заработная плата', 'Возраст (полных лет) на момент подачи заявки',\n       'Семейное положение', 'Образование', 'Пол', 'Количество детей',\n       'Срок кредита (месяцев)', 'Сумма товаров'],\n      dtype='object')"
      ]
     },
     "execution_count": 163,
     "metadata": {},
     "output_type": "execute_result"
    }
   ],
   "source": [
    "all_data = all_data[all_data['Год'] == 2015]\n",
    "target = all_data['Debt_binary']\n",
    "all_data.drop(['Сумма долга*', 'Debt_binary'], axis=1, inplace=True)\n",
    "all_data.columns"
   ]
  },
  {
   "cell_type": "code",
   "execution_count": 169,
   "metadata": {},
   "outputs": [
    {
     "name": "stdout",
     "output_type": "stream",
     "text": [
      "pyLightGBM is looking for 'LIGHTGBM_EXEC' environment variable, cannot be found.\nexec_path will be deprecated in favor of environment variable\n"
     ]
    },
    {
     "name": "stdout",
     "output_type": "stream",
     "text": [
      "                                         feature  importance\n11                                 Сумма товаров        1318\n1                                  Сумма кредита        1176\n5   Возраст (полных лет) на момент подачи заявки         893\n4                               Заработная плата         783\n0                                          Месяц         495\n10                        Срок кредита (месяцев)         421\n9                               Количество детей         240\n3                            Вероятность дефолта         215\n8                                            Пол         167\n7                                    Образование         160\n6                             Семейное положение         145\n2                                    Тип клиента          81\n"
     ]
    },
    {
     "data": {
      "text/plain": [
       "<matplotlib.figure.Figure at 0x7fdbf7cc5a58>"
      ]
     },
     "execution_count": 0,
     "metadata": {},
     "output_type": "execute_result"
    },
    {
     "data": {
      "image/png": "[encoded data removed]",
      "text/plain": [
       "<matplotlib.figure.Figure at 0x7fdbf243b438>"
      ]
     },
     "metadata": {},
     "output_type": "display_data"
    }
   ],
   "source": [
    "%matplotlib inline\n",
    "from matplotlib import rc\n",
    "font = {'family': 'Droid Sans',\n",
    "        'weight': 'normal',\n",
    "        'size':12}\n",
    "rc('font', **font)\n",
    "\n",
    "\n",
    "def lgbm(X, Y, verbose=True, predict=False, x_test=None, kf=True, feat_imp=True):    \n",
    "    from sklearn.metrics import f1_score, roc_auc_score\n",
    "    from sklearn.model_selection import KFold\n",
    "    from pylightgbm.models import GBMClassifier\n",
    "    import matplotlib.pyplot as plt\n",
    "    plt.style.use('ggplot')\n",
    "    \n",
    "    feature_list = X.columns\n",
    "    feature_dict = dict(zip(range(len(feature_list)), feature_list))\n",
    "    X = X.values\n",
    "\n",
    "    exec = \"~/apps/LightGBM/lightgbm\"  # full path to lightgbm executable (on Windows include .exe)\n",
    "    clf = GBMClassifier(num_iterations=200, exec_path=exec, learning_rate=0.2, min_data_in_leaf=140, verbose=0,\n",
    "                        max_bin=255)\n",
    "\n",
    "    if kf:\n",
    "        kf = KFold(n_splits=7\n",
    "                   , shuffle=True)\n",
    "        for train_index, test_index in kf.split(X):\n",
    "            X_train, X_test = X[train_index], X[test_index]\n",
    "            y_train, y_test = Y[train_index], Y[test_index]\n",
    "            clf.fit(X_train, y_train, test_data=[(X_test, y_test)])\n",
    "            if verbose:\n",
    "                y_pred = clf.predict(X_test)\n",
    "                # print('\\nScore for another fold: ', roc_auc_score(y_test, y_pred))\n",
    "\n",
    "    if feat_imp:\n",
    "        df_fi = pd.DataFrame(list(clf.feature_importance().items()), columns=['feature', 'importance'])\n",
    "        df_fi = df_fi.replace({\"feature\": feature_dict}).sort_values('importance', ascending=False)\n",
    "        print(df_fi)\n",
    "        plt.figure()\n",
    "        df_fi.head(10).plot(kind='barh',\n",
    "                            x='feature',\n",
    "                            y='importance',\n",
    "                            sort_columns=False,\n",
    "                            legend=True,\n",
    "                            figsize=(10, 6),\n",
    "                            facecolor='#1DE9B6',\n",
    "                            edgecolor='white')\n",
    "\n",
    "        plt.title('XGBoost Feature Importance')\n",
    "        plt.xlabel('relative importance')\n",
    "        plt.show()\n",
    "    \n",
    "    if predict:\n",
    "        clf.fit(X, Y)\n",
    "        print('\\nFinal result for train set is ', roc_auc_score(Y, clf.predict(X)))\n",
    "       \n",
    "        return clf.predict(x_test.values)\n",
    "\n",
    "lgbm(all_data, target)"
   ]
  },
  {
   "cell_type": "code",
   "execution_count": 55,
   "metadata": {},
   "outputs": [],
   "source": [
    ""
   ]
  }
 ],
 "metadata": {
  "kernelspec": {
   "display_name": "Python 2",
   "language": "python",
   "name": "python2"
  },
  "language_info": {
   "codemirror_mode": {
    "name": "ipython",
    "version": 2.0
   },
   "file_extension": ".py",
   "mimetype": "text/x-python",
   "name": "python",
   "nbconvert_exporter": "python",
   "pygments_lexer": "ipython2",
   "version": "2.7.6"
  }
 },
 "nbformat": 4,
 "nbformat_minor": 0
}