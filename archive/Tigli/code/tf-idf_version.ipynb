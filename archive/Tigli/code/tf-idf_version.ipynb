{
 "cells": [
  {
   "cell_type": "code",
   "execution_count": null,
   "metadata": {
    "collapsed": false,
    "deletable": true,
    "editable": true
   },
   "outputs": [],
   "source": [
    "import pandas as pd\n",
    "import qgrid\n",
    "from datetime import datetime\n",
    "from gensim import corpora, models, similarities\n",
    "import numpy as np\n",
    "from nltk.corpus import stopwords\n",
    "from collections import defaultdict\n",
    "\n",
    "stoplist = stopwords.words('english')\n",
    "\n",
    "df = pd.read_csv('realDonaldTrump_tweets.csv')\n",
    "df['hour'] = pd.to_datetime(df['created_at']).dt.hour\n",
    "df.drop(['id', 'created_at'], axis=1, inplace=True)\n",
    "df['text'] = df['text'].str[2:-1]\n",
    "twitts_list = df.text.values.tolist()"
   ]
  },
  {
   "cell_type": "code",
   "execution_count": null,
   "metadata": {
    "collapsed": false,
    "deletable": true,
    "editable": true
   },
   "outputs": [],
   "source": [
    "# remove words that appear only once and TODO: replace mentions and hashtags\n",
    "def preprocess(twitts_list=twitts_list, frequency=None):\n",
    "    texts = [[word for word in document.lower().split() if word not in stoplist]\n",
    "             for document in twitts_list]\n",
    "    \n",
    "    if frequency==None:\n",
    "        frequency = defaultdict(int)\n",
    "        for text in texts:\n",
    "            for token in text:\n",
    "                frequency[token] += 1\n",
    "\n",
    "    return [[token for token in text if frequency[token] > 1] for text in texts], frequency\n",
    "\n",
    "texts, frequency = preprocess()\n",
    "from pprint import pprint  # pretty-printer\n",
    "pprint(texts[0])"
   ]
  },
  {
   "cell_type": "code",
   "execution_count": null,
   "metadata": {
    "collapsed": false,
    "deletable": true,
    "editable": true
   },
   "outputs": [],
   "source": [
    "from gensim import corpora\n",
    "dictionary = corpora.Dictionary(texts)\n",
    "dictionary.save('/tmp/deerwester.dict')  # store the dictionary, for future reference\n",
    "print(dictionary)"
   ]
  },
  {
   "cell_type": "code",
   "execution_count": null,
   "metadata": {
    "collapsed": false,
    "deletable": true,
    "editable": true
   },
   "outputs": [],
   "source": [
    "corpus = [dictionary.doc2bow(text) for text in texts]\n",
    "corpora.MmCorpus.serialize('corpus.mm', corpus)  # store to disk, for later use"
   ]
  },
  {
   "cell_type": "code",
   "execution_count": null,
   "metadata": {
    "collapsed": false,
    "deletable": true,
    "editable": true
   },
   "outputs": [],
   "source": [
    "from gensim import models\n",
    "tfidf = models.TfidfModel(corpus)\n",
    "corpus_tfidf = tfidf[corpus]"
   ]
  },
  {
   "cell_type": "code",
   "execution_count": null,
   "metadata": {
    "collapsed": true,
    "deletable": true,
    "editable": true
   },
   "outputs": [],
   "source": [
    "lsi = models.LsiModel(corpus_tfidf, id2word=dictionary) # initialize an LSI trans"
   ]
  },
  {
   "cell_type": "code",
   "execution_count": null,
   "metadata": {
    "collapsed": false,
    "deletable": true,
    "editable": true
   },
   "outputs": [],
   "source": [
    "lsi.print_topic(1, topn=20)"
   ]
  },
  {
   "cell_type": "code",
   "execution_count": null,
   "metadata": {
    "collapsed": false,
    "deletable": true,
    "editable": true
   },
   "outputs": [],
   "source": [
    "doc = ['Despite what you hear in the press, healthcare is coming along great. We are talking to many groups and it will end in a beautiful picture!']\n",
    "doc2 = ['LinkedIn Workforce Report: January and February were the strongest consecutive months for hiring since August and September 2015']\n",
    "word, temp = preprocess(doc2, frequency)\n",
    "vec_bow = dictionary.doc2bow(word[0][0].lower().split())\n",
    "vec_lsi = lsi[vec_bow] # convert the query to LSI space"
   ]
  },
  {
   "cell_type": "code",
   "execution_count": null,
   "metadata": {
    "collapsed": true,
    "deletable": true,
    "editable": true
   },
   "outputs": [],
   "source": [
    "index = similarities.MatrixSimilarity(lsi[corpus])"
   ]
  },
  {
   "cell_type": "code",
   "execution_count": null,
   "metadata": {
    "collapsed": false,
    "deletable": true,
    "editable": true
   },
   "outputs": [],
   "source": [
    "sims = index[vec_lsi] # perform a similarity query against the corpus\n",
    "print('max score:' + str(sims.max()))\n",
    "print('mean score:' + str(np.mean(sims)))\n",
    "print('median score: ' + str(np.median(sims)))\n",
    "sims = sorted(enumerate(sims), key=lambda item: -item[1])\n",
    "# sims_scores = [x[1] for x in sims]\n",
    "print('most similar tweet: ' + twitts_list[sims[0][0]])\n",
    "print('original: ' + doc2[0])"
   ]
  },
  {
   "cell_type": "code",
   "execution_count": null,
   "metadata": {
    "collapsed": true,
    "deletable": true,
    "editable": true
   },
   "outputs": [],
   "source": [
    ""
   ]
  }
 ],
 "metadata": {
  "kernelspec": {
   "display_name": "Python 3",
   "language": "python",
   "name": "python3"
  },
  "language_info": {
   "codemirror_mode": {
    "name": "ipython",
    "version": 3.0
   },
   "file_extension": ".py",
   "mimetype": "text/x-python",
   "name": "python",
   "nbconvert_exporter": "python",
   "pygments_lexer": "ipython3",
   "version": "3.5.2"
  }
 },
 "nbformat": 4,
 "nbformat_minor": 0
}